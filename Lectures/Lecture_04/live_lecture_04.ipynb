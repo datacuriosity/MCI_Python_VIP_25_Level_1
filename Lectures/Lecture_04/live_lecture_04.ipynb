{
 "cells": [
  {
   "cell_type": "code",
   "execution_count": 2,
   "id": "municipal-illinois",
   "metadata": {},
   "outputs": [],
   "source": [
    "import numpy as np"
   ]
  },
  {
   "cell_type": "markdown",
   "id": "returning-advocate",
   "metadata": {},
   "source": [
    "### 1. Create numpy array"
   ]
  },
  {
   "cell_type": "code",
   "execution_count": 5,
   "id": "different-latitude",
   "metadata": {},
   "outputs": [
    {
     "data": {
      "text/plain": [
       "[1, 2, 'Truong', True, 1j]"
      ]
     },
     "execution_count": 5,
     "metadata": {},
     "output_type": "execute_result"
    }
   ],
   "source": [
    "li = [1, 2, 'Truong', True, 1j]\n",
    "li"
   ]
  },
  {
   "cell_type": "code",
   "execution_count": 6,
   "id": "hourly-incentive",
   "metadata": {},
   "outputs": [
    {
     "data": {
      "text/plain": [
       "array(['1', '2', 'Truong', 'True', '1j'], dtype='<U11')"
      ]
     },
     "execution_count": 6,
     "metadata": {},
     "output_type": "execute_result"
    }
   ],
   "source": [
    "np.array([1, 2, 'Truong', True, 1j])"
   ]
  },
  {
   "cell_type": "code",
   "execution_count": 3,
   "id": "collected-fighter",
   "metadata": {},
   "outputs": [
    {
     "data": {
      "text/plain": [
       "array([1, 2, 3, 4])"
      ]
     },
     "execution_count": 3,
     "metadata": {},
     "output_type": "execute_result"
    }
   ],
   "source": [
    "arr = np.array([1, 2, 3, 4])\n",
    "arr"
   ]
  },
  {
   "cell_type": "code",
   "execution_count": 7,
   "id": "involved-uzbekistan",
   "metadata": {},
   "outputs": [
    {
     "data": {
      "text/plain": [
       "[1, 2, 3, 4, 1, 2, 3, 4]"
      ]
     },
     "execution_count": 7,
     "metadata": {},
     "output_type": "execute_result"
    }
   ],
   "source": [
    "[1, 2, 3, 4] * 2"
   ]
  },
  {
   "cell_type": "code",
   "execution_count": 8,
   "id": "japanese-hughes",
   "metadata": {},
   "outputs": [
    {
     "data": {
      "text/plain": [
       "array([2, 4, 6, 8])"
      ]
     },
     "execution_count": 8,
     "metadata": {},
     "output_type": "execute_result"
    }
   ],
   "source": [
    "arr * 2"
   ]
  },
  {
   "cell_type": "code",
   "execution_count": 9,
   "id": "smoking-packing",
   "metadata": {},
   "outputs": [
    {
     "data": {
      "text/plain": [
       "array([1., 2., 3., 4.])"
      ]
     },
     "execution_count": 9,
     "metadata": {},
     "output_type": "execute_result"
    }
   ],
   "source": [
    "arr = np.array([1, 2, 3, 4], dtype=np.float)\n",
    "arr"
   ]
  },
  {
   "cell_type": "code",
   "execution_count": 10,
   "id": "destroyed-cheese",
   "metadata": {},
   "outputs": [
    {
     "data": {
      "text/plain": [
       "array([-24, -24, -24], dtype=int8)"
      ]
     },
     "execution_count": 10,
     "metadata": {},
     "output_type": "execute_result"
    }
   ],
   "source": [
    "arr = np.array([1000, 1000, 1000], dtype=np.int8)\n",
    "arr"
   ]
  },
  {
   "cell_type": "code",
   "execution_count": 15,
   "id": "endless-danger",
   "metadata": {},
   "outputs": [
    {
     "data": {
      "text/plain": [
       "array([[0, 0],\n",
       "       [0, 0],\n",
       "       [0, 0],\n",
       "       [0, 0],\n",
       "       [0, 0],\n",
       "       [0, 0],\n",
       "       [0, 0],\n",
       "       [0, 0],\n",
       "       [0, 0],\n",
       "       [0, 0]])"
      ]
     },
     "execution_count": 15,
     "metadata": {},
     "output_type": "execute_result"
    }
   ],
   "source": [
    "np.zeros(shape=(10, 2), dtype=int)"
   ]
  },
  {
   "cell_type": "code",
   "execution_count": 16,
   "id": "vulnerable-sector",
   "metadata": {},
   "outputs": [
    {
     "data": {
      "text/plain": [
       "array([[1, 1, 1, 1],\n",
       "       [1, 1, 1, 1],\n",
       "       [1, 1, 1, 1]])"
      ]
     },
     "execution_count": 16,
     "metadata": {},
     "output_type": "execute_result"
    }
   ],
   "source": [
    "np.ones(shape=(3, 4), dtype=int)"
   ]
  },
  {
   "cell_type": "markdown",
   "id": "facial-chancellor",
   "metadata": {},
   "source": [
    "- Distribution"
   ]
  },
  {
   "cell_type": "code",
   "execution_count": 17,
   "id": "expanded-clear",
   "metadata": {},
   "outputs": [
    {
     "data": {
      "text/plain": [
       "1.0"
      ]
     },
     "execution_count": 17,
     "metadata": {},
     "output_type": "execute_result"
    }
   ],
   "source": [
    "np.array([1, 1, 1, 1]).mean()"
   ]
  },
  {
   "cell_type": "code",
   "execution_count": 19,
   "id": "raising-passport",
   "metadata": {},
   "outputs": [
    {
     "data": {
      "text/plain": [
       "42.868257487329714"
      ]
     },
     "execution_count": 19,
     "metadata": {},
     "output_type": "execute_result"
    }
   ],
   "source": [
    "np.std(np.array([1, 1, 1, 100]))"
   ]
  },
  {
   "cell_type": "code",
   "execution_count": null,
   "id": "engaged-title",
   "metadata": {},
   "outputs": [],
   "source": [
    "y = f(x) = 2x + 3"
   ]
  },
  {
   "cell_type": "code",
   "execution_count": 3,
   "id": "informational-corporation",
   "metadata": {},
   "outputs": [],
   "source": [
    "import matplotlib.pyplot as plt"
   ]
  },
  {
   "cell_type": "code",
   "execution_count": 27,
   "id": "promotional-sampling",
   "metadata": {},
   "outputs": [
    {
     "data": {
      "image/png": "[encoded data removed]",
      "text/plain": [
       "<Figure size 432x288 with 1 Axes>"
      ]
     },
     "metadata": {
      "needs_background": "light"
     },
     "output_type": "display_data"
    }
   ],
   "source": [
    "plt.hist(np.random.normal(2, 4, size=(1000)), bins=100);"
   ]
  },
  {
   "cell_type": "code",
   "execution_count": 23,
   "id": "stuck-hybrid",
   "metadata": {},
   "outputs": [
    {
     "data": {
      "text/plain": [
       "array([ 1.38001329e+00,  1.49551003e+00, -3.20985989e+00,  5.74828256e+00,\n",
       "        7.94719910e+00,  3.92554352e+00, -1.02479059e+00, -6.96801685e+00,\n",
       "        8.90797377e+00,  7.46779645e+00,  1.12109880e+00, -3.96318637e+00,\n",
       "        6.02953628e+00, -6.00061299e+00, -1.94031958e+00,  2.33234515e+00,\n",
       "       -6.34084222e+00,  4.28073566e+00,  4.22542440e+00,  5.17007223e+00,\n",
       "        4.99478361e+00, -3.84096093e+00, -1.68759578e+00,  6.99647179e-01,\n",
       "        1.46543826e+01,  4.31615326e+00, -4.35579500e+00,  4.11474535e+00,\n",
       "        9.47781887e+00, -2.76323362e+00,  1.20247836e+00,  1.20827573e+00,\n",
       "       -1.94577965e+00, -1.89794965e+00,  4.98643794e+00, -3.27442327e+00,\n",
       "        2.58806156e+00, -7.25433189e-01,  6.18292131e-01,  5.07898656e+00,\n",
       "       -2.01617298e+00,  4.66733757e+00, -6.23361917e+00,  4.29859904e+00,\n",
       "        6.83341455e-01,  7.00453514e+00,  6.09312147e+00,  8.63024031e+00,\n",
       "        3.09186514e+00, -3.86356134e+00, -3.06138957e+00,  7.73273788e-01,\n",
       "        5.98682287e+00, -3.57980131e+00, -2.15194042e+00,  1.47213003e+00,\n",
       "        3.05495379e+00,  1.00017775e+01,  4.99965868e+00, -3.16308576e+00,\n",
       "        4.93433454e+00, -3.35443236e-01,  2.34685920e+00,  7.34022302e+00,\n",
       "        8.99896763e+00, -1.42222486e+00,  4.01731166e+00,  2.64786805e+00,\n",
       "        4.39672524e+00,  1.97704964e+00, -2.72498717e+00,  1.55763998e+00,\n",
       "        5.73093632e+00,  2.89092332e+00,  1.14499905e+01, -2.81735666e+00,\n",
       "        3.44095091e+00,  2.61554442e-01,  6.15193704e+00,  8.04925051e+00,\n",
       "       -8.39984261e-01,  1.08036027e+00,  4.19969706e+00, -1.67045875e+00,\n",
       "        3.61188693e-01,  5.74425920e+00,  3.79640445e+00,  4.97857039e+00,\n",
       "       -3.17568647e+00,  3.16817419e-01,  1.96355833e+00,  2.62140234e+00,\n",
       "        1.11720244e+00,  8.47416104e+00, -1.29274858e+00,  7.99239272e-01,\n",
       "        2.64405787e+00, -3.03593677e+00,  1.08854790e+01,  4.04963880e+00,\n",
       "        3.12454709e-01, -7.32214307e-01, -5.17864733e+00,  1.42905121e+00,\n",
       "       -3.36030514e+00, -2.04611144e+00,  2.41690960e+00, -4.85055501e+00,\n",
       "        2.61104020e+00, -6.52790588e+00, -8.28322959e-01,  1.01170748e+01,\n",
       "        7.22045346e-02,  9.50229348e+00,  7.43422667e+00, -4.24188131e-01,\n",
       "        2.65210869e+00,  4.65235450e+00,  5.63932350e+00,  3.83124330e-01,\n",
       "       -4.90707760e+00, -1.17642899e+00,  7.56934554e+00, -2.23809971e+00,\n",
       "        5.63165073e-01,  3.69810426e+00, -4.57073055e-01, -7.38111856e-01,\n",
       "        1.60319878e+00, -1.01926733e-01,  8.56274215e+00,  1.07502547e+01,\n",
       "        4.77190757e+00, -1.77444590e+00,  7.01981640e+00, -6.68923605e+00,\n",
       "        3.11502018e+00,  6.83864026e+00,  1.80753972e+00, -5.36661705e-01,\n",
       "        2.05964083e+00,  1.18510566e+00, -2.77958415e+00,  7.28159741e+00,\n",
       "        6.36072563e+00,  9.52616409e+00,  3.08801954e-02,  6.15812370e-01,\n",
       "       -1.18551124e+00, -9.46514083e-01,  2.19723422e+00, -1.19370888e+00,\n",
       "       -1.08940243e+00,  6.23199119e+00,  1.07242817e+01,  7.35694220e-02,\n",
       "        4.70889731e+00,  1.03502996e+01,  7.45217439e+00,  2.63731944e-01,\n",
       "        2.91565073e+00,  9.47797347e-01,  1.02107648e+01,  2.42904065e+00,\n",
       "        3.93202417e+00,  3.36825136e+00,  6.80461157e+00,  6.96442544e+00,\n",
       "        8.55476754e+00,  3.21768608e+00, -3.82616040e+00,  3.71102048e+00,\n",
       "        6.27714705e+00,  2.87140158e+00,  5.27471451e-01,  6.89169232e+00,\n",
       "        6.02033265e+00, -2.49036896e-01, -3.36063744e+00,  2.54961440e+00,\n",
       "       -9.62177039e-01,  3.29003650e+00,  7.46921503e-01,  7.79676779e+00,\n",
       "        9.01166555e+00,  5.30904553e+00, -3.58769692e+00,  4.89926301e+00,\n",
       "        4.45225984e+00, -1.83379011e+00,  1.72765820e+00,  1.04941492e+01,\n",
       "       -5.04348626e+00,  3.78492923e+00, -1.02791018e+00,  8.93419936e-01,\n",
       "        2.30547535e+00,  1.00555886e+00,  6.15333630e+00, -2.02524915e+00,\n",
       "        6.16561207e+00,  1.03052263e-01,  6.45953213e+00,  5.41995637e-02,\n",
       "        6.60401170e-01,  7.09002323e+00,  3.28726375e+00,  4.35766974e+00,\n",
       "        4.56776336e+00, -4.75782091e+00,  5.93653101e+00, -8.75627740e+00,\n",
       "       -3.22782957e+00,  9.01455608e-02,  6.90863033e+00, -3.40976520e-01,\n",
       "       -4.52320826e+00,  5.65543702e+00,  5.83898041e+00,  2.39850241e+00,\n",
       "       -5.66016669e-01,  2.04578398e+00,  4.53148439e+00, -2.23983177e+00,\n",
       "        3.43279581e+00,  5.12999184e+00, -2.68983378e+00,  8.30935998e+00,\n",
       "        6.88852997e+00,  9.99949555e-01,  6.61530192e+00,  4.54411140e+00,\n",
       "        6.32801492e+00,  3.75422726e+00,  1.80780402e+00,  4.05563209e+00,\n",
       "       -7.52008307e-01, -2.01779500e+00,  3.58594883e+00,  1.58206125e-01,\n",
       "       -1.21695727e+00,  3.18673613e+00, -1.87256392e+00,  1.35638649e-01,\n",
       "       -1.72140537e+00,  6.27124300e+00,  2.82715037e+00,  3.43188064e+00,\n",
       "        3.46948227e+00,  1.99153315e+00,  1.33917296e+01,  1.44065957e+00,\n",
       "        4.50185222e+00,  1.63043884e+00,  5.37082682e+00, -1.27076951e+00,\n",
       "       -2.53225885e+00,  4.58538117e+00,  8.22064464e+00,  3.62907800e+00,\n",
       "       -1.35458159e+00, -7.88711937e-01,  2.78940755e+00,  1.37739832e+00,\n",
       "        1.18873579e+00,  1.38206873e+00, -3.75680547e+00,  2.11181467e-01,\n",
       "        5.34079620e+00,  8.47706528e+00,  4.63830214e+00,  3.56575086e+00,\n",
       "        3.56616155e+00,  5.02790469e+00, -3.65936316e+00,  3.95105368e+00,\n",
       "        3.05011569e-01,  3.98961044e+00,  7.33120608e-01,  1.61739792e+00,\n",
       "        6.14531650e+00,  4.49731614e+00, -1.03551269e+01, -4.31252812e+00,\n",
       "        5.03048733e+00,  3.10069614e-01,  1.97113479e+00, -7.27583931e-01,\n",
       "       -1.82297552e+00,  1.24785960e+00,  4.83395469e+00, -3.05182937e-01,\n",
       "        3.47306273e+00,  2.86070190e+00, -4.15153945e+00,  6.06250617e+00,\n",
       "        7.61265256e+00,  6.89058983e+00,  8.20656647e-02,  1.50464367e+00,\n",
       "        3.62510893e+00, -5.20796795e+00,  2.19462423e+00,  8.71791866e+00,\n",
       "       -3.45155738e-01, -2.24913894e+00,  1.03419521e+01,  2.54990141e+00,\n",
       "        3.42284486e+00,  1.24965470e+01,  3.05336428e-02, -7.33588059e-01,\n",
       "       -6.01832705e+00,  3.53689150e+00, -2.64790369e+00,  4.08393121e+00,\n",
       "        6.96382638e+00, -2.66588607e-01, -1.31633980e+00, -3.64715460e+00,\n",
       "       -3.52681986e-01, -9.14713836e+00,  1.74093191e+00,  2.35883096e+00,\n",
       "        4.59395329e+00,  2.77090742e+00,  5.32210260e+00,  6.67224042e+00,\n",
       "        2.29097593e+00,  1.76498194e-01,  8.84827133e+00,  2.66983353e+00,\n",
       "        1.61825543e+00,  2.25299796e+00,  1.19099694e+01, -5.84202604e+00,\n",
       "       -1.78629774e+00,  8.60556682e-01,  9.62148569e+00, -2.98308517e+00,\n",
       "        3.42021247e-01,  2.36909676e+00,  3.43109347e+00, -1.07747393e+00,\n",
       "        2.78445083e+00,  1.14252448e+01,  2.65575366e+00,  8.87705142e+00,\n",
       "        6.79946454e-01, -3.24113183e+00,  2.94923439e+00, -4.29241666e+00,\n",
       "       -3.75641183e+00, -1.26351803e+00,  1.76567459e+00,  5.27572269e+00,\n",
       "        2.85746689e+00,  1.09776497e+01, -5.45018706e-02,  3.40078584e+00,\n",
       "       -1.72607928e+00,  1.94748673e+00, -1.27928848e+00,  9.91839072e+00,\n",
       "        6.85957947e+00,  1.12583557e+00, -3.71202180e+00,  3.80881481e+00,\n",
       "        1.40438005e+00, -5.34424192e-01,  5.64539850e+00, -5.49731040e+00,\n",
       "        2.50814461e+00, -2.64503203e+00,  4.37147466e+00,  1.55931793e-01,\n",
       "        1.15243578e+00,  2.29484022e+00,  4.80653067e+00,  4.44229940e+00,\n",
       "        3.51886006e+00, -2.24942810e+00,  1.93485864e+00,  5.45094547e+00,\n",
       "       -1.82903298e+00,  6.26824934e+00, -5.61085180e+00,  1.94617059e+00,\n",
       "        2.87113068e+00,  1.27131756e+00,  8.83692733e-01,  7.93217473e+00,\n",
       "        1.24500622e+00, -4.49005739e+00,  3.94361783e+00, -3.71879228e+00,\n",
       "       -6.93412555e-01, -3.07207412e+00,  7.67485941e-01, -4.50040910e+00,\n",
       "        2.92700432e+00,  1.84103604e+00,  4.25274037e+00,  1.36817048e+00,\n",
       "        6.78341886e+00,  3.86298930e+00,  1.46344163e+00,  4.93874666e+00,\n",
       "        1.26681920e+00,  9.05850302e-01, -5.97147632e-03,  2.20806679e+00,\n",
       "        1.10632406e+01, -4.02038056e+00,  1.25589544e+00,  6.62963496e+00,\n",
       "       -1.99513130e+00,  6.41170799e+00,  3.40845533e+00, -9.33192039e-01,\n",
       "        7.00977301e-01,  3.75753660e+00,  1.37809646e+00,  2.35103488e+00,\n",
       "       -1.04787703e+00, -1.10683407e+00, -4.26677930e+00,  3.02417240e+00,\n",
       "       -9.46100927e-01, -5.23402462e-01,  4.97336675e-01,  1.12214163e+00,\n",
       "       -7.62864214e+00,  2.10998125e+00,  3.25560668e+00,  5.77329924e+00,\n",
       "       -4.06799414e+00,  3.03804979e+00, -2.81876510e-01,  7.37667066e+00,\n",
       "        3.50253188e+00,  4.81419496e-01,  6.13800514e-01, -2.27242654e-01,\n",
       "        1.63959107e+00,  3.32745212e+00, -1.37801899e+00,  6.30344507e+00,\n",
       "        5.28969209e+00,  1.42192070e+00,  3.09875715e+00,  6.35338401e+00,\n",
       "        3.70061456e+00,  8.39612344e-01, -9.18794852e-01,  4.13327523e+00,\n",
       "        9.48876464e-01,  8.00126297e+00, -4.02428033e-01, -2.07827309e+00,\n",
       "        6.41405911e+00,  5.34682673e+00, -2.95089288e-01, -4.41525043e+00,\n",
       "        7.83938276e-01, -5.21166770e+00,  5.08472827e+00,  8.06106623e+00,\n",
       "       -3.00218490e+00,  4.94812040e+00, -6.89829687e+00,  7.95280681e+00,\n",
       "       -4.85612050e+00,  1.07744463e+01,  3.74848534e+00,  3.45395057e+00,\n",
       "        1.36804423e+00,  1.00363088e+01,  5.91382968e+00,  1.03055912e+00,\n",
       "        1.85515804e+00,  4.66902023e+00,  3.16908014e+00,  2.97054832e+00,\n",
       "        3.33208065e+00,  9.44524828e+00, -9.27798263e-01,  6.68727739e-02,\n",
       "       -1.32576759e+00,  3.18071326e+00,  1.70135975e-01,  6.66976926e+00,\n",
       "        1.21141636e+01,  6.73399115e+00,  3.85486453e+00, -1.91376523e+00,\n",
       "        1.88248946e+00,  3.67783138e+00, -5.69045657e+00,  1.98845510e+00,\n",
       "        2.72242029e+00,  6.35887203e+00,  4.62401538e+00,  9.26277398e+00,\n",
       "       -6.28098821e+00,  5.71104556e+00,  3.73638804e+00,  1.54055401e+00,\n",
       "       -3.15836857e-01,  2.81579969e-01,  1.89169204e+00,  2.83353024e+00,\n",
       "       -9.79605917e-01, -1.49186265e+00,  4.12749435e+00,  2.23429211e+00,\n",
       "        7.98583292e-01,  1.11158139e+00, -3.91270990e+00, -3.47713669e-01,\n",
       "       -1.82418560e-01, -1.79948476e+00,  3.68023915e+00,  6.27898125e-01,\n",
       "        2.52237780e+00,  8.64957772e-01, -4.09283844e+00, -9.15196035e-01,\n",
       "       -2.06404996e-01,  2.39208337e+00,  9.28873516e+00,  5.58771561e+00,\n",
       "        5.25815613e+00, -9.36217324e-01,  1.02909367e+00,  1.11471053e-01,\n",
       "       -1.19135293e+00,  3.25442830e+00, -2.02326385e+00,  3.12497322e+00,\n",
       "        3.39953723e+00,  2.48059926e+00,  6.86340876e+00, -8.03332892e+00,\n",
       "        1.18082770e+01,  4.22329806e+00, -9.11263040e-01,  7.36205686e+00,\n",
       "        2.33410057e+00, -5.17485238e+00, -1.54412532e+00,  8.73727865e+00,\n",
       "        4.31679996e+00,  1.43251799e+00,  3.79143066e+00,  2.57671735e+00,\n",
       "        2.77589990e+00,  1.17884777e+01,  3.63715828e+00,  1.38011980e-01,\n",
       "       -4.50293702e+00, -3.66892530e+00,  9.07098124e+00,  3.29871628e+00,\n",
       "        4.68771235e+00,  1.73188988e+00,  1.18629628e+01,  3.85084648e+00,\n",
       "        2.88679349e+00,  1.91426507e+00,  5.23206133e+00, -1.07131758e+00,\n",
       "        2.67817980e+00,  5.16559273e+00,  6.34567961e+00, -6.40730681e+00,\n",
       "        2.92726583e+00,  6.45798868e+00,  2.11613559e+00,  4.07811255e+00,\n",
       "       -1.80059784e+00,  2.75578765e+00, -4.77255348e+00,  2.55318187e+00,\n",
       "        2.84386299e-01, -5.66578149e+00, -2.93117772e+00,  7.42868872e+00,\n",
       "       -1.17992176e-01,  3.60453928e-01,  9.33258896e+00,  5.48037015e+00,\n",
       "       -1.56942950e-01, -4.35322210e+00,  4.93669511e+00, -8.20931896e-01,\n",
       "        3.85889475e+00,  4.13086801e+00,  8.53728759e+00,  5.60197297e+00,\n",
       "        2.17182244e+00,  4.93145369e+00,  4.84391375e+00,  1.71671827e-01,\n",
       "        7.05709745e-01,  4.50810390e+00,  3.91478490e+00,  5.07786092e+00,\n",
       "        6.64254353e+00,  2.85055222e+00,  8.55250454e-01,  4.06541709e+00,\n",
       "        4.33776427e+00,  5.48203256e+00, -5.21557392e+00,  2.31492310e+00,\n",
       "       -2.43818476e+00, -1.19252225e+00,  3.51958373e+00,  1.86003979e+00,\n",
       "        1.99712243e+00,  5.02034456e+00, -2.34372208e+00,  4.86933968e+00,\n",
       "        3.79270406e+00, -2.20472592e+00,  3.94674582e+00, -8.51347827e-01,\n",
       "        1.91236380e+00,  4.01524713e+00, -5.72236890e+00,  1.13065692e+01,\n",
       "        3.40778379e+00,  3.52571487e+00, -1.03243350e+00,  3.18375250e+00,\n",
       "        3.24855659e+00,  2.79648117e+00, -7.37055935e-01, -3.99785229e-01,\n",
       "       -1.12259879e+00, -1.05690907e+00, -2.19248052e-01, -5.56512406e+00,\n",
       "       -1.12439946e+00,  5.56245856e+00, -2.63333990e+00,  1.91046001e+00,\n",
       "       -2.32271477e+00,  2.56423053e+00, -4.82775434e-01,  1.64910973e+00,\n",
       "        2.14907300e+00,  3.39957465e+00,  4.97453575e+00, -9.15663151e+00,\n",
       "        1.22501068e+01,  4.02870413e+00,  6.11652941e+00,  4.52192045e+00,\n",
       "        5.88795944e-01,  2.88359114e+00,  5.43206952e+00,  7.45006352e+00,\n",
       "        5.48688502e-01,  5.07480588e+00,  3.94739045e+00,  9.81985057e+00,\n",
       "       -6.44520702e+00, -9.43998762e-01,  2.45974326e-01, -1.76786291e+00,\n",
       "        1.05751029e+01,  7.88447579e+00,  1.26047690e+00,  5.04272933e+00,\n",
       "        1.35541212e+00,  2.71700225e+00,  6.67113011e+00,  6.13794062e+00,\n",
       "       -1.71748299e+00, -7.88509903e+00,  9.32579714e+00,  8.37116627e-01,\n",
       "        6.00728465e+00, -1.34494108e+00,  2.41707727e+00,  3.17317150e+00,\n",
       "        1.03680450e+00, -2.52369114e+00,  1.06143392e+01,  2.72437780e+00,\n",
       "        1.52154818e+00,  8.20296259e+00,  5.20519125e+00,  4.66086743e+00,\n",
       "        7.18115958e+00, -1.07816562e+01,  4.89429862e+00,  2.61338746e+00,\n",
       "        5.08141162e+00,  6.25726906e-02, -5.84365232e+00,  4.65243615e+00,\n",
       "       -3.28669397e+00,  2.33735138e+00,  9.15083254e+00,  8.56578385e+00,\n",
       "        2.90830776e+00, -1.74874359e-01,  7.14182380e+00,  4.72088928e+00,\n",
       "       -9.29134316e-01, -1.78493803e+00, -3.34073395e+00,  5.24461502e+00,\n",
       "       -5.59232679e-01,  3.60651615e+00, -8.06057569e-01, -4.87238704e-01,\n",
       "        2.31295605e+00,  6.06699946e-01,  1.36645472e-01, -8.02067845e+00,\n",
       "       -3.09779366e+00,  5.80764322e+00,  1.47747462e+00,  4.68113424e+00,\n",
       "       -9.08503735e-01,  2.90489679e+00, -3.75327537e+00,  3.66137029e+00,\n",
       "        3.00697843e+00,  1.76105122e+00, -2.84222669e-01,  6.47394886e-01,\n",
       "        1.68333471e+00, -4.84311934e+00, -5.23033227e-01,  2.80966407e+00,\n",
       "        6.92087804e+00,  2.04510776e-01,  4.89103053e+00,  6.07020442e+00,\n",
       "        7.26287110e+00,  4.58864455e+00, -2.64537913e+00,  7.55739115e+00,\n",
       "       -5.00333367e-01, -4.27243289e-01,  9.96245802e+00,  2.82868136e+00,\n",
       "        5.04950384e+00,  2.94901569e+00,  2.54467958e+00,  2.33323886e+00,\n",
       "        1.84889573e+00,  8.32606860e+00,  1.92789516e+00,  1.66462495e+00,\n",
       "        4.20215932e-01, -3.35082596e+00,  1.42161348e+01,  8.41739223e+00,\n",
       "        7.44903772e+00,  4.19577672e+00,  7.81111640e+00,  4.27899762e+00,\n",
       "        5.28063816e+00, -2.28989818e+00,  2.03339454e+00,  1.37801833e+00,\n",
       "       -1.73961844e+00, -1.60430754e+00, -3.42757721e+00,  1.61465025e-01,\n",
       "        5.92476577e+00,  4.01411502e+00,  5.59471147e+00,  4.68978258e+00,\n",
       "        1.52753863e+00,  1.87513554e+00, -1.13576688e-01, -8.05033629e-01,\n",
       "       -4.00608279e-01,  7.76611847e+00,  1.14764010e+00,  1.30167471e+00,\n",
       "        5.74170443e+00,  2.28083587e+00,  8.39946067e+00,  4.99804468e-01,\n",
       "       -3.58021834e+00,  5.64957238e+00,  4.85742160e+00, -3.24372985e+00,\n",
       "        3.24940516e+00, -1.09801191e+00,  3.09322249e+00, -3.86105736e-01,\n",
       "       -4.35650713e+00,  7.57934319e+00,  3.92261025e-01,  2.00760029e+00,\n",
       "       -2.40161664e+00,  2.47947632e+00,  2.17424736e+00, -3.36138021e+00,\n",
       "        5.58504868e+00,  1.43275109e+00,  1.45460687e+00,  3.81192364e+00,\n",
       "        7.70516733e+00,  2.85516936e-01, -1.17795461e+00, -4.06892790e+00,\n",
       "       -2.59729034e+00,  7.09449948e+00, -1.35191824e+00, -4.08340404e+00,\n",
       "       -2.05318689e+00,  7.64228828e+00,  2.29925928e+00,  5.39099536e+00,\n",
       "       -3.55975351e+00,  5.21715397e+00,  1.26265163e+00, -8.51098400e+00,\n",
       "        1.60235612e+00,  5.21719782e+00,  1.48648326e+00, -5.46963856e+00,\n",
       "        6.57613537e+00,  4.75951883e+00,  3.91154049e+00,  5.08879478e+00,\n",
       "       -3.67422891e+00,  9.07429150e+00, -7.03897398e-01, -2.54940486e+00,\n",
       "        1.18589851e+01,  2.47184853e+00,  5.27712808e+00,  6.79436134e-01,\n",
       "        5.87530798e-01,  3.51554942e+00, -1.86159725e-01,  1.19509306e+00,\n",
       "        1.36533699e+00,  9.73293361e+00,  8.09290964e-01, -6.72282458e+00,\n",
       "       -5.05456787e-01,  5.61487943e-01,  2.73730963e+00, -1.47822351e+00,\n",
       "        4.25301250e+00,  5.18493038e+00,  2.92502477e+00,  5.78228966e+00,\n",
       "       -2.05061119e+00,  5.19827001e-01,  7.15813967e+00,  1.35895152e+00,\n",
       "        8.38808429e-01,  5.32857491e+00, -2.87747408e+00,  3.84007452e+00,\n",
       "       -2.98579197e+00, -1.17412532e+00,  6.96213106e+00,  2.41715099e+00,\n",
       "        1.99882252e+00, -1.19002218e+00,  3.17617684e+00, -2.16522160e-01,\n",
       "       -1.69432343e+00,  1.34438425e+00,  4.38421222e+00,  1.53645015e+00,\n",
       "        5.04588104e+00,  1.85117256e+00, -1.41948166e+00,  5.28417049e+00,\n",
       "        1.41325211e+00, -9.34700819e+00, -1.76078709e+00,  2.38488114e+00,\n",
       "        4.35969310e+00,  1.71753006e+00, -3.17493813e+00,  1.87732133e+00,\n",
       "       -4.30661735e-01,  3.31951845e+00,  8.84562333e+00, -3.88992882e-01,\n",
       "        6.86868375e+00,  6.73022412e+00,  1.36833802e+00, -6.01761274e-01,\n",
       "        6.16892766e+00,  6.42572881e+00, -2.35413801e+00, -1.01623665e+00,\n",
       "       -5.00490327e+00, -2.68282521e+00,  3.08777939e+00, -9.52517260e-01,\n",
       "       -4.16139774e+00,  4.13679178e+00,  2.78743537e+00,  3.22258251e+00,\n",
       "       -6.99102700e+00,  5.64835077e+00,  4.30586581e+00,  6.83213789e+00,\n",
       "       -5.68643176e+00,  4.35223134e+00, -1.78702251e+00,  9.10617349e+00,\n",
       "        6.55307970e-01,  5.61162338e+00,  4.52116374e+00,  9.86987323e+00,\n",
       "        5.99646981e+00,  5.19588030e+00,  4.40069663e-01, -3.62857710e+00,\n",
       "        3.30234217e+00, -1.26860120e+00,  4.39265653e+00, -2.34447474e+00,\n",
       "        2.43921099e+00,  2.50233797e-01, -2.45695936e+00,  4.81843797e+00,\n",
       "       -4.06810638e+00, -9.42128220e-02,  1.09696410e+00, -1.09994024e+00,\n",
       "        6.62474758e+00,  6.90318290e+00,  4.74781147e+00, -4.52232033e+00,\n",
       "        2.96340367e+00,  2.12948744e+00,  9.78408746e-02, -5.32772760e+00,\n",
       "        7.78160136e+00, -3.89315876e+00,  3.45502068e+00,  8.73140779e+00,\n",
       "        4.41528295e+00, -1.03593355e+00,  5.65212319e+00, -2.27213156e-01,\n",
       "       -1.45986663e+00, -1.50173322e+00,  6.82259290e+00,  3.96277952e+00,\n",
       "       -3.21913441e+00, -2.93540903e+00,  2.19841293e+00,  4.08678720e+00,\n",
       "       -7.26362068e+00,  1.67038091e+00, -1.22784918e+00,  3.60485178e+00,\n",
       "        1.56460568e+00, -7.00713319e+00,  2.67581745e+00,  2.13595847e+00,\n",
       "        1.03411540e+00,  2.22790586e+00,  7.70014332e-01,  6.36309435e+00,\n",
       "        1.19577506e+00,  4.52511923e+00,  3.19400823e+00, -1.28769912e+00,\n",
       "        4.69360050e+00,  4.89344586e+00,  2.02621864e-01,  4.03495717e+00,\n",
       "        5.00772963e+00,  9.93247884e-01, -1.71455819e+00,  2.86308414e+00,\n",
       "       -2.60906858e-01,  3.24638741e+00,  3.49507964e+00,  6.85635384e+00,\n",
       "       -2.40770586e+00, -2.20083856e+00,  5.77557443e+00,  4.54241284e+00,\n",
       "        4.76771368e+00,  8.03871023e-01,  2.84829580e+00, -3.80191785e+00])"
      ]
     },
     "execution_count": 23,
     "metadata": {},
     "output_type": "execute_result"
    }
   ],
   "source": [
    "np.random.normal(2, 4, size=(1000))"
   ]
  },
  {
   "cell_type": "code",
   "execution_count": 4,
   "id": "concerned-stock",
   "metadata": {},
   "outputs": [
    {
     "data": {
      "image/png": "[encoded data removed]",
      "text/plain": [
       "<Figure size 432x288 with 1 Axes>"
      ]
     },
     "metadata": {
      "needs_background": "light"
     },
     "output_type": "display_data"
    }
   ],
   "source": [
    "plt.hist(np.random.uniform(low=1, high=4, size=(1000000)), bins=100);"
   ]
  },
  {
   "cell_type": "code",
   "execution_count": 18,
   "id": "quantitative-mother",
   "metadata": {},
   "outputs": [
    {
     "data": {
      "text/plain": [
       "array([[[ 1.        ,  1.39130435,  1.7826087 ,  2.17391304,\n",
       "          2.56521739,  2.95652174],\n",
       "        [ 3.34782609,  3.73913043,  4.13043478,  4.52173913,\n",
       "          4.91304348,  5.30434783]],\n",
       "\n",
       "       [[ 5.69565217,  6.08695652,  6.47826087,  6.86956522,\n",
       "          7.26086957,  7.65217391],\n",
       "        [ 8.04347826,  8.43478261,  8.82608696,  9.2173913 ,\n",
       "          9.60869565, 10.        ]]])"
      ]
     },
     "execution_count": 18,
     "metadata": {},
     "output_type": "execute_result"
    }
   ],
   "source": [
    "arr = np.linspace(1, 10, 24).reshape(2, 2, 6)\n",
    "arr"
   ]
  },
  {
   "cell_type": "code",
   "execution_count": 7,
   "id": "realistic-subscription",
   "metadata": {},
   "outputs": [
    {
     "data": {
      "text/plain": [
       "array([1, 2, 3, 4, 5, 6, 7, 8, 9])"
      ]
     },
     "execution_count": 7,
     "metadata": {},
     "output_type": "execute_result"
    }
   ],
   "source": [
    "np.arange(1, 10, 1)"
   ]
  },
  {
   "cell_type": "markdown",
   "id": "affecting-architecture",
   "metadata": {},
   "source": [
    "### Statistics"
   ]
  },
  {
   "cell_type": "code",
   "execution_count": 21,
   "id": "stainless-blast",
   "metadata": {},
   "outputs": [
    {
     "data": {
      "text/plain": [
       "array([[1, 2, 3],\n",
       "       [4, 5, 6],\n",
       "       [7, 8, 9]])"
      ]
     },
     "execution_count": 21,
     "metadata": {},
     "output_type": "execute_result"
    }
   ],
   "source": [
    "arr = np.linspace(1, 9, 9, dtype=int).reshape(3, 3)\n",
    "arr"
   ]
  },
  {
   "cell_type": "code",
   "execution_count": 22,
   "id": "second-ethics",
   "metadata": {},
   "outputs": [
    {
     "data": {
      "text/plain": [
       "45"
      ]
     },
     "execution_count": 22,
     "metadata": {},
     "output_type": "execute_result"
    }
   ],
   "source": [
    "arr.sum()"
   ]
  },
  {
   "cell_type": "code",
   "execution_count": 24,
   "id": "approved-walnut",
   "metadata": {},
   "outputs": [
    {
     "data": {
      "text/plain": [
       "array([12, 15, 18])"
      ]
     },
     "execution_count": 24,
     "metadata": {},
     "output_type": "execute_result"
    }
   ],
   "source": [
    "arr.sum(axis=0)"
   ]
  },
  {
   "cell_type": "code",
   "execution_count": 25,
   "id": "northern-louisville",
   "metadata": {},
   "outputs": [
    {
     "data": {
      "text/plain": [
       "array([ 6, 15, 24])"
      ]
     },
     "execution_count": 25,
     "metadata": {},
     "output_type": "execute_result"
    }
   ],
   "source": [
    "arr.sum(axis=1)"
   ]
  },
  {
   "cell_type": "code",
   "execution_count": 27,
   "id": "careful-tablet",
   "metadata": {},
   "outputs": [
    {
     "data": {
      "text/plain": [
       "array([[[ 1.,  2.,  3.],\n",
       "        [ 4.,  5.,  6.]],\n",
       "\n",
       "       [[ 7.,  8.,  9.],\n",
       "        [10., 11., 12.]],\n",
       "\n",
       "       [[13., 14., 15.],\n",
       "        [16., 17., 18.]],\n",
       "\n",
       "       [[19., 20., 21.],\n",
       "        [22., 23., 24.]]])"
      ]
     },
     "execution_count": 27,
     "metadata": {},
     "output_type": "execute_result"
    }
   ],
   "source": [
    "arr = np.linspace(1, 24, 24).reshape(4, 2, 3)\n",
    "arr"
   ]
  },
  {
   "cell_type": "code",
   "execution_count": 32,
   "id": "macro-ceramic",
   "metadata": {},
   "outputs": [
    {
     "data": {
      "text/plain": [
       "array([[40., 44., 48.],\n",
       "       [52., 56., 60.]])"
      ]
     },
     "execution_count": 32,
     "metadata": {},
     "output_type": "execute_result"
    }
   ],
   "source": [
    "arr.sum(axis=0)"
   ]
  },
  {
   "cell_type": "code",
   "execution_count": 31,
   "id": "executed-small",
   "metadata": {},
   "outputs": [
    {
     "data": {
      "text/plain": [
       "array([[ 5.,  7.,  9.],\n",
       "       [17., 19., 21.],\n",
       "       [29., 31., 33.],\n",
       "       [41., 43., 45.]])"
      ]
     },
     "execution_count": 31,
     "metadata": {},
     "output_type": "execute_result"
    }
   ],
   "source": [
    "arr.sum(axis=1)"
   ]
  },
  {
   "cell_type": "code",
   "execution_count": 29,
   "id": "fifteen-civilian",
   "metadata": {},
   "outputs": [
    {
     "data": {
      "text/plain": [
       "array([[ 6., 15.],\n",
       "       [24., 33.],\n",
       "       [42., 51.],\n",
       "       [60., 69.]])"
      ]
     },
     "execution_count": 29,
     "metadata": {},
     "output_type": "execute_result"
    }
   ],
   "source": [
    "arr.sum(axis=2)"
   ]
  },
  {
   "cell_type": "code",
   "execution_count": 34,
   "id": "regional-directory",
   "metadata": {},
   "outputs": [
    {
     "data": {
      "text/plain": [
       "24.0"
      ]
     },
     "execution_count": 34,
     "metadata": {},
     "output_type": "execute_result"
    }
   ],
   "source": [
    "arr.max()"
   ]
  },
  {
   "cell_type": "code",
   "execution_count": 35,
   "id": "civilian-equivalent",
   "metadata": {},
   "outputs": [
    {
     "data": {
      "text/plain": [
       "1.0"
      ]
     },
     "execution_count": 35,
     "metadata": {},
     "output_type": "execute_result"
    }
   ],
   "source": [
    "arr.min()"
   ]
  },
  {
   "cell_type": "code",
   "execution_count": 36,
   "id": "everyday-reduction",
   "metadata": {},
   "outputs": [
    {
     "data": {
      "text/plain": [
       "6.922186552431729"
      ]
     },
     "execution_count": 36,
     "metadata": {},
     "output_type": "execute_result"
    }
   ],
   "source": [
    "arr.std()"
   ]
  },
  {
   "cell_type": "markdown",
   "id": "corporate-activation",
   "metadata": {},
   "source": [
    "### Indexing and Masking"
   ]
  },
  {
   "cell_type": "markdown",
   "id": "suitable-orleans",
   "metadata": {},
   "source": [
    "![](https://i.stack.imgur.com/JcKv1.png)"
   ]
  },
  {
   "cell_type": "markdown",
   "id": "twelve-section",
   "metadata": {},
   "source": [
    "- Vectorization\n",
    "- Broadcasting"
   ]
  },
  {
   "cell_type": "code",
   "execution_count": 39,
   "id": "severe-unknown",
   "metadata": {},
   "outputs": [
    {
     "data": {
      "text/plain": [
       "array([ 1.,  2.,  3.,  4.,  5.,  6.,  7.,  8.,  9., 10.])"
      ]
     },
     "execution_count": 39,
     "metadata": {},
     "output_type": "execute_result"
    }
   ],
   "source": [
    "np.linspace(1, 10, 10)"
   ]
  },
  {
   "cell_type": "code",
   "execution_count": 41,
   "id": "macro-crawford",
   "metadata": {},
   "outputs": [
    {
     "data": {
      "text/plain": [
       "array([11., 12., 13., 14., 15., 16., 17., 18., 19., 20.])"
      ]
     },
     "execution_count": 41,
     "metadata": {},
     "output_type": "execute_result"
    }
   ],
   "source": [
    "np.linspace(11, 20, 10)"
   ]
  },
  {
   "cell_type": "code",
   "execution_count": 38,
   "id": "protected-error",
   "metadata": {},
   "outputs": [
    {
     "data": {
      "text/plain": [
       "array([12., 14., 16., 18., 20., 22., 24., 26., 28., 30.])"
      ]
     },
     "execution_count": 38,
     "metadata": {},
     "output_type": "execute_result"
    }
   ],
   "source": [
    "np.linspace(1, 10, 10) + np.linspace(11, 20, 10)"
   ]
  },
  {
   "cell_type": "code",
   "execution_count": 42,
   "id": "fifteen-attachment",
   "metadata": {},
   "outputs": [],
   "source": [
    "arr_1 = np.array([1, 2, 3])\n",
    "arr_2 = np.array([[1], [2], [3], [4]])"
   ]
  },
  {
   "cell_type": "code",
   "execution_count": 43,
   "id": "owned-irish",
   "metadata": {},
   "outputs": [
    {
     "data": {
      "text/plain": [
       "array([[2, 3, 4],\n",
       "       [3, 4, 5],\n",
       "       [4, 5, 6],\n",
       "       [5, 6, 7]])"
      ]
     },
     "execution_count": 43,
     "metadata": {},
     "output_type": "execute_result"
    }
   ],
   "source": [
    "arr_1 + arr_2"
   ]
  },
  {
   "cell_type": "code",
   "execution_count": 45,
   "id": "olympic-document",
   "metadata": {},
   "outputs": [],
   "source": [
    "arr_1 = np.array([[1, 2, 3], \n",
    "                  [1, 2, 3],\n",
    "                  [1, 2, 3],\n",
    "                  [1, 2, 3]])\n",
    "arr_2 = np.array([[1, 1, 1], \n",
    "                  [2, 2, 2], \n",
    "                  [3, 3, 3], \n",
    "                  [4, 4, 4]])\n",
    "arr = arr_1 + arr_2"
   ]
  },
  {
   "cell_type": "code",
   "execution_count": 46,
   "id": "expired-framing",
   "metadata": {},
   "outputs": [
    {
     "data": {
      "text/plain": [
       "array([[2, 3, 4],\n",
       "       [3, 4, 5],\n",
       "       [4, 5, 6],\n",
       "       [5, 6, 7]])"
      ]
     },
     "execution_count": 46,
     "metadata": {},
     "output_type": "execute_result"
    }
   ],
   "source": [
    "arr"
   ]
  },
  {
   "cell_type": "code",
   "execution_count": 51,
   "id": "traditional-vault",
   "metadata": {},
   "outputs": [
    {
     "data": {
      "text/plain": [
       "array([3, 7])"
      ]
     },
     "execution_count": 51,
     "metadata": {},
     "output_type": "execute_result"
    }
   ],
   "source": [
    "arr[[1, 3] ,[0, 2]]"
   ]
  },
  {
   "cell_type": "code",
   "execution_count": 50,
   "id": "foreign-federation",
   "metadata": {},
   "outputs": [
    {
     "data": {
      "text/plain": [
       "array([[3, 5],\n",
       "       [4, 6]])"
      ]
     },
     "execution_count": 50,
     "metadata": {},
     "output_type": "execute_result"
    }
   ],
   "source": [
    "arr[1: 3, [0, 2]]"
   ]
  },
  {
   "cell_type": "code",
   "execution_count": 49,
   "id": "described-graduate",
   "metadata": {},
   "outputs": [
    {
     "data": {
      "text/plain": [
       "array([[3, 4],\n",
       "       [4, 5]])"
      ]
     },
     "execution_count": 49,
     "metadata": {},
     "output_type": "execute_result"
    }
   ],
   "source": [
    "arr[1: 3, 0:2]"
   ]
  },
  {
   "cell_type": "code",
   "execution_count": 48,
   "id": "conceptual-press",
   "metadata": {},
   "outputs": [
    {
     "data": {
      "text/plain": [
       "array([3, 4])"
      ]
     },
     "execution_count": 48,
     "metadata": {},
     "output_type": "execute_result"
    }
   ],
   "source": [
    "arr[0, 1:]"
   ]
  },
  {
   "cell_type": "markdown",
   "id": "conventional-volunteer",
   "metadata": {},
   "source": [
    "#### Masking"
   ]
  },
  {
   "cell_type": "code",
   "execution_count": 52,
   "id": "romantic-dodge",
   "metadata": {},
   "outputs": [
    {
     "data": {
      "text/plain": [
       "array([[2, 3, 4],\n",
       "       [3, 4, 5],\n",
       "       [4, 5, 6],\n",
       "       [5, 6, 7]])"
      ]
     },
     "execution_count": 52,
     "metadata": {},
     "output_type": "execute_result"
    }
   ],
   "source": [
    "arr"
   ]
  },
  {
   "cell_type": "code",
   "execution_count": 59,
   "id": "logical-firmware",
   "metadata": {},
   "outputs": [
    {
     "data": {
      "text/plain": [
       "array([[3, 4, 5]])"
      ]
     },
     "execution_count": 59,
     "metadata": {},
     "output_type": "execute_result"
    }
   ],
   "source": [
    "arr[[False, True, False, False]]"
   ]
  },
  {
   "cell_type": "code",
   "execution_count": 65,
   "id": "broken-communication",
   "metadata": {},
   "outputs": [
    {
     "data": {
      "text/plain": [
       "array([5, 5, 6, 5, 6])"
      ]
     },
     "execution_count": 65,
     "metadata": {},
     "output_type": "execute_result"
    }
   ],
   "source": [
    "arr[(4 < arr) & (arr < 7)]"
   ]
  },
  {
   "cell_type": "code",
   "execution_count": 66,
   "id": "italic-vaccine",
   "metadata": {},
   "outputs": [
    {
     "data": {
      "text/plain": [
       "array([[2, 3, 4],\n",
       "       [3, 4, 5],\n",
       "       [4, 5, 6],\n",
       "       [5, 6, 7]])"
      ]
     },
     "execution_count": 66,
     "metadata": {},
     "output_type": "execute_result"
    }
   ],
   "source": [
    "arr"
   ]
  },
  {
   "cell_type": "code",
   "execution_count": 70,
   "id": "editorial-attention",
   "metadata": {},
   "outputs": [
    {
     "data": {
      "text/plain": [
       "array([['Famale', 'Famale', 'Famale'],\n",
       "       ['Famale', 'Famale', 'Male'],\n",
       "       ['Famale', 'Male', 'Male'],\n",
       "       ['Male', 'Male', 'Male']], dtype='<U6')"
      ]
     },
     "execution_count": 70,
     "metadata": {},
     "output_type": "execute_result"
    }
   ],
   "source": [
    "np.where(arr > 4, 'Male', 'Famale')"
   ]
  },
  {
   "cell_type": "code",
   "execution_count": 71,
   "id": "circular-discount",
   "metadata": {},
   "outputs": [
    {
     "data": {
      "text/plain": [
       "array([['<=3', '<=3', '>3'],\n",
       "       ['<=3', '>3', '>3'],\n",
       "       ['>3', '>3', 'Male'],\n",
       "       ['>3', 'Male', 'Male']], dtype='<U4')"
      ]
     },
     "execution_count": 71,
     "metadata": {},
     "output_type": "execute_result"
    }
   ],
   "source": [
    "np.where(arr > 5, 'Male', np.where(arr > 3, '>3', '<=3'))"
   ]
  },
  {
   "cell_type": "markdown",
   "id": "right-allen",
   "metadata": {},
   "source": [
    "### Linear Algebra"
   ]
  },
  {
   "cell_type": "code",
   "execution_count": 72,
   "id": "dental-frame",
   "metadata": {},
   "outputs": [],
   "source": [
    "arr_1 = np.linspace(1, 9, 9).reshape(3, 3)\n",
    "arr_2 = np.linspace(2, 10, 9).reshape(3, 3)"
   ]
  },
  {
   "cell_type": "code",
   "execution_count": 73,
   "id": "lucky-balloon",
   "metadata": {},
   "outputs": [
    {
     "data": {
      "text/plain": [
       "array([[1., 2., 3.],\n",
       "       [4., 5., 6.],\n",
       "       [7., 8., 9.]])"
      ]
     },
     "execution_count": 73,
     "metadata": {},
     "output_type": "execute_result"
    }
   ],
   "source": [
    "arr_1"
   ]
  },
  {
   "cell_type": "code",
   "execution_count": 74,
   "id": "answering-graph",
   "metadata": {},
   "outputs": [
    {
     "data": {
      "text/plain": [
       "array([[ 2.,  3.,  4.],\n",
       "       [ 5.,  6.,  7.],\n",
       "       [ 8.,  9., 10.]])"
      ]
     },
     "execution_count": 74,
     "metadata": {},
     "output_type": "execute_result"
    }
   ],
   "source": [
    "arr_2"
   ]
  },
  {
   "cell_type": "code",
   "execution_count": 80,
   "id": "hourly-internship",
   "metadata": {},
   "outputs": [
    {
     "data": {
      "text/plain": [
       "-9.51619735392994e-16"
      ]
     },
     "execution_count": 80,
     "metadata": {},
     "output_type": "execute_result"
    }
   ],
   "source": [
    "np.linalg.det(arr_1)"
   ]
  },
  {
   "cell_type": "code",
   "execution_count": 82,
   "id": "funded-trance",
   "metadata": {},
   "outputs": [
    {
     "data": {
      "text/plain": [
       "array([[ 3.15251974e+15, -6.30503948e+15,  3.15251974e+15],\n",
       "       [-6.30503948e+15,  1.26100790e+16, -6.30503948e+15],\n",
       "       [ 3.15251974e+15, -6.30503948e+15,  3.15251974e+15]])"
      ]
     },
     "execution_count": 82,
     "metadata": {},
     "output_type": "execute_result"
    }
   ],
   "source": [
    "np.linalg.inv(arr_1)"
   ]
  },
  {
   "cell_type": "code",
   "execution_count": null,
   "id": "affected-template",
   "metadata": {},
   "outputs": [],
   "source": [
    "!pip install jedi"
   ]
  },
  {
   "cell_type": "code",
   "execution_count": 83,
   "id": "quarterly-october",
   "metadata": {},
   "outputs": [
    {
     "data": {
      "text/plain": [
       "array([[1., 4., 7.],\n",
       "       [2., 5., 8.],\n",
       "       [3., 6., 9.]])"
      ]
     },
     "execution_count": 83,
     "metadata": {},
     "output_type": "execute_result"
    }
   ],
   "source": [
    "arr_1.T"
   ]
  },
  {
   "cell_type": "code",
   "execution_count": 85,
   "id": "signal-opposition",
   "metadata": {},
   "outputs": [
    {
     "data": {
      "text/plain": [
       "array([[1., 4., 7.],\n",
       "       [2., 5., 8.],\n",
       "       [3., 6., 9.]])"
      ]
     },
     "execution_count": 85,
     "metadata": {},
     "output_type": "execute_result"
    }
   ],
   "source": [
    "np.transpose(arr_1)"
   ]
  },
  {
   "cell_type": "code",
   "execution_count": null,
   "id": "settled-identity",
   "metadata": {},
   "outputs": [],
   "source": [
    "arr = np.linspace(1, 10)"
   ]
  },
  {
   "cell_type": "code",
   "execution_count": null,
   "id": "transparent-romantic",
   "metadata": {},
   "outputs": [],
   "source": [
    "np.linalg.det()"
   ]
  }
 ],
 "metadata": {
  "kernelspec": {
   "display_name": "Python 3",
   "language": "python",
   "name": "python3"
  },
  "language_info": {
   "codemirror_mode": {
    "name": "ipython",
    "version": 3
   },
   "file_extension": ".py",
   "mimetype": "text/x-python",
   "name": "python",
   "nbconvert_exporter": "python",
   "pygments_lexer": "ipython3",
   "version": "3.7.10"
  }
 },
 "nbformat": 4,
 "nbformat_minor": 5
}
