{
 "cells": [
  {
   "cell_type": "markdown",
   "id": "defensive-western",
   "metadata": {},
   "source": [
    "- Programming flow: Sequential, loop, condition\n",
    "- Function\n",
    "- Comprehension"
   ]
  },
  {
   "cell_type": "markdown",
   "id": "native-proportion",
   "metadata": {},
   "source": [
    "## 1. Programming Flow\n",
    "- Sequential: Tuan tu\n",
    "- Loop: Lap\n",
    "- Condition: Re nhanh"
   ]
  },
  {
   "cell_type": "markdown",
   "id": "cleared-thompson",
   "metadata": {},
   "source": [
    "### 1. Sequential"
   ]
  },
  {
   "cell_type": "code",
   "execution_count": 1,
   "id": "rubber-hours",
   "metadata": {},
   "outputs": [
    {
     "name": "stdout",
     "output_type": "stream",
     "text": [
      "2\n",
      "Im Truong\n",
      "Im hungry\n"
     ]
    }
   ],
   "source": [
    "print(1 + 1 )\n",
    "print('Im Truong')\n",
    "print('Im hungry')"
   ]
  },
  {
   "cell_type": "markdown",
   "id": "operating-horizon",
   "metadata": {},
   "source": [
    "### 1.2. Loop"
   ]
  },
  {
   "cell_type": "markdown",
   "id": "greater-anime",
   "metadata": {},
   "source": [
    "### 1.2.1. For loop"
   ]
  },
  {
   "cell_type": "markdown",
   "id": "relative-gather",
   "metadata": {},
   "source": [
    "```\n",
    "for item in iterable:\n",
    "    business logic\n",
    "```\n",
    "for, in: keywords\n",
    "\n",
    "item, iterable: can be changed\n",
    "```\n",
    "for index in range(len(iterable)):\n",
    "    business logic\n",
    "```\n",
    "range([start], stop (exclusive), [step])"
   ]
  },
  {
   "cell_type": "code",
   "execution_count": 4,
   "id": "driving-radical",
   "metadata": {},
   "outputs": [
    {
     "data": {
      "text/plain": [
       "[0, 1, 2, 3, 4, 5, 6, 7, 8, 9]"
      ]
     },
     "execution_count": 4,
     "metadata": {},
     "output_type": "execute_result"
    }
   ],
   "source": [
    "li = list(range(10))\n",
    "li"
   ]
  },
  {
   "cell_type": "code",
   "execution_count": 5,
   "id": "excess-alpha",
   "metadata": {},
   "outputs": [
    {
     "data": {
      "text/plain": [
       "[1, 2, 3, 4, 5, 6, 7, 8, 9]"
      ]
     },
     "execution_count": 5,
     "metadata": {},
     "output_type": "execute_result"
    }
   ],
   "source": [
    "li = list(range(1, 10))\n",
    "li"
   ]
  },
  {
   "cell_type": "code",
   "execution_count": 6,
   "id": "overall-rental",
   "metadata": {},
   "outputs": [
    {
     "data": {
      "text/plain": [
       "[1, 3, 5, 7, 9]"
      ]
     },
     "execution_count": 6,
     "metadata": {},
     "output_type": "execute_result"
    }
   ],
   "source": [
    "li = list(range(1, 10, 2))\n",
    "li"
   ]
  },
  {
   "cell_type": "code",
   "execution_count": 8,
   "id": "civic-swaziland",
   "metadata": {},
   "outputs": [
    {
     "data": {
      "text/plain": [
       "[1, 2, 3, 4, 5, 6, 7]"
      ]
     },
     "execution_count": 8,
     "metadata": {},
     "output_type": "execute_result"
    }
   ],
   "source": [
    "li = [1, 2, 3, 4, 5, 6, 7]\n",
    "li"
   ]
  },
  {
   "cell_type": "code",
   "execution_count": 12,
   "id": "aggregate-difference",
   "metadata": {},
   "outputs": [
    {
     "name": "stdout",
     "output_type": "stream",
     "text": [
      "1 2 3 4 5 6 7 "
     ]
    }
   ],
   "source": [
    "for ite in li:\n",
    "    print(ite, end=' ')"
   ]
  },
  {
   "cell_type": "code",
   "execution_count": 13,
   "id": "understanding-resource",
   "metadata": {},
   "outputs": [
    {
     "data": {
      "text/plain": [
       "7"
      ]
     },
     "execution_count": 13,
     "metadata": {},
     "output_type": "execute_result"
    }
   ],
   "source": [
    "len(li)"
   ]
  },
  {
   "cell_type": "code",
   "execution_count": 15,
   "id": "tamil-morrison",
   "metadata": {},
   "outputs": [
    {
     "name": "stdout",
     "output_type": "stream",
     "text": [
      "1\n",
      "2\n",
      "3\n",
      "4\n",
      "5\n",
      "6\n",
      "7\n"
     ]
    }
   ],
   "source": [
    "for index in range(len(li)):\n",
    "    print(li[index])"
   ]
  },
  {
   "cell_type": "code",
   "execution_count": 17,
   "id": "choice-sudan",
   "metadata": {},
   "outputs": [
    {
     "data": {
      "text/plain": [
       "[-9, -8, -7, -6, -5, -4, -3, -2, -1, 0, 1, 2, 3, 4, 5, 6, 7, 8, 9]"
      ]
     },
     "execution_count": 17,
     "metadata": {},
     "output_type": "execute_result"
    }
   ],
   "source": [
    "li = list(range(-9, 10))\n",
    "li"
   ]
  },
  {
   "cell_type": "markdown",
   "id": "american-tongue",
   "metadata": {},
   "source": [
    "- local variables\n",
    "- global variables"
   ]
  },
  {
   "cell_type": "code",
   "execution_count": 20,
   "id": "spanish-advancement",
   "metadata": {},
   "outputs": [
    {
     "data": {
      "text/plain": [
       "[81, 64, 49, 36, 25, 16, 9, 4, 1, 0, 1, 4, 9, 16, 25, 36, 49, 64, 81]"
      ]
     },
     "execution_count": 20,
     "metadata": {},
     "output_type": "execute_result"
    }
   ],
   "source": [
    "# Case 1: for items\n",
    "li_2 = []\n",
    "for item in li: \n",
    "    li_2.append(item**2)\n",
    "li_2"
   ]
  },
  {
   "cell_type": "code",
   "execution_count": 21,
   "id": "smooth-consistency",
   "metadata": {},
   "outputs": [
    {
     "data": {
      "text/plain": [
       "[81, 64, 49, 36, 25, 16, 9, 4, 1, 0, 1, 4, 9, 16, 25, 36, 49, 64, 81]"
      ]
     },
     "execution_count": 21,
     "metadata": {},
     "output_type": "execute_result"
    }
   ],
   "source": [
    "# Case 1: for index\n",
    "li_2 = []\n",
    "for item in range(len(li)): \n",
    "    li_2.append(li[item]**2)\n",
    "li_2"
   ]
  },
  {
   "cell_type": "markdown",
   "id": "informal-persian",
   "metadata": {},
   "source": [
    "### 1.2.2 While loop"
   ]
  },
  {
   "cell_type": "markdown",
   "id": "catholic-shadow",
   "metadata": {},
   "source": [
    "```\n",
    "while condition (boolean):\n",
    "    business\n",
    "    \n",
    "```"
   ]
  },
  {
   "cell_type": "code",
   "execution_count": 24,
   "id": "convinced-fireplace",
   "metadata": {},
   "outputs": [
    {
     "name": "stdout",
     "output_type": "stream",
     "text": [
      "Coc Coc Coc\n",
      "1\n",
      "Coc Coc Coc\n",
      "2\n",
      "Coc Coc Coc\n",
      "3\n",
      "Coc Coc Coc\n",
      "4\n"
     ]
    }
   ],
   "source": [
    "a, index = 4, 0\n",
    "while index < a:\n",
    "    print('Coc Coc Coc')\n",
    "    index += 1  # index = index + 1\n",
    "    print(index)"
   ]
  },
  {
   "cell_type": "markdown",
   "id": "meaning-script",
   "metadata": {},
   "source": [
    "### 1.3 Condition"
   ]
  },
  {
   "cell_type": "markdown",
   "id": "aerial-handle",
   "metadata": {},
   "source": [
    "```\n",
    "if condition:\n",
    "    business\n",
    "    \n",
    "elif condition: - optinal\n",
    "    business\n",
    "\n",
    "elif condition: - optional\n",
    "    business\n",
    "    ...\n",
    "else: - optional\n",
    "    business\n",
    "```"
   ]
  },
  {
   "cell_type": "code",
   "execution_count": 27,
   "id": "emerging-entity",
   "metadata": {},
   "outputs": [
    {
     "name": "stdout",
     "output_type": "stream",
     "text": [
      "a < b\n"
     ]
    }
   ],
   "source": [
    "a, b, c = 2, 3, 4\n",
    "if a < b:\n",
    "    print('a < b')"
   ]
  },
  {
   "cell_type": "code",
   "execution_count": 29,
   "id": "extended-rally",
   "metadata": {},
   "outputs": [
    {
     "name": "stdout",
     "output_type": "stream",
     "text": [
      "a > b\n"
     ]
    }
   ],
   "source": [
    "a, b = 3, 2\n",
    "if a < b:\n",
    "    print('a < b')\n",
    "elif a > b:\n",
    "    print('a > b')"
   ]
  },
  {
   "cell_type": "code",
   "execution_count": 30,
   "id": "measured-facing",
   "metadata": {},
   "outputs": [
    {
     "name": "stdout",
     "output_type": "stream",
     "text": [
      "a = b\n"
     ]
    }
   ],
   "source": [
    "a, b = 3, 3\n",
    "if a < b:\n",
    "    print('a < b')\n",
    "elif a > b:\n",
    "    print('a > b')\n",
    "else:\n",
    "    print('a = b')"
   ]
  },
  {
   "cell_type": "code",
   "execution_count": 31,
   "id": "received-thong",
   "metadata": {},
   "outputs": [
    {
     "name": "stdout",
     "output_type": "stream",
     "text": [
      "Otherwise\n"
     ]
    }
   ],
   "source": [
    "if a > b:\n",
    "    print('a > b')\n",
    "else:\n",
    "    print('Otherwise')"
   ]
  },
  {
   "cell_type": "markdown",
   "id": "entertaining-collins",
   "metadata": {},
   "source": [
    "## 2. Functions\n",
    "- Built-in functions\n",
    "- User-defined functions"
   ]
  },
  {
   "cell_type": "markdown",
   "id": "grateful-helena",
   "metadata": {},
   "source": [
    "```\n",
    "def name_of_func(argument_1, argument_2, ..., -optional):\n",
    "    business\n",
    "    return resuls - optional\n",
    "```"
   ]
  },
  {
   "cell_type": "code",
   "execution_count": 32,
   "id": "piano-threat",
   "metadata": {},
   "outputs": [
    {
     "data": {
      "text/plain": [
       "6"
      ]
     },
     "execution_count": 32,
     "metadata": {},
     "output_type": "execute_result"
    }
   ],
   "source": [
    "sum([1, 2, 3])"
   ]
  },
  {
   "cell_type": "code",
   "execution_count": 43,
   "id": "present-attribute",
   "metadata": {},
   "outputs": [],
   "source": [
    "def summation(li):\n",
    "    total = 0\n",
    "    for i in li:\n",
    "        total += i\n",
    "    return total"
   ]
  },
  {
   "cell_type": "code",
   "execution_count": 38,
   "id": "searching-benefit",
   "metadata": {},
   "outputs": [
    {
     "name": "stdout",
     "output_type": "stream",
     "text": [
      "Total = 1 at item 1\n",
      "Total = 3 at item 2\n",
      "Total = 6 at item 3\n",
      "Total = 10 at item 4\n",
      "Total = 15 at item 5\n"
     ]
    },
    {
     "data": {
      "text/plain": [
       "15"
      ]
     },
     "execution_count": 38,
     "metadata": {},
     "output_type": "execute_result"
    }
   ],
   "source": [
    "summation([1, 2, 3, 4, 5])"
   ]
  },
  {
   "cell_type": "code",
   "execution_count": 49,
   "id": "parental-newfoundland",
   "metadata": {},
   "outputs": [],
   "source": [
    "def count(li):\n",
    "    count_li = 0\n",
    "    for _ in li:\n",
    "        count_li += 1\n",
    "    return count_li"
   ]
  },
  {
   "cell_type": "code",
   "execution_count": 50,
   "id": "interim-squad",
   "metadata": {},
   "outputs": [
    {
     "data": {
      "text/plain": [
       "6.8"
      ]
     },
     "execution_count": 50,
     "metadata": {},
     "output_type": "execute_result"
    }
   ],
   "source": [
    "li = [3, 5, 7, 9, 10]\n",
    "summation(li)/ count(li)"
   ]
  },
  {
   "cell_type": "code",
   "execution_count": 51,
   "id": "artificial-therapist",
   "metadata": {},
   "outputs": [],
   "source": [
    "def avarage(li):\n",
    "    total, index = 0, 0\n",
    "    for i in li:\n",
    "        total += i\n",
    "        index += 1\n",
    "    return total / index"
   ]
  },
  {
   "cell_type": "code",
   "execution_count": 52,
   "id": "alone-investigator",
   "metadata": {},
   "outputs": [
    {
     "data": {
      "text/plain": [
       "6.8"
      ]
     },
     "execution_count": 52,
     "metadata": {},
     "output_type": "execute_result"
    }
   ],
   "source": [
    "avarage(li)"
   ]
  },
  {
   "cell_type": "markdown",
   "id": "cooked-slovakia",
   "metadata": {},
   "source": [
    "lambda input : output"
   ]
  },
  {
   "cell_type": "code",
   "execution_count": 53,
   "id": "saved-choir",
   "metadata": {},
   "outputs": [],
   "source": [
    "a = lambda x : x**2"
   ]
  },
  {
   "cell_type": "code",
   "execution_count": 54,
   "id": "mineral-sweden",
   "metadata": {},
   "outputs": [
    {
     "data": {
      "text/plain": [
       "9"
      ]
     },
     "execution_count": 54,
     "metadata": {},
     "output_type": "execute_result"
    }
   ],
   "source": [
    "a(3)"
   ]
  },
  {
   "cell_type": "code",
   "execution_count": 55,
   "id": "fiscal-spelling",
   "metadata": {},
   "outputs": [],
   "source": [
    "retangle = lambda x, y : x * y"
   ]
  },
  {
   "cell_type": "code",
   "execution_count": 56,
   "id": "negative-antibody",
   "metadata": {},
   "outputs": [
    {
     "data": {
      "text/plain": [
       "10"
      ]
     },
     "execution_count": 56,
     "metadata": {},
     "output_type": "execute_result"
    }
   ],
   "source": [
    "retangle(2, 5)"
   ]
  },
  {
   "cell_type": "code",
   "execution_count": 65,
   "id": "inside-amino",
   "metadata": {},
   "outputs": [],
   "source": [
    "def summation(*args):\n",
    "    return sum(args)"
   ]
  },
  {
   "cell_type": "code",
   "execution_count": 66,
   "id": "thousand-wilson",
   "metadata": {},
   "outputs": [
    {
     "data": {
      "text/plain": [
       "36"
      ]
     },
     "execution_count": 66,
     "metadata": {},
     "output_type": "execute_result"
    }
   ],
   "source": [
    "summation(1, 2, 3, 4, 5, 6, 7, 8)"
   ]
  },
  {
   "cell_type": "markdown",
   "id": "solar-comparative",
   "metadata": {},
   "source": [
    "## 3. Comprehension"
   ]
  },
  {
   "cell_type": "markdown",
   "id": "standard-yemen",
   "metadata": {},
   "source": [
    "[result for i in li]"
   ]
  },
  {
   "cell_type": "code",
   "execution_count": 67,
   "id": "strategic-coaching",
   "metadata": {},
   "outputs": [
    {
     "data": {
      "text/plain": [
       "[1, 2, 3, 4, 5, 6, 7, 8, 9, 10]"
      ]
     },
     "execution_count": 67,
     "metadata": {},
     "output_type": "execute_result"
    }
   ],
   "source": [
    "li = list(range(1, 11))\n",
    "li"
   ]
  },
  {
   "cell_type": "code",
   "execution_count": 68,
   "id": "faced-superintendent",
   "metadata": {},
   "outputs": [
    {
     "data": {
      "text/plain": [
       "[1, 4, 9, 16, 25, 36, 49, 64, 81, 100]"
      ]
     },
     "execution_count": 68,
     "metadata": {},
     "output_type": "execute_result"
    }
   ],
   "source": [
    "[i**2 for i in li]"
   ]
  },
  {
   "cell_type": "code",
   "execution_count": 69,
   "id": "recovered-physiology",
   "metadata": {},
   "outputs": [
    {
     "data": {
      "text/plain": [
       "[1, 9, 25, 49, 81]"
      ]
     },
     "execution_count": 69,
     "metadata": {},
     "output_type": "execute_result"
    }
   ],
   "source": [
    "[i**2 for i in li if i%2 != 0]"
   ]
  },
  {
   "cell_type": "code",
   "execution_count": 74,
   "id": "fitted-silence",
   "metadata": {},
   "outputs": [
    {
     "data": {
      "text/plain": [
       "[1, 2, 9, 4, 25, 6, 49, 8, 81, 10]"
      ]
     },
     "execution_count": 74,
     "metadata": {},
     "output_type": "execute_result"
    }
   ],
   "source": [
    "[i**2 if i%2 != 0 else i for i in li]"
   ]
  },
  {
   "cell_type": "code",
   "execution_count": 75,
   "id": "functional-enterprise",
   "metadata": {},
   "outputs": [
    {
     "data": {
      "text/plain": [
       "{1, 2, 4, 6, 8, 9, 10, 25, 49, 81}"
      ]
     },
     "execution_count": 75,
     "metadata": {},
     "output_type": "execute_result"
    }
   ],
   "source": [
    "{i**2 if i%2 != 0 else i for i in li}"
   ]
  },
  {
   "cell_type": "code",
   "execution_count": 76,
   "id": "rational-microwave",
   "metadata": {},
   "outputs": [
    {
     "data": {
      "text/plain": [
       "[[1, 2, 3], [4, 5, 6], [7, 8, 9]]"
      ]
     },
     "execution_count": 76,
     "metadata": {},
     "output_type": "execute_result"
    }
   ],
   "source": [
    "li = [[1, 2, 3], [4, 5, 6], [7, 8, 9]]\n",
    "li"
   ]
  },
  {
   "cell_type": "code",
   "execution_count": 82,
   "id": "crude-montreal",
   "metadata": {},
   "outputs": [
    {
     "data": {
      "text/plain": [
       "[1, 2, 3, 4, 5, 6, 7, 8, 9]"
      ]
     },
     "execution_count": 82,
     "metadata": {},
     "output_type": "execute_result"
    }
   ],
   "source": [
    "li_2 = []\n",
    "for sub_li in li:\n",
    "    for j in sub_li:\n",
    "        li_2.append(j)\n",
    "\n",
    "li_2"
   ]
  },
  {
   "cell_type": "code",
   "execution_count": 85,
   "id": "structured-leave",
   "metadata": {},
   "outputs": [
    {
     "data": {
      "text/plain": [
       "[1, 2, 3, 4, 5, 6, 7, 8, 9]"
      ]
     },
     "execution_count": 85,
     "metadata": {},
     "output_type": "execute_result"
    }
   ],
   "source": [
    "[item for subli in li for item in subli]"
   ]
  },
  {
   "cell_type": "code",
   "execution_count": 84,
   "id": "third-moscow",
   "metadata": {},
   "outputs": [
    {
     "data": {
      "text/plain": [
       "[2, 4, 6, 8]"
      ]
     },
     "execution_count": 84,
     "metadata": {},
     "output_type": "execute_result"
    }
   ],
   "source": [
    "[item for subli in li for item in subli if item %2 == 0]"
   ]
  },
  {
   "cell_type": "code",
   "execution_count": 86,
   "id": "elegant-roommate",
   "metadata": {},
   "outputs": [
    {
     "data": {
      "text/plain": [
       "[1, 2, 9, 4, 25, 6, 49, 8, 81]"
      ]
     },
     "execution_count": 86,
     "metadata": {},
     "output_type": "execute_result"
    }
   ],
   "source": [
    "[item if item %2 == 0 else item **2 for subli in li for item in subli]"
   ]
  },
  {
   "cell_type": "markdown",
   "id": "south-durham",
   "metadata": {},
   "source": [
    "- In ra một list chứa các số\n",
    "- nguyên tố của một list nhập vào"
   ]
  },
  {
   "cell_type": "code",
   "execution_count": 136,
   "id": "every-blackberry",
   "metadata": {},
   "outputs": [],
   "source": [
    "def so_nguyen_to(li):\n",
    "    # Business\n",
    "    li_snt = []\n",
    "    for item in li: # 1\n",
    "        count = 0\n",
    "        if item == 1:\n",
    "            continue\n",
    "        for i in range(2, int(item/2) + 1):  # 8 // [2, 4]\n",
    "            if item % i == 0: # Chia het cho 1 so khac 1 va chinh no\n",
    "                count += 1\n",
    "        if count <= 0:\n",
    "            li_snt.append(item)\n",
    "        \n",
    "    return li_snt"
   ]
  },
  {
   "cell_type": "code",
   "execution_count": 137,
   "id": "threaded-threat",
   "metadata": {},
   "outputs": [
    {
     "data": {
      "text/plain": [
       "[2, 3, 7]"
      ]
     },
     "execution_count": 137,
     "metadata": {},
     "output_type": "execute_result"
    }
   ],
   "source": [
    "so_nguyen_to([1, 2, 3, 8, 9, 10, 7])"
   ]
  },
  {
   "cell_type": "code",
   "execution_count": 138,
   "id": "adjacent-malawi",
   "metadata": {},
   "outputs": [],
   "source": [
    "assert so_nguyen_to([1, 2, 3, 8, 9, 10, 7]) == [2, 3, 7]"
   ]
  },
  {
   "cell_type": "code",
   "execution_count": null,
   "id": "another-worthy",
   "metadata": {},
   "outputs": [],
   "source": []
  }
 ],
 "metadata": {
  "kernelspec": {
   "display_name": "Python 3",
   "language": "python",
   "name": "python3"
  },
  "language_info": {
   "codemirror_mode": {
    "name": "ipython",
    "version": 3
   },
   "file_extension": ".py",
   "mimetype": "text/x-python",
   "name": "python",
   "nbconvert_exporter": "python",
   "pygments_lexer": "ipython3",
   "version": "3.7.10"
  }
 },
 "nbformat": 4,
 "nbformat_minor": 5
}
