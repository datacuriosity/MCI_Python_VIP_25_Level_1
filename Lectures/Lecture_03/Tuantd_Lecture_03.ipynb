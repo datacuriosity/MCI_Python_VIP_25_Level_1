{
 "cells": [
  {
   "cell_type": "markdown",
   "id": "burning-partnership",
   "metadata": {},
   "source": [
    "- Programing flow : Sequential,loop,condition\n",
    "- Funcion\n",
    "- comprehension"
   ]
  },
  {
   "cell_type": "markdown",
   "id": "confident-cursor",
   "metadata": {},
   "source": [
    "#### Programing Flow "
   ]
  },
  {
   "cell_type": "markdown",
   "id": "nasty-construction",
   "metadata": {},
   "source": [
    "1.Sequential : Tuan tu"
   ]
  },
  {
   "cell_type": "code",
   "execution_count": 2,
   "id": "sitting-vertex",
   "metadata": {},
   "outputs": [
    {
     "name": "stdout",
     "output_type": "stream",
     "text": [
      "2\n",
      "I am Tuan\n",
      "Viet nam\n"
     ]
    }
   ],
   "source": [
    "print(1+1)\n",
    "print('I am Tuan')\n",
    "print('Viet nam')"
   ]
  },
  {
   "cell_type": "markdown",
   "id": "suspected-usage",
   "metadata": {},
   "source": [
    "### 1.2. Loop"
   ]
  },
  {
   "cell_type": "markdown",
   "id": "reverse-station",
   "metadata": {},
   "source": [
    "### 1.2.1. For Loop"
   ]
  },
  {
   "cell_type": "markdown",
   "id": "cultural-laugh",
   "metadata": {},
   "source": [
    "```\n",
    "for item in interable:\n",
    "    business logic\n",
    "```\n",
    "For, in: keywords\n",
    "item,interable: can be changed\n",
    "```\n",
    "for index in range(len(interable)):\n",
    "    business logic\n",
    "```\n",
    "range(.[start].,stop(exclusuve),.[step].)"
   ]
  },
  {
   "cell_type": "code",
   "execution_count": 4,
   "id": "aging-kansas",
   "metadata": {},
   "outputs": [
    {
     "data": {
      "text/plain": [
       "[1, 2, 3, 4, 5, 6, 7, 8, 9]"
      ]
     },
     "execution_count": 4,
     "metadata": {},
     "output_type": "execute_result"
    }
   ],
   "source": [
    "li = list(range(1,10))\n",
    "li"
   ]
  },
  {
   "cell_type": "code",
   "execution_count": 5,
   "id": "fourth-dynamics",
   "metadata": {},
   "outputs": [
    {
     "data": {
      "text/plain": [
       "[0, 1, 2, 3, 4, 5, 6, 7, 8, 9]"
      ]
     },
     "execution_count": 5,
     "metadata": {},
     "output_type": "execute_result"
    }
   ],
   "source": [
    "li=list(range(10))\n",
    "li"
   ]
  },
  {
   "cell_type": "code",
   "execution_count": 6,
   "id": "suspended-antarctica",
   "metadata": {},
   "outputs": [
    {
     "data": {
      "text/plain": [
       "[1, 3, 5, 7, 9]"
      ]
     },
     "execution_count": 6,
     "metadata": {},
     "output_type": "execute_result"
    }
   ],
   "source": [
    "li= list(range(1,10,2))\n",
    "li"
   ]
  },
  {
   "cell_type": "code",
   "execution_count": 7,
   "id": "stainless-things",
   "metadata": {},
   "outputs": [
    {
     "data": {
      "text/plain": [
       "[1, 2, 3, 4, 5, 6, 7]"
      ]
     },
     "execution_count": 7,
     "metadata": {},
     "output_type": "execute_result"
    }
   ],
   "source": [
    "li=[1,2,3,4,5,6,7]\n",
    "li"
   ]
  },
  {
   "cell_type": "code",
   "execution_count": 8,
   "id": "thorough-jacob",
   "metadata": {},
   "outputs": [
    {
     "name": "stdout",
     "output_type": "stream",
     "text": [
      "1\n",
      "2\n",
      "3\n",
      "4\n",
      "5\n",
      "6\n",
      "7\n"
     ]
    }
   ],
   "source": [
    "for item in li:\n",
    "    print(item)"
   ]
  },
  {
   "cell_type": "code",
   "execution_count": 10,
   "id": "excellent-barrel",
   "metadata": {},
   "outputs": [
    {
     "name": "stdout",
     "output_type": "stream",
     "text": [
      "1 2 3 4 5 6 7 "
     ]
    }
   ],
   "source": [
    "for item in li:\n",
    "    print(item, end=' ')"
   ]
  },
  {
   "cell_type": "code",
   "execution_count": 11,
   "id": "graphic-dublin",
   "metadata": {},
   "outputs": [
    {
     "name": "stdout",
     "output_type": "stream",
     "text": [
      "0\n",
      "1\n",
      "2\n",
      "3\n",
      "4\n",
      "5\n",
      "6\n"
     ]
    }
   ],
   "source": [
    "for index in range(len(li)):   # lap quan index\n",
    "    print(index)"
   ]
  },
  {
   "cell_type": "code",
   "execution_count": 12,
   "id": "satellite-accreditation",
   "metadata": {},
   "outputs": [
    {
     "name": "stdout",
     "output_type": "stream",
     "text": [
      "1\n",
      "2\n",
      "3\n",
      "4\n",
      "5\n",
      "6\n",
      "7\n"
     ]
    }
   ],
   "source": [
    "for index in range(len(li)):    # lap qua phan tu\n",
    "    print(li[index])"
   ]
  },
  {
   "cell_type": "code",
   "execution_count": 13,
   "id": "stone-projector",
   "metadata": {},
   "outputs": [
    {
     "data": {
      "text/plain": [
       "[-9, -8, -7, -6, -5, -4, -3, -2, -1, 0, 1, 2, 3, 4, 5, 6, 7, 8, 9]"
      ]
     },
     "execution_count": 13,
     "metadata": {},
     "output_type": "execute_result"
    }
   ],
   "source": [
    "li= list(range(-9,10))\n",
    "li"
   ]
  },
  {
   "cell_type": "markdown",
   "id": "opposed-rachel",
   "metadata": {},
   "source": [
    "- Local var\n",
    "- Glocal variables"
   ]
  },
  {
   "cell_type": "code",
   "execution_count": 14,
   "id": "bacterial-progress",
   "metadata": {},
   "outputs": [
    {
     "data": {
      "text/plain": [
       "[81, 64, 49, 36, 25, 16, 9, 4, 1, 0, 1, 4, 9, 16, 25, 36, 49, 64, 81]"
      ]
     },
     "execution_count": 14,
     "metadata": {},
     "output_type": "execute_result"
    }
   ],
   "source": [
    "# case 1: for Items\n",
    "li_2=[]\n",
    "for item in li:\n",
    "    li_2.append(item**2)\n",
    "li_2"
   ]
  },
  {
   "cell_type": "code",
   "execution_count": 15,
   "id": "responsible-charge",
   "metadata": {},
   "outputs": [
    {
     "data": {
      "text/plain": [
       "[81, 64, 49, 36, 25, 16, 9, 4, 1, 0, 1, 4, 9, 16, 25, 36, 49, 64, 81]"
      ]
     },
     "execution_count": 15,
     "metadata": {},
     "output_type": "execute_result"
    }
   ],
   "source": [
    "# case 1: for index\n",
    "li_2=[]\n",
    "for item in range(len(li)):\n",
    "    li_2.append(li[item]**2)\n",
    "li_2"
   ]
  },
  {
   "cell_type": "markdown",
   "id": "israeli-mauritius",
   "metadata": {},
   "source": [
    "### 1.2.2 While loop"
   ]
  },
  {
   "cell_type": "markdown",
   "id": "alternate-addiction",
   "metadata": {},
   "source": [
    "```\n",
    "while condition (boolean):\n",
    "    business\n",
    "```"
   ]
  },
  {
   "cell_type": "code",
   "execution_count": 1,
   "id": "blind-leisure",
   "metadata": {},
   "outputs": [
    {
     "name": "stdout",
     "output_type": "stream",
     "text": [
      "coc coc coc\n",
      "coc coc coc\n",
      "coc coc coc\n",
      "coc coc coc\n"
     ]
    }
   ],
   "source": [
    "a, index = 4,0\n",
    "while index < a:\n",
    "    print('coc coc coc')\n",
    "    index +=1  # index = index +1"
   ]
  },
  {
   "cell_type": "markdown",
   "id": "average-sandwich",
   "metadata": {},
   "source": [
    "### 1.3 Condition    # cau truc re nhanh"
   ]
  },
  {
   "cell_type": "markdown",
   "id": "south-movie",
   "metadata": {},
   "source": [
    "```\n",
    "if condition:\n",
    "    business\n",
    "elif condition:   -optial  # khong bat buoc\n",
    "    business\n",
    "    ...\n",
    "else:            -optial  # khong bat buoc\n",
    "    business\n",
    "```"
   ]
  },
  {
   "cell_type": "code",
   "execution_count": 4,
   "id": "productive-depression",
   "metadata": {},
   "outputs": [],
   "source": [
    "a,b,c = 5,3,4\n",
    "if a < b:\n",
    "    print('a be hon b')"
   ]
  },
  {
   "cell_type": "code",
   "execution_count": 5,
   "id": "communist-approach",
   "metadata": {},
   "outputs": [
    {
     "name": "stdout",
     "output_type": "stream",
     "text": [
      "a>b\n"
     ]
    }
   ],
   "source": [
    "if a < b :\n",
    "    print('a<b')\n",
    "elif a > b :\n",
    "    print('a>b')"
   ]
  },
  {
   "cell_type": "code",
   "execution_count": 7,
   "id": "neutral-aging",
   "metadata": {},
   "outputs": [
    {
     "name": "stdout",
     "output_type": "stream",
     "text": [
      "a=b\n"
     ]
    }
   ],
   "source": [
    "a,b,c = 3,3,4\n",
    "if a < b :\n",
    "    print('a<b')\n",
    "elif a > b :\n",
    "    print('a>b')\n",
    "else:\n",
    "    print('a=b')"
   ]
  },
  {
   "cell_type": "code",
   "execution_count": 8,
   "id": "funky-gabriel",
   "metadata": {},
   "outputs": [
    {
     "name": "stdout",
     "output_type": "stream",
     "text": [
      "otherwise\n"
     ]
    }
   ],
   "source": [
    "if a>b:\n",
    "    print('a>b')\n",
    "else:\n",
    "    print('otherwise')"
   ]
  },
  {
   "cell_type": "markdown",
   "id": "mature-skill",
   "metadata": {},
   "source": [
    "### 2. Functions"
   ]
  },
  {
   "cell_type": "markdown",
   "id": "statewide-philosophy",
   "metadata": {},
   "source": [
    "- Built-in functions\n",
    "- user-defined functions"
   ]
  },
  {
   "cell_type": "markdown",
   "id": "listed-telephone",
   "metadata": {},
   "source": [
    "```\n",
    "def name_of_func(argument_1,argument_2,...,-optional):\n",
    "    business\n",
    "    return result -optinal\n",
    "```"
   ]
  },
  {
   "cell_type": "code",
   "execution_count": 9,
   "id": "empty-ending",
   "metadata": {},
   "outputs": [
    {
     "data": {
      "text/plain": [
       "6"
      ]
     },
     "execution_count": 9,
     "metadata": {},
     "output_type": "execute_result"
    }
   ],
   "source": [
    "sum([1,2,3])"
   ]
  },
  {
   "cell_type": "code",
   "execution_count": 16,
   "id": "occasional-falls",
   "metadata": {},
   "outputs": [],
   "source": [
    "def summation(li):\n",
    "    total = 0\n",
    "    for i in li:\n",
    "        total += i\n",
    "      #  print(f'Total = {total} at item {i}')\n",
    "    return total"
   ]
  },
  {
   "cell_type": "code",
   "execution_count": 17,
   "id": "resistant-reservation",
   "metadata": {},
   "outputs": [
    {
     "name": "stdout",
     "output_type": "stream",
     "text": [
      "Total = 1 at item 1\n",
      "Total = 3 at item 2\n",
      "Total = 6 at item 3\n",
      "Total = 10 at item 4\n",
      "Total = 15 at item 5\n"
     ]
    },
    {
     "data": {
      "text/plain": [
       "15"
      ]
     },
     "execution_count": 17,
     "metadata": {},
     "output_type": "execute_result"
    }
   ],
   "source": [
    "summation([1,2,3,4,5])"
   ]
  },
  {
   "cell_type": "markdown",
   "id": "environmental-alfred",
   "metadata": {},
   "source": [
    "- Tinh gia tri trung binh 1 list dau vao.\n",
    "- Tong / so luong phan tu"
   ]
  },
  {
   "cell_type": "code",
   "execution_count": 37,
   "id": "solved-calgary",
   "metadata": {},
   "outputs": [],
   "source": [
    "def giatritb(li):\n",
    "    total = 0\n",
    "    index = 0\n",
    "    tb = len(li)\n",
    "    for i in li:\n",
    "        total += i\n",
    "        index += 1\n",
    "    print(f'Tong = {total}  & trungbinh = {tb}') \n",
    "    return total/index\n",
    "    #ketqua = total/index"
   ]
  },
  {
   "cell_type": "code",
   "execution_count": 38,
   "id": "possible-digit",
   "metadata": {},
   "outputs": [
    {
     "name": "stdout",
     "output_type": "stream",
     "text": [
      "Tong = 134  & trungbinh = 11\n"
     ]
    },
    {
     "data": {
      "text/plain": [
       "134"
      ]
     },
     "execution_count": 38,
     "metadata": {},
     "output_type": "execute_result"
    }
   ],
   "source": [
    "giatritb([1,2,3,4,5,6,7,8,19,29,50])"
   ]
  },
  {
   "cell_type": "code",
   "execution_count": null,
   "id": "perfect-heading",
   "metadata": {},
   "outputs": [],
   "source": [
    "def count(li):\n",
    "    count_li = 0\n",
    "    for _ in li:\n",
    "        count_li +=1\n",
    "    return count_li"
   ]
  },
  {
   "cell_type": "code",
   "execution_count": 36,
   "id": "grave-point",
   "metadata": {},
   "outputs": [
    {
     "name": "stdout",
     "output_type": "stream",
     "text": [
      "Total = 12 at item 12\n",
      "Total = 16 at item 4\n",
      "Total = 21 at item 5\n",
      "Total = 27 at item 6\n",
      "Total = 30 at item 3\n",
      "Total = 35 at item 5\n",
      "Total = 42 at item 7\n"
     ]
    },
    {
     "ename": "NameError",
     "evalue": "name 'count' is not defined",
     "output_type": "error",
     "traceback": [
      "\u001b[1;31m---------------------------------------------------------------------------\u001b[0m",
      "\u001b[1;31mNameError\u001b[0m                                 Traceback (most recent call last)",
      "\u001b[1;32m<ipython-input-36-9949dc94d6cb>\u001b[0m in \u001b[0;36m<module>\u001b[1;34m\u001b[0m\n\u001b[0;32m      1\u001b[0m \u001b[0mli\u001b[0m \u001b[1;33m=\u001b[0m \u001b[1;33m[\u001b[0m\u001b[1;36m12\u001b[0m\u001b[1;33m,\u001b[0m\u001b[1;36m4\u001b[0m\u001b[1;33m,\u001b[0m\u001b[1;36m5\u001b[0m\u001b[1;33m,\u001b[0m\u001b[1;36m6\u001b[0m\u001b[1;33m,\u001b[0m\u001b[1;36m3\u001b[0m\u001b[1;33m,\u001b[0m\u001b[1;36m5\u001b[0m\u001b[1;33m,\u001b[0m\u001b[1;36m7\u001b[0m\u001b[1;33m]\u001b[0m\u001b[1;33m\u001b[0m\u001b[1;33m\u001b[0m\u001b[0m\n\u001b[1;32m----> 2\u001b[1;33m \u001b[0msummation\u001b[0m\u001b[1;33m(\u001b[0m\u001b[0mli\u001b[0m\u001b[1;33m)\u001b[0m\u001b[1;33m/\u001b[0m\u001b[0mcount\u001b[0m\u001b[1;33m(\u001b[0m\u001b[0mli\u001b[0m\u001b[1;33m)\u001b[0m\u001b[1;33m\u001b[0m\u001b[1;33m\u001b[0m\u001b[0m\n\u001b[0m",
      "\u001b[1;31mNameError\u001b[0m: name 'count' is not defined"
     ]
    }
   ],
   "source": [
    "li = [12,4,5,6,3,5,7]\n",
    "summation(li)/count(li)"
   ]
  },
  {
   "cell_type": "code",
   "execution_count": 33,
   "id": "royal-dominant",
   "metadata": {},
   "outputs": [
    {
     "name": "stdout",
     "output_type": "stream",
     "text": [
      "Tong = 134  & trungbinh = 11\n"
     ]
    },
    {
     "data": {
      "text/plain": [
       "134"
      ]
     },
     "execution_count": 33,
     "metadata": {},
     "output_type": "execute_result"
    }
   ],
   "source": [
    "giatritb([1,2,3,4,5,6,7,8,19,29,50])"
   ]
  },
  {
   "cell_type": "markdown",
   "id": "dangerous-elder",
   "metadata": {},
   "source": [
    "lambda input:output  # ham khong co ten"
   ]
  },
  {
   "cell_type": "code",
   "execution_count": 39,
   "id": "saving-change",
   "metadata": {},
   "outputs": [],
   "source": [
    "a= lambda x : x**2"
   ]
  },
  {
   "cell_type": "code",
   "execution_count": 40,
   "id": "formal-passenger",
   "metadata": {},
   "outputs": [
    {
     "data": {
      "text/plain": [
       "9"
      ]
     },
     "execution_count": 40,
     "metadata": {},
     "output_type": "execute_result"
    }
   ],
   "source": [
    "a(3)"
   ]
  },
  {
   "cell_type": "code",
   "execution_count": 41,
   "id": "criminal-ancient",
   "metadata": {},
   "outputs": [],
   "source": [
    "retangle = lambda x,y : x*y"
   ]
  },
  {
   "cell_type": "code",
   "execution_count": 42,
   "id": "proof-emerald",
   "metadata": {},
   "outputs": [
    {
     "data": {
      "text/plain": [
       "10"
      ]
     },
     "execution_count": 42,
     "metadata": {},
     "output_type": "execute_result"
    }
   ],
   "source": [
    "retangle(2,5)"
   ]
  },
  {
   "cell_type": "code",
   "execution_count": 43,
   "id": "classified-marble",
   "metadata": {},
   "outputs": [],
   "source": [
    "#Sum([1,2,3,4])\n",
    "#sum(1,2,3,4)"
   ]
  },
  {
   "cell_type": "code",
   "execution_count": 44,
   "id": "excessive-walnut",
   "metadata": {},
   "outputs": [],
   "source": [
    "def summation(*args):   # nhap so luong bien ko han che\n",
    "    return sum(args)"
   ]
  },
  {
   "cell_type": "code",
   "execution_count": 45,
   "id": "civil-appendix",
   "metadata": {},
   "outputs": [
    {
     "data": {
      "text/plain": [
       "28"
      ]
     },
     "execution_count": 45,
     "metadata": {},
     "output_type": "execute_result"
    }
   ],
   "source": [
    "summation(1,2,3,4,5,6,7)"
   ]
  },
  {
   "cell_type": "code",
   "execution_count": null,
   "id": "fitted-franchise",
   "metadata": {},
   "outputs": [],
   "source": [
    "def keyword(**kwargs):   "
   ]
  },
  {
   "cell_type": "markdown",
   "id": "rational-surgery",
   "metadata": {},
   "source": [
    "### 3.Comprehension    # vong lap"
   ]
  },
  {
   "cell_type": "markdown",
   "id": "large-newfoundland",
   "metadata": {},
   "source": [
    "[result for i in li]"
   ]
  },
  {
   "cell_type": "code",
   "execution_count": 46,
   "id": "nutritional-cookie",
   "metadata": {},
   "outputs": [
    {
     "data": {
      "text/plain": [
       "[1, 2, 3, 4, 5, 6, 7, 8, 9, 10]"
      ]
     },
     "execution_count": 46,
     "metadata": {},
     "output_type": "execute_result"
    }
   ],
   "source": [
    "li = list(range(1,11))\n",
    "li"
   ]
  },
  {
   "cell_type": "code",
   "execution_count": 47,
   "id": "optional-timothy",
   "metadata": {},
   "outputs": [
    {
     "data": {
      "text/plain": [
       "[1, 4, 9, 16, 25, 36, 49, 64, 81, 100]"
      ]
     },
     "execution_count": 47,
     "metadata": {},
     "output_type": "execute_result"
    }
   ],
   "source": [
    "[i**2 for i in li]    # nen dung cho den 2 vong lap "
   ]
  },
  {
   "cell_type": "code",
   "execution_count": 48,
   "id": "entire-credit",
   "metadata": {},
   "outputs": [
    {
     "data": {
      "text/plain": [
       "[1, 9, 25, 49, 81]"
      ]
     },
     "execution_count": 48,
     "metadata": {},
     "output_type": "execute_result"
    }
   ],
   "source": [
    "[i**2 for i in li if i%2 !=0]"
   ]
  },
  {
   "cell_type": "code",
   "execution_count": 51,
   "id": "identical-endorsement",
   "metadata": {},
   "outputs": [
    {
     "data": {
      "text/plain": [
       "set"
      ]
     },
     "execution_count": 51,
     "metadata": {},
     "output_type": "execute_result"
    }
   ],
   "source": [
    "{i**2 if i%2 !=0 else i for i in li }  # neu chan thi giu nguyen,so le thi binh phuong\n",
    "type({i**2 if i%2 !=0 else i for i in li })"
   ]
  },
  {
   "cell_type": "code",
   "execution_count": 57,
   "id": "extreme-bouquet",
   "metadata": {},
   "outputs": [
    {
     "data": {
      "text/plain": [
       "[[1, 2, 3], [4, 5, 6], [7, 8, 9]]"
      ]
     },
     "execution_count": 57,
     "metadata": {},
     "output_type": "execute_result"
    }
   ],
   "source": [
    "li=[[1,2,3],[4,5,6],[7,8,9]]\n",
    "li"
   ]
  },
  {
   "cell_type": "code",
   "execution_count": 60,
   "id": "absent-black",
   "metadata": {},
   "outputs": [
    {
     "name": "stdout",
     "output_type": "stream",
     "text": [
      "1 --\n",
      "2 --\n",
      "3 --\n",
      "4 --\n",
      "5 --\n",
      "6 --\n",
      "7 --\n",
      "8 --\n",
      "9 --\n"
     ]
    },
    {
     "data": {
      "text/plain": [
       "[1, 2, 3, 4, 5, 6, 7, 8, 9]"
      ]
     },
     "execution_count": 60,
     "metadata": {},
     "output_type": "execute_result"
    }
   ],
   "source": [
    "li_2=[]\n",
    "for sub_li in li:\n",
    "    for j in sub_li:\n",
    "        print(j, '--')\n",
    "        li_2.append(j)\n",
    "li_2"
   ]
  },
  {
   "cell_type": "code",
   "execution_count": 61,
   "id": "weighted-hands",
   "metadata": {},
   "outputs": [
    {
     "data": {
      "text/plain": [
       "[1, 2, 3, 4, 5, 6, 7, 8, 9]"
      ]
     },
     "execution_count": 61,
     "metadata": {},
     "output_type": "execute_result"
    }
   ],
   "source": [
    "[item for subli in li for item in subli]"
   ]
  },
  {
   "cell_type": "code",
   "execution_count": 62,
   "id": "hydraulic-shuttle",
   "metadata": {},
   "outputs": [
    {
     "data": {
      "text/plain": [
       "[2, 4, 6, 8]"
      ]
     },
     "execution_count": 62,
     "metadata": {},
     "output_type": "execute_result"
    }
   ],
   "source": [
    "[item for subli in li for item in subli if item%2==0]  # chi ju lai phan tu chan"
   ]
  },
  {
   "cell_type": "code",
   "execution_count": 63,
   "id": "compressed-creator",
   "metadata": {},
   "outputs": [
    {
     "data": {
      "text/plain": [
       "[1, 2, 9, 4, 25, 6, 49, 8, 81]"
      ]
     },
     "execution_count": 63,
     "metadata": {},
     "output_type": "execute_result"
    }
   ],
   "source": [
    "[item if item%2==0 else item**2 for subli in li for item in subli ]  # chi ju lai phan tu chan,le se binh phuong len"
   ]
  },
  {
   "cell_type": "markdown",
   "id": "signal-sword",
   "metadata": {},
   "source": [
    "- in ra 1 list chua cac so \n",
    "- nguyen to cua 1 list nhap vao   # so nguyen to chi chia het cho 1 va chinh no"
   ]
  },
  {
   "cell_type": "code",
   "execution_count": 85,
   "id": "moving-muscle",
   "metadata": {},
   "outputs": [],
   "source": [
    "def so_nguyen_to(li):\n",
    "    #viet code\n",
    "    li_snt,li_non_snt = [],[]\n",
    "    for item in li:       \n",
    "        count = 0\n",
    "        if item ==1:\n",
    "            continue\n",
    "        for i in range(2,int(item/2+1)):\n",
    "            if item % i == 0:\n",
    "                count +=1\n",
    "        if count <=0:\n",
    "            li_snt.append(item)\n",
    "    return li_snt"
   ]
  },
  {
   "cell_type": "code",
   "execution_count": 86,
   "id": "simple-calculator",
   "metadata": {},
   "outputs": [
    {
     "data": {
      "text/plain": [
       "[2, 3, 5, 7]"
      ]
     },
     "execution_count": 86,
     "metadata": {},
     "output_type": "execute_result"
    }
   ],
   "source": [
    "so_nguyen_to([1,2,3,4,5,6,7,8,9,10])"
   ]
  },
  {
   "cell_type": "code",
   "execution_count": null,
   "id": "optimum-lloyd",
   "metadata": {},
   "outputs": [],
   "source": []
  },
  {
   "cell_type": "code",
   "execution_count": 65,
   "id": "democratic-journey",
   "metadata": {},
   "outputs": [
    {
     "ename": "AssertionError",
     "evalue": "",
     "output_type": "error",
     "traceback": [
      "\u001b[1;31m---------------------------------------------------------------------------\u001b[0m",
      "\u001b[1;31mAssertionError\u001b[0m                            Traceback (most recent call last)",
      "\u001b[1;32m<ipython-input-65-9669be0dcb81>\u001b[0m in \u001b[0;36m<module>\u001b[1;34m\u001b[0m\n\u001b[1;32m----> 1\u001b[1;33m \u001b[1;32massert\u001b[0m \u001b[0mso_nguyen_to\u001b[0m\u001b[1;33m(\u001b[0m\u001b[1;33m[\u001b[0m\u001b[1;36m1\u001b[0m\u001b[1;33m,\u001b[0m\u001b[1;36m2\u001b[0m\u001b[1;33m,\u001b[0m\u001b[1;36m3\u001b[0m\u001b[1;33m,\u001b[0m\u001b[1;36m4\u001b[0m\u001b[1;33m,\u001b[0m\u001b[1;36m5\u001b[0m\u001b[1;33m,\u001b[0m\u001b[1;36m6\u001b[0m\u001b[1;33m,\u001b[0m\u001b[1;36m7\u001b[0m\u001b[1;33m,\u001b[0m\u001b[1;36m10\u001b[0m\u001b[1;33m]\u001b[0m\u001b[1;33m)\u001b[0m \u001b[1;33m==\u001b[0m \u001b[1;33m[\u001b[0m\u001b[1;36m2\u001b[0m\u001b[1;33m,\u001b[0m\u001b[1;36m3\u001b[0m\u001b[1;33m,\u001b[0m\u001b[1;36m7\u001b[0m\u001b[1;33m]\u001b[0m\u001b[1;33m\u001b[0m\u001b[1;33m\u001b[0m\u001b[0m\n\u001b[0m",
      "\u001b[1;31mAssertionError\u001b[0m: "
     ]
    }
   ],
   "source": [
    "assert so_nguyen_to([1,2,3,4,5,6,7,10]) == [2,3,7]"
   ]
  },
  {
   "cell_type": "code",
   "execution_count": null,
   "id": "devoted-associate",
   "metadata": {},
   "outputs": [],
   "source": []
  }
 ],
 "metadata": {
  "kernelspec": {
   "display_name": "Python 3",
   "language": "python",
   "name": "python3"
  },
  "language_info": {
   "codemirror_mode": {
    "name": "ipython",
    "version": 3
   },
   "file_extension": ".py",
   "mimetype": "text/x-python",
   "name": "python",
   "nbconvert_exporter": "python",
   "pygments_lexer": "ipython3",
   "version": "3.7.10"
  }
 },
 "nbformat": 4,
 "nbformat_minor": 5
}
