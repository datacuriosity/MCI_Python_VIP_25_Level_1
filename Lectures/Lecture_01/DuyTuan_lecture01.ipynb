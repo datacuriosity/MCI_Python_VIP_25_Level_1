{
 "cells": [
  {
   "cell_type": "code",
   "execution_count": 2,
   "id": "finite-diary",
   "metadata": {},
   "outputs": [
    {
     "name": "stdout",
     "output_type": "stream",
     "text": [
      "Hello Wold!\n"
     ]
    }
   ],
   "source": [
    "print(\"Hello Wold!\")"
   ]
  },
  {
   "cell_type": "code",
   "execution_count": 3,
   "id": "tight-safety",
   "metadata": {},
   "outputs": [
    {
     "data": {
      "text/plain": [
       "2"
      ]
     },
     "execution_count": 3,
     "metadata": {},
     "output_type": "execute_result"
    }
   ],
   "source": [
    "1+1"
   ]
  },
  {
   "cell_type": "markdown",
   "id": "distant-kingdom",
   "metadata": {},
   "source": [
    "### this is markdown cell , ghi chu thich esc, m chi thich, code y"
   ]
  },
  {
   "cell_type": "markdown",
   "id": "environmental-violence",
   "metadata": {},
   "source": [
    "#### phim a de chen ben tren, phim b chen cell xuong duoi"
   ]
  },
  {
   "cell_type": "markdown",
   "id": "higher-norfolk",
   "metadata": {},
   "source": [
    "thias is markdown cell"
   ]
  },
  {
   "cell_type": "markdown",
   "id": "cellular-tractor",
   "metadata": {},
   "source": [
    "# Heading 1"
   ]
  },
  {
   "cell_type": "markdown",
   "id": "cubic-discretion",
   "metadata": {},
   "source": [
    "## Heading 2"
   ]
  },
  {
   "cell_type": "markdown",
   "id": "finite-classics",
   "metadata": {},
   "source": [
    "### Heading 3"
   ]
  },
  {
   "cell_type": "markdown",
   "id": "right-packaging",
   "metadata": {},
   "source": [
    "*italic*"
   ]
  },
  {
   "cell_type": "markdown",
   "id": "blind-bankruptcy",
   "metadata": {},
   "source": [
    "**bold**"
   ]
  },
  {
   "cell_type": "markdown",
   "id": "blessed-intermediate",
   "metadata": {},
   "source": [
    "lop\n",
    "\n",
    "truong"
   ]
  },
  {
   "cell_type": "markdown",
   "id": "eastern-lawrence",
   "metadata": {},
   "source": [
    "```\n",
    "danh 3 dau\n",
    "tuan\n",
    "```"
   ]
  },
  {
   "cell_type": "markdown",
   "id": "olympic-oregon",
   "metadata": {},
   "source": [
    "![](https://tuhocict.com/wp-content/uploads/2020/06/Python-programming-language-feature-image.jpg)"
   ]
  },
  {
   "cell_type": "code",
   "execution_count": null,
   "id": "formed-brush",
   "metadata": {},
   "outputs": [],
   "source": []
  },
  {
   "cell_type": "code",
   "execution_count": 13,
   "id": "shaped-thumb",
   "metadata": {},
   "outputs": [
    {
     "name": "stdout",
     "output_type": "stream",
     "text": [
      "The Zen of Python, by Tim Peters\n",
      "\n",
      "Beautiful is better than ugly.\n",
      "Explicit is better than implicit.\n",
      "Simple is better than complex.\n",
      "Complex is better than complicated.\n",
      "Flat is better than nested.\n",
      "Sparse is better than dense.\n",
      "Readability counts.\n",
      "Special cases aren't special enough to break the rules.\n",
      "Although practicality beats purity.\n",
      "Errors should never pass silently.\n",
      "Unless explicitly silenced.\n",
      "In the face of ambiguity, refuse the temptation to guess.\n",
      "There should be one-- and preferably only one --obvious way to do it.\n",
      "Although that way may not be obvious at first unless you're Dutch.\n",
      "Now is better than never.\n",
      "Although never is often better than *right* now.\n",
      "If the implementation is hard to explain, it's a bad idea.\n",
      "If the implementation is easy to explain, it may be a good idea.\n",
      "Namespaces are one honking great idea -- let's do more of those!\n"
     ]
    }
   ],
   "source": [
    "import this"
   ]
  },
  {
   "cell_type": "code",
   "execution_count": 14,
   "id": "structural-paste",
   "metadata": {},
   "outputs": [
    {
     "name": "stdout",
     "output_type": "stream",
     "text": [
      "hello python!\n"
     ]
    }
   ],
   "source": [
    "print('hello python!')"
   ]
  },
  {
   "cell_type": "markdown",
   "id": "demanding-roberts",
   "metadata": {},
   "source": [
    "### 1.Operations, operators"
   ]
  },
  {
   "cell_type": "code",
   "execution_count": 15,
   "id": "protected-olympus",
   "metadata": {},
   "outputs": [
    {
     "data": {
      "text/plain": [
       "3.0"
      ]
     },
     "execution_count": 15,
     "metadata": {},
     "output_type": "execute_result"
    }
   ],
   "source": [
    "9/3"
   ]
  },
  {
   "cell_type": "code",
   "execution_count": 16,
   "id": "sixth-allergy",
   "metadata": {},
   "outputs": [
    {
     "data": {
      "text/plain": [
       "10"
      ]
     },
     "execution_count": 16,
     "metadata": {},
     "output_type": "execute_result"
    }
   ],
   "source": [
    "4+6"
   ]
  },
  {
   "cell_type": "code",
   "execution_count": 17,
   "id": "intimate-neutral",
   "metadata": {},
   "outputs": [
    {
     "data": {
      "text/plain": [
       "35"
      ]
     },
     "execution_count": 17,
     "metadata": {},
     "output_type": "execute_result"
    }
   ],
   "source": [
    "5*7"
   ]
  },
  {
   "cell_type": "code",
   "execution_count": 18,
   "id": "excited-handling",
   "metadata": {},
   "outputs": [
    {
     "data": {
      "text/plain": [
       "3"
      ]
     },
     "execution_count": 18,
     "metadata": {},
     "output_type": "execute_result"
    }
   ],
   "source": [
    "8-5"
   ]
  },
  {
   "cell_type": "code",
   "execution_count": 20,
   "id": "ecological-wallet",
   "metadata": {},
   "outputs": [
    {
     "data": {
      "text/plain": [
       "2"
      ]
     },
     "execution_count": 20,
     "metadata": {},
     "output_type": "execute_result"
    }
   ],
   "source": [
    "# chia lay so du Modulus\n",
    "5%3"
   ]
  },
  {
   "cell_type": "code",
   "execution_count": 21,
   "id": "skilled-regard",
   "metadata": {},
   "outputs": [
    {
     "data": {
      "text/plain": [
       "8"
      ]
     },
     "execution_count": 21,
     "metadata": {},
     "output_type": "execute_result"
    }
   ],
   "source": [
    "# mu \n",
    "2**3"
   ]
  },
  {
   "cell_type": "code",
   "execution_count": 23,
   "id": "electric-trust",
   "metadata": {},
   "outputs": [
    {
     "data": {
      "text/plain": [
       "2.0"
      ]
     },
     "execution_count": 23,
     "metadata": {},
     "output_type": "execute_result"
    }
   ],
   "source": [
    "# lay can \n",
    "4**(1/2)"
   ]
  },
  {
   "cell_type": "code",
   "execution_count": 25,
   "id": "approved-sailing",
   "metadata": {},
   "outputs": [
    {
     "data": {
      "text/plain": [
       "9"
      ]
     },
     "execution_count": 25,
     "metadata": {},
     "output_type": "execute_result"
    }
   ],
   "source": [
    "# ham tri tuyet doi\n",
    "abs(-9)"
   ]
  },
  {
   "cell_type": "code",
   "execution_count": 26,
   "id": "outdoor-explosion",
   "metadata": {},
   "outputs": [
    {
     "data": {
      "text/plain": [
       "2"
      ]
     },
     "execution_count": 26,
     "metadata": {},
     "output_type": "execute_result"
    }
   ],
   "source": [
    "# chia lay nguyen\n",
    "5//2"
   ]
  },
  {
   "cell_type": "code",
   "execution_count": 27,
   "id": "alert-helicopter",
   "metadata": {},
   "outputs": [
    {
     "data": {
      "text/plain": [
       "1j"
      ]
     },
     "execution_count": 27,
     "metadata": {},
     "output_type": "execute_result"
    }
   ],
   "source": [
    "# so phuc\n",
    "1j"
   ]
  },
  {
   "cell_type": "code",
   "execution_count": 28,
   "id": "eleven-leonard",
   "metadata": {},
   "outputs": [
    {
     "data": {
      "text/plain": [
       "(-1+0j)"
      ]
     },
     "execution_count": 28,
     "metadata": {},
     "output_type": "execute_result"
    }
   ],
   "source": [
    "(1j)**2"
   ]
  },
  {
   "cell_type": "markdown",
   "id": "professional-incidence",
   "metadata": {},
   "source": [
    "### 2.Data type and data structures   kieu du lieu  va cau truc du lieu"
   ]
  },
  {
   "cell_type": "markdown",
   "id": "athletic-profession",
   "metadata": {},
   "source": [
    "**chuong trinh may tinh = data structures + algorithms**"
   ]
  },
  {
   "cell_type": "markdown",
   "id": "optional-subsection",
   "metadata": {},
   "source": [
    "- numeric\n",
    "-string\n",
    "-boolean"
   ]
  },
  {
   "cell_type": "code",
   "execution_count": 29,
   "id": "beneficial-police",
   "metadata": {},
   "outputs": [
    {
     "data": {
      "text/plain": [
       "int"
      ]
     },
     "execution_count": 29,
     "metadata": {},
     "output_type": "execute_result"
    }
   ],
   "source": [
    "type(1)"
   ]
  },
  {
   "cell_type": "code",
   "execution_count": 31,
   "id": "manufactured-sodium",
   "metadata": {},
   "outputs": [
    {
     "data": {
      "text/plain": [
       "float"
      ]
     },
     "execution_count": 31,
     "metadata": {},
     "output_type": "execute_result"
    }
   ],
   "source": [
    "type(1.3)"
   ]
  },
  {
   "cell_type": "code",
   "execution_count": 32,
   "id": "square-wallace",
   "metadata": {},
   "outputs": [
    {
     "data": {
      "text/plain": [
       "complex"
      ]
     },
     "execution_count": 32,
     "metadata": {},
     "output_type": "execute_result"
    }
   ],
   "source": [
    "type(1+2j)"
   ]
  },
  {
   "cell_type": "code",
   "execution_count": 33,
   "id": "subtle-roommate",
   "metadata": {},
   "outputs": [
    {
     "data": {
      "text/plain": [
       "str"
      ]
     },
     "execution_count": 33,
     "metadata": {},
     "output_type": "execute_result"
    }
   ],
   "source": [
    "type('')"
   ]
  },
  {
   "cell_type": "code",
   "execution_count": 35,
   "id": "circular-lemon",
   "metadata": {},
   "outputs": [
    {
     "data": {
      "text/plain": [
       "bool"
      ]
     },
     "execution_count": 35,
     "metadata": {},
     "output_type": "execute_result"
    }
   ],
   "source": [
    "type(True)"
   ]
  },
  {
   "cell_type": "code",
   "execution_count": 36,
   "id": "found-morocco",
   "metadata": {},
   "outputs": [
    {
     "data": {
      "text/plain": [
       "NoneType"
      ]
     },
     "execution_count": 36,
     "metadata": {},
     "output_type": "execute_result"
    }
   ],
   "source": [
    "type(None)"
   ]
  },
  {
   "cell_type": "code",
   "execution_count": 38,
   "id": "periodic-company",
   "metadata": {},
   "outputs": [
    {
     "data": {
      "text/plain": [
       "1"
      ]
     },
     "execution_count": 38,
     "metadata": {},
     "output_type": "execute_result"
    }
   ],
   "source": [
    "True + False"
   ]
  },
  {
   "cell_type": "code",
   "execution_count": 39,
   "id": "monthly-prefix",
   "metadata": {},
   "outputs": [
    {
     "data": {
      "text/plain": [
       "'IamABC'"
      ]
     },
     "execution_count": 39,
     "metadata": {},
     "output_type": "execute_result"
    }
   ],
   "source": [
    "'I ' + 'am ' + 'ABC'"
   ]
  },
  {
   "cell_type": "code",
   "execution_count": 40,
   "id": "laughing-melbourne",
   "metadata": {},
   "outputs": [
    {
     "data": {
      "text/plain": [
       "'**************************************************'"
      ]
     },
     "execution_count": 40,
     "metadata": {},
     "output_type": "execute_result"
    }
   ],
   "source": [
    "'*'*50"
   ]
  },
  {
   "cell_type": "markdown",
   "id": "alternate-alberta",
   "metadata": {},
   "source": [
    "-AND\n",
    "-OR\n",
    "-NOT"
   ]
  },
  {
   "cell_type": "code",
   "execution_count": 42,
   "id": "maritime-realtor",
   "metadata": {},
   "outputs": [
    {
     "data": {
      "text/plain": [
       "False"
      ]
     },
     "execution_count": 42,
     "metadata": {},
     "output_type": "execute_result"
    }
   ],
   "source": [
    "True and False"
   ]
  },
  {
   "cell_type": "code",
   "execution_count": 43,
   "id": "republican-harrison",
   "metadata": {},
   "outputs": [
    {
     "data": {
      "text/plain": [
       "True"
      ]
     },
     "execution_count": 43,
     "metadata": {},
     "output_type": "execute_result"
    }
   ],
   "source": [
    "True or false"
   ]
  },
  {
   "cell_type": "code",
   "execution_count": 45,
   "id": "disturbed-canvas",
   "metadata": {},
   "outputs": [
    {
     "data": {
      "text/plain": [
       "False"
      ]
     },
     "execution_count": 45,
     "metadata": {},
     "output_type": "execute_result"
    }
   ],
   "source": [
    "not True"
   ]
  },
  {
   "cell_type": "code",
   "execution_count": 47,
   "id": "unexpected-vintage",
   "metadata": {},
   "outputs": [
    {
     "data": {
      "text/plain": [
       "True"
      ]
     },
     "execution_count": 47,
     "metadata": {},
     "output_type": "execute_result"
    }
   ],
   "source": [
    "True and False or False or True"
   ]
  },
  {
   "cell_type": "code",
   "execution_count": 48,
   "id": "current-paradise",
   "metadata": {},
   "outputs": [],
   "source": [
    "## Comparision"
   ]
  },
  {
   "cell_type": "code",
   "execution_count": 49,
   "id": "electrical-delhi",
   "metadata": {},
   "outputs": [
    {
     "data": {
      "text/plain": [
       "True"
      ]
     },
     "execution_count": 49,
     "metadata": {},
     "output_type": "execute_result"
    }
   ],
   "source": [
    "1==1"
   ]
  },
  {
   "cell_type": "code",
   "execution_count": 50,
   "id": "wanted-faculty",
   "metadata": {},
   "outputs": [
    {
     "data": {
      "text/plain": [
       "True"
      ]
     },
     "execution_count": 50,
     "metadata": {},
     "output_type": "execute_result"
    }
   ],
   "source": [
    "2<3"
   ]
  },
  {
   "cell_type": "code",
   "execution_count": 51,
   "id": "sticky-prefix",
   "metadata": {},
   "outputs": [
    {
     "data": {
      "text/plain": [
       "False"
      ]
     },
     "execution_count": 51,
     "metadata": {},
     "output_type": "execute_result"
    }
   ],
   "source": [
    "3 !=3"
   ]
  },
  {
   "cell_type": "code",
   "execution_count": 52,
   "id": "according-functionality",
   "metadata": {},
   "outputs": [
    {
     "data": {
      "text/plain": [
       "True"
      ]
     },
     "execution_count": 52,
     "metadata": {},
     "output_type": "execute_result"
    }
   ],
   "source": [
    "3<=3"
   ]
  },
  {
   "cell_type": "code",
   "execution_count": null,
   "id": "accessible-cattle",
   "metadata": {},
   "outputs": [],
   "source": []
  }
 ],
 "metadata": {
  "kernelspec": {
   "display_name": "Python 3",
   "language": "python",
   "name": "python3"
  },
  "language_info": {
   "codemirror_mode": {
    "name": "ipython",
    "version": 3
   },
   "file_extension": ".py",
   "mimetype": "text/x-python",
   "name": "python",
   "nbconvert_exporter": "python",
   "pygments_lexer": "ipython3",
   "version": "3.7.10"
  }
 },
 "nbformat": 4,
 "nbformat_minor": 5
}
