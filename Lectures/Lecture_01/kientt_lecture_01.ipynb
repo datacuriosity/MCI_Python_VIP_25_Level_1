{
 "cells": [
  {
   "cell_type": "markdown",
   "id": "quantitative-genome",
   "metadata": {},
   "source": []
  },
  {
   "cell_type": "markdown",
   "id": "secret-raleigh",
   "metadata": {},
   "source": []
  },
  {
   "cell_type": "markdown",
   "id": "remarkable-tobago",
   "metadata": {},
   "source": [
    "Gồm 2 chế độ Code và markdown, để chuyển từ code sang Markdown thì nhấn \"M\""
   ]
  },
  {
   "cell_type": "markdown",
   "id": "developed-genealogy",
   "metadata": {},
   "source": [
    "Nhấn \"A\" để chèn 1 Above Cell\n"
   ]
  },
  {
   "cell_type": "markdown",
   "id": "viral-eight",
   "metadata": {},
   "source": [
    "Nhấn \"B\" để chèn 1 Below Cell"
   ]
  },
  {
   "cell_type": "markdown",
   "id": "julian-things",
   "metadata": {},
   "source": [
    "# Heading1"
   ]
  },
  {
   "cell_type": "markdown",
   "id": "municipal-farming",
   "metadata": {},
   "source": [
    "# Heading2"
   ]
  },
  {
   "cell_type": "markdown",
   "id": "thirty-exchange",
   "metadata": {},
   "source": [
    "*italic*"
   ]
  },
  {
   "cell_type": "markdown",
   "id": "specialized-shelter",
   "metadata": {},
   "source": [
    "**bold**"
   ]
  },
  {
   "cell_type": "markdown",
   "id": "friendly-bearing",
   "metadata": {},
   "source": [
    "```\n",
    "Dòng 1\n",
    "Dòng 2\n",
    "```"
   ]
  },
  {
   "cell_type": "markdown",
   "id": "exotic-network",
   "metadata": {},
   "source": [
    "Dòng 1 \n",
    "\n",
    "Dòng 2"
   ]
  },
  {
   "cell_type": "markdown",
   "id": "fleet-electric",
   "metadata": {},
   "source": [
    "![](https://www.google.com.vn/url?sa=i&url=https%3A%2F%2Ftowardsdatascience.com%2Foptimizing-jupyter-notebook-tips-tricks-and-nbextensions-26d75d502663&psig=AOvVaw1233n1hr7wKVLA5vla6WqF&ust=1614952177966000&source=images&cd=vfe&ved=0CAIQjRxqFwoTCOj0juvjlu8CFQAAAAAdAAAAABAD)"
   ]
  },
  {
   "cell_type": "markdown",
   "id": "concerned-circumstances",
   "metadata": {},
   "source": [
    "![](https://www.google.com.vn/url?sa=i&url=https%3A%2F%2Ftowardsdatascience.com%2Foptimizing-jupyter-notebook-tips-tricks-and-nbextensions-26d75d502663&psig=AOvVaw1233n1hr7wKVLA5vla6WqF&ust=1614952177966000&source=images&cd=vfe&ved=0CAIQjRxqFwoTCOj0juvjlu8CFQAAAAAdAAAAABAD)"
   ]
  },
  {
   "cell_type": "markdown",
   "id": "retained-resort",
   "metadata": {},
   "source": [
    "![Python shortcut](https://miro.medium.com/max/1436/1*9oHMzUlcyyWRbAIGTIibnQ.png)"
   ]
  },
  {
   "cell_type": "code",
   "execution_count": null,
   "id": "normal-professional",
   "metadata": {},
   "outputs": [],
   "source": []
  },
  {
   "cell_type": "markdown",
   "id": "unauthorized-vaccine",
   "metadata": {},
   "source": [
    "Nhấn \"DD\" để xóa Cell"
   ]
  },
  {
   "cell_type": "markdown",
   "id": "protective-optics",
   "metadata": {},
   "source": [
    "Nhấn \"X\" để cut và \"v\" để chép (giống Ctrl X và Ctrl V)"
   ]
  },
  {
   "cell_type": "code",
   "execution_count": 9,
   "id": "unique-deviation",
   "metadata": {},
   "outputs": [
    {
     "name": "stdout",
     "output_type": "stream",
     "text": [
      "The Zen of Python, by Tim Peters\n",
      "\n",
      "Beautiful is better than ugly.\n",
      "Explicit is better than implicit.\n",
      "Simple is better than complex.\n",
      "Complex is better than complicated.\n",
      "Flat is better than nested.\n",
      "Sparse is better than dense.\n",
      "Readability counts.\n",
      "Special cases aren't special enough to break the rules.\n",
      "Although practicality beats purity.\n",
      "Errors should never pass silently.\n",
      "Unless explicitly silenced.\n",
      "In the face of ambiguity, refuse the temptation to guess.\n",
      "There should be one-- and preferably only one --obvious way to do it.\n",
      "Although that way may not be obvious at first unless you're Dutch.\n",
      "Now is better than never.\n",
      "Although never is often better than *right* now.\n",
      "If the implementation is hard to explain, it's a bad idea.\n",
      "If the implementation is easy to explain, it may be a good idea.\n",
      "Namespaces are one honking great idea -- let's do more of those!\n"
     ]
    }
   ],
   "source": [
    "import this"
   ]
  },
  {
   "cell_type": "markdown",
   "id": "assisted-repository",
   "metadata": {},
   "source": [
    "### 1. Operations, Operator"
   ]
  },
  {
   "cell_type": "code",
   "execution_count": 10,
   "id": "chronic-hierarchy",
   "metadata": {},
   "outputs": [
    {
     "data": {
      "text/plain": [
       "2"
      ]
     },
     "execution_count": 10,
     "metadata": {},
     "output_type": "execute_result"
    }
   ],
   "source": [
    "1+1"
   ]
  },
  {
   "cell_type": "code",
   "execution_count": 11,
   "id": "banner-genome",
   "metadata": {},
   "outputs": [
    {
     "data": {
      "text/plain": [
       "4"
      ]
     },
     "execution_count": 11,
     "metadata": {},
     "output_type": "execute_result"
    }
   ],
   "source": [
    "2*2"
   ]
  },
  {
   "cell_type": "code",
   "execution_count": 19,
   "id": "subsequent-throat",
   "metadata": {},
   "outputs": [
    {
     "data": {
      "text/plain": [
       "3"
      ]
     },
     "execution_count": 19,
     "metadata": {},
     "output_type": "execute_result"
    }
   ],
   "source": [
    "#Tri tuyet doi\n",
    "abs(-3)"
   ]
  },
  {
   "cell_type": "code",
   "execution_count": 17,
   "id": "checked-footage",
   "metadata": {},
   "outputs": [
    {
     "data": {
      "text/plain": [
       "2"
      ]
     },
     "execution_count": 17,
     "metadata": {},
     "output_type": "execute_result"
    }
   ],
   "source": [
    "#Chia lay so nguyen\n",
    "5//2"
   ]
  },
  {
   "cell_type": "code",
   "execution_count": 16,
   "id": "decreased-infrastructure",
   "metadata": {},
   "outputs": [
    {
     "data": {
      "text/plain": [
       "1"
      ]
     },
     "execution_count": 16,
     "metadata": {},
     "output_type": "execute_result"
    }
   ],
   "source": [
    "#Chia lay so du\n",
    "5%2"
   ]
  },
  {
   "cell_type": "markdown",
   "id": "needed-decade",
   "metadata": {},
   "source": [
    "### 2. Data Types and Data Structure"
   ]
  },
  {
   "cell_type": "markdown",
   "id": "lyric-reunion",
   "metadata": {},
   "source": [
    "Programming = Data Structure + Algorithm"
   ]
  },
  {
   "cell_type": "markdown",
   "id": "frank-michigan",
   "metadata": {},
   "source": [
    "Các kiểu dữ liệu\n",
    "* String\n",
    "* Numeric: interger, float, complex\n",
    "* Boolean: True / False\n",
    "* NoneType"
   ]
  },
  {
   "cell_type": "markdown",
   "id": "cross-anchor",
   "metadata": {},
   "source": [
    "- AND \n",
    "- OR \n",
    "- NOT"
   ]
  },
  {
   "cell_type": "code",
   "execution_count": 20,
   "id": "integrated-henry",
   "metadata": {},
   "outputs": [
    {
     "data": {
      "text/plain": [
       "True"
      ]
     },
     "execution_count": 20,
     "metadata": {},
     "output_type": "execute_result"
    }
   ],
   "source": [
    "True and True"
   ]
  },
  {
   "cell_type": "code",
   "execution_count": 21,
   "id": "instant-penalty",
   "metadata": {},
   "outputs": [
    {
     "data": {
      "text/plain": [
       "False"
      ]
     },
     "execution_count": 21,
     "metadata": {},
     "output_type": "execute_result"
    }
   ],
   "source": [
    "True and False"
   ]
  },
  {
   "cell_type": "code",
   "execution_count": 22,
   "id": "front-stylus",
   "metadata": {},
   "outputs": [
    {
     "data": {
      "text/plain": [
       "False"
      ]
     },
     "execution_count": 22,
     "metadata": {},
     "output_type": "execute_result"
    }
   ],
   "source": [
    "False and False"
   ]
  },
  {
   "cell_type": "markdown",
   "id": "sticky-spokesman",
   "metadata": {},
   "source": [
    "### 2.1 Comparison"
   ]
  },
  {
   "cell_type": "code",
   "execution_count": 23,
   "id": "coral-lewis",
   "metadata": {},
   "outputs": [
    {
     "data": {
      "text/plain": [
       "True"
      ]
     },
     "execution_count": 23,
     "metadata": {},
     "output_type": "execute_result"
    }
   ],
   "source": [
    "1==1"
   ]
  },
  {
   "cell_type": "code",
   "execution_count": 24,
   "id": "cloudy-portugal",
   "metadata": {},
   "outputs": [
    {
     "data": {
      "text/plain": [
       "False"
      ]
     },
     "execution_count": 24,
     "metadata": {},
     "output_type": "execute_result"
    }
   ],
   "source": [
    "1==0\n"
   ]
  },
  {
   "cell_type": "code",
   "execution_count": 25,
   "id": "requested-series",
   "metadata": {},
   "outputs": [
    {
     "data": {
      "text/plain": [
       "True"
      ]
     },
     "execution_count": 25,
     "metadata": {},
     "output_type": "execute_result"
    }
   ],
   "source": [
    "2<3\n"
   ]
  },
  {
   "cell_type": "code",
   "execution_count": null,
   "id": "raising-shooting",
   "metadata": {},
   "outputs": [],
   "source": []
  }
 ],
 "metadata": {
  "kernelspec": {
   "display_name": "Python 3",
   "language": "python",
   "name": "python3"
  },
  "language_info": {
   "codemirror_mode": {
    "name": "ipython",
    "version": 3
   },
   "file_extension": ".py",
   "mimetype": "text/x-python",
   "name": "python",
   "nbconvert_exporter": "python",
   "pygments_lexer": "ipython3",
   "version": "3.7.10"
  }
 },
 "nbformat": 4,
 "nbformat_minor": 5
}
