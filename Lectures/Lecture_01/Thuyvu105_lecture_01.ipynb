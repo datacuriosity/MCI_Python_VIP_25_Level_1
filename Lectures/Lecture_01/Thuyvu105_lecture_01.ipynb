{
 "cells": [
  {
   "cell_type": "code",
   "execution_count": 1,
   "id": "committed-person",
   "metadata": {},
   "outputs": [
    {
     "name": "stdout",
     "output_type": "stream",
     "text": [
      "Hello World!\n"
     ]
    }
   ],
   "source": [
    "print(\"Hello World!\")"
   ]
  },
  {
   "cell_type": "markdown",
   "id": "ceramic-backup",
   "metadata": {},
   "source": [
    "### This is markdown cell\n"
   ]
  },
  {
   "cell_type": "code",
   "execution_count": 2,
   "id": "phantom-portal",
   "metadata": {},
   "outputs": [
    {
     "data": {
      "text/plain": [
       "2"
      ]
     },
     "execution_count": 2,
     "metadata": {},
     "output_type": "execute_result"
    }
   ],
   "source": [
    "1+1"
   ]
  },
  {
   "cell_type": "markdown",
   "id": "chronic-still",
   "metadata": {},
   "source": [
    "### Im Thuy"
   ]
  },
  {
   "cell_type": "code",
   "execution_count": null,
   "id": "direct-yesterday",
   "metadata": {},
   "outputs": [],
   "source": []
  },
  {
   "cell_type": "markdown",
   "id": "tamil-substance",
   "metadata": {},
   "source": [
    "### a : insert cell\n",
    "### b: insert below cell\n"
   ]
  },
  {
   "cell_type": "markdown",
   "id": "turkish-millennium",
   "metadata": {},
   "source": [
    "# Heading 1"
   ]
  },
  {
   "cell_type": "markdown",
   "id": "advised-vulnerability",
   "metadata": {},
   "source": [
    "### Chuyen sang Che do Markdown\n",
    "### Heading 1 thi 1 dau #. Vi du: # Heading 1"
   ]
  },
  {
   "cell_type": "markdown",
   "id": "humanitarian-creature",
   "metadata": {},
   "source": [
    "## Heading 2"
   ]
  },
  {
   "cell_type": "markdown",
   "id": "rocky-rwanda",
   "metadata": {},
   "source": [
    "### Heading 3"
   ]
  },
  {
   "cell_type": "markdown",
   "id": "willing-acrylic",
   "metadata": {},
   "source": [
    "```\n",
    "### *italic*"
   ]
  },
  {
   "cell_type": "markdown",
   "id": "engaged-australia",
   "metadata": {},
   "source": [
    "### **Bold**"
   ]
  },
  {
   "cell_type": "markdown",
   "id": "grateful-lancaster",
   "metadata": {},
   "source": [
    "![](https://camo.githubusercontent.com/888e388801f947dec7c3d843942c277af25fe2b1aed1821542c4e711f210312a/68747470733a2f2f75706c6f61642e77696b696d656469612e6f72672f77696b6970656469612f636f6d6d6f6e732f7468756d622f632f63332f507974686f6e2d6c6f676f2d6e6f746578742e7376672f37363870782d507974686f6e2d6c6f676f2d6e6f746578742e7376672e706e67)"
   ]
  },
  {
   "cell_type": "markdown",
   "id": "dangerous-native",
   "metadata": {},
   "source": [
    "### Muon chen link phai de che do Markdown"
   ]
  },
  {
   "cell_type": "markdown",
   "id": "adverse-attack",
   "metadata": {},
   "source": [
    "### Muon Delete chon X"
   ]
  },
  {
   "cell_type": "code",
   "execution_count": 7,
   "id": "accepting-zealand",
   "metadata": {},
   "outputs": [
    {
     "name": "stdout",
     "output_type": "stream",
     "text": [
      "The Zen of Python, by Tim Peters\n",
      "\n",
      "Beautiful is better than ugly.\n",
      "Explicit is better than implicit.\n",
      "Simple is better than complex.\n",
      "Complex is better than complicated.\n",
      "Flat is better than nested.\n",
      "Sparse is better than dense.\n",
      "Readability counts.\n",
      "Special cases aren't special enough to break the rules.\n",
      "Although practicality beats purity.\n",
      "Errors should never pass silently.\n",
      "Unless explicitly silenced.\n",
      "In the face of ambiguity, refuse the temptation to guess.\n",
      "There should be one-- and preferably only one --obvious way to do it.\n",
      "Although that way may not be obvious at first unless you're Dutch.\n",
      "Now is better than never.\n",
      "Although never is often better than *right* now.\n",
      "If the implementation is hard to explain, it's a bad idea.\n",
      "If the implementation is easy to explain, it may be a good idea.\n",
      "Namespaces are one honking great idea -- let's do more of those!\n"
     ]
    }
   ],
   "source": [
    "import this"
   ]
  },
  {
   "cell_type": "code",
   "execution_count": 11,
   "id": "green-concord",
   "metadata": {},
   "outputs": [
    {
     "name": "stdout",
     "output_type": "stream",
     "text": [
      "Hello Thuy\n"
     ]
    }
   ],
   "source": [
    "print('Hello Thuy')"
   ]
  },
  {
   "cell_type": "markdown",
   "id": "collected-preserve",
   "metadata": {},
   "source": [
    "### 1. Operations, Operaters (Toan tu)"
   ]
  },
  {
   "cell_type": "code",
   "execution_count": 13,
   "id": "genuine-dollar",
   "metadata": {},
   "outputs": [
    {
     "data": {
      "text/plain": [
       "2"
      ]
     },
     "execution_count": 13,
     "metadata": {},
     "output_type": "execute_result"
    }
   ],
   "source": [
    "1+1"
   ]
  },
  {
   "cell_type": "code",
   "execution_count": 14,
   "id": "integrated-observer",
   "metadata": {},
   "outputs": [
    {
     "data": {
      "text/plain": [
       "0"
      ]
     },
     "execution_count": 14,
     "metadata": {},
     "output_type": "execute_result"
    }
   ],
   "source": [
    "2-2"
   ]
  },
  {
   "cell_type": "code",
   "execution_count": 15,
   "id": "electrical-medicare",
   "metadata": {},
   "outputs": [
    {
     "data": {
      "text/plain": [
       "4"
      ]
     },
     "execution_count": 15,
     "metadata": {},
     "output_type": "execute_result"
    }
   ],
   "source": [
    "2*2"
   ]
  },
  {
   "cell_type": "code",
   "execution_count": 16,
   "id": "opened-saturday",
   "metadata": {},
   "outputs": [
    {
     "data": {
      "text/plain": [
       "3.0"
      ]
     },
     "execution_count": 16,
     "metadata": {},
     "output_type": "execute_result"
    }
   ],
   "source": [
    "15/5"
   ]
  },
  {
   "cell_type": "code",
   "execution_count": 17,
   "id": "useful-kansas",
   "metadata": {},
   "outputs": [
    {
     "data": {
      "text/plain": [
       "1"
      ]
     },
     "execution_count": 17,
     "metadata": {},
     "output_type": "execute_result"
    }
   ],
   "source": [
    "# Modulus\n",
    "5 % 2"
   ]
  },
  {
   "cell_type": "code",
   "execution_count": 18,
   "id": "varying-education",
   "metadata": {},
   "outputs": [
    {
     "data": {
      "text/plain": [
       "8"
      ]
     },
     "execution_count": 18,
     "metadata": {},
     "output_type": "execute_result"
    }
   ],
   "source": [
    "# Dau mu *\n",
    "2**3"
   ]
  },
  {
   "cell_type": "code",
   "execution_count": 19,
   "id": "spread-michael",
   "metadata": {},
   "outputs": [
    {
     "data": {
      "text/plain": [
       "3.0"
      ]
     },
     "execution_count": 19,
     "metadata": {},
     "output_type": "execute_result"
    }
   ],
   "source": [
    "9 ** (1/2)"
   ]
  },
  {
   "cell_type": "code",
   "execution_count": 20,
   "id": "baking-today",
   "metadata": {},
   "outputs": [
    {
     "data": {
      "text/plain": [
       "3"
      ]
     },
     "execution_count": 20,
     "metadata": {},
     "output_type": "execute_result"
    }
   ],
   "source": [
    "#Tri tuyet doi\n",
    "abs (-3)"
   ]
  },
  {
   "cell_type": "code",
   "execution_count": 21,
   "id": "matched-header",
   "metadata": {},
   "outputs": [
    {
     "data": {
      "text/plain": [
       "2"
      ]
     },
     "execution_count": 21,
     "metadata": {},
     "output_type": "execute_result"
    }
   ],
   "source": [
    "# Chia lay phan nguyen\n",
    "5//2"
   ]
  },
  {
   "cell_type": "code",
   "execution_count": 22,
   "id": "efficient-gazette",
   "metadata": {},
   "outputs": [
    {
     "data": {
      "text/plain": [
       "1j"
      ]
     },
     "execution_count": 22,
     "metadata": {},
     "output_type": "execute_result"
    }
   ],
   "source": [
    "# So phuc\n",
    "1j"
   ]
  },
  {
   "cell_type": "code",
   "execution_count": 23,
   "id": "sticky-single",
   "metadata": {},
   "outputs": [
    {
     "data": {
      "text/plain": [
       "(-1+0j)"
      ]
     },
     "execution_count": 23,
     "metadata": {},
     "output_type": "execute_result"
    }
   ],
   "source": [
    "(1j)**2"
   ]
  },
  {
   "cell_type": "markdown",
   "id": "vanilla-thomson",
   "metadata": {},
   "source": [
    "### 2.Data types and Data structures (Kieu du lieu va cau truc du lieu)"
   ]
  },
  {
   "cell_type": "markdown",
   "id": "current-bridal",
   "metadata": {},
   "source": [
    "### **Programming = data structures + algorithms (1 CT = No la cai gi + Duoc thuc hien ntn)\n",
    "### May tinh chi hieu kieu du lieu va cau truc du lieu"
   ]
  },
  {
   "cell_type": "markdown",
   "id": "instructional-client",
   "metadata": {},
   "source": [
    "**Kieu du lieu bao gom:"
   ]
  },
  {
   "cell_type": "markdown",
   "id": "broken-narrow",
   "metadata": {},
   "source": [
    "- numeric(so) : interger(so nguyen), float(so thuc), complex(so phuc)\n",
    "- string (chu)\n",
    "- Boolean: True/False\n",
    "- NoneType"
   ]
  },
  {
   "cell_type": "code",
   "execution_count": 25,
   "id": "raised-magnitude",
   "metadata": {},
   "outputs": [
    {
     "data": {
      "text/plain": [
       "int"
      ]
     },
     "execution_count": 25,
     "metadata": {},
     "output_type": "execute_result"
    }
   ],
   "source": [
    "type(1)"
   ]
  },
  {
   "cell_type": "code",
   "execution_count": 26,
   "id": "incredible-classic",
   "metadata": {},
   "outputs": [
    {
     "data": {
      "text/plain": [
       "float"
      ]
     },
     "execution_count": 26,
     "metadata": {},
     "output_type": "execute_result"
    }
   ],
   "source": [
    "type(1.0)"
   ]
  },
  {
   "cell_type": "code",
   "execution_count": 27,
   "id": "stock-category",
   "metadata": {},
   "outputs": [
    {
     "data": {
      "text/plain": [
       "complex"
      ]
     },
     "execution_count": 27,
     "metadata": {},
     "output_type": "execute_result"
    }
   ],
   "source": [
    "type(1+2j)"
   ]
  },
  {
   "cell_type": "code",
   "execution_count": 28,
   "id": "detected-stand",
   "metadata": {},
   "outputs": [
    {
     "data": {
      "text/plain": [
       "str"
      ]
     },
     "execution_count": 28,
     "metadata": {},
     "output_type": "execute_result"
    }
   ],
   "source": [
    "type('Thuy')"
   ]
  },
  {
   "cell_type": "code",
   "execution_count": 29,
   "id": "governmental-pottery",
   "metadata": {},
   "outputs": [
    {
     "data": {
      "text/plain": [
       "bool"
      ]
     },
     "execution_count": 29,
     "metadata": {},
     "output_type": "execute_result"
    }
   ],
   "source": [
    "type(True)"
   ]
  },
  {
   "cell_type": "code",
   "execution_count": 30,
   "id": "departmental-bedroom",
   "metadata": {},
   "outputs": [
    {
     "data": {
      "text/plain": [
       "NoneType"
      ]
     },
     "execution_count": 30,
     "metadata": {},
     "output_type": "execute_result"
    }
   ],
   "source": [
    "type(None)"
   ]
  },
  {
   "cell_type": "code",
   "execution_count": 31,
   "id": "handy-costume",
   "metadata": {},
   "outputs": [
    {
     "data": {
      "text/plain": [
       "2"
      ]
     },
     "execution_count": 31,
     "metadata": {},
     "output_type": "execute_result"
    }
   ],
   "source": [
    "True + True"
   ]
  },
  {
   "cell_type": "code",
   "execution_count": 33,
   "id": "ethical-people",
   "metadata": {},
   "outputs": [
    {
     "data": {
      "text/plain": [
       "'I am Thuy '"
      ]
     },
     "execution_count": 33,
     "metadata": {},
     "output_type": "execute_result"
    }
   ],
   "source": [
    "'I '+'am '+'Thuy '"
   ]
  },
  {
   "cell_type": "code",
   "execution_count": 34,
   "id": "objective-transcript",
   "metadata": {},
   "outputs": [
    {
     "data": {
      "text/plain": [
       "'**************************************************'"
      ]
     },
     "execution_count": 34,
     "metadata": {},
     "output_type": "execute_result"
    }
   ],
   "source": [
    "'*'*50"
   ]
  },
  {
   "cell_type": "markdown",
   "id": "superb-tuner",
   "metadata": {},
   "source": [
    "- ADN\n",
    "- Or\n",
    "- Not"
   ]
  },
  {
   "cell_type": "code",
   "execution_count": 35,
   "id": "weekly-segment",
   "metadata": {},
   "outputs": [
    {
     "data": {
      "text/plain": [
       "True"
      ]
     },
     "execution_count": 35,
     "metadata": {},
     "output_type": "execute_result"
    }
   ],
   "source": [
    "True and True"
   ]
  },
  {
   "cell_type": "code",
   "execution_count": 36,
   "id": "appreciated-board",
   "metadata": {},
   "outputs": [
    {
     "data": {
      "text/plain": [
       "False"
      ]
     },
     "execution_count": 36,
     "metadata": {},
     "output_type": "execute_result"
    }
   ],
   "source": [
    "True and False"
   ]
  },
  {
   "cell_type": "code",
   "execution_count": 37,
   "id": "emerging-memphis",
   "metadata": {},
   "outputs": [
    {
     "data": {
      "text/plain": [
       "False"
      ]
     },
     "execution_count": 37,
     "metadata": {},
     "output_type": "execute_result"
    }
   ],
   "source": [
    "False and True"
   ]
  },
  {
   "cell_type": "code",
   "execution_count": 38,
   "id": "celtic-europe",
   "metadata": {},
   "outputs": [
    {
     "data": {
      "text/plain": [
       "False"
      ]
     },
     "execution_count": 38,
     "metadata": {},
     "output_type": "execute_result"
    }
   ],
   "source": [
    "False and False"
   ]
  },
  {
   "cell_type": "code",
   "execution_count": 39,
   "id": "hungarian-digit",
   "metadata": {},
   "outputs": [
    {
     "data": {
      "text/plain": [
       "True"
      ]
     },
     "execution_count": 39,
     "metadata": {},
     "output_type": "execute_result"
    }
   ],
   "source": [
    "True or False"
   ]
  },
  {
   "cell_type": "code",
   "execution_count": 40,
   "id": "swiss-shareware",
   "metadata": {},
   "outputs": [
    {
     "data": {
      "text/plain": [
       "False"
      ]
     },
     "execution_count": 40,
     "metadata": {},
     "output_type": "execute_result"
    }
   ],
   "source": [
    "False or False"
   ]
  },
  {
   "cell_type": "code",
   "execution_count": 41,
   "id": "swedish-enemy",
   "metadata": {},
   "outputs": [
    {
     "data": {
      "text/plain": [
       "False"
      ]
     },
     "execution_count": 41,
     "metadata": {},
     "output_type": "execute_result"
    }
   ],
   "source": [
    "not True"
   ]
  },
  {
   "cell_type": "code",
   "execution_count": 42,
   "id": "ideal-breakfast",
   "metadata": {},
   "outputs": [
    {
     "data": {
      "text/plain": [
       "True"
      ]
     },
     "execution_count": 42,
     "metadata": {},
     "output_type": "execute_result"
    }
   ],
   "source": [
    "True and False or False or True or not False"
   ]
  },
  {
   "cell_type": "markdown",
   "id": "linear-dealer",
   "metadata": {},
   "source": [
    "### 2.21 Comparision (So sanh)"
   ]
  },
  {
   "cell_type": "code",
   "execution_count": 43,
   "id": "floppy-sussex",
   "metadata": {},
   "outputs": [
    {
     "data": {
      "text/plain": [
       "True"
      ]
     },
     "execution_count": 43,
     "metadata": {},
     "output_type": "execute_result"
    }
   ],
   "source": [
    "1 == 1"
   ]
  },
  {
   "cell_type": "code",
   "execution_count": 44,
   "id": "understanding-present",
   "metadata": {},
   "outputs": [
    {
     "data": {
      "text/plain": [
       "True"
      ]
     },
     "execution_count": 44,
     "metadata": {},
     "output_type": "execute_result"
    }
   ],
   "source": [
    "2<3"
   ]
  },
  {
   "cell_type": "code",
   "execution_count": 45,
   "id": "prerequisite-tuning",
   "metadata": {},
   "outputs": [
    {
     "data": {
      "text/plain": [
       "True"
      ]
     },
     "execution_count": 45,
     "metadata": {},
     "output_type": "execute_result"
    }
   ],
   "source": [
    "3<=3"
   ]
  },
  {
   "cell_type": "code",
   "execution_count": 49,
   "id": "satisfied-factor",
   "metadata": {},
   "outputs": [
    {
     "data": {
      "text/plain": [
       "False"
      ]
     },
     "execution_count": 49,
     "metadata": {},
     "output_type": "execute_result"
    }
   ],
   "source": [
    "\n",
    "3 != 3"
   ]
  },
  {
   "cell_type": "code",
   "execution_count": null,
   "id": "floating-thursday",
   "metadata": {},
   "outputs": [],
   "source": []
  }
 ],
 "metadata": {
  "kernelspec": {
   "display_name": "Python 3",
   "language": "python",
   "name": "python3"
  },
  "language_info": {
   "codemirror_mode": {
    "name": "ipython",
    "version": 3
   },
   "file_extension": ".py",
   "mimetype": "text/x-python",
   "name": "python",
   "nbconvert_exporter": "python",
   "pygments_lexer": "ipython3",
   "version": "3.7.10"
  }
 },
 "nbformat": 4,
 "nbformat_minor": 5
}
