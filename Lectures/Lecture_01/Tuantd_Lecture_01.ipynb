{
 "cells": [
  {
   "cell_type": "code",
   "execution_count": 1,
   "id": "fatty-superintendent",
   "metadata": {},
   "outputs": [
    {
     "data": {
      "text/plain": [
       "2"
      ]
     },
     "execution_count": 1,
     "metadata": {},
     "output_type": "execute_result"
    }
   ],
   "source": [
    "1+1"
   ]
  },
  {
   "cell_type": "code",
   "execution_count": 10,
   "id": "logical-pension",
   "metadata": {},
   "outputs": [
    {
     "name": "stdout",
     "output_type": "stream",
     "text": [
      "The Zen of Python, by Tim Peters\n",
      "\n",
      "Beautiful is better than ugly.\n",
      "Explicit is better than implicit.\n",
      "Simple is better than complex.\n",
      "Complex is better than complicated.\n",
      "Flat is better than nested.\n",
      "Sparse is better than dense.\n",
      "Readability counts.\n",
      "Special cases aren't special enough to break the rules.\n",
      "Although practicality beats purity.\n",
      "Errors should never pass silently.\n",
      "Unless explicitly silenced.\n",
      "In the face of ambiguity, refuse the temptation to guess.\n",
      "There should be one-- and preferably only one --obvious way to do it.\n",
      "Although that way may not be obvious at first unless you're Dutch.\n",
      "Now is better than never.\n",
      "Although never is often better than *right* now.\n",
      "If the implementation is hard to explain, it's a bad idea.\n",
      "If the implementation is easy to explain, it may be a good idea.\n",
      "Namespaces are one honking great idea -- let's do more of those!\n"
     ]
    }
   ],
   "source": [
    "import this"
   ]
  },
  {
   "cell_type": "code",
   "execution_count": 11,
   "id": "musical-austin",
   "metadata": {},
   "outputs": [
    {
     "name": "stdout",
     "output_type": "stream",
     "text": [
      "Hello Viet Nam\n"
     ]
    }
   ],
   "source": [
    "print('Hello Viet Nam')"
   ]
  },
  {
   "cell_type": "markdown",
   "id": "essential-crest",
   "metadata": {},
   "source": [
    "### 1.Operations, operators"
   ]
  },
  {
   "cell_type": "code",
   "execution_count": 17,
   "id": "permanent-quantity",
   "metadata": {},
   "outputs": [
    {
     "data": {
      "text/plain": [
       "5"
      ]
     },
     "execution_count": 17,
     "metadata": {},
     "output_type": "execute_result"
    }
   ],
   "source": [
    "# phep cong\n",
    "2+3"
   ]
  },
  {
   "cell_type": "code",
   "execution_count": 18,
   "id": "recorded-there",
   "metadata": {},
   "outputs": [
    {
     "data": {
      "text/plain": [
       "4"
      ]
     },
     "execution_count": 18,
     "metadata": {},
     "output_type": "execute_result"
    }
   ],
   "source": [
    "#phep tru \n",
    "9-5"
   ]
  },
  {
   "cell_type": "code",
   "execution_count": null,
   "id": "personal-trading",
   "metadata": {},
   "outputs": [],
   "source": []
  },
  {
   "cell_type": "code",
   "execution_count": 16,
   "id": "average-theta",
   "metadata": {},
   "outputs": [
    {
     "data": {
      "text/plain": [
       "3.0"
      ]
     },
     "execution_count": 16,
     "metadata": {},
     "output_type": "execute_result"
    }
   ],
   "source": [
    "# phep chia\n",
    "9/3 "
   ]
  },
  {
   "cell_type": "code",
   "execution_count": 15,
   "id": "streaming-attack",
   "metadata": {},
   "outputs": [
    {
     "data": {
      "text/plain": [
       "1"
      ]
     },
     "execution_count": 15,
     "metadata": {},
     "output_type": "execute_result"
    }
   ],
   "source": [
    "# phep chia lay phan du \n",
    "5%2"
   ]
  },
  {
   "cell_type": "code",
   "execution_count": 19,
   "id": "neither-element",
   "metadata": {},
   "outputs": [
    {
     "data": {
      "text/plain": [
       "8"
      ]
     },
     "execution_count": 19,
     "metadata": {},
     "output_type": "execute_result"
    }
   ],
   "source": [
    "# phep lay so mu\n",
    "2**3"
   ]
  },
  {
   "cell_type": "code",
   "execution_count": 23,
   "id": "passive-ethiopia",
   "metadata": {},
   "outputs": [
    {
     "data": {
      "text/plain": [
       "3.0"
      ]
     },
     "execution_count": 23,
     "metadata": {},
     "output_type": "execute_result"
    }
   ],
   "source": [
    "# phep lay can bac 2 \n",
    "9**(1/2)"
   ]
  },
  {
   "cell_type": "code",
   "execution_count": 24,
   "id": "italic-singapore",
   "metadata": {},
   "outputs": [
    {
     "data": {
      "text/plain": [
       "6"
      ]
     },
     "execution_count": 24,
     "metadata": {},
     "output_type": "execute_result"
    }
   ],
   "source": [
    "# lay tri tuyet doi\n",
    "abs(-6)"
   ]
  },
  {
   "cell_type": "code",
   "execution_count": 25,
   "id": "hungry-genealogy",
   "metadata": {},
   "outputs": [
    {
     "data": {
      "text/plain": [
       "2"
      ]
     },
     "execution_count": 25,
     "metadata": {},
     "output_type": "execute_result"
    }
   ],
   "source": [
    "#CHia lay phan nguyen\n",
    "5//2"
   ]
  },
  {
   "cell_type": "code",
   "execution_count": 26,
   "id": "connected-inventory",
   "metadata": {},
   "outputs": [
    {
     "data": {
      "text/plain": [
       "1j"
      ]
     },
     "execution_count": 26,
     "metadata": {},
     "output_type": "execute_result"
    }
   ],
   "source": [
    "# so phuc\n",
    "1j"
   ]
  },
  {
   "cell_type": "code",
   "execution_count": 27,
   "id": "violent-rwanda",
   "metadata": {},
   "outputs": [
    {
     "data": {
      "text/plain": [
       "(-1+0j)"
      ]
     },
     "execution_count": 27,
     "metadata": {},
     "output_type": "execute_result"
    }
   ],
   "source": [
    "# so phuc binh phuong len = -1\n",
    "(1j)**2"
   ]
  },
  {
   "cell_type": "markdown",
   "id": "artificial-trash",
   "metadata": {},
   "source": [
    "## 2.Data types and data structues"
   ]
  },
  {
   "cell_type": "markdown",
   "id": "liked-pacific",
   "metadata": {},
   "source": [
    "### Kieu du lieu va cau truc du lieu = cau truc chuong trinh may tinh"
   ]
  },
  {
   "cell_type": "markdown",
   "id": "familiar-criticism",
   "metadata": {},
   "source": [
    "- numeric : integer, float, complex ( so nguyen,so thuc,so phuc)\n",
    "- string\n",
    "- boolean: True / False\n",
    "- NoneType"
   ]
  },
  {
   "cell_type": "code",
   "execution_count": 30,
   "id": "functioning-words",
   "metadata": {},
   "outputs": [
    {
     "data": {
      "text/plain": [
       "int"
      ]
     },
     "execution_count": 30,
     "metadata": {},
     "output_type": "execute_result"
    }
   ],
   "source": [
    "type(1)"
   ]
  },
  {
   "cell_type": "code",
   "execution_count": 31,
   "id": "third-chinese",
   "metadata": {},
   "outputs": [
    {
     "data": {
      "text/plain": [
       "complex"
      ]
     },
     "execution_count": 31,
     "metadata": {},
     "output_type": "execute_result"
    }
   ],
   "source": [
    "type(1+2j)"
   ]
  },
  {
   "cell_type": "code",
   "execution_count": 32,
   "id": "chief-intersection",
   "metadata": {},
   "outputs": [
    {
     "data": {
      "text/plain": [
       "str"
      ]
     },
     "execution_count": 32,
     "metadata": {},
     "output_type": "execute_result"
    }
   ],
   "source": [
    "type('iam tuan')"
   ]
  },
  {
   "cell_type": "code",
   "execution_count": 33,
   "id": "mechanical-mills",
   "metadata": {},
   "outputs": [
    {
     "data": {
      "text/plain": [
       "bool"
      ]
     },
     "execution_count": 33,
     "metadata": {},
     "output_type": "execute_result"
    }
   ],
   "source": [
    "type(True)"
   ]
  },
  {
   "cell_type": "code",
   "execution_count": 35,
   "id": "adult-lobby",
   "metadata": {},
   "outputs": [
    {
     "data": {
      "text/plain": [
       "NoneType"
      ]
     },
     "execution_count": 35,
     "metadata": {},
     "output_type": "execute_result"
    }
   ],
   "source": [
    "type(None)"
   ]
  },
  {
   "cell_type": "code",
   "execution_count": 37,
   "id": "coral-location",
   "metadata": {},
   "outputs": [
    {
     "data": {
      "text/plain": [
       "'I am Tuan'"
      ]
     },
     "execution_count": 37,
     "metadata": {},
     "output_type": "execute_result"
    }
   ],
   "source": [
    "'I ' + 'am ' + 'Tuan'"
   ]
  },
  {
   "cell_type": "code",
   "execution_count": 38,
   "id": "identified-story",
   "metadata": {},
   "outputs": [
    {
     "data": {
      "text/plain": [
       "'**************************************************'"
      ]
     },
     "execution_count": 38,
     "metadata": {},
     "output_type": "execute_result"
    }
   ],
   "source": [
    "'*' * 50"
   ]
  },
  {
   "cell_type": "markdown",
   "id": "rolled-dominant",
   "metadata": {},
   "source": [
    "- and\n",
    "- or\n",
    "- not"
   ]
  },
  {
   "cell_type": "code",
   "execution_count": 39,
   "id": "recent-scout",
   "metadata": {},
   "outputs": [
    {
     "data": {
      "text/plain": [
       "True"
      ]
     },
     "execution_count": 39,
     "metadata": {},
     "output_type": "execute_result"
    }
   ],
   "source": [
    "True and True"
   ]
  },
  {
   "cell_type": "code",
   "execution_count": 40,
   "id": "renewable-index",
   "metadata": {},
   "outputs": [
    {
     "data": {
      "text/plain": [
       "True"
      ]
     },
     "execution_count": 40,
     "metadata": {},
     "output_type": "execute_result"
    }
   ],
   "source": [
    "False or True"
   ]
  },
  {
   "cell_type": "code",
   "execution_count": 41,
   "id": "overall-favor",
   "metadata": {},
   "outputs": [
    {
     "data": {
      "text/plain": [
       "False"
      ]
     },
     "execution_count": 41,
     "metadata": {},
     "output_type": "execute_result"
    }
   ],
   "source": [
    "not True"
   ]
  },
  {
   "cell_type": "markdown",
   "id": "noted-newspaper",
   "metadata": {},
   "source": [
    "### 2.1. Comparision"
   ]
  },
  {
   "cell_type": "code",
   "execution_count": 42,
   "id": "pleased-concentrate",
   "metadata": {},
   "outputs": [
    {
     "data": {
      "text/plain": [
       "True"
      ]
     },
     "execution_count": 42,
     "metadata": {},
     "output_type": "execute_result"
    }
   ],
   "source": [
    "1 == 1"
   ]
  },
  {
   "cell_type": "code",
   "execution_count": 43,
   "id": "double-aircraft",
   "metadata": {},
   "outputs": [
    {
     "data": {
      "text/plain": [
       "True"
      ]
     },
     "execution_count": 43,
     "metadata": {},
     "output_type": "execute_result"
    }
   ],
   "source": [
    "2<3"
   ]
  },
  {
   "cell_type": "code",
   "execution_count": 44,
   "id": "heard-relation",
   "metadata": {},
   "outputs": [
    {
     "data": {
      "text/plain": [
       "True"
      ]
     },
     "execution_count": 44,
     "metadata": {},
     "output_type": "execute_result"
    }
   ],
   "source": [
    "3<=3"
   ]
  },
  {
   "cell_type": "code",
   "execution_count": 45,
   "id": "brazilian-exemption",
   "metadata": {},
   "outputs": [
    {
     "data": {
      "text/plain": [
       "False"
      ]
     },
     "execution_count": 45,
     "metadata": {},
     "output_type": "execute_result"
    }
   ],
   "source": [
    "3!= 3"
   ]
  },
  {
   "cell_type": "code",
   "execution_count": null,
   "id": "fiscal-albany",
   "metadata": {},
   "outputs": [],
   "source": []
  },
  {
   "cell_type": "code",
   "execution_count": null,
   "id": "incorporated-bradford",
   "metadata": {},
   "outputs": [],
   "source": []
  },
  {
   "cell_type": "code",
   "execution_count": null,
   "id": "quiet-ballot",
   "metadata": {},
   "outputs": [],
   "source": []
  },
  {
   "cell_type": "code",
   "execution_count": null,
   "id": "exotic-amateur",
   "metadata": {},
   "outputs": [],
   "source": []
  },
  {
   "cell_type": "markdown",
   "id": "sublime-domain",
   "metadata": {},
   "source": [
    "### This is markdown cell"
   ]
  },
  {
   "cell_type": "markdown",
   "id": "protective-limitation",
   "metadata": {},
   "source": [
    "a: insert above cell (chen dong phia tren)"
   ]
  },
  {
   "cell_type": "markdown",
   "id": "reasonable-medicare",
   "metadata": {},
   "source": [
    "b : insert below cell( chen dong phia duoi)"
   ]
  },
  {
   "cell_type": "markdown",
   "id": "viral-decision",
   "metadata": {},
   "source": [
    "This is markdown cell"
   ]
  },
  {
   "cell_type": "markdown",
   "id": "vital-sucking",
   "metadata": {},
   "source": [
    "I am Tuan"
   ]
  },
  {
   "cell_type": "markdown",
   "id": "informative-jacket",
   "metadata": {},
   "source": [
    "# Heading 1"
   ]
  },
  {
   "cell_type": "markdown",
   "id": "modular-nirvana",
   "metadata": {},
   "source": [
    "## Heading 2"
   ]
  },
  {
   "cell_type": "markdown",
   "id": "emotional-syntax",
   "metadata": {},
   "source": [
    "### Heading 2"
   ]
  },
  {
   "cell_type": "markdown",
   "id": "nonprofit-stocks",
   "metadata": {},
   "source": [
    "*italic* in nghieng can 2 dau sao * text*"
   ]
  },
  {
   "cell_type": "markdown",
   "id": "exciting-glance",
   "metadata": {},
   "source": [
    "**bold** in chu dam can 4 dau sao **text**"
   ]
  },
  {
   "cell_type": "markdown",
   "id": "latin-penetration",
   "metadata": {},
   "source": [
    "```\n",
    "i am tuan\n",
    "i come in vn\n",
    "```"
   ]
  },
  {
   "cell_type": "markdown",
   "id": "single-atlas",
   "metadata": {},
   "source": [
    "i am tuan\n",
    "\n",
    "come in vn"
   ]
  },
  {
   "cell_type": "markdown",
   "id": "executive-postcard",
   "metadata": {},
   "source": [
    "![]\n",
    "(https://blog.mphackademy.vn/wp-content/uploads/2020/04/lap-trinh-tri-tue-nhan-tao-voi-python.jpg)"
   ]
  },
  {
   "cell_type": "markdown",
   "id": "knowing-customer",
   "metadata": {},
   "source": [
    "![](https://blog.mphackademy.vn/wp-content/uploads/2020/04/lap-trinh-tri-tue-nhan-tao-voi-python.jpg)"
   ]
  },
  {
   "cell_type": "code",
   "execution_count": null,
   "id": "sticky-christmas",
   "metadata": {},
   "outputs": [],
   "source": []
  },
  {
   "cell_type": "markdown",
   "id": "rational-thesis",
   "metadata": {},
   "source": [
    "i am tuan"
   ]
  }
 ],
 "metadata": {
  "kernelspec": {
   "display_name": "Python 3",
   "language": "python",
   "name": "python3"
  },
  "language_info": {
   "codemirror_mode": {
    "name": "ipython",
    "version": 3
   },
   "file_extension": ".py",
   "mimetype": "text/x-python",
   "name": "python",
   "nbconvert_exporter": "python",
   "pygments_lexer": "ipython3",
   "version": "3.7.10"
  }
 },
 "nbformat": 4,
 "nbformat_minor": 5
}
