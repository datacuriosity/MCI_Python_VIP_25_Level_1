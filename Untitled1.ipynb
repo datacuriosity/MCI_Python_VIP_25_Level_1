{
 "cells": [
  {
   "cell_type": "code",
   "execution_count": 1,
   "id": "novel-buying",
   "metadata": {},
   "outputs": [
    {
     "data": {
      "text/plain": [
       "2"
      ]
     },
     "execution_count": 1,
     "metadata": {},
     "output_type": "execute_result"
    }
   ],
   "source": [
    "1 + 1"
   ]
  },
  {
   "cell_type": "code",
   "execution_count": 4,
   "id": "incomplete-wyoming",
   "metadata": {},
   "outputs": [
    {
     "data": {
      "text/plain": [
       "6"
      ]
     },
     "execution_count": 4,
     "metadata": {},
     "output_type": "execute_result"
    }
   ],
   "source": [
    "2+4"
   ]
  },
  {
   "cell_type": "markdown",
   "id": "silver-irrigation",
   "metadata": {},
   "source": [
    "*italic*\n"
   ]
  },
  {
   "cell_type": "markdown",
   "id": "academic-healthcare",
   "metadata": {},
   "source": [
    "![](https://mymodernmet.com/wp/wp-content/uploads/2019/05/Big-Picture-Natural-World-Photo-Contest-thumbnail.jpg)"
   ]
  },
  {
   "cell_type": "code",
   "execution_count": null,
   "id": "floppy-hello",
   "metadata": {},
   "outputs": [],
   "source": [
    "```\n",
    "# heading\n",
    "\n",
    "```"
   ]
  },
  {
   "cell_type": "code",
   "execution_count": 23,
   "id": "armed-newfoundland",
   "metadata": {},
   "outputs": [],
   "source": []
  },
  {
   "cell_type": "code",
   "execution_count": 21,
   "id": "radical-criterion",
   "metadata": {},
   "outputs": [
    {
     "name": "stdout",
     "output_type": "stream",
     "text": [
      "Huong\n"
     ]
    }
   ],
   "source": [
    "print ('Huong')"
   ]
  },
  {
   "cell_type": "markdown",
   "id": "numerical-structure",
   "metadata": {},
   "source": [
    "# 1. Operation, operators"
   ]
  },
  {
   "cell_type": "code",
   "execution_count": 25,
   "id": "artificial-benefit",
   "metadata": {},
   "outputs": [
    {
     "data": {
      "text/plain": [
       "2"
      ]
     },
     "execution_count": 25,
     "metadata": {},
     "output_type": "execute_result"
    }
   ],
   "source": [
    "1+1"
   ]
  },
  {
   "cell_type": "code",
   "execution_count": 26,
   "id": "weighted-infection",
   "metadata": {},
   "outputs": [
    {
     "data": {
      "text/plain": [
       "9"
      ]
     },
     "execution_count": 26,
     "metadata": {},
     "output_type": "execute_result"
    }
   ],
   "source": [
    "3*3"
   ]
  },
  {
   "cell_type": "code",
   "execution_count": 27,
   "id": "documentary-ecology",
   "metadata": {},
   "outputs": [
    {
     "data": {
      "text/plain": [
       "1.0"
      ]
     },
     "execution_count": 27,
     "metadata": {},
     "output_type": "execute_result"
    }
   ],
   "source": [
    "3/3"
   ]
  },
  {
   "cell_type": "code",
   "execution_count": 28,
   "id": "eastern-preservation",
   "metadata": {},
   "outputs": [
    {
     "data": {
      "text/plain": [
       "0.8"
      ]
     },
     "execution_count": 28,
     "metadata": {},
     "output_type": "execute_result"
    }
   ],
   "source": [
    "4/5"
   ]
  },
  {
   "cell_type": "code",
   "execution_count": 32,
   "id": "complimentary-separate",
   "metadata": {},
   "outputs": [],
   "source": [
    "# huong"
   ]
  },
  {
   "cell_type": "markdown",
   "id": "exotic-glasgow",
   "metadata": {},
   "source": [
    "# 2. Data types and data structures"
   ]
  },
  {
   "cell_type": "markdown",
   "id": "geographic-leave",
   "metadata": {},
   "source": [
    "type(1)"
   ]
  },
  {
   "cell_type": "code",
   "execution_count": 35,
   "id": "entertaining-provision",
   "metadata": {},
   "outputs": [
    {
     "data": {
      "text/plain": [
       "int"
      ]
     },
     "execution_count": 35,
     "metadata": {},
     "output_type": "execute_result"
    }
   ],
   "source": [
    "type(1)"
   ]
  },
  {
   "cell_type": "code",
   "execution_count": 36,
   "id": "frank-exhaust",
   "metadata": {},
   "outputs": [
    {
     "data": {
      "text/plain": [
       "float"
      ]
     },
     "execution_count": 36,
     "metadata": {},
     "output_type": "execute_result"
    }
   ],
   "source": [
    "type(1.0)"
   ]
  },
  {
   "cell_type": "code",
   "execution_count": 37,
   "id": "aggregate-vintage",
   "metadata": {},
   "outputs": [
    {
     "data": {
      "text/plain": [
       "complex"
      ]
     },
     "execution_count": 37,
     "metadata": {},
     "output_type": "execute_result"
    }
   ],
   "source": [
    "type(1+2j)"
   ]
  },
  {
   "cell_type": "code",
   "execution_count": 38,
   "id": "eligible-classification",
   "metadata": {},
   "outputs": [
    {
     "data": {
      "text/plain": [
       "str"
      ]
     },
     "execution_count": 38,
     "metadata": {},
     "output_type": "execute_result"
    }
   ],
   "source": [
    "type('')"
   ]
  },
  {
   "cell_type": "code",
   "execution_count": 39,
   "id": "middle-wisconsin",
   "metadata": {},
   "outputs": [
    {
     "data": {
      "text/plain": [
       "str"
      ]
     },
     "execution_count": 39,
     "metadata": {},
     "output_type": "execute_result"
    }
   ],
   "source": [
    "type('Huong')"
   ]
  },
  {
   "cell_type": "code",
   "execution_count": 40,
   "id": "together-protocol",
   "metadata": {},
   "outputs": [
    {
     "data": {
      "text/plain": [
       "'HuongThuy'"
      ]
     },
     "execution_count": 40,
     "metadata": {},
     "output_type": "execute_result"
    }
   ],
   "source": [
    "'Huong'+'Thuy'"
   ]
  },
  {
   "cell_type": "code",
   "execution_count": 43,
   "id": "tight-identifier",
   "metadata": {},
   "outputs": [
    {
     "data": {
      "text/plain": [
       "'HuongHuongHuongHuongHuongHuongHuongHuongHuongHuongHuongHuongHuongHuongHuongHuongHuongHuongHuongHuongHuongHuongHuongHuongHuongHuongHuongHuongHuongHuongHuongHuongHuongHuongHuongHuongHuongHuongHuongHuongHuongHuongHuongHuongHuongHuongHuongHuongHuongHuong'"
      ]
     },
     "execution_count": 43,
     "metadata": {},
     "output_type": "execute_result"
    }
   ],
   "source": [
    "'Huong'*50"
   ]
  },
  {
   "cell_type": "code",
   "execution_count": 44,
   "id": "massive-turning",
   "metadata": {},
   "outputs": [
    {
     "data": {
      "text/plain": [
       "True"
      ]
     },
     "execution_count": 44,
     "metadata": {},
     "output_type": "execute_result"
    }
   ],
   "source": [
    "1==1"
   ]
  },
  {
   "cell_type": "code",
   "execution_count": 45,
   "id": "heated-championship",
   "metadata": {},
   "outputs": [
    {
     "data": {
      "text/plain": [
       "True"
      ]
     },
     "execution_count": 45,
     "metadata": {},
     "output_type": "execute_result"
    }
   ],
   "source": [
    "2<3"
   ]
  },
  {
   "cell_type": "code",
   "execution_count": null,
   "id": "internal-regard",
   "metadata": {},
   "outputs": [],
   "source": []
  }
 ],
 "metadata": {
  "kernelspec": {
   "display_name": "Python 3",
   "language": "python",
   "name": "python3"
  },
  "language_info": {
   "codemirror_mode": {
    "name": "ipython",
    "version": 3
   },
   "file_extension": ".py",
   "mimetype": "text/x-python",
   "name": "python",
   "nbconvert_exporter": "python",
   "pygments_lexer": "ipython3",
   "version": "3.7.10"
  }
 },
 "nbformat": 4,
 "nbformat_minor": 5
}
