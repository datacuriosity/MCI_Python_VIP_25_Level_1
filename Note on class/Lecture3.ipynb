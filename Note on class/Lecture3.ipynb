{
 "cells": [
  {
   "cell_type": "code",
   "execution_count": 14,
   "metadata": {},
   "outputs": [],
   "source": [
    "def TBCong(li):\n",
    "    total,index = 0,0\n",
    "    for i in li:\n",
    "        total += i\n",
    "        index+=1\n",
    "    return total/index"
   ]
  },
  {
   "cell_type": "code",
   "execution_count": 96,
   "metadata": {},
   "outputs": [],
   "source": [
    "li = [1,2,3,4,5,6,7,8,9,10,11,12,13,14,15,16,17,18,19,20,21,22,23]"
   ]
  },
  {
   "cell_type": "code",
   "execution_count": 97,
   "metadata": {},
   "outputs": [
    {
     "data": {
      "text/plain": [
       "12.0"
      ]
     },
     "execution_count": 97,
     "metadata": {},
     "output_type": "execute_result"
    }
   ],
   "source": [
    "TBCong(li)"
   ]
  },
  {
   "cell_type": "code",
   "execution_count": 94,
   "metadata": {},
   "outputs": [],
   "source": [
    "#in ra 1 list cac so nguyen to trong list nhap vao\n",
    "import math\n",
    "def snto(li):\n",
    "    li2 = []\n",
    "    for i in li:\n",
    "        uoc = 0\n",
    "        if i<2:\n",
    "            continue\n",
    "        elif i==2:\n",
    "            li2.append(i)\n",
    "        elif i<9 and i>2:\n",
    "            if i%2==0:\n",
    "                uoc+=1\n",
    "                continue\n",
    "            if uoc==0:\n",
    "                li2.append(i)\n",
    "        elif i>9:\n",
    "            for j in range(2,(int(math.sqrt(i)))):\n",
    "                if i%j==0:\n",
    "                    uoc+=1\n",
    "                    continue\n",
    "            if uoc==0:\n",
    "                li2.append(i)\n",
    "    return li2"
   ]
  },
  {
   "cell_type": "code",
   "execution_count": 98,
   "metadata": {},
   "outputs": [
    {
     "data": {
      "text/plain": [
       "[2, 3, 5, 7, 11, 13, 15, 17, 19, 23]"
      ]
     },
     "execution_count": 98,
     "metadata": {},
     "output_type": "execute_result"
    }
   ],
   "source": [
    "snto(li)"
   ]
  },
  {
   "cell_type": "code",
   "execution_count": null,
   "metadata": {},
   "outputs": [],
   "source": []
  }
 ],
 "metadata": {
  "kernelspec": {
   "display_name": "Python 3",
   "language": "python",
   "name": "python3"
  },
  "language_info": {
   "codemirror_mode": {
    "name": "ipython",
    "version": 3
   },
   "file_extension": ".py",
   "mimetype": "text/x-python",
   "name": "python",
   "nbconvert_exporter": "python",
   "pygments_lexer": "ipython3",
   "version": "3.8.5"
  }
 },
 "nbformat": 4,
 "nbformat_minor": 4
}
