{
 "cells": [
  {
   "cell_type": "code",
   "execution_count": 1,
   "metadata": {},
   "outputs": [],
   "source": [
    "%matplotlib inline\n",
    "import matplotlib\n",
    "import seaborn as sns\n",
    "matplotlib.rcParams['savefig.dpi'] = 144"
   ]
  },
  {
   "cell_type": "markdown",
   "metadata": {},
   "source": [
    "## Learning Platform\n",
    "\n",
    "We will be using the Jupyter notebook interface for all of our work.  The Jupyter notebook is a great tool for Data Science, especially for exploratory Data Science.  Lets go over a few things about the notebook.\n",
    "\n",
    "The notebook is divided into cells, some of which are markdown."
   ]
  },
  {
   "cell_type": "code",
   "execution_count": 1,
   "metadata": {},
   "outputs": [
    {
     "name": "stdout",
     "output_type": "stream",
     "text": [
      "some of which are code\n"
     ]
    }
   ],
   "source": [
    "print('some of which are code')"
   ]
  },
  {
   "cell_type": "markdown",
   "metadata": {},
   "source": [
    "The code you are writing in your web browser gets sent to a Python \"kernel\" living on a cloud server which will execute your code and return the result back to the notebook.  To run a cell we can either click the run button at the top of the screen, or use `shift+enter`.  \n",
    "\n",
    "If I define a variable in one cell"
   ]
  },
  {
   "cell_type": "code",
   "execution_count": 2,
   "metadata": {},
   "outputs": [],
   "source": [
    "a = 5"
   ]
  },
  {
   "cell_type": "markdown",
   "metadata": {},
   "source": [
    "The value is still accessible in another cell:"
   ]
  },
  {
   "cell_type": "code",
   "execution_count": 4,
   "metadata": {},
   "outputs": [
    {
     "name": "stdout",
     "output_type": "stream",
     "text": [
      "5\n"
     ]
    }
   ],
   "source": [
    "print(a)"
   ]
  },
  {
   "cell_type": "markdown",
   "metadata": {},
   "source": [
    "Jupyter notebooks do have some autosave functionality, but please remember to save your notebooks manually often to make sure you don't use any work.  If you are familiar with a version control too like `git`, it is not a bad idea to version control the notebooks, although we do ask you don't push the material to a public repository."
   ]
  },
  {
   "cell_type": "markdown",
   "metadata": {},
   "source": [
    "## Exercises\n",
    "\n",
    "These notebooks contain many small exercises which help practice the material being discussed.  Some of the exercises will be writing a bit of code, others will be written.  Some of the exercises will be covered in the lecture and some will be left as practice.  Exercises are a great topic to discuss on the forum and please feel free to help each other solve them.\n",
    "\n",
    "Now a few exercises for the introduction:\n",
    "\n",
    "1. Make a few cells in the Jupyter notebook and execute them\n",
    "2. Save your Jupyter notebook"
   ]
  },
  {
   "cell_type": "code",
   "execution_count": 5,
   "metadata": {},
   "outputs": [
    {
     "name": "stdout",
     "output_type": "stream",
     "text": [
      "hello world\n"
     ]
    }
   ],
   "source": [
    "print('hello world')"
   ]
  },
  {
   "cell_type": "code",
   "execution_count": null,
   "metadata": {},
   "outputs": [],
   "source": []
  }
 ],
 "metadata": {
  "kernelspec": {
   "display_name": "Python 3",
   "language": "python",
   "name": "python3"
  },
  "language_info": {
   "codemirror_mode": {
    "name": "ipython",
    "version": 3
   },
   "file_extension": ".py",
   "mimetype": "text/x-python",
   "name": "python",
   "nbconvert_exporter": "python",
   "pygments_lexer": "ipython3",
   "version": "3.6.10"
  },
  "nbclean": true
 },
 "nbformat": 4,
 "nbformat_minor": 4
}
