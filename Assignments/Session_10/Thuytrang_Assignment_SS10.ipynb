{
 "cells": [
  {
   "cell_type": "code",
   "execution_count": 1,
   "id": "hollywood-jonathan",
   "metadata": {},
   "outputs": [],
   "source": [
    "import numpy as np\n",
    "import pandas as pd\n",
    "import matplotlib.pyplot as plt\n",
    "import seaborn as sns\n",
    "import glob"
   ]
  },
  {
   "cell_type": "markdown",
   "id": "caroline-aggregate",
   "metadata": {},
   "source": [
    "```\n",
    "Ex1:\n",
    "Viết hàm có tên là show_stars(rows).\n",
    "Nếu rows là 5, nó sẽ hiện như sau:\n",
    "o *\n",
    "o **\n",
    "o ***\n",
    "o ****\n",
    "o *****\n",
    "```"
   ]
  },
  {
   "cell_type": "code",
   "execution_count": 2,
   "id": "central-savings",
   "metadata": {},
   "outputs": [],
   "source": [
    "def show_stars(rows):\n",
    "    for i in range(rows):\n",
    "        print('*'*(i+1))"
   ]
  },
  {
   "cell_type": "code",
   "execution_count": 3,
   "id": "opposed-grill",
   "metadata": {},
   "outputs": [
    {
     "name": "stdout",
     "output_type": "stream",
     "text": [
      "*\n",
      "**\n",
      "***\n",
      "****\n",
      "*****\n"
     ]
    }
   ],
   "source": [
    "show_stars(5)"
   ]
  },
  {
   "cell_type": "markdown",
   "id": "endless-gender",
   "metadata": {},
   "source": []
  },
  {
   "cell_type": "code",
   "execution_count": 5,
   "id": "stainless-salem",
   "metadata": {},
   "outputs": [],
   "source": [
    "def get_winner():\n",
    "    floor = 0\n",
    "    upfloor = 0\n",
    "    while upfloor <= 100:\n",
    "        dice = np.random.randint(1, 7, 1)[0]\n",
    "        if dice in [1, 2]:\n",
    "            floor = max(0, floor - 1)\n",
    "        elif dice in [3, 4, 5]:\n",
    "            upfloor += 1\n",
    "            floor += 1\n",
    "        else:\n",
    "            floor += np.random.randint(1, 7, 1)[0]\n",
    "            upfloor += 1\n",
    "        if np.random.rand() <= 0.001:\n",
    "            floor = 0\n",
    "    if floor >= 60:\n",
    "        return True\n",
    "    return False"
   ]
  },
  {
   "cell_type": "code",
   "execution_count": 6,
   "id": "established-istanbul",
   "metadata": {},
   "outputs": [
    {
     "data": {
      "text/plain": [
       "92.4"
      ]
     },
     "execution_count": 6,
     "metadata": {},
     "output_type": "execute_result"
    }
   ],
   "source": [
    "n_plays = 10000\n",
    "winners = []\n",
    "for i in range(n_plays):\n",
    "    winners.append(get_winner())\n",
    "    \n",
    "np.array(winners).sum() / n_plays * 100"
   ]
  },
  {
   "cell_type": "code",
   "execution_count": null,
   "id": "certified-spell",
   "metadata": {},
   "outputs": [],
   "source": []
  }
 ],
 "metadata": {
  "kernelspec": {
   "display_name": "Python 3",
   "language": "python",
   "name": "python3"
  },
  "language_info": {
   "codemirror_mode": {
    "name": "ipython",
    "version": 3
   },
   "file_extension": ".py",
   "mimetype": "text/x-python",
   "name": "python",
   "nbconvert_exporter": "python",
   "pygments_lexer": "ipython3",
   "version": "3.7.10"
  }
 },
 "nbformat": 4,
 "nbformat_minor": 5
}
