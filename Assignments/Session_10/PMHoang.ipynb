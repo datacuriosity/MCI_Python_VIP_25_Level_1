{
 "cells": [
  {
   "cell_type": "code",
   "execution_count": 107,
   "id": "considered-quality",
   "metadata": {},
   "outputs": [],
   "source": [
    "import numpy as np\n",
    "import pandas as pd\n",
    "import matplotlib.pyplot as plt\n",
    "import seaborn as sns\n",
    "import glob"
   ]
  },
  {
   "cell_type": "code",
   "execution_count": 28,
   "id": "affected-scheduling",
   "metadata": {},
   "outputs": [],
   "source": [
    "def show_stars(rows):\n",
    "    for i in range(rows+1):\n",
    "        s = '*'*i\n",
    "        print(s)"
   ]
  },
  {
   "cell_type": "code",
   "execution_count": 29,
   "id": "fuzzy-breakfast",
   "metadata": {},
   "outputs": [
    {
     "name": "stdout",
     "output_type": "stream",
     "text": [
      "\n",
      "*\n",
      "**\n",
      "***\n",
      "****\n",
      "*****\n"
     ]
    }
   ],
   "source": [
    "show_stars(5)"
   ]
  },
  {
   "cell_type": "code",
   "execution_count": 128,
   "id": "pleased-grammar",
   "metadata": {},
   "outputs": [],
   "source": [
    "import random"
   ]
  },
  {
   "cell_type": "code",
   "execution_count": 134,
   "id": "distinct-fourth",
   "metadata": {},
   "outputs": [],
   "source": [
    "list=[]\n",
    "def randommm(S,T):\n",
    "    S,T = 0,0\n",
    "    while (S<100):\n",
    "        xx = random.randint(1,6)\n",
    "        if T>0 and xx <3:\n",
    "            T=T-1\n",
    "        if T>0 and 5>xx>3:\n",
    "            T=T+1\n",
    "            S+=1\n",
    "        if T>0 and xx == 6:\n",
    "            xx2 =random.randint(1,6)\n",
    "            T=T+xx2\n",
    "            S+=1\n",
    "        if T==0:\n",
    "            if 5> xx >3:\n",
    "                T= T+1\n",
    "                S+=1\n",
    "            if xx == 6:\n",
    "                xx2 =random.randint(1,6)\n",
    "                T=T+xx2\n",
    "                S+=1\n",
    "            if xx<=2:\n",
    "                T=0\n",
    "        if T>60:\n",
    "            list.append(T)\n",
    "            break\n",
    "        if S==100:\n",
    "            break"
   ]
  },
  {
   "cell_type": "code",
   "execution_count": 135,
   "id": "baking-bronze",
   "metadata": {},
   "outputs": [],
   "source": [
    "for i in range(0,10000):\n",
    "    randommm(0,0)"
   ]
  },
  {
   "cell_type": "code",
   "execution_count": 136,
   "id": "challenging-electron",
   "metadata": {},
   "outputs": [
    {
     "name": "stdout",
     "output_type": "stream",
     "text": [
      "9989\n"
     ]
    }
   ],
   "source": [
    "dem=0\n",
    "for i in range(0,len(list)):\n",
    "    dem+=1\n",
    "print(dem)"
   ]
  },
  {
   "cell_type": "code",
   "execution_count": null,
   "id": "controlling-registration",
   "metadata": {},
   "outputs": [],
   "source": [
    "P = 99,9%"
   ]
  }
 ],
 "metadata": {
  "kernelspec": {
   "display_name": "Python 3",
   "language": "python",
   "name": "python3"
  },
  "language_info": {
   "codemirror_mode": {
    "name": "ipython",
    "version": 3
   },
   "file_extension": ".py",
   "mimetype": "text/x-python",
   "name": "python",
   "nbconvert_exporter": "python",
   "pygments_lexer": "ipython3",
   "version": "3.7.10"
  }
 },
 "nbformat": 4,
 "nbformat_minor": 5
}
