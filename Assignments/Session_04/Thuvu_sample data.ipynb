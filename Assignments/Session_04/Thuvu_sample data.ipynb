{
 "cells": [
  {
   "cell_type": "code",
   "execution_count": 1,
   "metadata": {},
   "outputs": [],
   "source": [
    "import numpy as np\n",
    "import pandas as pd"
   ]
  },
  {
   "cell_type": "code",
   "execution_count": 4,
   "metadata": {},
   "outputs": [
    {
     "data": {
      "text/html": [
       "<div>\n",
       "<style scoped>\n",
       "    .dataframe tbody tr th:only-of-type {\n",
       "        vertical-align: middle;\n",
       "    }\n",
       "\n",
       "    .dataframe tbody tr th {\n",
       "        vertical-align: top;\n",
       "    }\n",
       "\n",
       "    .dataframe thead th {\n",
       "        text-align: right;\n",
       "    }\n",
       "</style>\n",
       "<table border=\"1\" class=\"dataframe\">\n",
       "  <thead>\n",
       "    <tr style=\"text-align: right;\">\n",
       "      <th></th>\n",
       "      <th>account_id</th>\n",
       "      <th>ad_id</th>\n",
       "      <th>event_name</th>\n",
       "      <th>timestamp</th>\n",
       "      <th>platform</th>\n",
       "      <th>category_name</th>\n",
       "      <th>region_name</th>\n",
       "      <th>condition_ad_name</th>\n",
       "      <th>price</th>\n",
       "    </tr>\n",
       "  </thead>\n",
       "  <tbody>\n",
       "    <tr>\n",
       "      <th>0</th>\n",
       "      <td>249683985899310273</td>\n",
       "      <td>-159265360436186278</td>\n",
       "      <td>order</td>\n",
       "      <td>2018-05-16 17:33:18.350333</td>\n",
       "      <td>on_behalf</td>\n",
       "      <td>Cars</td>\n",
       "      <td>Đông Bắc Bộ</td>\n",
       "      <td>Mới</td>\n",
       "      <td>267000000.0</td>\n",
       "    </tr>\n",
       "    <tr>\n",
       "      <th>1</th>\n",
       "      <td>2753457128963724056</td>\n",
       "      <td>-6487219347028929285</td>\n",
       "      <td>order</td>\n",
       "      <td>2018-05-04 16:03:08.099983</td>\n",
       "      <td>on_behalf</td>\n",
       "      <td>Cars</td>\n",
       "      <td>Đông Bắc Bộ</td>\n",
       "      <td>Mới</td>\n",
       "      <td>399000000.0</td>\n",
       "    </tr>\n",
       "    <tr>\n",
       "      <th>2</th>\n",
       "      <td>2753457128963724056</td>\n",
       "      <td>-6487219347028929285</td>\n",
       "      <td>order</td>\n",
       "      <td>2018-05-03 15:13:42.447070</td>\n",
       "      <td>on_behalf</td>\n",
       "      <td>Cars</td>\n",
       "      <td>Đông Bắc Bộ</td>\n",
       "      <td>Mới</td>\n",
       "      <td>399000000.0</td>\n",
       "    </tr>\n",
       "    <tr>\n",
       "      <th>3</th>\n",
       "      <td>-4397739266189556976</td>\n",
       "      <td>4054922453976773054</td>\n",
       "      <td>order</td>\n",
       "      <td>2018-05-23 11:15:25.932663</td>\n",
       "      <td>on_behalf</td>\n",
       "      <td>Cars</td>\n",
       "      <td>Hà Nội</td>\n",
       "      <td>Mới</td>\n",
       "      <td>705000000.0</td>\n",
       "    </tr>\n",
       "    <tr>\n",
       "      <th>4</th>\n",
       "      <td>-8143274583979068266</td>\n",
       "      <td>3202538754056800998</td>\n",
       "      <td>order</td>\n",
       "      <td>2018-05-15 17:53:01.634923</td>\n",
       "      <td>on_behalf</td>\n",
       "      <td>Cars</td>\n",
       "      <td>Hà Nội</td>\n",
       "      <td>Mới</td>\n",
       "      <td>696000000.0</td>\n",
       "    </tr>\n",
       "  </tbody>\n",
       "</table>\n",
       "</div>"
      ],
      "text/plain": [
       "            account_id                ad_id event_name  \\\n",
       "0   249683985899310273  -159265360436186278      order   \n",
       "1  2753457128963724056 -6487219347028929285      order   \n",
       "2  2753457128963724056 -6487219347028929285      order   \n",
       "3 -4397739266189556976  4054922453976773054      order   \n",
       "4 -8143274583979068266  3202538754056800998      order   \n",
       "\n",
       "                    timestamp   platform category_name  region_name  \\\n",
       "0  2018-05-16 17:33:18.350333  on_behalf          Cars  Đông Bắc Bộ   \n",
       "1  2018-05-04 16:03:08.099983  on_behalf          Cars  Đông Bắc Bộ   \n",
       "2  2018-05-03 15:13:42.447070  on_behalf          Cars  Đông Bắc Bộ   \n",
       "3  2018-05-23 11:15:25.932663  on_behalf          Cars       Hà Nội   \n",
       "4  2018-05-15 17:53:01.634923  on_behalf          Cars       Hà Nội   \n",
       "\n",
       "  condition_ad_name        price  \n",
       "0               Mới  267000000.0  \n",
       "1               Mới  399000000.0  \n",
       "2               Mới  399000000.0  \n",
       "3               Mới  705000000.0  \n",
       "4               Mới  696000000.0  "
      ]
     },
     "execution_count": 4,
     "metadata": {},
     "output_type": "execute_result"
    }
   ],
   "source": [
    "sample = pd.read_csv(\"sample_data.csv\")\n",
    "sample.head()"
   ]
  },
  {
   "cell_type": "code",
   "execution_count": 25,
   "metadata": {},
   "outputs": [
    {
     "data": {
      "text/plain": [
       "platform\n",
       "android         10789\n",
       "desktop_web     11910\n",
       "ios             10773\n",
       "mobile_web       6154\n",
       "on_behalf          36\n",
       "unknown        108990\n",
       "Name: account_id, dtype: int64"
      ]
     },
     "execution_count": 25,
     "metadata": {},
     "output_type": "execute_result"
    }
   ],
   "source": [
    "#1\n",
    "sample.groupby('platform').account_id.nunique()"
   ]
  },
  {
   "cell_type": "code",
   "execution_count": 26,
   "metadata": {},
   "outputs": [
    {
     "data": {
      "text/plain": [
       "platform\n",
       "android         130551\n",
       "desktop_web     144673\n",
       "ios             144161\n",
       "mobile_web       40165\n",
       "on_behalf           82\n",
       "unknown        3669226\n",
       "Name: ad_id, dtype: int64"
      ]
     },
     "execution_count": 26,
     "metadata": {},
     "output_type": "execute_result"
    }
   ],
   "source": [
    "#2\n",
    "sample.groupby('platform').ad_id.nunique()"
   ]
  },
  {
   "cell_type": "code",
   "execution_count": 27,
   "metadata": {},
   "outputs": [
    {
     "data": {
      "text/plain": [
       "category_name\n",
       "PTY-Houses                       842357\n",
       "Mobile Phones                    781435\n",
       "Motorbikes                       528333\n",
       "PTY-Land                         415120\n",
       "Computers, Laptops               351123\n",
       "                                  ...  \n",
       "Other household items 14110         139\n",
       "Ornamental plant & decoration        41\n",
       "Other pet                            36\n",
       "Fan                                  12\n",
       "Lighting                              9\n",
       "Name: ad_id, Length: 64, dtype: int64"
      ]
     },
     "execution_count": 27,
     "metadata": {},
     "output_type": "execute_result"
    }
   ],
   "source": [
    "#3\n",
    "number_ad = sample.groupby('category_name').ad_id.count().sort_values(ascending=False)\n",
    "number_ad"
   ]
  },
  {
   "cell_type": "code",
   "execution_count": 28,
   "metadata": {},
   "outputs": [
    {
     "data": {
      "text/plain": [
       "category_name\n",
       "PTY-Houses            842357\n",
       "Mobile Phones         781435\n",
       "Motorbikes            528333\n",
       "PTY-Land              415120\n",
       "Computers, Laptops    351123\n",
       "Name: ad_id, dtype: int64"
      ]
     },
     "execution_count": 28,
     "metadata": {},
     "output_type": "execute_result"
    }
   ],
   "source": [
    "#4\n",
    "top5 = number_ad.head(5)\n",
    "top5"
   ]
  },
  {
   "cell_type": "code",
   "execution_count": 29,
   "metadata": {},
   "outputs": [
    {
     "data": {
      "text/plain": [
       "category_name\n",
       "Other household items 14110      139\n",
       "Ornamental plant & decoration     41\n",
       "Other pet                         36\n",
       "Fan                               12\n",
       "Lighting                           9\n",
       "Name: ad_id, dtype: int64"
      ]
     },
     "execution_count": 29,
     "metadata": {},
     "output_type": "execute_result"
    }
   ],
   "source": [
    "#5\n",
    "min5 = number_ad.tail(5)\n",
    "min5"
   ]
  },
  {
   "cell_type": "code",
   "execution_count": 33,
   "metadata": {},
   "outputs": [
    {
     "data": {
      "text/html": [
       "<div>\n",
       "<style scoped>\n",
       "    .dataframe tbody tr th:only-of-type {\n",
       "        vertical-align: middle;\n",
       "    }\n",
       "\n",
       "    .dataframe tbody tr th {\n",
       "        vertical-align: top;\n",
       "    }\n",
       "\n",
       "    .dataframe thead th {\n",
       "        text-align: right;\n",
       "    }\n",
       "</style>\n",
       "<table border=\"1\" class=\"dataframe\">\n",
       "  <thead>\n",
       "    <tr style=\"text-align: right;\">\n",
       "      <th></th>\n",
       "      <th>account_id</th>\n",
       "      <th>ad_id</th>\n",
       "      <th>price</th>\n",
       "    </tr>\n",
       "    <tr>\n",
       "      <th>category_name</th>\n",
       "      <th></th>\n",
       "      <th></th>\n",
       "      <th></th>\n",
       "    </tr>\n",
       "  </thead>\n",
       "  <tbody>\n",
       "    <tr>\n",
       "      <th>Accessories</th>\n",
       "      <td>15335908375910656</td>\n",
       "      <td>39518722514590264</td>\n",
       "      <td>8.808542e+06</td>\n",
       "    </tr>\n",
       "    <tr>\n",
       "      <th>Aircon</th>\n",
       "      <td>-688731245606764800</td>\n",
       "      <td>4014256354017290240</td>\n",
       "      <td>5.913818e+06</td>\n",
       "    </tr>\n",
       "    <tr>\n",
       "      <th>Bags</th>\n",
       "      <td>409476529585117248</td>\n",
       "      <td>157074300760879456</td>\n",
       "      <td>8.026387e+07</td>\n",
       "    </tr>\n",
       "    <tr>\n",
       "      <th>Bed &amp; bedding</th>\n",
       "      <td>1536465924435436800</td>\n",
       "      <td>-2524830307729137664</td>\n",
       "      <td>1.482936e+06</td>\n",
       "    </tr>\n",
       "    <tr>\n",
       "      <th>Bicycles</th>\n",
       "      <td>366075900255982336</td>\n",
       "      <td>-51622806036725920</td>\n",
       "      <td>3.262726e+06</td>\n",
       "    </tr>\n",
       "    <tr>\n",
       "      <th>...</th>\n",
       "      <td>...</td>\n",
       "      <td>...</td>\n",
       "      <td>...</td>\n",
       "    </tr>\n",
       "    <tr>\n",
       "      <th>Trucks</th>\n",
       "      <td>-180833572564175520</td>\n",
       "      <td>-131692710151046800</td>\n",
       "      <td>6.693941e+08</td>\n",
       "    </tr>\n",
       "    <tr>\n",
       "      <th>Vehicles parts, Accessories</th>\n",
       "      <td>148448856246599392</td>\n",
       "      <td>1863930454328279</td>\n",
       "      <td>1.141225e+08</td>\n",
       "    </tr>\n",
       "    <tr>\n",
       "      <th>Video games</th>\n",
       "      <td>46701391956479752</td>\n",
       "      <td>171991756901073760</td>\n",
       "      <td>2.210399e+06</td>\n",
       "    </tr>\n",
       "    <tr>\n",
       "      <th>Washing machine</th>\n",
       "      <td>-2496699057493935616</td>\n",
       "      <td>-667804082360586752</td>\n",
       "      <td>1.349307e+07</td>\n",
       "    </tr>\n",
       "    <tr>\n",
       "      <th>Watch</th>\n",
       "      <td>-4675688945298971</td>\n",
       "      <td>14473265622738670</td>\n",
       "      <td>3.596161e+07</td>\n",
       "    </tr>\n",
       "  </tbody>\n",
       "</table>\n",
       "<p>64 rows × 3 columns</p>\n",
       "</div>"
      ],
      "text/plain": [
       "                                      account_id                ad_id  \\\n",
       "category_name                                                           \n",
       "Accessories                    15335908375910656    39518722514590264   \n",
       "Aircon                       -688731245606764800  4014256354017290240   \n",
       "Bags                          409476529585117248   157074300760879456   \n",
       "Bed & bedding                1536465924435436800 -2524830307729137664   \n",
       "Bicycles                      366075900255982336   -51622806036725920   \n",
       "...                                          ...                  ...   \n",
       "Trucks                       -180833572564175520  -131692710151046800   \n",
       "Vehicles parts, Accessories   148448856246599392     1863930454328279   \n",
       "Video games                    46701391956479752   171991756901073760   \n",
       "Washing machine             -2496699057493935616  -667804082360586752   \n",
       "Watch                          -4675688945298971    14473265622738670   \n",
       "\n",
       "                                    price  \n",
       "category_name                              \n",
       "Accessories                  8.808542e+06  \n",
       "Aircon                       5.913818e+06  \n",
       "Bags                         8.026387e+07  \n",
       "Bed & bedding                1.482936e+06  \n",
       "Bicycles                     3.262726e+06  \n",
       "...                                   ...  \n",
       "Trucks                       6.693941e+08  \n",
       "Vehicles parts, Accessories  1.141225e+08  \n",
       "Video games                  2.210399e+06  \n",
       "Washing machine              1.349307e+07  \n",
       "Watch                        3.596161e+07  \n",
       "\n",
       "[64 rows x 3 columns]"
      ]
     },
     "execution_count": 33,
     "metadata": {},
     "output_type": "execute_result"
    }
   ],
   "source": [
    "#6\n",
    "sample.groupby('category_name').mean('price')"
   ]
  },
  {
   "cell_type": "code",
   "execution_count": 31,
   "metadata": {},
   "outputs": [
    {
     "data": {
      "text/plain": [
       "dtype('float64')"
      ]
     },
     "execution_count": 31,
     "metadata": {},
     "output_type": "execute_result"
    }
   ],
   "source": [
    "sample.price.dtype"
   ]
  },
  {
   "cell_type": "code",
   "execution_count": 35,
   "metadata": {},
   "outputs": [
    {
     "data": {
      "text/html": [
       "<div>\n",
       "<style scoped>\n",
       "    .dataframe tbody tr th:only-of-type {\n",
       "        vertical-align: middle;\n",
       "    }\n",
       "\n",
       "    .dataframe tbody tr th {\n",
       "        vertical-align: top;\n",
       "    }\n",
       "\n",
       "    .dataframe thead th {\n",
       "        text-align: right;\n",
       "    }\n",
       "</style>\n",
       "<table border=\"1\" class=\"dataframe\">\n",
       "  <thead>\n",
       "    <tr style=\"text-align: right;\">\n",
       "      <th></th>\n",
       "      <th>account_id</th>\n",
       "      <th>ad_id</th>\n",
       "      <th>price</th>\n",
       "    </tr>\n",
       "    <tr>\n",
       "      <th>region_name</th>\n",
       "      <th></th>\n",
       "      <th></th>\n",
       "      <th></th>\n",
       "    </tr>\n",
       "  </thead>\n",
       "  <tbody>\n",
       "    <tr>\n",
       "      <th>Bình Trị Thừa Thiên Huế</th>\n",
       "      <td>-6.167348e+17</td>\n",
       "      <td>-6.664375e+15</td>\n",
       "      <td>4.143188e+08</td>\n",
       "    </tr>\n",
       "    <tr>\n",
       "      <th>Các tỉnh lân cận Hà Nội</th>\n",
       "      <td>-9.523424e+16</td>\n",
       "      <td>3.351054e+16</td>\n",
       "      <td>3.186963e+08</td>\n",
       "    </tr>\n",
       "    <tr>\n",
       "      <th>Cần Thơ - Tây Nam Bộ</th>\n",
       "      <td>-1.548567e+17</td>\n",
       "      <td>-1.222091e+16</td>\n",
       "      <td>4.101916e+08</td>\n",
       "    </tr>\n",
       "    <tr>\n",
       "      <th>Hà Nội</th>\n",
       "      <td>-2.191670e+16</td>\n",
       "      <td>9.383880e+15</td>\n",
       "      <td>6.645161e+08</td>\n",
       "    </tr>\n",
       "    <tr>\n",
       "      <th>Hải Phòng Nam Định Thái Bình</th>\n",
       "      <td>5.185684e+17</td>\n",
       "      <td>-3.783973e+16</td>\n",
       "      <td>1.573403e+08</td>\n",
       "    </tr>\n",
       "    <tr>\n",
       "      <th>Nam Trung Bộ</th>\n",
       "      <td>-8.359658e+16</td>\n",
       "      <td>2.798036e+16</td>\n",
       "      <td>9.059112e+08</td>\n",
       "    </tr>\n",
       "    <tr>\n",
       "      <th>Quảng Nam Đà Nẵng</th>\n",
       "      <td>5.165960e+17</td>\n",
       "      <td>2.603089e+15</td>\n",
       "      <td>9.412990e+08</td>\n",
       "    </tr>\n",
       "    <tr>\n",
       "      <th>Thanh Nghệ Tĩnh</th>\n",
       "      <td>-8.850505e+17</td>\n",
       "      <td>5.017001e+16</td>\n",
       "      <td>2.442715e+08</td>\n",
       "    </tr>\n",
       "    <tr>\n",
       "      <th>Tp Hồ Chí Minh</th>\n",
       "      <td>-3.655122e+16</td>\n",
       "      <td>2.950158e+15</td>\n",
       "      <td>1.302872e+09</td>\n",
       "    </tr>\n",
       "    <tr>\n",
       "      <th>Tây Bắc Bộ</th>\n",
       "      <td>-7.983229e+17</td>\n",
       "      <td>1.228490e+15</td>\n",
       "      <td>3.616878e+08</td>\n",
       "    </tr>\n",
       "    <tr>\n",
       "      <th>Tây Nguyên</th>\n",
       "      <td>2.371752e+17</td>\n",
       "      <td>-1.635185e+16</td>\n",
       "      <td>6.075989e+08</td>\n",
       "    </tr>\n",
       "    <tr>\n",
       "      <th>Đông Bắc Bộ</th>\n",
       "      <td>2.819854e+17</td>\n",
       "      <td>-8.121220e+16</td>\n",
       "      <td>2.312546e+08</td>\n",
       "    </tr>\n",
       "    <tr>\n",
       "      <th>Đông Nam Bộ</th>\n",
       "      <td>2.337135e+17</td>\n",
       "      <td>-3.338068e+16</td>\n",
       "      <td>7.097406e+08</td>\n",
       "    </tr>\n",
       "  </tbody>\n",
       "</table>\n",
       "</div>"
      ],
      "text/plain": [
       "                                account_id         ad_id         price\n",
       "region_name                                                           \n",
       "Bình Trị Thừa Thiên Huế      -6.167348e+17 -6.664375e+15  4.143188e+08\n",
       "Các tỉnh lân cận Hà Nội      -9.523424e+16  3.351054e+16  3.186963e+08\n",
       "Cần Thơ - Tây Nam Bộ         -1.548567e+17 -1.222091e+16  4.101916e+08\n",
       "Hà Nội                       -2.191670e+16  9.383880e+15  6.645161e+08\n",
       "Hải Phòng Nam Định Thái Bình  5.185684e+17 -3.783973e+16  1.573403e+08\n",
       "Nam Trung Bộ                 -8.359658e+16  2.798036e+16  9.059112e+08\n",
       "Quảng Nam Đà Nẵng             5.165960e+17  2.603089e+15  9.412990e+08\n",
       "Thanh Nghệ Tĩnh              -8.850505e+17  5.017001e+16  2.442715e+08\n",
       "Tp Hồ Chí Minh               -3.655122e+16  2.950158e+15  1.302872e+09\n",
       "Tây Bắc Bộ                   -7.983229e+17  1.228490e+15  3.616878e+08\n",
       "Tây Nguyên                    2.371752e+17 -1.635185e+16  6.075989e+08\n",
       "Đông Bắc Bộ                   2.819854e+17 -8.121220e+16  2.312546e+08\n",
       "Đông Nam Bộ                   2.337135e+17 -3.338068e+16  7.097406e+08"
      ]
     },
     "execution_count": 35,
     "metadata": {},
     "output_type": "execute_result"
    }
   ],
   "source": [
    "#7\n",
    "sample.groupby('region_name').mean('price')"
   ]
  },
  {
   "cell_type": "code",
   "execution_count": 48,
   "metadata": {},
   "outputs": [
    {
     "data": {
      "text/plain": [
       "category_name    condition_ad_name\n",
       "Accessories      Mới                   1990\n",
       "                 Đã sử dụng           17786\n",
       "Aircon           Mới                      1\n",
       "                 Đã sử dụng               8\n",
       "Bags             Mới                   5486\n",
       "                                      ...  \n",
       "Video games      Mới                      4\n",
       "                 Đã sử dụng             276\n",
       "Washing machine  Đã sử dụng               5\n",
       "Watch            Mới                  19100\n",
       "                 Đã sử dụng           32440\n",
       "Name: ad_id, Length: 106, dtype: int64"
      ]
     },
     "execution_count": 48,
     "metadata": {},
     "output_type": "execute_result"
    }
   ],
   "source": [
    "#8\n",
    "sample.groupby(['category_name','condition_ad_name']).ad_id.nunique()"
   ]
  },
  {
   "cell_type": "code",
   "execution_count": 52,
   "metadata": {},
   "outputs": [
    {
     "ename": "AttributeError",
     "evalue": "'Series' object has no attribute 'len'",
     "output_type": "error",
     "traceback": [
      "\u001b[1;31m---------------------------------------------------------------------------\u001b[0m",
      "\u001b[1;31mAttributeError\u001b[0m                            Traceback (most recent call last)",
      "\u001b[1;32m<ipython-input-52-a4d1d4754411>\u001b[0m in \u001b[0;36m<module>\u001b[1;34m\u001b[0m\n\u001b[1;32m----> 1\u001b[1;33m \u001b[0msample\u001b[0m\u001b[1;33m.\u001b[0m\u001b[0mgroupby\u001b[0m\u001b[1;33m(\u001b[0m\u001b[1;34m'category_name'\u001b[0m\u001b[1;33m)\u001b[0m\u001b[1;33m.\u001b[0m\u001b[0mad_id\u001b[0m\u001b[1;33m.\u001b[0m\u001b[0mcount\u001b[0m\u001b[1;33m(\u001b[0m\u001b[1;33m)\u001b[0m\u001b[1;33m.\u001b[0m\u001b[0msort_values\u001b[0m\u001b[1;33m(\u001b[0m\u001b[0mascending\u001b[0m\u001b[1;33m=\u001b[0m\u001b[1;32mFalse\u001b[0m\u001b[1;33m)\u001b[0m\u001b[1;33m.\u001b[0m\u001b[0mlen\u001b[0m\u001b[1;33m(\u001b[0m\u001b[0mtimestamp\u001b[0m\u001b[1;33m,\u001b[0m\u001b[1;36m4\u001b[0m\u001b[1;33m)\u001b[0m\u001b[1;33m\u001b[0m\u001b[1;33m\u001b[0m\u001b[0m\n\u001b[0m",
      "\u001b[1;32m~\\anaconda3\\lib\\site-packages\\pandas\\core\\generic.py\u001b[0m in \u001b[0;36m__getattr__\u001b[1;34m(self, name)\u001b[0m\n\u001b[0;32m   5137\u001b[0m             \u001b[1;32mif\u001b[0m \u001b[0mself\u001b[0m\u001b[1;33m.\u001b[0m\u001b[0m_info_axis\u001b[0m\u001b[1;33m.\u001b[0m\u001b[0m_can_hold_identifiers_and_holds_name\u001b[0m\u001b[1;33m(\u001b[0m\u001b[0mname\u001b[0m\u001b[1;33m)\u001b[0m\u001b[1;33m:\u001b[0m\u001b[1;33m\u001b[0m\u001b[1;33m\u001b[0m\u001b[0m\n\u001b[0;32m   5138\u001b[0m                 \u001b[1;32mreturn\u001b[0m \u001b[0mself\u001b[0m\u001b[1;33m[\u001b[0m\u001b[0mname\u001b[0m\u001b[1;33m]\u001b[0m\u001b[1;33m\u001b[0m\u001b[1;33m\u001b[0m\u001b[0m\n\u001b[1;32m-> 5139\u001b[1;33m             \u001b[1;32mreturn\u001b[0m \u001b[0mobject\u001b[0m\u001b[1;33m.\u001b[0m\u001b[0m__getattribute__\u001b[0m\u001b[1;33m(\u001b[0m\u001b[0mself\u001b[0m\u001b[1;33m,\u001b[0m \u001b[0mname\u001b[0m\u001b[1;33m)\u001b[0m\u001b[1;33m\u001b[0m\u001b[1;33m\u001b[0m\u001b[0m\n\u001b[0m\u001b[0;32m   5140\u001b[0m \u001b[1;33m\u001b[0m\u001b[0m\n\u001b[0;32m   5141\u001b[0m     \u001b[1;32mdef\u001b[0m \u001b[0m__setattr__\u001b[0m\u001b[1;33m(\u001b[0m\u001b[0mself\u001b[0m\u001b[1;33m,\u001b[0m \u001b[0mname\u001b[0m\u001b[1;33m:\u001b[0m \u001b[0mstr\u001b[0m\u001b[1;33m,\u001b[0m \u001b[0mvalue\u001b[0m\u001b[1;33m)\u001b[0m \u001b[1;33m->\u001b[0m \u001b[1;32mNone\u001b[0m\u001b[1;33m:\u001b[0m\u001b[1;33m\u001b[0m\u001b[1;33m\u001b[0m\u001b[0m\n",
      "\u001b[1;31mAttributeError\u001b[0m: 'Series' object has no attribute 'len'"
     ]
    }
   ],
   "source": [
    "sample.groupby('category_name').ad_id.count().sort_values(ascending=False).len(timestamp,4)"
   ]
  },
  {
   "cell_type": "code",
   "execution_count": 55,
   "metadata": {},
   "outputs": [
    {
     "ename": "AttributeError",
     "evalue": "'Series' object has no attribute 'Timestamp'",
     "output_type": "error",
     "traceback": [
      "\u001b[1;31m---------------------------------------------------------------------------\u001b[0m",
      "\u001b[1;31mAttributeError\u001b[0m                            Traceback (most recent call last)",
      "\u001b[1;32m<ipython-input-55-83945884a9f8>\u001b[0m in \u001b[0;36m<module>\u001b[1;34m\u001b[0m\n\u001b[1;32m----> 1\u001b[1;33m \u001b[0msample\u001b[0m\u001b[1;33m.\u001b[0m\u001b[0mtimestamp\u001b[0m\u001b[1;33m.\u001b[0m\u001b[0mTimestamp\u001b[0m\u001b[1;33m.\u001b[0m\u001b[0mis_leap_year\u001b[0m\u001b[1;33m\u001b[0m\u001b[1;33m\u001b[0m\u001b[0m\n\u001b[0m",
      "\u001b[1;32m~\\anaconda3\\lib\\site-packages\\pandas\\core\\generic.py\u001b[0m in \u001b[0;36m__getattr__\u001b[1;34m(self, name)\u001b[0m\n\u001b[0;32m   5137\u001b[0m             \u001b[1;32mif\u001b[0m \u001b[0mself\u001b[0m\u001b[1;33m.\u001b[0m\u001b[0m_info_axis\u001b[0m\u001b[1;33m.\u001b[0m\u001b[0m_can_hold_identifiers_and_holds_name\u001b[0m\u001b[1;33m(\u001b[0m\u001b[0mname\u001b[0m\u001b[1;33m)\u001b[0m\u001b[1;33m:\u001b[0m\u001b[1;33m\u001b[0m\u001b[1;33m\u001b[0m\u001b[0m\n\u001b[0;32m   5138\u001b[0m                 \u001b[1;32mreturn\u001b[0m \u001b[0mself\u001b[0m\u001b[1;33m[\u001b[0m\u001b[0mname\u001b[0m\u001b[1;33m]\u001b[0m\u001b[1;33m\u001b[0m\u001b[1;33m\u001b[0m\u001b[0m\n\u001b[1;32m-> 5139\u001b[1;33m             \u001b[1;32mreturn\u001b[0m \u001b[0mobject\u001b[0m\u001b[1;33m.\u001b[0m\u001b[0m__getattribute__\u001b[0m\u001b[1;33m(\u001b[0m\u001b[0mself\u001b[0m\u001b[1;33m,\u001b[0m \u001b[0mname\u001b[0m\u001b[1;33m)\u001b[0m\u001b[1;33m\u001b[0m\u001b[1;33m\u001b[0m\u001b[0m\n\u001b[0m\u001b[0;32m   5140\u001b[0m \u001b[1;33m\u001b[0m\u001b[0m\n\u001b[0;32m   5141\u001b[0m     \u001b[1;32mdef\u001b[0m \u001b[0m__setattr__\u001b[0m\u001b[1;33m(\u001b[0m\u001b[0mself\u001b[0m\u001b[1;33m,\u001b[0m \u001b[0mname\u001b[0m\u001b[1;33m:\u001b[0m \u001b[0mstr\u001b[0m\u001b[1;33m,\u001b[0m \u001b[0mvalue\u001b[0m\u001b[1;33m)\u001b[0m \u001b[1;33m->\u001b[0m \u001b[1;32mNone\u001b[0m\u001b[1;33m:\u001b[0m\u001b[1;33m\u001b[0m\u001b[1;33m\u001b[0m\u001b[0m\n",
      "\u001b[1;31mAttributeError\u001b[0m: 'Series' object has no attribute 'Timestamp'"
     ]
    }
   ],
   "source": [
    "sample.timestamp.Timestamp.is_leap_year"
   ]
  },
  {
   "cell_type": "code",
   "execution_count": null,
   "metadata": {},
   "outputs": [],
   "source": []
  }
 ],
 "metadata": {
  "kernelspec": {
   "display_name": "Python 3",
   "language": "python",
   "name": "python3"
  },
  "language_info": {
   "codemirror_mode": {
    "name": "ipython",
    "version": 3
   },
   "file_extension": ".py",
   "mimetype": "text/x-python",
   "name": "python",
   "nbconvert_exporter": "python",
   "pygments_lexer": "ipython3",
   "version": "3.8.5"
  }
 },
 "nbformat": 4,
 "nbformat_minor": 4
}
