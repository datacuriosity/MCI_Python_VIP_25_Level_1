{
 "cells": [
  {
   "cell_type": "code",
   "execution_count": 6,
   "id": "latter-project",
   "metadata": {},
   "outputs": [],
   "source": [
    "import pandas as pd"
   ]
  },
  {
   "cell_type": "code",
   "execution_count": 14,
   "id": "threaded-society",
   "metadata": {},
   "outputs": [
    {
     "data": {
      "text/html": [
       "<div>\n",
       "<style scoped>\n",
       "    .dataframe tbody tr th:only-of-type {\n",
       "        vertical-align: middle;\n",
       "    }\n",
       "\n",
       "    .dataframe tbody tr th {\n",
       "        vertical-align: top;\n",
       "    }\n",
       "\n",
       "    .dataframe thead th {\n",
       "        text-align: right;\n",
       "    }\n",
       "</style>\n",
       "<table border=\"1\" class=\"dataframe\">\n",
       "  <thead>\n",
       "    <tr style=\"text-align: right;\">\n",
       "      <th></th>\n",
       "      <th>account_id</th>\n",
       "      <th>ad_id</th>\n",
       "      <th>event_name</th>\n",
       "      <th>timestamp</th>\n",
       "      <th>platform</th>\n",
       "      <th>category_name</th>\n",
       "      <th>region_name</th>\n",
       "      <th>condition_ad_name</th>\n",
       "      <th>price</th>\n",
       "    </tr>\n",
       "  </thead>\n",
       "  <tbody>\n",
       "    <tr>\n",
       "      <th>0</th>\n",
       "      <td>249683985899310273</td>\n",
       "      <td>-159265360436186278</td>\n",
       "      <td>order</td>\n",
       "      <td>2018-05-16 17:33:18.350333</td>\n",
       "      <td>on_behalf</td>\n",
       "      <td>Cars</td>\n",
       "      <td>Đông Bắc Bộ</td>\n",
       "      <td>Mới</td>\n",
       "      <td>267000000.0</td>\n",
       "    </tr>\n",
       "    <tr>\n",
       "      <th>1</th>\n",
       "      <td>2753457128963724056</td>\n",
       "      <td>-6487219347028929285</td>\n",
       "      <td>order</td>\n",
       "      <td>2018-05-04 16:03:08.099983</td>\n",
       "      <td>on_behalf</td>\n",
       "      <td>Cars</td>\n",
       "      <td>Đông Bắc Bộ</td>\n",
       "      <td>Mới</td>\n",
       "      <td>399000000.0</td>\n",
       "    </tr>\n",
       "    <tr>\n",
       "      <th>2</th>\n",
       "      <td>2753457128963724056</td>\n",
       "      <td>-6487219347028929285</td>\n",
       "      <td>order</td>\n",
       "      <td>2018-05-03 15:13:42.447070</td>\n",
       "      <td>on_behalf</td>\n",
       "      <td>Cars</td>\n",
       "      <td>Đông Bắc Bộ</td>\n",
       "      <td>Mới</td>\n",
       "      <td>399000000.0</td>\n",
       "    </tr>\n",
       "    <tr>\n",
       "      <th>3</th>\n",
       "      <td>-4397739266189556976</td>\n",
       "      <td>4054922453976773054</td>\n",
       "      <td>order</td>\n",
       "      <td>2018-05-23 11:15:25.932663</td>\n",
       "      <td>on_behalf</td>\n",
       "      <td>Cars</td>\n",
       "      <td>Hà Nội</td>\n",
       "      <td>Mới</td>\n",
       "      <td>705000000.0</td>\n",
       "    </tr>\n",
       "    <tr>\n",
       "      <th>4</th>\n",
       "      <td>-8143274583979068266</td>\n",
       "      <td>3202538754056800998</td>\n",
       "      <td>order</td>\n",
       "      <td>2018-05-15 17:53:01.634923</td>\n",
       "      <td>on_behalf</td>\n",
       "      <td>Cars</td>\n",
       "      <td>Hà Nội</td>\n",
       "      <td>Mới</td>\n",
       "      <td>696000000.0</td>\n",
       "    </tr>\n",
       "    <tr>\n",
       "      <th>5</th>\n",
       "      <td>6007291878672279226</td>\n",
       "      <td>-1011458500454390912</td>\n",
       "      <td>order</td>\n",
       "      <td>2018-05-03 14:39:53.379256</td>\n",
       "      <td>on_behalf</td>\n",
       "      <td>Cars</td>\n",
       "      <td>Hà Nội</td>\n",
       "      <td>Mới</td>\n",
       "      <td>997000000.0</td>\n",
       "    </tr>\n",
       "    <tr>\n",
       "      <th>6</th>\n",
       "      <td>-8143274583979068266</td>\n",
       "      <td>-5031538607861377271</td>\n",
       "      <td>order</td>\n",
       "      <td>2018-05-02 15:54:24.157315</td>\n",
       "      <td>on_behalf</td>\n",
       "      <td>Cars</td>\n",
       "      <td>Hà Nội</td>\n",
       "      <td>Mới</td>\n",
       "      <td>259000000.0</td>\n",
       "    </tr>\n",
       "    <tr>\n",
       "      <th>7</th>\n",
       "      <td>-7148704049057146074</td>\n",
       "      <td>6927742991209753088</td>\n",
       "      <td>order</td>\n",
       "      <td>2018-05-18 13:05:14.606765</td>\n",
       "      <td>on_behalf</td>\n",
       "      <td>Cars</td>\n",
       "      <td>Hà Nội</td>\n",
       "      <td>Đã sử dụng</td>\n",
       "      <td>538000000.0</td>\n",
       "    </tr>\n",
       "    <tr>\n",
       "      <th>8</th>\n",
       "      <td>8244235460354322809</td>\n",
       "      <td>-1480006483287006729</td>\n",
       "      <td>order</td>\n",
       "      <td>2018-05-04 15:24:31.711427</td>\n",
       "      <td>on_behalf</td>\n",
       "      <td>Cars</td>\n",
       "      <td>Hà Nội</td>\n",
       "      <td>Đã sử dụng</td>\n",
       "      <td>524000000.0</td>\n",
       "    </tr>\n",
       "    <tr>\n",
       "      <th>9</th>\n",
       "      <td>7889304239213447135</td>\n",
       "      <td>-8826716990602725372</td>\n",
       "      <td>order</td>\n",
       "      <td>2018-05-15 17:46:24.973838</td>\n",
       "      <td>on_behalf</td>\n",
       "      <td>Cars</td>\n",
       "      <td>Hà Nội</td>\n",
       "      <td>Đã sử dụng</td>\n",
       "      <td>522000000.0</td>\n",
       "    </tr>\n",
       "  </tbody>\n",
       "</table>\n",
       "</div>"
      ],
      "text/plain": [
       "            account_id                ad_id event_name  \\\n",
       "0   249683985899310273  -159265360436186278      order   \n",
       "1  2753457128963724056 -6487219347028929285      order   \n",
       "2  2753457128963724056 -6487219347028929285      order   \n",
       "3 -4397739266189556976  4054922453976773054      order   \n",
       "4 -8143274583979068266  3202538754056800998      order   \n",
       "5  6007291878672279226 -1011458500454390912      order   \n",
       "6 -8143274583979068266 -5031538607861377271      order   \n",
       "7 -7148704049057146074  6927742991209753088      order   \n",
       "8  8244235460354322809 -1480006483287006729      order   \n",
       "9  7889304239213447135 -8826716990602725372      order   \n",
       "\n",
       "                    timestamp   platform category_name  region_name  \\\n",
       "0  2018-05-16 17:33:18.350333  on_behalf          Cars  Đông Bắc Bộ   \n",
       "1  2018-05-04 16:03:08.099983  on_behalf          Cars  Đông Bắc Bộ   \n",
       "2  2018-05-03 15:13:42.447070  on_behalf          Cars  Đông Bắc Bộ   \n",
       "3  2018-05-23 11:15:25.932663  on_behalf          Cars       Hà Nội   \n",
       "4  2018-05-15 17:53:01.634923  on_behalf          Cars       Hà Nội   \n",
       "5  2018-05-03 14:39:53.379256  on_behalf          Cars       Hà Nội   \n",
       "6  2018-05-02 15:54:24.157315  on_behalf          Cars       Hà Nội   \n",
       "7  2018-05-18 13:05:14.606765  on_behalf          Cars       Hà Nội   \n",
       "8  2018-05-04 15:24:31.711427  on_behalf          Cars       Hà Nội   \n",
       "9  2018-05-15 17:46:24.973838  on_behalf          Cars       Hà Nội   \n",
       "\n",
       "  condition_ad_name        price  \n",
       "0               Mới  267000000.0  \n",
       "1               Mới  399000000.0  \n",
       "2               Mới  399000000.0  \n",
       "3               Mới  705000000.0  \n",
       "4               Mới  696000000.0  \n",
       "5               Mới  997000000.0  \n",
       "6               Mới  259000000.0  \n",
       "7        Đã sử dụng  538000000.0  \n",
       "8        Đã sử dụng  524000000.0  \n",
       "9        Đã sử dụng  522000000.0  "
      ]
     },
     "execution_count": 14,
     "metadata": {},
     "output_type": "execute_result"
    }
   ],
   "source": [
    "df=pd.read_csv('sample_data.csv')\n",
    "df.head(10)"
   ]
  },
  {
   "cell_type": "markdown",
   "id": "marine-starter",
   "metadata": {},
   "source": [
    "# 1- How many distinct account_id on each platform?"
   ]
  },
  {
   "cell_type": "code",
   "execution_count": 21,
   "id": "hidden-optimization",
   "metadata": {},
   "outputs": [
    {
     "data": {
      "text/plain": [
       "platform\n",
       "android         10789\n",
       "desktop_web     11910\n",
       "ios             10773\n",
       "mobile_web       6154\n",
       "on_behalf          36\n",
       "unknown        108990\n",
       "Name: account_id, dtype: int64"
      ]
     },
     "execution_count": 21,
     "metadata": {},
     "output_type": "execute_result"
    }
   ],
   "source": [
    "df.groupby('platform').account_id.nunique()"
   ]
  },
  {
   "cell_type": "markdown",
   "id": "individual-dependence",
   "metadata": {},
   "source": [
    "# 2- How many distinct ad_id on each platform?"
   ]
  },
  {
   "cell_type": "code",
   "execution_count": 19,
   "id": "sized-christianity",
   "metadata": {},
   "outputs": [
    {
     "data": {
      "text/plain": [
       "platform\n",
       "android         130551\n",
       "desktop_web     144673\n",
       "ios             144161\n",
       "mobile_web       40165\n",
       "on_behalf           82\n",
       "unknown        3669226\n",
       "Name: ad_id, dtype: int64"
      ]
     },
     "execution_count": 19,
     "metadata": {},
     "output_type": "execute_result"
    }
   ],
   "source": [
    "df.groupby('platform').ad_id.nunique()"
   ]
  },
  {
   "cell_type": "markdown",
   "id": "proper-relation",
   "metadata": {},
   "source": [
    "# 3- For each category_name how many ad is advertised?"
   ]
  },
  {
   "cell_type": "code",
   "execution_count": 42,
   "id": "consecutive-pendant",
   "metadata": {},
   "outputs": [
    {
     "data": {
      "text/plain": [
       "category_name\n",
       "Accessories                                     23379\n",
       "Aircon                                            269\n",
       "Bags                                             3816\n",
       "Bicycles                                        20507\n",
       "Bird                                            16786\n",
       "Books                                              34\n",
       "Cameras, Video Cameras                          13571\n",
       "Cars                                           120068\n",
       "Clothes                                         10014\n",
       "Collectibles, Antiques                           7952\n",
       "Computers, Laptops                              95975\n",
       "Desktop                                         10335\n",
       "Dog                                             15345\n",
       "Electric vehicles                               23747\n",
       "Fridge                                         149317\n",
       "Funiture, Plants                                47791\n",
       "Household drawer & shelf                           52\n",
       "Household table & chair                            78\n",
       "Jobs - Legacy cat                                   5\n",
       "Jobs looking for people                             4\n",
       "Kitchen appliance                                 792\n",
       "Kitchen utensil & dinnerware                       23\n",
       "Mobile Phones                                  224728\n",
       "Mom and kids                                     9158\n",
       "Motorbikes                                     521407\n",
       "Musical instruments                             32764\n",
       "Office Equipments                               22793\n",
       "Other Vehicles                                    460\n",
       "Other accessories                                8831\n",
       "Other hobbies                                     243\n",
       "Other household items                           54169\n",
       "Other household items 14110                       104\n",
       "Other pets & equipments                          9588\n",
       "Others                                           1045\n",
       "PTY-Apartments                                    356\n",
       "PTY-Houses                                       3201\n",
       "PTY-Office, Commercial Properties               18940\n",
       "PTY-Rooms                                         939\n",
       "People looking for jobs                             4\n",
       "Perfume                                           555\n",
       "Rooster                                         24033\n",
       "Services                                         2191\n",
       "Shoes                                           13721\n",
       "Specialized equipments, Agricultural breeds     44287\n",
       "Sports, Outdoors                                 2340\n",
       "TV, Speakers, MP3 players                       62393\n",
       "Tablets                                         19402\n",
       "Travel                                            171\n",
       "Trucks                                          37043\n",
       "Vehicles parts, Accessories                     38963\n",
       "Video games                                       330\n",
       "Washing machine                                   202\n",
       "Watch                                           47584\n",
       "Name: condition_ad_name, dtype: int64"
      ]
     },
     "execution_count": 42,
     "metadata": {},
     "output_type": "execute_result"
    }
   ],
   "source": [
    "df.query('condition_ad_name == \"Đã sử dụng\"').groupby('category_name').condition_ad_name.count()"
   ]
  },
  {
   "cell_type": "markdown",
   "id": "retired-sauce",
   "metadata": {},
   "source": [
    "# 4- Give me top 5 category_name having the highest number of ads?\n"
   ]
  },
  {
   "cell_type": "code",
   "execution_count": 43,
   "id": "abstract-cooperation",
   "metadata": {},
   "outputs": [
    {
     "data": {
      "text/plain": [
       "category_name\n",
       "People looking for jobs          4\n",
       "Jobs looking for people          4\n",
       "Jobs - Legacy cat                5\n",
       "Kitchen utensil & dinnerware    23\n",
       "Books                           34\n",
       "Name: condition_ad_name, dtype: int64"
      ]
     },
     "execution_count": 43,
     "metadata": {},
     "output_type": "execute_result"
    }
   ],
   "source": [
    "df.query('condition_ad_name == \"Đã sử dụng\"').groupby('category_name').condition_ad_name.count().sort_values().head(5)"
   ]
  },
  {
   "cell_type": "markdown",
   "id": "tight-marathon",
   "metadata": {},
   "source": [
    "# 5- Give me top 5 category_name having lowest number of ads?"
   ]
  },
  {
   "cell_type": "code",
   "execution_count": 45,
   "id": "given-philosophy",
   "metadata": {},
   "outputs": [
    {
     "data": {
      "text/plain": [
       "category_name\n",
       "Motorbikes            521407\n",
       "Mobile Phones         224728\n",
       "Fridge                149317\n",
       "Cars                  120068\n",
       "Computers, Laptops     95975\n",
       "Name: condition_ad_name, dtype: int64"
      ]
     },
     "execution_count": 45,
     "metadata": {},
     "output_type": "execute_result"
    }
   ],
   "source": [
    "df.query('condition_ad_name == \"Đã sử dụng\"').groupby('category_name').condition_ad_name.count().sort_values(ascending=False).head(5)"
   ]
  },
  {
   "cell_type": "markdown",
   "id": "provincial-prevention",
   "metadata": {},
   "source": [
    "# 6- Give me the average price for all distinct ads within each category?"
   ]
  },
  {
   "cell_type": "code",
   "execution_count": 64,
   "id": "lonely-software",
   "metadata": {},
   "outputs": [
    {
     "data": {
      "text/plain": [
       "category_name\n",
       "Accessories                      8808.541663\n",
       "Aircon                           5913.818182\n",
       "Bags                            80263.872308\n",
       "Bed & bedding                    1482.935982\n",
       "Bicycles                         3262.725930\n",
       "                                   ...      \n",
       "Trucks                         669394.103444\n",
       "Vehicles parts, Accessories    114122.494777\n",
       "Video games                      2210.399386\n",
       "Washing machine                 13493.069307\n",
       "Watch                           35961.610884\n",
       "Name: price, Length: 64, dtype: float64"
      ]
     },
     "execution_count": 64,
     "metadata": {},
     "output_type": "execute_result"
    }
   ],
   "source": [
    "df.groupby('category_name')['price'].agg('mean')/1000\n"
   ]
  },
  {
   "cell_type": "markdown",
   "id": "delayed-verse",
   "metadata": {},
   "source": [
    "# 7- Give me the average price for all distinct ads within each region_name?"
   ]
  },
  {
   "cell_type": "code",
   "execution_count": 63,
   "id": "tired-melbourne",
   "metadata": {},
   "outputs": [
    {
     "data": {
      "text/plain": [
       "region_name\n",
       "Bình Trị Thừa Thiên Huế          41431.877364\n",
       "Các tỉnh lân cận Hà Nội          31869.629154\n",
       "Cần Thơ - Tây Nam Bộ             41019.159452\n",
       "Hà Nội                           66451.608124\n",
       "Hải Phòng Nam Định Thái Bình     15734.034064\n",
       "Nam Trung Bộ                     90591.124442\n",
       "Quảng Nam Đà Nẵng                94129.904612\n",
       "Thanh Nghệ Tĩnh                  24427.150190\n",
       "Tp Hồ Chí Minh                  130287.189331\n",
       "Tây Bắc Bộ                       36168.779918\n",
       "Tây Nguyên                       60759.892473\n",
       "Đông Bắc Bộ                      23125.459269\n",
       "Đông Nam Bộ                      70974.057784\n",
       "Name: price, dtype: float64"
      ]
     },
     "execution_count": 63,
     "metadata": {},
     "output_type": "execute_result"
    }
   ],
   "source": [
    "df.groupby('region_name')['price'].agg('mean')/10000"
   ]
  },
  {
   "cell_type": "markdown",
   "id": "innocent-saint",
   "metadata": {},
   "source": [
    "# 8- Give details of condition_ad_name for all ads within each category? For example, for category cars,how may ads is 'Moi', 'Da su dung', and 'NaN'\n"
   ]
  },
  {
   "cell_type": "code",
   "execution_count": 66,
   "id": "mechanical-representative",
   "metadata": {},
   "outputs": [
    {
     "data": {
      "text/plain": [
       "dtype('O')"
      ]
     },
     "execution_count": 66,
     "metadata": {},
     "output_type": "execute_result"
    }
   ],
   "source": []
  },
  {
   "cell_type": "markdown",
   "id": "universal-entrepreneur",
   "metadata": {},
   "source": [
    "# 9 - Which month in 2018 we see the highest number of (distinct ads)?"
   ]
  },
  {
   "cell_type": "code",
   "execution_count": null,
   "id": "planned-weapon",
   "metadata": {},
   "outputs": [],
   "source": []
  },
  {
   "cell_type": "markdown",
   "id": "informative-advice",
   "metadata": {},
   "source": [
    "# 10- Compare the distinct ads per hour in September, October, and November? Which month and which hour has top ads?"
   ]
  },
  {
   "cell_type": "code",
   "execution_count": null,
   "id": "coastal-favorite",
   "metadata": {},
   "outputs": [],
   "source": []
  }
 ],
 "metadata": {
  "kernelspec": {
   "display_name": "Python 3",
   "language": "python",
   "name": "python3"
  },
  "language_info": {
   "codemirror_mode": {
    "name": "ipython",
    "version": 3
   },
   "file_extension": ".py",
   "mimetype": "text/x-python",
   "name": "python",
   "nbconvert_exporter": "python",
   "pygments_lexer": "ipython3",
   "version": "3.7.10"
  }
 },
 "nbformat": 4,
 "nbformat_minor": 5
}
