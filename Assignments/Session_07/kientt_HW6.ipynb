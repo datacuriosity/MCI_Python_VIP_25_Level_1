{
 "cells": [
  {
   "cell_type": "code",
   "execution_count": 1,
   "id": "educated-billion",
   "metadata": {},
   "outputs": [],
   "source": [
    "import numpy as np\n",
    "import seaborn as sns\n",
    "import matplotlib.pyplot as plt\n",
    "import pandas as pd"
   ]
  },
  {
   "cell_type": "code",
   "execution_count": 2,
   "id": "atomic-navigator",
   "metadata": {},
   "outputs": [],
   "source": [
    "df = pd.read_csv('../Session_04/sample_data.csv', parse_dates = ['timestamp']) # dùng parse_dates để chuyển đổi thời gian từ dạng string => time"
   ]
  },
  {
   "cell_type": "code",
   "execution_count": 62,
   "id": "welsh-trainer",
   "metadata": {},
   "outputs": [
    {
     "data": {
      "text/plain": [
       "Timestamp('2018-05-16 17:33:18.350333')"
      ]
     },
     "execution_count": 62,
     "metadata": {},
     "output_type": "execute_result"
    }
   ],
   "source": [
    "df.timestamp.iloc[0]"
   ]
  },
  {
   "cell_type": "code",
   "execution_count": 3,
   "id": "contained-characteristic",
   "metadata": {},
   "outputs": [],
   "source": [
    "df['account_type'] = 'New' #Tao 1 column với giá trị 'New' có tên là account_type"
   ]
  },
  {
   "cell_type": "code",
   "execution_count": 59,
   "id": "psychological-christmas",
   "metadata": {},
   "outputs": [
    {
     "data": {
      "text/html": [
       "<div>\n",
       "<style scoped>\n",
       "    .dataframe tbody tr th:only-of-type {\n",
       "        vertical-align: middle;\n",
       "    }\n",
       "\n",
       "    .dataframe tbody tr th {\n",
       "        vertical-align: top;\n",
       "    }\n",
       "\n",
       "    .dataframe thead th {\n",
       "        text-align: right;\n",
       "    }\n",
       "</style>\n",
       "<table border=\"1\" class=\"dataframe\">\n",
       "  <thead>\n",
       "    <tr style=\"text-align: right;\">\n",
       "      <th></th>\n",
       "      <th>account_id</th>\n",
       "      <th>ad_id</th>\n",
       "      <th>event_name</th>\n",
       "      <th>timestamp</th>\n",
       "      <th>platform</th>\n",
       "      <th>category_name</th>\n",
       "      <th>region_name</th>\n",
       "      <th>condition_ad_name</th>\n",
       "      <th>price</th>\n",
       "      <th>time</th>\n",
       "      <th>account_type</th>\n",
       "    </tr>\n",
       "  </thead>\n",
       "  <tbody>\n",
       "    <tr>\n",
       "      <th>0</th>\n",
       "      <td>2.496840e+17</td>\n",
       "      <td>-1.592654e+17</td>\n",
       "      <td>order</td>\n",
       "      <td>2018-05-16 17:33:18.350333</td>\n",
       "      <td>on_behalf</td>\n",
       "      <td>Cars</td>\n",
       "      <td>Đông Bắc Bộ</td>\n",
       "      <td>Mới</td>\n",
       "      <td>2.670000e+08</td>\n",
       "      <td>2018-05-16 17:33:18.350333</td>\n",
       "      <td>New</td>\n",
       "    </tr>\n",
       "    <tr>\n",
       "      <th>1</th>\n",
       "      <td>2.753457e+18</td>\n",
       "      <td>-6.487219e+18</td>\n",
       "      <td>order</td>\n",
       "      <td>2018-05-04 16:03:08.099983</td>\n",
       "      <td>on_behalf</td>\n",
       "      <td>Cars</td>\n",
       "      <td>Đông Bắc Bộ</td>\n",
       "      <td>Mới</td>\n",
       "      <td>3.990000e+08</td>\n",
       "      <td>2018-05-04 16:03:08.099983</td>\n",
       "      <td>New</td>\n",
       "    </tr>\n",
       "    <tr>\n",
       "      <th>2</th>\n",
       "      <td>2.753457e+18</td>\n",
       "      <td>-6.487219e+18</td>\n",
       "      <td>order</td>\n",
       "      <td>2018-05-03 15:13:42.447070</td>\n",
       "      <td>on_behalf</td>\n",
       "      <td>Cars</td>\n",
       "      <td>Đông Bắc Bộ</td>\n",
       "      <td>Mới</td>\n",
       "      <td>3.990000e+08</td>\n",
       "      <td>2018-05-03 15:13:42.447070</td>\n",
       "      <td>New</td>\n",
       "    </tr>\n",
       "    <tr>\n",
       "      <th>3</th>\n",
       "      <td>-4.397739e+18</td>\n",
       "      <td>4.054922e+18</td>\n",
       "      <td>order</td>\n",
       "      <td>2018-05-23 11:15:25.932663</td>\n",
       "      <td>on_behalf</td>\n",
       "      <td>Cars</td>\n",
       "      <td>Hà Nội</td>\n",
       "      <td>Mới</td>\n",
       "      <td>7.050000e+08</td>\n",
       "      <td>2018-05-23 11:15:25.932663</td>\n",
       "      <td>Old</td>\n",
       "    </tr>\n",
       "    <tr>\n",
       "      <th>4</th>\n",
       "      <td>-8.143275e+18</td>\n",
       "      <td>3.202539e+18</td>\n",
       "      <td>order</td>\n",
       "      <td>2018-05-15 17:53:01.634923</td>\n",
       "      <td>on_behalf</td>\n",
       "      <td>Cars</td>\n",
       "      <td>Hà Nội</td>\n",
       "      <td>Mới</td>\n",
       "      <td>6.960000e+08</td>\n",
       "      <td>2018-05-15 17:53:01.634923</td>\n",
       "      <td>New</td>\n",
       "    </tr>\n",
       "    <tr>\n",
       "      <th>...</th>\n",
       "      <td>...</td>\n",
       "      <td>...</td>\n",
       "      <td>...</td>\n",
       "      <td>...</td>\n",
       "      <td>...</td>\n",
       "      <td>...</td>\n",
       "      <td>...</td>\n",
       "      <td>...</td>\n",
       "      <td>...</td>\n",
       "      <td>...</td>\n",
       "      <td>...</td>\n",
       "    </tr>\n",
       "    <tr>\n",
       "      <th>5263295</th>\n",
       "      <td>-1.208871e+18</td>\n",
       "      <td>-4.114509e+18</td>\n",
       "      <td>order</td>\n",
       "      <td>2018-02-21 17:03:44.234105</td>\n",
       "      <td>desktop_web</td>\n",
       "      <td>TV, Speakers, MP3 players</td>\n",
       "      <td>Hải Phòng Nam Định Thái Bình</td>\n",
       "      <td>NaN</td>\n",
       "      <td>5.500000e+05</td>\n",
       "      <td>2018-02-21 17:03:44.234105</td>\n",
       "      <td>New</td>\n",
       "    </tr>\n",
       "    <tr>\n",
       "      <th>5263296</th>\n",
       "      <td>9.118533e+18</td>\n",
       "      <td>2.103537e+18</td>\n",
       "      <td>order</td>\n",
       "      <td>2018-12-06 14:22:24.461284</td>\n",
       "      <td>desktop_web</td>\n",
       "      <td>PTY-Houses</td>\n",
       "      <td>Hải Phòng Nam Định Thái Bình</td>\n",
       "      <td>NaN</td>\n",
       "      <td>1.800000e+09</td>\n",
       "      <td>2018-12-06 14:22:24.461284</td>\n",
       "      <td>New</td>\n",
       "    </tr>\n",
       "    <tr>\n",
       "      <th>5263297</th>\n",
       "      <td>1.718508e+18</td>\n",
       "      <td>-1.564017e+18</td>\n",
       "      <td>order</td>\n",
       "      <td>2018-04-07 09:22:23.395420</td>\n",
       "      <td>desktop_web</td>\n",
       "      <td>Specialized equipments, Agricultural breeds</td>\n",
       "      <td>Hải Phòng Nam Định Thái Bình</td>\n",
       "      <td>Mới</td>\n",
       "      <td>4.900000e+05</td>\n",
       "      <td>2018-04-07 09:22:23.395420</td>\n",
       "      <td>New</td>\n",
       "    </tr>\n",
       "    <tr>\n",
       "      <th>sort_time_value[i]</th>\n",
       "      <td>NaN</td>\n",
       "      <td>NaN</td>\n",
       "      <td>NaN</td>\n",
       "      <td>NaN</td>\n",
       "      <td>NaN</td>\n",
       "      <td>NaN</td>\n",
       "      <td>NaN</td>\n",
       "      <td>NaN</td>\n",
       "      <td>NaN</td>\n",
       "      <td>NaT</td>\n",
       "      <td>New</td>\n",
       "    </tr>\n",
       "    <tr>\n",
       "      <th>sort_time_value[2]</th>\n",
       "      <td>NaN</td>\n",
       "      <td>NaN</td>\n",
       "      <td>NaN</td>\n",
       "      <td>NaN</td>\n",
       "      <td>NaN</td>\n",
       "      <td>NaN</td>\n",
       "      <td>NaN</td>\n",
       "      <td>NaN</td>\n",
       "      <td>NaN</td>\n",
       "      <td>NaT</td>\n",
       "      <td>New</td>\n",
       "    </tr>\n",
       "  </tbody>\n",
       "</table>\n",
       "<p>5263300 rows × 11 columns</p>\n",
       "</div>"
      ],
      "text/plain": [
       "                      account_id         ad_id event_name  \\\n",
       "0                   2.496840e+17 -1.592654e+17      order   \n",
       "1                   2.753457e+18 -6.487219e+18      order   \n",
       "2                   2.753457e+18 -6.487219e+18      order   \n",
       "3                  -4.397739e+18  4.054922e+18      order   \n",
       "4                  -8.143275e+18  3.202539e+18      order   \n",
       "...                          ...           ...        ...   \n",
       "5263295            -1.208871e+18 -4.114509e+18      order   \n",
       "5263296             9.118533e+18  2.103537e+18      order   \n",
       "5263297             1.718508e+18 -1.564017e+18      order   \n",
       "sort_time_value[i]           NaN           NaN        NaN   \n",
       "sort_time_value[2]           NaN           NaN        NaN   \n",
       "\n",
       "                                     timestamp     platform  \\\n",
       "0                   2018-05-16 17:33:18.350333    on_behalf   \n",
       "1                   2018-05-04 16:03:08.099983    on_behalf   \n",
       "2                   2018-05-03 15:13:42.447070    on_behalf   \n",
       "3                   2018-05-23 11:15:25.932663    on_behalf   \n",
       "4                   2018-05-15 17:53:01.634923    on_behalf   \n",
       "...                                        ...          ...   \n",
       "5263295             2018-02-21 17:03:44.234105  desktop_web   \n",
       "5263296             2018-12-06 14:22:24.461284  desktop_web   \n",
       "5263297             2018-04-07 09:22:23.395420  desktop_web   \n",
       "sort_time_value[i]                         NaN          NaN   \n",
       "sort_time_value[2]                         NaN          NaN   \n",
       "\n",
       "                                                  category_name  \\\n",
       "0                                                          Cars   \n",
       "1                                                          Cars   \n",
       "2                                                          Cars   \n",
       "3                                                          Cars   \n",
       "4                                                          Cars   \n",
       "...                                                         ...   \n",
       "5263295                               TV, Speakers, MP3 players   \n",
       "5263296                                              PTY-Houses   \n",
       "5263297             Specialized equipments, Agricultural breeds   \n",
       "sort_time_value[i]                                          NaN   \n",
       "sort_time_value[2]                                          NaN   \n",
       "\n",
       "                                     region_name condition_ad_name  \\\n",
       "0                                    Đông Bắc Bộ               Mới   \n",
       "1                                    Đông Bắc Bộ               Mới   \n",
       "2                                    Đông Bắc Bộ               Mới   \n",
       "3                                         Hà Nội               Mới   \n",
       "4                                         Hà Nội               Mới   \n",
       "...                                          ...               ...   \n",
       "5263295             Hải Phòng Nam Định Thái Bình               NaN   \n",
       "5263296             Hải Phòng Nam Định Thái Bình               NaN   \n",
       "5263297             Hải Phòng Nam Định Thái Bình               Mới   \n",
       "sort_time_value[i]                           NaN               NaN   \n",
       "sort_time_value[2]                           NaN               NaN   \n",
       "\n",
       "                           price                       time account_type  \n",
       "0                   2.670000e+08 2018-05-16 17:33:18.350333          New  \n",
       "1                   3.990000e+08 2018-05-04 16:03:08.099983          New  \n",
       "2                   3.990000e+08 2018-05-03 15:13:42.447070          New  \n",
       "3                   7.050000e+08 2018-05-23 11:15:25.932663          Old  \n",
       "4                   6.960000e+08 2018-05-15 17:53:01.634923          New  \n",
       "...                          ...                        ...          ...  \n",
       "5263295             5.500000e+05 2018-02-21 17:03:44.234105          New  \n",
       "5263296             1.800000e+09 2018-12-06 14:22:24.461284          New  \n",
       "5263297             4.900000e+05 2018-04-07 09:22:23.395420          New  \n",
       "sort_time_value[i]           NaN                        NaT          New  \n",
       "sort_time_value[2]           NaN                        NaT          New  \n",
       "\n",
       "[5263300 rows x 11 columns]"
      ]
     },
     "execution_count": 59,
     "metadata": {},
     "output_type": "execute_result"
    }
   ],
   "source": [
    "df"
   ]
  },
  {
   "cell_type": "markdown",
   "id": "conscious-consultation",
   "metadata": {},
   "source": [
    "# Solution for Task 1"
   ]
  },
  {
   "cell_type": "code",
   "execution_count": 4,
   "id": "departmental-aquatic",
   "metadata": {},
   "outputs": [],
   "source": [
    "# Solution:\n",
    "df.sort_values(by = ['account_id', 'timestamp'], ascending = [True,False], inplace = True)"
   ]
  },
  {
   "cell_type": "code",
   "execution_count": 5,
   "id": "proprietary-startup",
   "metadata": {},
   "outputs": [],
   "source": [
    "account_type  = lambda x: x.timestamp - x.timestamp.shift(-1)\n",
    "account_type = df.groupby('account_id').apply(account_type)\n",
    "days = account_type.to_frame().reset_index()['timestamp'].dt.days\n",
    "df['account_type'] = np.where(days > 30, 'new', np.where(days<30, 'old','new'))"
   ]
  },
  {
   "cell_type": "code",
   "execution_count": 33,
   "id": "athletic-mattress",
   "metadata": {},
   "outputs": [
    {
     "data": {
      "text/html": [
       "<div>\n",
       "<style scoped>\n",
       "    .dataframe tbody tr th:only-of-type {\n",
       "        vertical-align: middle;\n",
       "    }\n",
       "\n",
       "    .dataframe tbody tr th {\n",
       "        vertical-align: top;\n",
       "    }\n",
       "\n",
       "    .dataframe thead th {\n",
       "        text-align: right;\n",
       "    }\n",
       "</style>\n",
       "<table border=\"1\" class=\"dataframe\">\n",
       "  <thead>\n",
       "    <tr style=\"text-align: right;\">\n",
       "      <th></th>\n",
       "      <th>account_id</th>\n",
       "      <th>ad_id</th>\n",
       "      <th>event_name</th>\n",
       "      <th>timestamp</th>\n",
       "      <th>platform</th>\n",
       "      <th>category_name</th>\n",
       "      <th>region_name</th>\n",
       "      <th>condition_ad_name</th>\n",
       "      <th>price</th>\n",
       "      <th>account_type</th>\n",
       "      <th>month</th>\n",
       "      <th>Week</th>\n",
       "    </tr>\n",
       "  </thead>\n",
       "  <tbody>\n",
       "    <tr>\n",
       "      <th>1406849</th>\n",
       "      <td>-9223336493830730905</td>\n",
       "      <td>3088179676471213070</td>\n",
       "      <td>insert</td>\n",
       "      <td>2018-01-21 17:21:35.069056</td>\n",
       "      <td>unknown</td>\n",
       "      <td>Mobile Phones</td>\n",
       "      <td>Hà Nội</td>\n",
       "      <td>NaN</td>\n",
       "      <td>5900000.0</td>\n",
       "      <td>old</td>\n",
       "      <td>1</td>\n",
       "      <td>03</td>\n",
       "    </tr>\n",
       "    <tr>\n",
       "      <th>1343878</th>\n",
       "      <td>-9223336493830730905</td>\n",
       "      <td>-5279128860130030977</td>\n",
       "      <td>insert</td>\n",
       "      <td>2018-01-03 17:00:08.497463</td>\n",
       "      <td>unknown</td>\n",
       "      <td>Tablets</td>\n",
       "      <td>Hà Nội</td>\n",
       "      <td>NaN</td>\n",
       "      <td>2470000.0</td>\n",
       "      <td>old</td>\n",
       "      <td>1</td>\n",
       "      <td>00</td>\n",
       "    </tr>\n",
       "    <tr>\n",
       "      <th>1408567</th>\n",
       "      <td>-9223336493830730905</td>\n",
       "      <td>-2462399768676748292</td>\n",
       "      <td>insert</td>\n",
       "      <td>2018-01-02 11:21:05.008605</td>\n",
       "      <td>unknown</td>\n",
       "      <td>Mobile Phones</td>\n",
       "      <td>Hà Nội</td>\n",
       "      <td>NaN</td>\n",
       "      <td>4700000.0</td>\n",
       "      <td>new</td>\n",
       "      <td>1</td>\n",
       "      <td>00</td>\n",
       "    </tr>\n",
       "    <tr>\n",
       "      <th>2560039</th>\n",
       "      <td>-9223105201273952408</td>\n",
       "      <td>-177089586640378831</td>\n",
       "      <td>insert</td>\n",
       "      <td>2018-06-13 10:28:39.587018</td>\n",
       "      <td>unknown</td>\n",
       "      <td>Cars</td>\n",
       "      <td>Tp Hồ Chí Minh</td>\n",
       "      <td>Đã sử dụng</td>\n",
       "      <td>300000000.0</td>\n",
       "      <td>new</td>\n",
       "      <td>6</td>\n",
       "      <td>23</td>\n",
       "    </tr>\n",
       "    <tr>\n",
       "      <th>3168169</th>\n",
       "      <td>-9223105201273952408</td>\n",
       "      <td>3166031885300745638</td>\n",
       "      <td>insert</td>\n",
       "      <td>2018-04-28 09:04:42.139687</td>\n",
       "      <td>unknown</td>\n",
       "      <td>Mobile Phones</td>\n",
       "      <td>Tp Hồ Chí Minh</td>\n",
       "      <td>NaN</td>\n",
       "      <td>1000000.0</td>\n",
       "      <td>old</td>\n",
       "      <td>4</td>\n",
       "      <td>16</td>\n",
       "    </tr>\n",
       "  </tbody>\n",
       "</table>\n",
       "</div>"
      ],
      "text/plain": [
       "                  account_id                ad_id event_name  \\\n",
       "1406849 -9223336493830730905  3088179676471213070     insert   \n",
       "1343878 -9223336493830730905 -5279128860130030977     insert   \n",
       "1408567 -9223336493830730905 -2462399768676748292     insert   \n",
       "2560039 -9223105201273952408  -177089586640378831     insert   \n",
       "3168169 -9223105201273952408  3166031885300745638     insert   \n",
       "\n",
       "                         timestamp platform  category_name     region_name  \\\n",
       "1406849 2018-01-21 17:21:35.069056  unknown  Mobile Phones          Hà Nội   \n",
       "1343878 2018-01-03 17:00:08.497463  unknown        Tablets          Hà Nội   \n",
       "1408567 2018-01-02 11:21:05.008605  unknown  Mobile Phones          Hà Nội   \n",
       "2560039 2018-06-13 10:28:39.587018  unknown           Cars  Tp Hồ Chí Minh   \n",
       "3168169 2018-04-28 09:04:42.139687  unknown  Mobile Phones  Tp Hồ Chí Minh   \n",
       "\n",
       "        condition_ad_name        price account_type  month Week  \n",
       "1406849               NaN    5900000.0          old      1   03  \n",
       "1343878               NaN    2470000.0          old      1   00  \n",
       "1408567               NaN    4700000.0          new      1   00  \n",
       "2560039        Đã sử dụng  300000000.0          new      6   23  \n",
       "3168169               NaN    1000000.0          old      4   16  "
      ]
     },
     "execution_count": 33,
     "metadata": {},
     "output_type": "execute_result"
    }
   ],
   "source": [
    "df.head()"
   ]
  },
  {
   "cell_type": "markdown",
   "id": "australian-healing",
   "metadata": {},
   "source": [
    "Dựa vào thông tin account_type vẽ biểu đồ thể hiện sự thay đổi, số account cũ và mới theo tháng, theo\n",
    "tuần, theo ngày (nếu số ngày quá nhiều có thể bỏ qua để hình vẽ được gọn gàng).\n"
   ]
  },
  {
   "cell_type": "code",
   "execution_count": 124,
   "id": "unlimited-negative",
   "metadata": {},
   "outputs": [
    {
     "data": {
      "text/plain": [
       "<AxesSubplot:xlabel='Week', ylabel='account_type'>"
      ]
     },
     "execution_count": 124,
     "metadata": {},
     "output_type": "execute_result"
    },
    {
     "data": {
      "image/png": "[encoded data removed]",
      "text/plain": [
       "<Figure size 432x288 with 1 Axes>"
      ]
     },
     "metadata": {
      "needs_background": "light"
     },
     "output_type": "display_data"
    }
   ],
   "source": [
    "# Vẽ biểu đồ theo tuần\n",
    "sns.lineplot(data = df.groupby(['Week', 'account_type']).account_type.count(), x = 'Week', y =df.groupby(['Week', 'account_type']).account_type.count())"
   ]
  },
  {
   "cell_type": "code",
   "execution_count": 44,
   "id": "placed-municipality",
   "metadata": {},
   "outputs": [],
   "source": [
    "df['month'] = df.timestamp.dt.month\n",
    "df['Week'] = df.timestamp.dt.isocalendar().week\n",
    "df['day'] = df.timestamp.dt.dayofyear"
   ]
  },
  {
   "cell_type": "code",
   "execution_count": 55,
   "id": "sapphire-customs",
   "metadata": {},
   "outputs": [
    {
     "data": {
      "text/html": [
       "<div>\n",
       "<style scoped>\n",
       "    .dataframe tbody tr th:only-of-type {\n",
       "        vertical-align: middle;\n",
       "    }\n",
       "\n",
       "    .dataframe tbody tr th {\n",
       "        vertical-align: top;\n",
       "    }\n",
       "\n",
       "    .dataframe thead th {\n",
       "        text-align: right;\n",
       "    }\n",
       "</style>\n",
       "<table border=\"1\" class=\"dataframe\">\n",
       "  <thead>\n",
       "    <tr style=\"text-align: right;\">\n",
       "      <th></th>\n",
       "      <th>account_id</th>\n",
       "      <th>ad_id</th>\n",
       "      <th>event_name</th>\n",
       "      <th>timestamp</th>\n",
       "      <th>platform</th>\n",
       "      <th>category_name</th>\n",
       "      <th>region_name</th>\n",
       "      <th>condition_ad_name</th>\n",
       "      <th>price</th>\n",
       "      <th>account_type</th>\n",
       "      <th>month</th>\n",
       "      <th>Week</th>\n",
       "      <th>day</th>\n",
       "    </tr>\n",
       "  </thead>\n",
       "  <tbody>\n",
       "    <tr>\n",
       "      <th>1406849</th>\n",
       "      <td>-9223336493830730905</td>\n",
       "      <td>3088179676471213070</td>\n",
       "      <td>insert</td>\n",
       "      <td>2018-01-21 17:21:35.069056</td>\n",
       "      <td>unknown</td>\n",
       "      <td>Mobile Phones</td>\n",
       "      <td>Hà Nội</td>\n",
       "      <td>NaN</td>\n",
       "      <td>5900000.0</td>\n",
       "      <td>old</td>\n",
       "      <td>1</td>\n",
       "      <td>3</td>\n",
       "      <td>21</td>\n",
       "    </tr>\n",
       "    <tr>\n",
       "      <th>1343878</th>\n",
       "      <td>-9223336493830730905</td>\n",
       "      <td>-5279128860130030977</td>\n",
       "      <td>insert</td>\n",
       "      <td>2018-01-03 17:00:08.497463</td>\n",
       "      <td>unknown</td>\n",
       "      <td>Tablets</td>\n",
       "      <td>Hà Nội</td>\n",
       "      <td>NaN</td>\n",
       "      <td>2470000.0</td>\n",
       "      <td>old</td>\n",
       "      <td>1</td>\n",
       "      <td>1</td>\n",
       "      <td>3</td>\n",
       "    </tr>\n",
       "    <tr>\n",
       "      <th>1408567</th>\n",
       "      <td>-9223336493830730905</td>\n",
       "      <td>-2462399768676748292</td>\n",
       "      <td>insert</td>\n",
       "      <td>2018-01-02 11:21:05.008605</td>\n",
       "      <td>unknown</td>\n",
       "      <td>Mobile Phones</td>\n",
       "      <td>Hà Nội</td>\n",
       "      <td>NaN</td>\n",
       "      <td>4700000.0</td>\n",
       "      <td>new</td>\n",
       "      <td>1</td>\n",
       "      <td>1</td>\n",
       "      <td>2</td>\n",
       "    </tr>\n",
       "    <tr>\n",
       "      <th>2560039</th>\n",
       "      <td>-9223105201273952408</td>\n",
       "      <td>-177089586640378831</td>\n",
       "      <td>insert</td>\n",
       "      <td>2018-06-13 10:28:39.587018</td>\n",
       "      <td>unknown</td>\n",
       "      <td>Cars</td>\n",
       "      <td>Tp Hồ Chí Minh</td>\n",
       "      <td>Đã sử dụng</td>\n",
       "      <td>300000000.0</td>\n",
       "      <td>new</td>\n",
       "      <td>6</td>\n",
       "      <td>24</td>\n",
       "      <td>164</td>\n",
       "    </tr>\n",
       "    <tr>\n",
       "      <th>3168169</th>\n",
       "      <td>-9223105201273952408</td>\n",
       "      <td>3166031885300745638</td>\n",
       "      <td>insert</td>\n",
       "      <td>2018-04-28 09:04:42.139687</td>\n",
       "      <td>unknown</td>\n",
       "      <td>Mobile Phones</td>\n",
       "      <td>Tp Hồ Chí Minh</td>\n",
       "      <td>NaN</td>\n",
       "      <td>1000000.0</td>\n",
       "      <td>old</td>\n",
       "      <td>4</td>\n",
       "      <td>17</td>\n",
       "      <td>118</td>\n",
       "    </tr>\n",
       "  </tbody>\n",
       "</table>\n",
       "</div>"
      ],
      "text/plain": [
       "                  account_id                ad_id event_name  \\\n",
       "1406849 -9223336493830730905  3088179676471213070     insert   \n",
       "1343878 -9223336493830730905 -5279128860130030977     insert   \n",
       "1408567 -9223336493830730905 -2462399768676748292     insert   \n",
       "2560039 -9223105201273952408  -177089586640378831     insert   \n",
       "3168169 -9223105201273952408  3166031885300745638     insert   \n",
       "\n",
       "                         timestamp platform  category_name     region_name  \\\n",
       "1406849 2018-01-21 17:21:35.069056  unknown  Mobile Phones          Hà Nội   \n",
       "1343878 2018-01-03 17:00:08.497463  unknown        Tablets          Hà Nội   \n",
       "1408567 2018-01-02 11:21:05.008605  unknown  Mobile Phones          Hà Nội   \n",
       "2560039 2018-06-13 10:28:39.587018  unknown           Cars  Tp Hồ Chí Minh   \n",
       "3168169 2018-04-28 09:04:42.139687  unknown  Mobile Phones  Tp Hồ Chí Minh   \n",
       "\n",
       "        condition_ad_name        price account_type  month  Week  day  \n",
       "1406849               NaN    5900000.0          old      1     3   21  \n",
       "1343878               NaN    2470000.0          old      1     1    3  \n",
       "1408567               NaN    4700000.0          new      1     1    2  \n",
       "2560039        Đã sử dụng  300000000.0          new      6    24  164  \n",
       "3168169               NaN    1000000.0          old      4    17  118  "
      ]
     },
     "execution_count": 55,
     "metadata": {},
     "output_type": "execute_result"
    }
   ],
   "source": [
    "df.head()"
   ]
  },
  {
   "cell_type": "code",
   "execution_count": 95,
   "id": "wireless-greene",
   "metadata": {},
   "outputs": [
    {
     "data": {
      "text/plain": [
       "<AxesSubplot:xlabel='Week', ylabel='account_type'>"
      ]
     },
     "execution_count": 95,
     "metadata": {},
     "output_type": "execute_result"
    },
    {
     "data": {
      "image/png": "[encoded data removed]",
      "text/plain": [
       "<Figure size 432x288 with 1 Axes>"
      ]
     },
     "metadata": {
      "needs_background": "light"
     },
     "output_type": "display_data"
    }
   ],
   "source": [
    "# Vẽ biểu đồ theo tuần\n",
    "sns.lineplot(data = df.groupby(['Week', 'account_type']).account_type.count(), x = 'Week', y =df.groupby(['Week', 'account_type']).account_type.count(), hue ='account_type')"
   ]
  },
  {
   "cell_type": "code",
   "execution_count": 96,
   "id": "sonic-virgin",
   "metadata": {},
   "outputs": [
    {
     "data": {
      "text/plain": [
       "<AxesSubplot:xlabel='month', ylabel='account_type'>"
      ]
     },
     "execution_count": 96,
     "metadata": {},
     "output_type": "execute_result"
    },
    {
     "data": {
      "image/png": "[encoded data removed]",
      "text/plain": [
       "<Figure size 432x288 with 1 Axes>"
      ]
     },
     "metadata": {
      "needs_background": "light"
     },
     "output_type": "display_data"
    }
   ],
   "source": [
    "# Vẽ biểu đồ theo tháng\n",
    "sns.lineplot(data = df.groupby(['month', 'account_type']).account_type.count(), x = 'month', y =df.groupby(['month', 'account_type']).account_type.count(), hue ='account_type')"
   ]
  },
  {
   "cell_type": "code",
   "execution_count": 97,
   "id": "threatened-hierarchy",
   "metadata": {},
   "outputs": [
    {
     "data": {
      "text/plain": [
       "<AxesSubplot:xlabel='day', ylabel='account_type'>"
      ]
     },
     "execution_count": 97,
     "metadata": {},
     "output_type": "execute_result"
    },
    {
     "data": {
      "image/png": "[encoded data removed]",
      "text/plain": [
       "<Figure size 432x288 with 1 Axes>"
      ]
     },
     "metadata": {
      "needs_background": "light"
     },
     "output_type": "display_data"
    }
   ],
   "source": [
    "# Vẽ biểu đồ theo ngày\n",
    "sns.lineplot(data = df.groupby(['day', 'account_type']).account_type.count(), x = 'day', y =df.groupby(['day', 'account_type']).account_type.count(), hue ='account_type')"
   ]
  },
  {
   "cell_type": "code",
   "execution_count": 64,
   "id": "banner-terminology",
   "metadata": {},
   "outputs": [
    {
     "data": {
      "text/html": [
       "<div>\n",
       "<style scoped>\n",
       "    .dataframe tbody tr th:only-of-type {\n",
       "        vertical-align: middle;\n",
       "    }\n",
       "\n",
       "    .dataframe tbody tr th {\n",
       "        vertical-align: top;\n",
       "    }\n",
       "\n",
       "    .dataframe thead th {\n",
       "        text-align: right;\n",
       "    }\n",
       "</style>\n",
       "<table border=\"1\" class=\"dataframe\">\n",
       "  <thead>\n",
       "    <tr style=\"text-align: right;\">\n",
       "      <th></th>\n",
       "      <th>account_id</th>\n",
       "      <th>ad_id</th>\n",
       "      <th>event_name</th>\n",
       "      <th>timestamp</th>\n",
       "      <th>platform</th>\n",
       "      <th>category_name</th>\n",
       "      <th>region_name</th>\n",
       "      <th>condition_ad_name</th>\n",
       "      <th>price</th>\n",
       "      <th>account_type</th>\n",
       "      <th>month</th>\n",
       "      <th>Week</th>\n",
       "      <th>day</th>\n",
       "    </tr>\n",
       "  </thead>\n",
       "  <tbody>\n",
       "    <tr>\n",
       "      <th>1406849</th>\n",
       "      <td>-9223336493830730905</td>\n",
       "      <td>3088179676471213070</td>\n",
       "      <td>insert</td>\n",
       "      <td>2018-01-21 17:21:35.069056</td>\n",
       "      <td>unknown</td>\n",
       "      <td>Mobile Phones</td>\n",
       "      <td>Hà Nội</td>\n",
       "      <td>NaN</td>\n",
       "      <td>5900000.0</td>\n",
       "      <td>old</td>\n",
       "      <td>1</td>\n",
       "      <td>3</td>\n",
       "      <td>21</td>\n",
       "    </tr>\n",
       "    <tr>\n",
       "      <th>1343878</th>\n",
       "      <td>-9223336493830730905</td>\n",
       "      <td>-5279128860130030977</td>\n",
       "      <td>insert</td>\n",
       "      <td>2018-01-03 17:00:08.497463</td>\n",
       "      <td>unknown</td>\n",
       "      <td>Tablets</td>\n",
       "      <td>Hà Nội</td>\n",
       "      <td>NaN</td>\n",
       "      <td>2470000.0</td>\n",
       "      <td>old</td>\n",
       "      <td>1</td>\n",
       "      <td>1</td>\n",
       "      <td>3</td>\n",
       "    </tr>\n",
       "    <tr>\n",
       "      <th>1408567</th>\n",
       "      <td>-9223336493830730905</td>\n",
       "      <td>-2462399768676748292</td>\n",
       "      <td>insert</td>\n",
       "      <td>2018-01-02 11:21:05.008605</td>\n",
       "      <td>unknown</td>\n",
       "      <td>Mobile Phones</td>\n",
       "      <td>Hà Nội</td>\n",
       "      <td>NaN</td>\n",
       "      <td>4700000.0</td>\n",
       "      <td>new</td>\n",
       "      <td>1</td>\n",
       "      <td>1</td>\n",
       "      <td>2</td>\n",
       "    </tr>\n",
       "    <tr>\n",
       "      <th>2560039</th>\n",
       "      <td>-9223105201273952408</td>\n",
       "      <td>-177089586640378831</td>\n",
       "      <td>insert</td>\n",
       "      <td>2018-06-13 10:28:39.587018</td>\n",
       "      <td>unknown</td>\n",
       "      <td>Cars</td>\n",
       "      <td>Tp Hồ Chí Minh</td>\n",
       "      <td>Đã sử dụng</td>\n",
       "      <td>300000000.0</td>\n",
       "      <td>new</td>\n",
       "      <td>6</td>\n",
       "      <td>24</td>\n",
       "      <td>164</td>\n",
       "    </tr>\n",
       "    <tr>\n",
       "      <th>3168169</th>\n",
       "      <td>-9223105201273952408</td>\n",
       "      <td>3166031885300745638</td>\n",
       "      <td>insert</td>\n",
       "      <td>2018-04-28 09:04:42.139687</td>\n",
       "      <td>unknown</td>\n",
       "      <td>Mobile Phones</td>\n",
       "      <td>Tp Hồ Chí Minh</td>\n",
       "      <td>NaN</td>\n",
       "      <td>1000000.0</td>\n",
       "      <td>old</td>\n",
       "      <td>4</td>\n",
       "      <td>17</td>\n",
       "      <td>118</td>\n",
       "    </tr>\n",
       "  </tbody>\n",
       "</table>\n",
       "</div>"
      ],
      "text/plain": [
       "                  account_id                ad_id event_name  \\\n",
       "1406849 -9223336493830730905  3088179676471213070     insert   \n",
       "1343878 -9223336493830730905 -5279128860130030977     insert   \n",
       "1408567 -9223336493830730905 -2462399768676748292     insert   \n",
       "2560039 -9223105201273952408  -177089586640378831     insert   \n",
       "3168169 -9223105201273952408  3166031885300745638     insert   \n",
       "\n",
       "                         timestamp platform  category_name     region_name  \\\n",
       "1406849 2018-01-21 17:21:35.069056  unknown  Mobile Phones          Hà Nội   \n",
       "1343878 2018-01-03 17:00:08.497463  unknown        Tablets          Hà Nội   \n",
       "1408567 2018-01-02 11:21:05.008605  unknown  Mobile Phones          Hà Nội   \n",
       "2560039 2018-06-13 10:28:39.587018  unknown           Cars  Tp Hồ Chí Minh   \n",
       "3168169 2018-04-28 09:04:42.139687  unknown  Mobile Phones  Tp Hồ Chí Minh   \n",
       "\n",
       "        condition_ad_name        price account_type  month  Week  day  \n",
       "1406849               NaN    5900000.0          old      1     3   21  \n",
       "1343878               NaN    2470000.0          old      1     1    3  \n",
       "1408567               NaN    4700000.0          new      1     1    2  \n",
       "2560039        Đã sử dụng  300000000.0          new      6    24  164  \n",
       "3168169               NaN    1000000.0          old      4    17  118  "
      ]
     },
     "execution_count": 64,
     "metadata": {},
     "output_type": "execute_result"
    }
   ],
   "source": [
    "df.head()"
   ]
  },
  {
   "cell_type": "code",
   "execution_count": 82,
   "id": "opposed-madness",
   "metadata": {},
   "outputs": [
    {
     "data": {
      "text/html": [
       "<div>\n",
       "<style scoped>\n",
       "    .dataframe tbody tr th:only-of-type {\n",
       "        vertical-align: middle;\n",
       "    }\n",
       "\n",
       "    .dataframe tbody tr th {\n",
       "        vertical-align: top;\n",
       "    }\n",
       "\n",
       "    .dataframe thead th {\n",
       "        text-align: right;\n",
       "    }\n",
       "</style>\n",
       "<table border=\"1\" class=\"dataframe\">\n",
       "  <thead>\n",
       "    <tr style=\"text-align: right;\">\n",
       "      <th></th>\n",
       "      <th></th>\n",
       "      <th>account_type</th>\n",
       "    </tr>\n",
       "    <tr>\n",
       "      <th>Week</th>\n",
       "      <th>account_type</th>\n",
       "      <th></th>\n",
       "    </tr>\n",
       "  </thead>\n",
       "  <tbody>\n",
       "    <tr>\n",
       "      <th rowspan=\"2\" valign=\"top\">1</th>\n",
       "      <th>new</th>\n",
       "      <td>109275</td>\n",
       "    </tr>\n",
       "    <tr>\n",
       "      <th>old</th>\n",
       "      <td>216003</td>\n",
       "    </tr>\n",
       "    <tr>\n",
       "      <th>2</th>\n",
       "      <th>old</th>\n",
       "      <td>200414</td>\n",
       "    </tr>\n",
       "    <tr>\n",
       "      <th>3</th>\n",
       "      <th>old</th>\n",
       "      <td>166791</td>\n",
       "    </tr>\n",
       "    <tr>\n",
       "      <th>4</th>\n",
       "      <th>old</th>\n",
       "      <td>132187</td>\n",
       "    </tr>\n",
       "    <tr>\n",
       "      <th>...</th>\n",
       "      <th>...</th>\n",
       "      <td>...</td>\n",
       "    </tr>\n",
       "    <tr>\n",
       "      <th>50</th>\n",
       "      <th>old</th>\n",
       "      <td>73687</td>\n",
       "    </tr>\n",
       "    <tr>\n",
       "      <th rowspan=\"2\" valign=\"top\">51</th>\n",
       "      <th>new</th>\n",
       "      <td>2421</td>\n",
       "    </tr>\n",
       "    <tr>\n",
       "      <th>old</th>\n",
       "      <td>75745</td>\n",
       "    </tr>\n",
       "    <tr>\n",
       "      <th rowspan=\"2\" valign=\"top\">52</th>\n",
       "      <th>new</th>\n",
       "      <td>2267</td>\n",
       "    </tr>\n",
       "    <tr>\n",
       "      <th>old</th>\n",
       "      <td>70902</td>\n",
       "    </tr>\n",
       "  </tbody>\n",
       "</table>\n",
       "<p>101 rows × 1 columns</p>\n",
       "</div>"
      ],
      "text/plain": [
       "                   account_type\n",
       "Week account_type              \n",
       "1    new                 109275\n",
       "     old                 216003\n",
       "2    old                 200414\n",
       "3    old                 166791\n",
       "4    old                 132187\n",
       "...                         ...\n",
       "50   old                  73687\n",
       "51   new                   2421\n",
       "     old                  75745\n",
       "52   new                   2267\n",
       "     old                  70902\n",
       "\n",
       "[101 rows x 1 columns]"
      ]
     },
     "execution_count": 82,
     "metadata": {},
     "output_type": "execute_result"
    }
   ],
   "source": [
    "df.groupby(['Week', 'account_type']).account_type.count().to_frame()"
   ]
  },
  {
   "cell_type": "markdown",
   "id": "other-johns",
   "metadata": {},
   "source": [
    "Task 2:\n",
    "Làm lại task 1, nhưng theo dõi số account cũ mới theo từng category_name. Để có dữ liệu tốt, nên chọn\n",
    "10 ngành hàng phổ biến (có số lượng account_id tương tác nhiều)\n",
    "Lựa chọn biểu đồ để thể hiện sự thay đổi của số account cũ/mới theo ngành hàng từ đó phát hiện ra ngành\n",
    "hàng nào có tính bão hòa (số account cũ/mới ổn định), ngành hàng nào có khả năng thu hút thêm được\n",
    "nhiều account mới."
   ]
  },
  {
   "cell_type": "code",
   "execution_count": 114,
   "id": "atlantic-saint",
   "metadata": {},
   "outputs": [],
   "source": [
    "top10_cate = df.category_name.value_counts().head(10).index[0:10]"
   ]
  },
  {
   "cell_type": "code",
   "execution_count": 119,
   "id": "collect-destruction",
   "metadata": {},
   "outputs": [
    {
     "data": {
      "text/plain": [
       "['PTY-Houses',\n",
       " 'Mobile Phones',\n",
       " 'Motorbikes',\n",
       " 'PTY-Land',\n",
       " 'Computers, Laptops',\n",
       " 'TV, Speakers, MP3 players',\n",
       " 'Fridge',\n",
       " 'Cars',\n",
       " 'Rooster',\n",
       " 'PTY-Office, Commercial Properties']"
      ]
     },
     "execution_count": 119,
     "metadata": {},
     "output_type": "execute_result"
    }
   ],
   "source": [
    "top10_cate = list(top10_cate)\n",
    "top10_cate"
   ]
  },
  {
   "cell_type": "code",
   "execution_count": 123,
   "id": "demanding-advisory",
   "metadata": {},
   "outputs": [
    {
     "data": {
      "text/html": [
       "<div>\n",
       "<style scoped>\n",
       "    .dataframe tbody tr th:only-of-type {\n",
       "        vertical-align: middle;\n",
       "    }\n",
       "\n",
       "    .dataframe tbody tr th {\n",
       "        vertical-align: top;\n",
       "    }\n",
       "\n",
       "    .dataframe thead th {\n",
       "        text-align: right;\n",
       "    }\n",
       "</style>\n",
       "<table border=\"1\" class=\"dataframe\">\n",
       "  <thead>\n",
       "    <tr style=\"text-align: right;\">\n",
       "      <th></th>\n",
       "      <th></th>\n",
       "      <th></th>\n",
       "      <th>account_type</th>\n",
       "    </tr>\n",
       "    <tr>\n",
       "      <th>month</th>\n",
       "      <th>category_name</th>\n",
       "      <th>account_type</th>\n",
       "      <th></th>\n",
       "    </tr>\n",
       "  </thead>\n",
       "  <tbody>\n",
       "    <tr>\n",
       "      <th rowspan=\"5\" valign=\"top\">1</th>\n",
       "      <th rowspan=\"2\" valign=\"top\">Cars</th>\n",
       "      <th>new</th>\n",
       "      <td>2328</td>\n",
       "    </tr>\n",
       "    <tr>\n",
       "      <th>old</th>\n",
       "      <td>12019</td>\n",
       "    </tr>\n",
       "    <tr>\n",
       "      <th rowspan=\"2\" valign=\"top\">Computers, Laptops</th>\n",
       "      <th>new</th>\n",
       "      <td>2560</td>\n",
       "    </tr>\n",
       "    <tr>\n",
       "      <th>old</th>\n",
       "      <td>36969</td>\n",
       "    </tr>\n",
       "    <tr>\n",
       "      <th>Fridge</th>\n",
       "      <th>new</th>\n",
       "      <td>1670</td>\n",
       "    </tr>\n",
       "    <tr>\n",
       "      <th>...</th>\n",
       "      <th>...</th>\n",
       "      <th>...</th>\n",
       "      <td>...</td>\n",
       "    </tr>\n",
       "    <tr>\n",
       "      <th rowspan=\"5\" valign=\"top\">12</th>\n",
       "      <th>PTY-Office, Commercial Properties</th>\n",
       "      <th>old</th>\n",
       "      <td>5083</td>\n",
       "    </tr>\n",
       "    <tr>\n",
       "      <th rowspan=\"2\" valign=\"top\">Rooster</th>\n",
       "      <th>new</th>\n",
       "      <td>273</td>\n",
       "    </tr>\n",
       "    <tr>\n",
       "      <th>old</th>\n",
       "      <td>9177</td>\n",
       "    </tr>\n",
       "    <tr>\n",
       "      <th rowspan=\"2\" valign=\"top\">TV, Speakers, MP3 players</th>\n",
       "      <th>new</th>\n",
       "      <td>595</td>\n",
       "    </tr>\n",
       "    <tr>\n",
       "      <th>old</th>\n",
       "      <td>25030</td>\n",
       "    </tr>\n",
       "  </tbody>\n",
       "</table>\n",
       "<p>240 rows × 1 columns</p>\n",
       "</div>"
      ],
      "text/plain": [
       "                                                      account_type\n",
       "month category_name                     account_type              \n",
       "1     Cars                              new                   2328\n",
       "                                        old                  12019\n",
       "      Computers, Laptops                new                   2560\n",
       "                                        old                  36969\n",
       "      Fridge                            new                   1670\n",
       "...                                                            ...\n",
       "12    PTY-Office, Commercial Properties old                   5083\n",
       "      Rooster                           new                    273\n",
       "                                        old                   9177\n",
       "      TV, Speakers, MP3 players         new                    595\n",
       "                                        old                  25030\n",
       "\n",
       "[240 rows x 1 columns]"
      ]
     },
     "execution_count": 123,
     "metadata": {},
     "output_type": "execute_result"
    }
   ],
   "source": [
    "df2 = df.query('category_name == @top10_cate')\n",
    "df2.groupby(['month','category_name', 'account_type']).account_type.count().to_frame()"
   ]
  },
  {
   "cell_type": "code",
   "execution_count": null,
   "id": "lasting-terrain",
   "metadata": {},
   "outputs": [],
   "source": []
  },
  {
   "cell_type": "code",
   "execution_count": 141,
   "id": "verified-decade",
   "metadata": {},
   "outputs": [
    {
     "data": {
      "text/plain": [
       "<AxesSubplot:xlabel='month', ylabel='account_type'>"
      ]
     },
     "execution_count": 141,
     "metadata": {},
     "output_type": "execute_result"
    },
    {
     "data": {
      "image/png": "[encoded data removed]",
      "text/plain": [
       "<Figure size 432x288 with 1 Axes>"
      ]
     },
     "metadata": {
      "needs_background": "light"
     },
     "output_type": "display_data"
    }
   ],
   "source": [
    "# Vẽ biểu đồ theo tháng\n",
    "sns.lineplot(data = df2.groupby(['month','category_name', 'account_type']).account_type.count(), x = 'month', y = df2.groupby(['month','category_name', 'account_type']).account_type.count(), hue ='account_type')"
   ]
  },
  {
   "cell_type": "code",
   "execution_count": 155,
   "id": "expected-pattern",
   "metadata": {},
   "outputs": [
    {
     "data": {
      "text/plain": [
       "<AxesSubplot:xlabel='month', ylabel='account_type'>"
      ]
     },
     "execution_count": 155,
     "metadata": {},
     "output_type": "execute_result"
    },
    {
     "data": {
      "image/png": "[encoded data removed]",
      "text/plain": [
       "<Figure size 432x288 with 1 Axes>"
      ]
     },
     "metadata": {
      "needs_background": "light"
     },
     "output_type": "display_data"
    }
   ],
   "source": [
    "# Vẽ biểu đồ Cars theo tháng\n",
    "df_cars = df[df.category_name == 'Cars'].groupby(['month','account_type']).account_type.count()\n",
    "sns.lineplot(data = df_cars, x = 'month', y = df_cars, hue ='account_type')"
   ]
  },
  {
   "cell_type": "code",
   "execution_count": 156,
   "id": "characteristic-suspect",
   "metadata": {},
   "outputs": [
    {
     "data": {
      "text/plain": [
       "<AxesSubplot:xlabel='Week', ylabel='account_type'>"
      ]
     },
     "execution_count": 156,
     "metadata": {},
     "output_type": "execute_result"
    },
    {
     "data": {
      "image/png": "[encoded data removed]",
      "text/plain": [
       "<Figure size 432x288 with 1 Axes>"
      ]
     },
     "metadata": {
      "needs_background": "light"
     },
     "output_type": "display_data"
    }
   ],
   "source": [
    "# Vẽ biểu đồ Cars theo tuần\n",
    "df_cars = df[df.category_name == 'Cars'].groupby(['Week','account_type']).account_type.count()\n",
    "sns.lineplot(data = df_cars, x = 'Week', y = df_cars, hue ='account_type')"
   ]
  },
  {
   "cell_type": "code",
   "execution_count": 63,
   "id": "cubic-eclipse",
   "metadata": {},
   "outputs": [
    {
     "data": {
      "text/plain": [
       "<AxesSubplot:xlabel='day', ylabel='account_type'>"
      ]
     },
     "execution_count": 63,
     "metadata": {},
     "output_type": "execute_result"
    },
    {
     "data": {
      "image/png": "[encoded data removed]",
      "text/plain": [
       "<Figure size 432x288 with 1 Axes>"
      ]
     },
     "metadata": {
      "needs_background": "light"
     },
     "output_type": "display_data"
    }
   ],
   "source": [
    "# Vẽ biểu đồ Cars theo ngày\n",
    "df_cars = df[df.category_name == 'Cars'].groupby(['day','account_type']).account_type.count()\n",
    "sns.lineplot(data = df_cars, x = 'day', y = df_cars, hue ='account_type')"
   ]
  },
  {
   "cell_type": "markdown",
   "id": "complicated-cheese",
   "metadata": {},
   "source": [
    "Task 3: Dùng biểu đồ kiểm chứng mối tương quan giữa giá của một ad_id và số lần đăng trong năm.\n",
    "Với mỗi ad_id sẽ có một giá (price), và có thể ad_id xuất hiện nhiều lần trong data do phải đăng bán\n",
    "nhiều lần vì chưa bán được.\n",
    "Ta muốn kiểm chứng bằng dữ liệu, các sản phẩm có giá cao sẽ khó bán (ad_id xuất hiện nhiều lần)\n"
   ]
  },
  {
   "cell_type": "code",
   "execution_count": 34,
   "id": "indian-section",
   "metadata": {},
   "outputs": [
    {
     "data": {
      "text/html": [
       "<div>\n",
       "<style scoped>\n",
       "    .dataframe tbody tr th:only-of-type {\n",
       "        vertical-align: middle;\n",
       "    }\n",
       "\n",
       "    .dataframe tbody tr th {\n",
       "        vertical-align: top;\n",
       "    }\n",
       "\n",
       "    .dataframe thead th {\n",
       "        text-align: right;\n",
       "    }\n",
       "</style>\n",
       "<table border=\"1\" class=\"dataframe\">\n",
       "  <thead>\n",
       "    <tr style=\"text-align: right;\">\n",
       "      <th></th>\n",
       "      <th>ad_id</th>\n",
       "    </tr>\n",
       "    <tr>\n",
       "      <th>ad_id</th>\n",
       "      <th></th>\n",
       "    </tr>\n",
       "  </thead>\n",
       "  <tbody>\n",
       "    <tr>\n",
       "      <th>-9223371703641957917</th>\n",
       "      <td>1</td>\n",
       "    </tr>\n",
       "    <tr>\n",
       "      <th>-9223368329177220020</th>\n",
       "      <td>2</td>\n",
       "    </tr>\n",
       "    <tr>\n",
       "      <th>-9223367969235967373</th>\n",
       "      <td>1</td>\n",
       "    </tr>\n",
       "    <tr>\n",
       "      <th>-9223364108367044886</th>\n",
       "      <td>1</td>\n",
       "    </tr>\n",
       "    <tr>\n",
       "      <th>-9223355714160016423</th>\n",
       "      <td>1</td>\n",
       "    </tr>\n",
       "    <tr>\n",
       "      <th>...</th>\n",
       "      <td>...</td>\n",
       "    </tr>\n",
       "    <tr>\n",
       "      <th>9223356863512511301</th>\n",
       "      <td>1</td>\n",
       "    </tr>\n",
       "    <tr>\n",
       "      <th>9223357848317221243</th>\n",
       "      <td>2</td>\n",
       "    </tr>\n",
       "    <tr>\n",
       "      <th>9223358638847625643</th>\n",
       "      <td>1</td>\n",
       "    </tr>\n",
       "    <tr>\n",
       "      <th>9223367560943472510</th>\n",
       "      <td>1</td>\n",
       "    </tr>\n",
       "    <tr>\n",
       "      <th>9223369861305511472</th>\n",
       "      <td>1</td>\n",
       "    </tr>\n",
       "  </tbody>\n",
       "</table>\n",
       "<p>3678082 rows × 1 columns</p>\n",
       "</div>"
      ],
      "text/plain": [
       "                      ad_id\n",
       "ad_id                      \n",
       "-9223371703641957917      1\n",
       "-9223368329177220020      2\n",
       "-9223367969235967373      1\n",
       "-9223364108367044886      1\n",
       "-9223355714160016423      1\n",
       "...                     ...\n",
       " 9223356863512511301      1\n",
       " 9223357848317221243      2\n",
       " 9223358638847625643      1\n",
       " 9223367560943472510      1\n",
       " 9223369861305511472      1\n",
       "\n",
       "[3678082 rows x 1 columns]"
      ]
     },
     "execution_count": 34,
     "metadata": {},
     "output_type": "execute_result"
    }
   ],
   "source": [
    "df.groupby(['ad_id']).agg({\"ad_id\":\"count\"})"
   ]
  },
  {
   "cell_type": "code",
   "execution_count": 78,
   "id": "divine-hungary",
   "metadata": {},
   "outputs": [
    {
     "data": {
      "text/plain": [
       "<pandas.core.groupby.generic.SeriesGroupBy object at 0x000001F4BDEC4F08>"
      ]
     },
     "execution_count": 78,
     "metadata": {},
     "output_type": "execute_result"
    }
   ],
   "source": [
    "df.groupby('ad_id').price"
   ]
  },
  {
   "cell_type": "code",
   "execution_count": 89,
   "id": "neither-honolulu",
   "metadata": {},
   "outputs": [
    {
     "data": {
      "text/plain": [
       "ad_id\n",
       "-9223371703641957917        [1200000.0]\n",
       "-9223368329177220020       [16000000.0]\n",
       "-9223367969235967373       [50000000.0]\n",
       "-9223364108367044886    [27000000000.0]\n",
       "-9223355714160016423        [1800000.0]\n",
       "                             ...       \n",
       " 9223356863512511301         [300000.0]\n",
       " 9223357848317221243       [88600000.0]\n",
       " 9223358638847625643       [12345000.0]\n",
       " 9223367560943472510        [4000000.0]\n",
       " 9223369861305511472        [3800000.0]\n",
       "Name: price, Length: 3678082, dtype: object"
      ]
     },
     "execution_count": 89,
     "metadata": {},
     "output_type": "execute_result"
    }
   ],
   "source": [
    "df.groupby('ad_id').price.unique()"
   ]
  },
  {
   "cell_type": "code",
   "execution_count": 92,
   "id": "charming-collective",
   "metadata": {},
   "outputs": [
    {
     "ename": "TypeError",
     "evalue": "first argument must be an iterable of pandas objects, you passed an object of type \"DataFrame\"",
     "output_type": "error",
     "traceback": [
      "\u001b[1;31m---------------------------------------------------------------------------\u001b[0m",
      "\u001b[1;31mTypeError\u001b[0m                                 Traceback (most recent call last)",
      "\u001b[1;32m<ipython-input-92-621833406300>\u001b[0m in \u001b[0;36m<module>\u001b[1;34m\u001b[0m\n\u001b[1;32m----> 1\u001b[1;33m \u001b[0mpd\u001b[0m\u001b[1;33m.\u001b[0m\u001b[0mconcat\u001b[0m\u001b[1;33m(\u001b[0m\u001b[0mdf\u001b[0m\u001b[1;33m.\u001b[0m\u001b[0mgroupby\u001b[0m\u001b[1;33m(\u001b[0m\u001b[1;33m[\u001b[0m\u001b[1;34m'ad_id'\u001b[0m\u001b[1;33m]\u001b[0m\u001b[1;33m)\u001b[0m\u001b[1;33m.\u001b[0m\u001b[0magg\u001b[0m\u001b[1;33m(\u001b[0m\u001b[1;33m{\u001b[0m\u001b[1;34m\"ad_id\"\u001b[0m\u001b[1;33m:\u001b[0m\u001b[1;34m\"count\"\u001b[0m\u001b[1;33m}\u001b[0m\u001b[1;33m)\u001b[0m\u001b[1;33m,\u001b[0m \u001b[0mdf\u001b[0m\u001b[1;33m.\u001b[0m\u001b[0mgroupby\u001b[0m\u001b[1;33m(\u001b[0m\u001b[1;34m'ad_id'\u001b[0m\u001b[1;33m)\u001b[0m\u001b[1;33m.\u001b[0m\u001b[0mprice\u001b[0m\u001b[1;33m.\u001b[0m\u001b[0munique\u001b[0m\u001b[1;33m(\u001b[0m\u001b[1;33m)\u001b[0m\u001b[1;33m)\u001b[0m\u001b[1;33m\u001b[0m\u001b[1;33m\u001b[0m\u001b[0m\n\u001b[0m",
      "\u001b[1;32m~\\anaconda3\\envs\\kien2tEnvironment\\lib\\site-packages\\pandas\\core\\reshape\\concat.py\u001b[0m in \u001b[0;36mconcat\u001b[1;34m(objs, axis, join, ignore_index, keys, levels, names, verify_integrity, sort, copy)\u001b[0m\n\u001b[0;32m    293\u001b[0m         \u001b[0mverify_integrity\u001b[0m\u001b[1;33m=\u001b[0m\u001b[0mverify_integrity\u001b[0m\u001b[1;33m,\u001b[0m\u001b[1;33m\u001b[0m\u001b[1;33m\u001b[0m\u001b[0m\n\u001b[0;32m    294\u001b[0m         \u001b[0mcopy\u001b[0m\u001b[1;33m=\u001b[0m\u001b[0mcopy\u001b[0m\u001b[1;33m,\u001b[0m\u001b[1;33m\u001b[0m\u001b[1;33m\u001b[0m\u001b[0m\n\u001b[1;32m--> 295\u001b[1;33m         \u001b[0msort\u001b[0m\u001b[1;33m=\u001b[0m\u001b[0msort\u001b[0m\u001b[1;33m,\u001b[0m\u001b[1;33m\u001b[0m\u001b[1;33m\u001b[0m\u001b[0m\n\u001b[0m\u001b[0;32m    296\u001b[0m     )\n\u001b[0;32m    297\u001b[0m \u001b[1;33m\u001b[0m\u001b[0m\n",
      "\u001b[1;32m~\\anaconda3\\envs\\kien2tEnvironment\\lib\\site-packages\\pandas\\core\\reshape\\concat.py\u001b[0m in \u001b[0;36m__init__\u001b[1;34m(self, objs, axis, join, keys, levels, names, ignore_index, verify_integrity, copy, sort)\u001b[0m\n\u001b[0;32m    319\u001b[0m         \u001b[1;32mif\u001b[0m \u001b[0misinstance\u001b[0m\u001b[1;33m(\u001b[0m\u001b[0mobjs\u001b[0m\u001b[1;33m,\u001b[0m \u001b[1;33m(\u001b[0m\u001b[0mABCSeries\u001b[0m\u001b[1;33m,\u001b[0m \u001b[0mABCDataFrame\u001b[0m\u001b[1;33m,\u001b[0m \u001b[0mstr\u001b[0m\u001b[1;33m)\u001b[0m\u001b[1;33m)\u001b[0m\u001b[1;33m:\u001b[0m\u001b[1;33m\u001b[0m\u001b[1;33m\u001b[0m\u001b[0m\n\u001b[0;32m    320\u001b[0m             raise TypeError(\n\u001b[1;32m--> 321\u001b[1;33m                 \u001b[1;34m\"first argument must be an iterable of pandas \"\u001b[0m\u001b[1;33m\u001b[0m\u001b[1;33m\u001b[0m\u001b[0m\n\u001b[0m\u001b[0;32m    322\u001b[0m                 \u001b[1;34mf'objects, you passed an object of type \"{type(objs).__name__}\"'\u001b[0m\u001b[1;33m\u001b[0m\u001b[1;33m\u001b[0m\u001b[0m\n\u001b[0;32m    323\u001b[0m             )\n",
      "\u001b[1;31mTypeError\u001b[0m: first argument must be an iterable of pandas objects, you passed an object of type \"DataFrame\""
     ]
    }
   ],
   "source": [
    "pd.concat(df.groupby(['ad_id']).agg({\"ad_id\":\"count\"}), df.groupby('ad_id').price.unique())"
   ]
  },
  {
   "cell_type": "code",
   "execution_count": null,
   "id": "eight-hampshire",
   "metadata": {},
   "outputs": [],
   "source": []
  }
 ],
 "metadata": {
  "kernelspec": {
   "display_name": "Python 3",
   "language": "python",
   "name": "python3"
  },
  "language_info": {
   "codemirror_mode": {
    "name": "ipython",
    "version": 3
   },
   "file_extension": ".py",
   "mimetype": "text/x-python",
   "name": "python",
   "nbconvert_exporter": "python",
   "pygments_lexer": "ipython3",
   "version": "3.7.10"
  }
 },
 "nbformat": 4,
 "nbformat_minor": 5
}
