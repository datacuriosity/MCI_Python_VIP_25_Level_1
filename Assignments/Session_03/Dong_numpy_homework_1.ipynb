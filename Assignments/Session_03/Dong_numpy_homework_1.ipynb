{
  "nbformat": 4,
  "nbformat_minor": 0,
  "metadata": {
    "kernelspec": {
      "display_name": "Python 3",
      "language": "python",
      "name": "python3"
    },
    "language_info": {
      "codemirror_mode": {
        "name": "ipython",
        "version": 3
      },
      "file_extension": ".py",
      "mimetype": "text/x-python",
      "name": "python",
      "nbconvert_exporter": "python",
      "pygments_lexer": "ipython3",
      "version": "3.6.12"
    },
    "colab": {
      "name": "numpy_homework_1.ipynb",
      "provenance": [],
      "collapsed_sections": []
    }
  },
  "cells": [
    {
      "cell_type": "code",
      "metadata": {
        "id": "-fLiUs9xI-8G"
      },
      "source": [
        "import numpy as np"
      ],
      "execution_count": 1,
      "outputs": []
    },
    {
      "cell_type": "markdown",
      "metadata": {
        "id": "ZgyTJY-hI-8P"
      },
      "source": [
        "### Create a new array of 3*2 float numbers, filled with ones."
      ]
    },
    {
      "cell_type": "code",
      "metadata": {
        "id": "FpCYsI2wI-8P",
        "outputId": "9de8ac2e-64b5-4680-c656-4b6c834628cb"
      },
      "source": [
        "np.ones(shape=(3,2),dtype='f')"
      ],
      "execution_count": null,
      "outputs": [
        {
          "output_type": "execute_result",
          "data": {
            "text/plain": [
              "array([[1., 1.],\n",
              "       [1., 1.],\n",
              "       [1., 1.]])"
            ]
          },
          "metadata": {
            "tags": []
          },
          "execution_count": 2
        }
      ]
    },
    {
      "cell_type": "markdown",
      "metadata": {
        "id": "BIPh25g-I-8Q"
      },
      "source": [
        "Let `x = np.arange(4, dtype=np.int64)`. Create an array of ones with the same shape and type as X.\n",
        "Hint: uses `np.ones_like()`"
      ]
    },
    {
      "cell_type": "code",
      "metadata": {
        "id": "EQC-g-CKI-8Q",
        "outputId": "5a2e27a5-cee6-4caf-9756-7d029527eb33"
      },
      "source": [
        "np.ones_like(x)"
      ],
      "execution_count": null,
      "outputs": [
        {
          "output_type": "execute_result",
          "data": {
            "text/plain": [
              "array([[0., 0.],\n",
              "       [0., 0.],\n",
              "       [0., 0.]])"
            ]
          },
          "metadata": {
            "tags": []
          },
          "execution_count": 4
        }
      ]
    },
    {
      "cell_type": "markdown",
      "metadata": {
        "id": "knF9NkJVI-8R"
      },
      "source": [
        "### Let x = np.arange(4, dtype=np.int64). Create an array of zeros with the same shape and type as X.\n",
        "### Hint: use `np.zeros_like()`"
      ]
    },
    {
      "cell_type": "code",
      "metadata": {
        "id": "HnTyUIrWNkk9"
      },
      "source": [
        "np.zeros_like(x)"
      ],
      "execution_count": null,
      "outputs": []
    },
    {
      "cell_type": "markdown",
      "metadata": {
        "id": "69HVSVXBI-8R"
      },
      "source": [
        "### Create a new array of shape 2*5 , filled with 6."
      ]
    },
    {
      "cell_type": "code",
      "metadata": {
        "id": "NsFbg0usI-8R",
        "outputId": "2dd730d7-170d-4bae-a9e4-2ee01f21c8c0"
      },
      "source": [
        "np.ones(shape=(2,5)) * 6"
      ],
      "execution_count": null,
      "outputs": [
        {
          "output_type": "execute_result",
          "data": {
            "text/plain": [
              "array([[6., 6., 6., 6., 6.],\n",
              "       [6., 6., 6., 6., 6.]])"
            ]
          },
          "metadata": {
            "tags": []
          },
          "execution_count": 6
        }
      ]
    },
    {
      "cell_type": "markdown",
      "metadata": {
        "id": "0bEPrACQI-8S"
      },
      "source": [
        "### Create an array of [1, 2, 3]."
      ]
    },
    {
      "cell_type": "code",
      "metadata": {
        "id": "rHVPrtn4I-8S",
        "outputId": "55644aca-57b3-467f-de4e-66b471d66369"
      },
      "source": [
        "np.array([1,2,3])"
      ],
      "execution_count": null,
      "outputs": [
        {
          "output_type": "execute_result",
          "data": {
            "text/plain": [
              "array([1, 2, 3])"
            ]
          },
          "metadata": {
            "tags": []
          },
          "execution_count": 7
        }
      ]
    },
    {
      "cell_type": "markdown",
      "metadata": {
        "id": "m-pLUuVvI-8S"
      },
      "source": [
        "### Let x = [1, 2]. Convert it into an array.\n",
        "### Hint: use `np.asarray()`"
      ]
    },
    {
      "cell_type": "code",
      "metadata": {
        "id": "DvvjZf76I-8S",
        "outputId": "485d960f-0999-4464-9194-3eb7d4ec376f"
      },
      "source": [
        "np.asarray(x)"
      ],
      "execution_count": null,
      "outputs": [
        {
          "output_type": "execute_result",
          "data": {
            "text/plain": [
              "array([1, 2])"
            ]
          },
          "metadata": {
            "tags": []
          },
          "execution_count": 8
        }
      ]
    },
    {
      "cell_type": "markdown",
      "metadata": {
        "id": "UM_r2KbAI-8T"
      },
      "source": [
        "### Let X = np.array([[1, 2], [3, 4]]). Convert it into a matrix.\n",
        "### Hint: use `np.asmatrix()`"
      ]
    },
    {
      "cell_type": "code",
      "metadata": {
        "id": "ROmTEUnDI-8T",
        "outputId": "f9e6b2a1-e901-44c2-bfc9-88ea3f093133"
      },
      "source": [
        "np.asmatrix(X)"
      ],
      "execution_count": null,
      "outputs": [
        {
          "output_type": "execute_result",
          "data": {
            "text/plain": [
              "matrix([[1, 2],\n",
              "        [3, 4]])"
            ]
          },
          "metadata": {
            "tags": []
          },
          "execution_count": 9
        }
      ]
    },
    {
      "cell_type": "markdown",
      "metadata": {
        "id": "krx6F50zI-8T"
      },
      "source": [
        "### Let x = np.array([30]). Convert it into scalar of its single element, i.e. 30.\n",
        "### Hint: use `x.item()` or `x[0]`"
      ]
    },
    {
      "cell_type": "code",
      "metadata": {
        "id": "N2tyCSIyI-8T",
        "outputId": "3313fd13-161c-40f4-f3a1-e5ba30e0a13c"
      },
      "source": [
        "x.item()or x[0]"
      ],
      "execution_count": null,
      "outputs": [
        {
          "output_type": "execute_result",
          "data": {
            "text/plain": [
              "30"
            ]
          },
          "metadata": {
            "tags": []
          },
          "execution_count": 10
        }
      ]
    },
    {
      "cell_type": "markdown",
      "metadata": {
        "id": "TinUbW9lI-8U"
      },
      "source": [
        "### Create an array of 2, 4, 6, 8, ..., 100."
      ]
    },
    {
      "cell_type": "code",
      "metadata": {
        "id": "ufsnJ9sZI-8U",
        "outputId": "b5467249-c555-41b1-d231-39d832cb7a46"
      },
      "source": [
        "np.linspace(2,100,50,dtype='i')"
      ],
      "execution_count": null,
      "outputs": [
        {
          "output_type": "execute_result",
          "data": {
            "text/plain": [
              "array([  2,   4,   6,   8,  10,  12,  14,  16,  18,  20,  22,  24,  26,\n",
              "        28,  30,  32,  34,  36,  38,  40,  42,  44,  46,  48,  50,  52,\n",
              "        54,  56,  58,  60,  62,  64,  66,  68,  70,  72,  74,  76,  78,\n",
              "        80,  82,  84,  86,  88,  90,  92,  94,  96,  98, 100])"
            ]
          },
          "metadata": {
            "tags": []
          },
          "execution_count": 11
        }
      ]
    },
    {
      "cell_type": "markdown",
      "metadata": {
        "id": "oBkPMkCYI-8U"
      },
      "source": [
        "### Create a 1-D array of 50 evenly spaced elements between 3. and 10., inclusive.\n",
        "### Hint: use `np.linspace()`"
      ]
    },
    {
      "cell_type": "code",
      "metadata": {
        "id": "0PxgEwIBI-8U",
        "outputId": "bc198027-d3bc-4299-c1d8-a9d7427dd1e3"
      },
      "source": [
        "np.linspace(3,10,50)"
      ],
      "execution_count": null,
      "outputs": [
        {
          "output_type": "execute_result",
          "data": {
            "text/plain": [
              "array([ 3.        ,  3.14285714,  3.28571429,  3.42857143,  3.57142857,\n",
              "        3.71428571,  3.85714286,  4.        ,  4.14285714,  4.28571429,\n",
              "        4.42857143,  4.57142857,  4.71428571,  4.85714286,  5.        ,\n",
              "        5.14285714,  5.28571429,  5.42857143,  5.57142857,  5.71428571,\n",
              "        5.85714286,  6.        ,  6.14285714,  6.28571429,  6.42857143,\n",
              "        6.57142857,  6.71428571,  6.85714286,  7.        ,  7.14285714,\n",
              "        7.28571429,  7.42857143,  7.57142857,  7.71428571,  7.85714286,\n",
              "        8.        ,  8.14285714,  8.28571429,  8.42857143,  8.57142857,\n",
              "        8.71428571,  8.85714286,  9.        ,  9.14285714,  9.28571429,\n",
              "        9.42857143,  9.57142857,  9.71428571,  9.85714286, 10.        ])"
            ]
          },
          "metadata": {
            "tags": []
          },
          "execution_count": 12
        }
      ]
    },
    {
      "cell_type": "markdown",
      "metadata": {
        "id": "luvKkEofI-8U"
      },
      "source": [
        "### Create a 1-D array of 50 element spaced evenly between 3. and 10., exclude 10.\n",
        "### Hint: add parameter `endpoint=False`"
      ]
    },
    {
      "cell_type": "code",
      "metadata": {
        "id": "fDGezn50I-8V",
        "outputId": "c91e715c-cfd4-4d06-c64b-5805a9a86f21"
      },
      "source": [
        "np.linspace(3,10,50,endpoint=False)"
      ],
      "execution_count": null,
      "outputs": [
        {
          "output_type": "execute_result",
          "data": {
            "text/plain": [
              "array([3.  , 3.14, 3.28, 3.42, 3.56, 3.7 , 3.84, 3.98, 4.12, 4.26, 4.4 ,\n",
              "       4.54, 4.68, 4.82, 4.96, 5.1 , 5.24, 5.38, 5.52, 5.66, 5.8 , 5.94,\n",
              "       6.08, 6.22, 6.36, 6.5 , 6.64, 6.78, 6.92, 7.06, 7.2 , 7.34, 7.48,\n",
              "       7.62, 7.76, 7.9 , 8.04, 8.18, 8.32, 8.46, 8.6 , 8.74, 8.88, 9.02,\n",
              "       9.16, 9.3 , 9.44, 9.58, 9.72, 9.86])"
            ]
          },
          "metadata": {
            "tags": []
          },
          "execution_count": 13
        }
      ]
    },
    {
      "cell_type": "markdown",
      "metadata": {
        "id": "pg4uPzB8I-8V"
      },
      "source": [
        "Lex x be an array  \n",
        "`[[ 1 2 3],\n",
        "[ 4 5 6]]`.\n",
        "\n",
        "and y be an array  \n",
        "`[[ 7 8 9],\n",
        "[10 11 12]]`.\n",
        "\n",
        "Concatenate x and y so that a new array looks like  \n",
        "`[[1, 2, 3, 7, 8, 9],\n",
        "[4, 5, 6, 10, 11, 12]]`."
      ]
    },
    {
      "cell_type": "code",
      "metadata": {
        "id": "UAUlON-yI-8V",
        "outputId": "c91f99f9-14c2-4ac5-f361-31e08d1c5ddf"
      },
      "source": [
        ""
      ],
      "execution_count": null,
      "outputs": [
        {
          "output_type": "stream",
          "text": [
            "[[ 1  2  3  7  8  9]\n",
            " [ 4  5  6 10 11 12]]\n",
            "[[ 1  2  3  7  8  9]\n",
            " [ 4  5  6 10 11 12]]\n"
          ],
          "name": "stdout"
        }
      ]
    },
    {
      "cell_type": "markdown",
      "metadata": {
        "id": "TiJniQYyI-8V"
      },
      "source": [
        "Concatenate x and y so that a new array looks like  \n",
        "`[[ 1  2  3],\n",
        " [ 4  5  6],\n",
        " [ 7  8  9],\n",
        " [10 11 12]]`."
      ]
    },
    {
      "cell_type": "code",
      "metadata": {
        "id": "d961C5FMI-8W",
        "outputId": "e7643ea4-cee2-4d47-a464-5125256172c5"
      },
      "source": [
        ""
      ],
      "execution_count": null,
      "outputs": [
        {
          "output_type": "stream",
          "text": [
            "[[ 1  2  3]\n",
            " [ 4  5  6]\n",
            " [ 7  8  9]\n",
            " [10 11 12]]\n",
            "[[ 1  2  3]\n",
            " [ 4  5  6]\n",
            " [ 7  8  9]\n",
            " [10 11 12]]\n"
          ],
          "name": "stdout"
        }
      ]
    },
    {
      "cell_type": "markdown",
      "metadata": {
        "id": "1_jXrqHsI-8W"
      },
      "source": [
        "### Let x be an array [1, 2, 3, ..., 9]. Split x into 3 arrays, each of which has 4, 2, and 3 elements in the original order."
      ]
    },
    {
      "cell_type": "markdown",
      "metadata": {
        "id": "mOPlY8mnaWxF"
      },
      "source": [
        ""
      ]
    },
    {
      "cell_type": "code",
      "metadata": {
        "id": "RGpK3ADJI-8W",
        "outputId": "ad5c107b-f5af-4551-f3b5-6669c319dcde"
      },
      "source": [
        "np.split(x, [4,6])"
      ],
      "execution_count": null,
      "outputs": [
        {
          "output_type": "execute_result",
          "data": {
            "text/plain": [
              "[array([1, 2, 3, 4]), array([5, 6]), array([7, 8, 9])]"
            ]
          },
          "metadata": {
            "tags": []
          },
          "execution_count": 16
        }
      ]
    }
  ]
}