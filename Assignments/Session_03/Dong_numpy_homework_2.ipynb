{
  "nbformat": 4,
  "nbformat_minor": 0,
  "metadata": {
    "kernelspec": {
      "display_name": "Python 3",
      "language": "python",
      "name": "python3"
    },
    "language_info": {
      "codemirror_mode": {
        "name": "ipython",
        "version": 3
      },
      "file_extension": ".py",
      "mimetype": "text/x-python",
      "name": "python",
      "nbconvert_exporter": "python",
      "pygments_lexer": "ipython3",
      "version": "3.6.12"
    },
    "colab": {
      "name": "numpy_homework_2.ipynb",
      "provenance": [],
      "collapsed_sections": []
    }
  },
  "cells": [
    {
      "cell_type": "markdown",
      "metadata": {
        "id": "vhx-L8XsoRRh"
      },
      "source": [
        "# Mathematical functions"
      ]
    },
    {
      "cell_type": "code",
      "metadata": {
        "id": "HiqajzWDoRRl"
      },
      "source": [
        "import numpy as np"
      ],
      "execution_count": 1,
      "outputs": []
    },
    {
      "cell_type": "code",
      "metadata": {
        "id": "93slINZ3oRRn",
        "outputId": "0c0bd508-f99a-4147-8da4-f257ae2e1c2e"
      },
      "source": [
        "np.__version__"
      ],
      "execution_count": null,
      "outputs": [
        {
          "output_type": "execute_result",
          "data": {
            "text/plain": [
              "'1.18.1'"
            ]
          },
          "metadata": {
            "tags": []
          },
          "execution_count": 2
        }
      ]
    },
    {
      "cell_type": "markdown",
      "metadata": {
        "id": "WVdFCGcCoRRp"
      },
      "source": [
        "## Trigonometric functions"
      ]
    },
    {
      "cell_type": "markdown",
      "metadata": {
        "id": "HfPKCEb_oRRq"
      },
      "source": [
        "Calculate sine, cosine, and tangent of x, element-wise.  \n",
        "Hint: use np.sin(), np.cos(), np.tan()"
      ]
    },
    {
      "cell_type": "code",
      "metadata": {
        "id": "6hoaYcWwoRRr",
        "outputId": "49cdd83a-f03f-4a96-9dc3-37fa20a76029"
      },
      "source": [
        "x = np.array([0., 1., 30, 90])"
      ],
      "execution_count": null,
      "outputs": [
        {
          "output_type": "stream",
          "text": [
            "sine: [ 0.          0.84147098 -0.98803162  0.89399666]\n",
            "cosine: [ 1.          0.54030231  0.15425145 -0.44807362]\n",
            "tangent: [ 0.          1.55740772 -6.4053312  -1.99520041]\n"
          ],
          "name": "stdout"
        }
      ]
    },
    {
      "cell_type": "code",
      "metadata": {
        "id": "_pIDiG_Toxda"
      },
      "source": [
        "np.sin(x)"
      ],
      "execution_count": 2,
      "outputs": []
    },
    {
      "cell_type": "code",
      "metadata": {
        "id": "9MPIOwqNoyBP"
      },
      "source": [
        "np.cos(x)"
      ],
      "execution_count": 2,
      "outputs": []
    },
    {
      "cell_type": "code",
      "metadata": {
        "id": "tIRbqxDtoyVY"
      },
      "source": [
        "np.tan(x)"
      ],
      "execution_count": null,
      "outputs": []
    },
    {
      "cell_type": "markdown",
      "metadata": {
        "id": "Ka4L_jywoRRr"
      },
      "source": [
        "Calculate inverse sine, inverse cosine, and inverse tangent of x, element-wise.  \n",
        "Hint: use np.arcsin(), np.arccos(), np.arctan()"
      ]
    },
    {
      "cell_type": "code",
      "metadata": {
        "id": "U4w9_BjOoRRs",
        "outputId": "c49219fc-c9bb-4169-df33-92d85bf5d167"
      },
      "source": [
        "x = np.array([-1., 0, 1.])"
      ],
      "execution_count": null,
      "outputs": [
        {
          "output_type": "stream",
          "text": [
            "inverse sine: [-1.57079633  0.          1.57079633]\n",
            "inverse cosine: [3.14159265 1.57079633 0.        ]\n",
            "inverse tangent: [-0.78539816  0.          0.78539816]\n"
          ],
          "name": "stdout"
        }
      ]
    },
    {
      "cell_type": "code",
      "metadata": {
        "id": "jghXXoAio6qS"
      },
      "source": [
        "np.arcsin(x)"
      ],
      "execution_count": 2,
      "outputs": []
    },
    {
      "cell_type": "code",
      "metadata": {
        "id": "EMuf1svYo7GS"
      },
      "source": [
        "np.arccos(x)"
      ],
      "execution_count": 2,
      "outputs": []
    },
    {
      "cell_type": "code",
      "metadata": {
        "id": "M6uYrFaeo83a"
      },
      "source": [
        "np.arctan(x)"
      ],
      "execution_count": null,
      "outputs": []
    },
    {
      "cell_type": "markdown",
      "metadata": {
        "id": "sy7fQJGQoRRt"
      },
      "source": [
        "Convert angles from radians to degrees.  \n",
        "Hint: use np.degrees() or np.rad2deg()"
      ]
    },
    {
      "cell_type": "code",
      "metadata": {
        "id": "18FSHgZ5oRRu",
        "outputId": "63a5a79d-4f48-417d-cdd6-5455c9dc145c"
      },
      "source": [
        "x = np.array([-np.pi, -np.pi/2, np.pi/2, np.pi])"
      ],
      "execution_count": null,
      "outputs": [
        {
          "output_type": "stream",
          "text": [
            "[-180.  -90.   90.  180.]\n"
          ],
          "name": "stdout"
        }
      ]
    },
    {
      "cell_type": "code",
      "metadata": {
        "id": "eysTQvunpGNZ"
      },
      "source": [
        "np.degrees(x)"
      ],
      "execution_count": null,
      "outputs": []
    },
    {
      "cell_type": "markdown",
      "metadata": {
        "id": "_BpHXgaxoRRv"
      },
      "source": [
        "Convert angles from degrees to radians.  \n",
        "Hint: use np.radians() or np.deg2rad()"
      ]
    },
    {
      "cell_type": "code",
      "metadata": {
        "id": "Ttoc3vBmoRRv",
        "outputId": "f428039c-b49f-4c99-85a0-c56fe6661c2f"
      },
      "source": [
        "x = np.array([-180.,  -90.,   90.,  180.])"
      ],
      "execution_count": null,
      "outputs": [
        {
          "output_type": "stream",
          "text": [
            "[-3.14159265 -1.57079633  1.57079633  3.14159265]\n"
          ],
          "name": "stdout"
        }
      ]
    },
    {
      "cell_type": "code",
      "metadata": {
        "id": "EjvpGuwspKVi"
      },
      "source": [
        "np.deg2rad(x)"
      ],
      "execution_count": null,
      "outputs": []
    },
    {
      "cell_type": "markdown",
      "metadata": {
        "id": "o5W5uBbzoRRw"
      },
      "source": [
        "## Hyperbolic functions"
      ]
    },
    {
      "cell_type": "markdown",
      "metadata": {
        "id": "OLvI7-NJoRRx"
      },
      "source": [
        "Calculate hyperbolic sine, hyperbolic cosine, and hyperbolic tangent of x, element-wise.  \n",
        "Hint: use np.sinh(), np.cosh(), np.tanh()"
      ]
    },
    {
      "cell_type": "code",
      "metadata": {
        "id": "1YNylE88oRRy",
        "outputId": "ea1ac338-d025-4955-d8f5-b3db68eb19c4"
      },
      "source": [
        "x = np.array([-1., 0, 1.])"
      ],
      "execution_count": null,
      "outputs": [
        {
          "output_type": "stream",
          "text": [
            "[-1.17520119  0.          1.17520119]\n",
            "[1.54308063 1.         1.54308063]\n",
            "[-0.76159416  0.          0.76159416]\n"
          ],
          "name": "stdout"
        }
      ]
    },
    {
      "cell_type": "code",
      "metadata": {
        "id": "TMRCI2UVpOph"
      },
      "source": [
        "np.sinh(x)"
      ],
      "execution_count": 2,
      "outputs": []
    },
    {
      "cell_type": "code",
      "metadata": {
        "id": "knH8lYP2pPlB"
      },
      "source": [
        "np.cosh(x)"
      ],
      "execution_count": 2,
      "outputs": []
    },
    {
      "cell_type": "code",
      "metadata": {
        "id": "sLDGRh5jpP2_"
      },
      "source": [
        "np.tanh(x)"
      ],
      "execution_count": null,
      "outputs": []
    },
    {
      "cell_type": "markdown",
      "metadata": {
        "id": "DR_PkUgfoRRy"
      },
      "source": [
        "## Rounding"
      ]
    },
    {
      "cell_type": "markdown",
      "metadata": {
        "id": "U4bDtYUaoRRz"
      },
      "source": [
        "Round x element-wise  \n",
        "Hint: use np.around(x) or np.floor(x) or np.ceil(x) or np.trunc(x)"
      ]
    },
    {
      "cell_type": "code",
      "metadata": {
        "id": "e6ZAelO3oRRz",
        "outputId": "8536d4e4-a485-40a7-9fe7-54e1d98a7a7b"
      },
      "source": [
        "x = np.array([2.1, 1.5, 2.5, 2.9, -2.1, -2.5, -2.9])"
      ],
      "execution_count": null,
      "outputs": [
        {
          "output_type": "stream",
          "text": [
            "[ 2.  2.  2.  3. -2. -2. -3.]\n",
            "[ 2.  1.  2.  2. -3. -3. -3.]\n",
            "[ 3.  2.  3.  3. -2. -2. -2.]\n",
            "[ 2.  1.  2.  2. -2. -2. -2.]\n"
          ],
          "name": "stdout"
        }
      ]
    },
    {
      "cell_type": "code",
      "metadata": {
        "id": "xQHjlOEZqT6g"
      },
      "source": [
        "np.around(x)\r\n",
        "np.floor(x)\r\n",
        "np.ceil(x)\r\n",
        "np.trunc(x)"
      ],
      "execution_count": null,
      "outputs": []
    },
    {
      "cell_type": "markdown",
      "metadata": {
        "id": "kuZ5b8a8oRR0"
      },
      "source": [
        "## Sums, products, differences"
      ]
    },
    {
      "cell_type": "markdown",
      "metadata": {
        "id": "6GXM0g1zoRR1"
      },
      "source": [
        "Calculate the difference between neighboring elements, element-wise.  \n",
        "Hint: use np.diff()"
      ]
    },
    {
      "cell_type": "code",
      "metadata": {
        "id": "4asx298UoRR1",
        "outputId": "5f501309-99fd-424e-c83c-ccc9d271d25e"
      },
      "source": [
        "x = np.array([1, 2, 4, 7, 0])"
      ],
      "execution_count": null,
      "outputs": [
        {
          "output_type": "stream",
          "text": [
            "[ 1  2  3 -7]\n"
          ],
          "name": "stdout"
        }
      ]
    },
    {
      "cell_type": "code",
      "metadata": {
        "id": "ytWQug4cqsjX"
      },
      "source": [
        "np.diff(x)"
      ],
      "execution_count": null,
      "outputs": []
    },
    {
      "cell_type": "markdown",
      "metadata": {
        "id": "g2_2bwi6oRR2"
      },
      "source": [
        "Return the cross product of x and y.  \n",
        "Hint: use np.cross()"
      ]
    },
    {
      "cell_type": "code",
      "metadata": {
        "id": "yaWkL1NRoRR3"
      },
      "source": [
        "x = np.array([1, 2, 3])\n",
        "y = np.array([4, 5, 6])"
      ],
      "execution_count": null,
      "outputs": []
    },
    {
      "cell_type": "code",
      "metadata": {
        "id": "UU46N9jcq0uL"
      },
      "source": [
        "np.cross(x,y)"
      ],
      "execution_count": null,
      "outputs": []
    },
    {
      "cell_type": "markdown",
      "metadata": {
        "id": "HqnDmQBsoRR3"
      },
      "source": [
        "## Exponents and logarithms"
      ]
    },
    {
      "cell_type": "markdown",
      "metadata": {
        "id": "0kVYbcpUoRR4"
      },
      "source": [
        "Compute $e^x$, element-wise.  \n",
        "Hint: use np.exp()"
      ]
    },
    {
      "cell_type": "code",
      "metadata": {
        "id": "iDQMGKZEoRR4",
        "outputId": "44b7e722-4b0d-43d7-a6ba-c86b0caf7e3d"
      },
      "source": [
        "x = np.array([1., 2., 3.], np.float32)"
      ],
      "execution_count": null,
      "outputs": [
        {
          "output_type": "stream",
          "text": [
            "[ 2.7182817  7.389056  20.085537 ]\n"
          ],
          "name": "stdout"
        }
      ]
    },
    {
      "cell_type": "code",
      "metadata": {
        "id": "H3TLJqzLq64L"
      },
      "source": [
        "np.exp(x)"
      ],
      "execution_count": null,
      "outputs": []
    },
    {
      "cell_type": "markdown",
      "metadata": {
        "id": "qma5BctFoRR5"
      },
      "source": [
        "Calculate exp(x) - 1 for all elements in x.  \n",
        "Hint: there are np.expm1() and np.exp(), make your own choice and use it properly"
      ]
    },
    {
      "cell_type": "code",
      "metadata": {
        "id": "ZzHS7yuqoRR5",
        "outputId": "3377fd24-74fd-415f-dccd-2c3379e8d2be"
      },
      "source": [
        "x = np.array([1., 2., 3.], np.float32)"
      ],
      "execution_count": null,
      "outputs": [
        {
          "output_type": "stream",
          "text": [
            "[ 1.7182817  6.389056  19.085537 ]\n"
          ],
          "name": "stdout"
        }
      ]
    },
    {
      "cell_type": "code",
      "metadata": {
        "id": "eJ-zYLN3rW8s"
      },
      "source": [
        "np.expm1(x)"
      ],
      "execution_count": null,
      "outputs": []
    },
    {
      "cell_type": "markdown",
      "metadata": {
        "id": "RQMUZwcBoRR6"
      },
      "source": [
        "Calculate $2^p$ for all p in x.  \n",
        "Hint: Refer to the lecture. np.exp2() will help, too."
      ]
    },
    {
      "cell_type": "code",
      "metadata": {
        "id": "1AOAEp0OoRR7",
        "outputId": "eb3e21c7-f050-4dd0-ebbb-bc4590d02aae"
      },
      "source": [
        "x = np.array([1., 2., 3.], np.float32)"
      ],
      "execution_count": null,
      "outputs": [
        {
          "output_type": "stream",
          "text": [
            "[2. 4. 8.]\n"
          ],
          "name": "stdout"
        }
      ]
    },
    {
      "cell_type": "code",
      "metadata": {
        "id": "JzDne-BKrcxV"
      },
      "source": [
        "np.exp2(x)"
      ],
      "execution_count": null,
      "outputs": []
    },
    {
      "cell_type": "markdown",
      "metadata": {
        "id": "lVVcMBM0oRR7"
      },
      "source": [
        "Compute natural, base 10, and base 2 logarithms of x element-wise.  \n",
        "Hint: use np.log(), np.log10(), np.log2()"
      ]
    },
    {
      "cell_type": "code",
      "metadata": {
        "id": "0e30IOAfoRR7",
        "outputId": "497d0d66-3ba4-4512-cb60-fed5f14ea028"
      },
      "source": [
        "x = np.array([1, np.e, np.e**2])"
      ],
      "execution_count": null,
      "outputs": [
        {
          "output_type": "stream",
          "text": [
            "natural log = [0. 1. 2.]\n",
            "common log = [0.         0.43429448 0.86858896]\n",
            "base 2 log = [0.         1.44269504 2.88539008]\n"
          ],
          "name": "stdout"
        }
      ]
    },
    {
      "cell_type": "code",
      "metadata": {
        "id": "hJatYpwFrl9N"
      },
      "source": [
        "print('natural log =' , np.log(x))\r\n",
        "print('common log =' , np.log10(x))\r\n",
        "print('base 2 log =' , np.log2(x))"
      ],
      "execution_count": null,
      "outputs": []
    },
    {
      "cell_type": "markdown",
      "metadata": {
        "id": "wFTGhHzXoRR8"
      },
      "source": [
        "## Arithmetic operations"
      ]
    },
    {
      "cell_type": "markdown",
      "metadata": {
        "id": "s4BIkgpVoRR8"
      },
      "source": [
        "Add x and y element-wise."
      ]
    },
    {
      "cell_type": "code",
      "metadata": {
        "id": "x7O9q6-YoRR9",
        "outputId": "05627184-2e03-4fce-88ea-54b4881d62dd"
      },
      "source": [
        "x = np.array([1, 2, 3])\n",
        "y = np.array([-1, -2, -3])"
      ],
      "execution_count": null,
      "outputs": [
        {
          "output_type": "stream",
          "text": [
            "[0 0 0]\n"
          ],
          "name": "stdout"
        }
      ]
    },
    {
      "cell_type": "code",
      "metadata": {
        "id": "9AcTonBAtV_Z"
      },
      "source": [
        "np.around(x+y)"
      ],
      "execution_count": null,
      "outputs": []
    },
    {
      "cell_type": "markdown",
      "metadata": {
        "id": "j07vl2Q0oRR9"
      },
      "source": [
        "Subtract y from x element-wise."
      ]
    },
    {
      "cell_type": "code",
      "metadata": {
        "id": "43iCtLtcoRR-",
        "outputId": "f8cb2496-9b7e-45cb-d768-298bdc9ab546"
      },
      "source": [
        "x = np.array([3, 4, 5])\n",
        "y = np.array(3)"
      ],
      "execution_count": null,
      "outputs": [
        {
          "output_type": "stream",
          "text": [
            "[0 1 2]\n"
          ],
          "name": "stdout"
        }
      ]
    },
    {
      "cell_type": "code",
      "metadata": {
        "id": "f4cYrSFEuQ1g"
      },
      "source": [
        "np.floor(x-y)"
      ],
      "execution_count": null,
      "outputs": []
    },
    {
      "cell_type": "markdown",
      "metadata": {
        "id": "wPRw-sIFoRR-"
      },
      "source": [
        "Multiply x by y element-wise."
      ]
    },
    {
      "cell_type": "code",
      "metadata": {
        "id": "mqKJbHkmoRR-",
        "outputId": "fbaeac6d-0e6c-46e3-87f2-06e34256f003"
      },
      "source": [
        "x = np.array([3, 4, 5])\n",
        "y = np.array([1, 0, -1])"
      ],
      "execution_count": null,
      "outputs": [
        {
          "output_type": "stream",
          "text": [
            "[ 3  0 -5]\n"
          ],
          "name": "stdout"
        }
      ]
    },
    {
      "cell_type": "code",
      "metadata": {
        "id": "xOx1m4zTuXFS"
      },
      "source": [
        "np.ceil(x*y)"
      ],
      "execution_count": null,
      "outputs": []
    },
    {
      "cell_type": "markdown",
      "metadata": {
        "id": "gqvAKkXCoRR_"
      },
      "source": [
        "Divide x by y element-wise"
      ]
    },
    {
      "cell_type": "code",
      "metadata": {
        "id": "mKA0cfgOoRR_",
        "outputId": "587085b5-eb06-44e5-c7fb-bd5e4c46d4c5"
      },
      "source": [
        "x = np.array([3., 4., 5.])\n",
        "y = np.array([1., 2., 3.])"
      ],
      "execution_count": null,
      "outputs": [
        {
          "output_type": "stream",
          "text": [
            "[3.         2.         1.66666667]\n"
          ],
          "name": "stdout"
        }
      ]
    },
    {
      "cell_type": "code",
      "metadata": {
        "id": "Mc6EaEk3ub_X"
      },
      "source": [
        "np.trunc(x/y)"
      ],
      "execution_count": null,
      "outputs": []
    },
    {
      "cell_type": "markdown",
      "metadata": {
        "id": "5MPGDswnoRR_"
      },
      "source": [
        "Compute numerical negative value of x, element-wise."
      ]
    },
    {
      "cell_type": "code",
      "metadata": {
        "id": "e_iUiYY3oRSA",
        "outputId": "013f13bc-ccce-47d1-ce91-b2f08d460c71"
      },
      "source": [
        "x = np.array([1, -1])"
      ],
      "execution_count": null,
      "outputs": [
        {
          "output_type": "stream",
          "text": [
            "[-1  1]\n"
          ],
          "name": "stdout"
        }
      ]
    },
    {
      "cell_type": "code",
      "metadata": {
        "id": "7AB3dbuLvxcp"
      },
      "source": [
        "np.ceil(x)"
      ],
      "execution_count": null,
      "outputs": []
    },
    {
      "cell_type": "markdown",
      "metadata": {
        "id": "MNGl0j9joRSA"
      },
      "source": [
        "Compute the reciprocal of x, element-wise."
      ]
    },
    {
      "cell_type": "code",
      "metadata": {
        "id": "rNU_NyPDoRSA",
        "outputId": "f5f8fd01-1291-4016-be33-f34c7c8b073c"
      },
      "source": [
        "x = np.array([1., 2., .2])"
      ],
      "execution_count": null,
      "outputs": [
        {
          "output_type": "stream",
          "text": [
            "[1.  0.5 5. ]\n"
          ],
          "name": "stdout"
        }
      ]
    },
    {
      "cell_type": "code",
      "metadata": {
        "id": "lASp6LPFzZw7"
      },
      "source": [
        "np.linalg.inv(x)"
      ],
      "execution_count": null,
      "outputs": []
    },
    {
      "cell_type": "markdown",
      "metadata": {
        "id": "dy7CFhKRoRSB"
      },
      "source": [
        "Compute $x^y$, element-wise."
      ]
    },
    {
      "cell_type": "code",
      "metadata": {
        "id": "hmGjIFSEoRSB",
        "outputId": "68e3d21b-b316-4c6c-9f15-93414494f19c"
      },
      "source": [
        "x = np.array([[1, 2], [3, 4]])\n",
        "y = np.array([[1, 2], [1, 2]])"
      ],
      "execution_count": null,
      "outputs": [
        {
          "output_type": "stream",
          "text": [
            "[[ 1  4]\n",
            " [ 3 16]]\n"
          ],
          "name": "stdout"
        }
      ]
    },
    {
      "cell_type": "code",
      "metadata": {
        "id": "TovVCeO40Akh"
      },
      "source": [
        "x**y"
      ],
      "execution_count": null,
      "outputs": []
    },
    {
      "cell_type": "markdown",
      "metadata": {
        "id": "fhQ9xWLqoRSC"
      },
      "source": [
        "Compute the remainder of x / y element-wise in two different ways.  \n",
        "Hint: use np.mod() or `%` operator"
      ]
    },
    {
      "cell_type": "code",
      "metadata": {
        "id": "8DV78UPFoRSC",
        "outputId": "d09717b4-be1e-42a3-aa4a-ac149f596536"
      },
      "source": [
        "x = np.array([-3, -2, -1, 1, 2, 3])\n",
        "y = 2"
      ],
      "execution_count": null,
      "outputs": [
        {
          "output_type": "stream",
          "text": [
            "[1 0 1 1 0 1]\n"
          ],
          "name": "stdout"
        }
      ]
    },
    {
      "cell_type": "code",
      "metadata": {
        "id": "pem6WOER0Pze"
      },
      "source": [
        "x%y"
      ],
      "execution_count": null,
      "outputs": []
    },
    {
      "cell_type": "markdown",
      "metadata": {
        "id": "5OraGiiLoRSC"
      },
      "source": [
        "## Miscellaneous"
      ]
    },
    {
      "cell_type": "markdown",
      "metadata": {
        "id": "YRaoNnS6oRSD"
      },
      "source": [
        "If an element of x is smaller than 3, replace it with 3.  \n",
        "And if an element of x is bigger than 7, replace it with 7.  \n",
        "Hint: use array masking"
      ]
    },
    {
      "cell_type": "code",
      "metadata": {
        "id": "zx0YPwy7oRSD",
        "outputId": "5926e4e4-c42a-41c3-f650-cbaaca727ee2"
      },
      "source": [
        "x = np.arange(10)"
      ],
      "execution_count": null,
      "outputs": [
        {
          "output_type": "stream",
          "text": [
            "[3 3 3 3 4 5 6 7 7 7]\n"
          ],
          "name": "stdout"
        }
      ]
    },
    {
      "cell_type": "code",
      "metadata": {
        "id": "kSn4LbiL2JX-"
      },
      "source": [
        "np.where(x < 3 , 3 , np.where(x > 7 , 7 , x))"
      ],
      "execution_count": null,
      "outputs": []
    },
    {
      "cell_type": "markdown",
      "metadata": {
        "id": "aseaHzb9oRSD"
      },
      "source": [
        "Compute the square of x, element-wise."
      ]
    },
    {
      "cell_type": "code",
      "metadata": {
        "id": "gWIYpWqMoRSE",
        "outputId": "8e2d731b-0ad6-465d-b096-fe998c882c4d"
      },
      "source": [
        "x = np.array([1, 2, -1])"
      ],
      "execution_count": null,
      "outputs": [
        {
          "output_type": "stream",
          "text": [
            "[1 4 1]\n"
          ],
          "name": "stdout"
        }
      ]
    },
    {
      "cell_type": "code",
      "metadata": {
        "id": "i_wlk-6y5yFw"
      },
      "source": [
        "x**2"
      ],
      "execution_count": null,
      "outputs": []
    },
    {
      "cell_type": "markdown",
      "metadata": {
        "id": "vHyyPMq-oRSE"
      },
      "source": [
        "Compute square root of x element-wise."
      ]
    },
    {
      "cell_type": "code",
      "metadata": {
        "id": "EnMUS_ovoRSE",
        "outputId": "294664fd-0ebf-4f08-d960-99eaf8ec5d52"
      },
      "source": [
        "x = np.array([1., 4., 9.])"
      ],
      "execution_count": null,
      "outputs": [
        {
          "output_type": "stream",
          "text": [
            "[1. 2. 3.]\n"
          ],
          "name": "stdout"
        }
      ]
    },
    {
      "cell_type": "code",
      "metadata": {
        "id": "bjP8N6vt6fZw"
      },
      "source": [
        "np.sqrt(x)"
      ],
      "execution_count": null,
      "outputs": []
    },
    {
      "cell_type": "markdown",
      "metadata": {
        "id": "ZAt6EoSWoRSE"
      },
      "source": [
        "Compute the absolute value of x."
      ]
    },
    {
      "cell_type": "code",
      "metadata": {
        "id": "nweKCrEKoRSF",
        "outputId": "8604421c-b775-40eb-fe8b-c9585c2ad4d0"
      },
      "source": [
        "x = np.array([[1, -1], [3, -3]])"
      ],
      "execution_count": null,
      "outputs": [
        {
          "output_type": "stream",
          "text": [
            "[[1 1]\n",
            " [3 3]]\n"
          ],
          "name": "stdout"
        }
      ]
    },
    {
      "cell_type": "code",
      "metadata": {
        "id": "uXDHmBh67Z1y"
      },
      "source": [
        "np.abs(x)"
      ],
      "execution_count": null,
      "outputs": []
    },
    {
      "cell_type": "markdown",
      "metadata": {
        "id": "_LNyjatnoRSF"
      },
      "source": [
        "Compute an element-wise indication of the sign of x, element-wise."
      ]
    },
    {
      "cell_type": "code",
      "metadata": {
        "id": "lRSsQmmAoRSF",
        "outputId": "0e1519f1-9494-4df3-bb07-c52e735a76b8"
      },
      "source": [
        "x = np.array([1, 3, 0, -1, -3])"
      ],
      "execution_count": null,
      "outputs": [
        {
          "output_type": "stream",
          "text": [
            "[ 1  1  0 -1 -1]\n"
          ],
          "name": "stdout"
        }
      ]
    },
    {
      "cell_type": "code",
      "metadata": {
        "id": "3k_U_-dH9CaB"
      },
      "source": [
        "np.sign(x)"
      ],
      "execution_count": null,
      "outputs": []
    }
  ]
}