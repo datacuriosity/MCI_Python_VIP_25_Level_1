{
 "cells": [
  {
   "cell_type": "code",
   "execution_count": 191,
   "id": "polish-bacon",
   "metadata": {},
   "outputs": [
    {
     "data": {
      "text/html": [
       "<div>\n",
       "<style scoped>\n",
       "    .dataframe tbody tr th:only-of-type {\n",
       "        vertical-align: middle;\n",
       "    }\n",
       "\n",
       "    .dataframe tbody tr th {\n",
       "        vertical-align: top;\n",
       "    }\n",
       "\n",
       "    .dataframe thead th {\n",
       "        text-align: right;\n",
       "    }\n",
       "</style>\n",
       "<table border=\"1\" class=\"dataframe\">\n",
       "  <thead>\n",
       "    <tr style=\"text-align: right;\">\n",
       "      <th></th>\n",
       "      <th>Name</th>\n",
       "      <th>Salary</th>\n",
       "      <th>Manager_ID</th>\n",
       "    </tr>\n",
       "    <tr>\n",
       "      <th>No</th>\n",
       "      <th></th>\n",
       "      <th></th>\n",
       "      <th></th>\n",
       "    </tr>\n",
       "  </thead>\n",
       "  <tbody>\n",
       "    <tr>\n",
       "      <th>1</th>\n",
       "      <td>Joe</td>\n",
       "      <td>70000</td>\n",
       "      <td>3</td>\n",
       "    </tr>\n",
       "    <tr>\n",
       "      <th>2</th>\n",
       "      <td>Henry</td>\n",
       "      <td>80000</td>\n",
       "      <td>4</td>\n",
       "    </tr>\n",
       "    <tr>\n",
       "      <th>3</th>\n",
       "      <td>Sam</td>\n",
       "      <td>60000</td>\n",
       "      <td>NaN</td>\n",
       "    </tr>\n",
       "    <tr>\n",
       "      <th>4</th>\n",
       "      <td>Max</td>\n",
       "      <td>90000</td>\n",
       "      <td></td>\n",
       "    </tr>\n",
       "  </tbody>\n",
       "</table>\n",
       "</div>"
      ],
      "text/plain": [
       "     Name  Salary Manager_ID\n",
       "No                          \n",
       "1     Joe   70000          3\n",
       "2   Henry   80000          4\n",
       "3     Sam   60000        NaN\n",
       "4     Max   90000           "
      ]
     },
     "execution_count": 191,
     "metadata": {},
     "output_type": "execute_result"
    }
   ],
   "source": [
    "import pandas as pd\n",
    "df1 = pd.read_csv('employee_01.csv',header = None)\n",
    "df2 = pd.read_csv('employee_02.csv',header = None)\n",
    "df1.columns = ['No', 'Name', 'Salary', 'Manager_ID']\n",
    "df1.set_index('No')"
   ]
  },
  {
   "cell_type": "markdown",
   "id": "registered-attack",
   "metadata": {},
   "source": [
    "Bài tập 1: Cho một bảng Employee (file employee_01.csv đính kèm) chứa thông tin tất cả employees và manager của các employees này. Mỗi employee có một Id và thông tin manager Id của người quản lý\n",
    "\n",
    "Dùng pandas liệt kê ra các employees có salary cao hơn manager của mình."
   ]
  },
  {
   "cell_type": "code",
   "execution_count": 363,
   "id": "stretch-fourth",
   "metadata": {},
   "outputs": [
    {
     "data": {
      "text/html": [
       "<div>\n",
       "<style scoped>\n",
       "    .dataframe tbody tr th:only-of-type {\n",
       "        vertical-align: middle;\n",
       "    }\n",
       "\n",
       "    .dataframe tbody tr th {\n",
       "        vertical-align: top;\n",
       "    }\n",
       "\n",
       "    .dataframe thead th {\n",
       "        text-align: right;\n",
       "    }\n",
       "</style>\n",
       "<table border=\"1\" class=\"dataframe\">\n",
       "  <thead>\n",
       "    <tr style=\"text-align: right;\">\n",
       "      <th></th>\n",
       "      <th>Employee</th>\n",
       "    </tr>\n",
       "  </thead>\n",
       "  <tbody>\n",
       "    <tr>\n",
       "      <th>0</th>\n",
       "      <td>Joe</td>\n",
       "    </tr>\n",
       "  </tbody>\n",
       "</table>\n",
       "</div>"
      ],
      "text/plain": [
       "  Employee\n",
       "0      Joe"
      ]
     },
     "execution_count": 363,
     "metadata": {},
     "output_type": "execute_result"
    }
   ],
   "source": [
    "x = []\n",
    "for i in range(len(df1.index)):\n",
    "    if li[i] == True: \n",
    "        if df1.Manager_ID[i] == ' ':\n",
    "            pass        \n",
    "        elif df1.Salary[i] > df1.Salary[int(df1.Manager_ID[i])-1]:\n",
    "            x.append(df1.Name[i])\n",
    "pd.DataFrame({'Employee': x})"
   ]
  },
  {
   "cell_type": "markdown",
   "id": "prepared-dryer",
   "metadata": {},
   "source": [
    "======================================================================"
   ]
  },
  {
   "cell_type": "markdown",
   "id": "adjustable-energy",
   "metadata": {},
   "source": [
    "Bài tập 2: Cho bảng Employee (file employee_02.csv đính kèm file này) chưa thông tin tất cả employees.\n",
    "\n",
    "Dùng pandas viết truy vấn tìm ra các employees có mức lương cao nhất của mỗi phòng ban. Với ví dụ trên, ouput mong muốn như sau"
   ]
  },
  {
   "cell_type": "code",
   "execution_count": 347,
   "id": "native-governor",
   "metadata": {},
   "outputs": [],
   "source": [
    "# Tạo Header cho employee_02\n",
    "df2.columns = ['ID','Name', 'Salary', 'DepartmentID']"
   ]
  },
  {
   "cell_type": "code",
   "execution_count": 233,
   "id": "cordless-mapping",
   "metadata": {},
   "outputs": [],
   "source": [
    "# Import và tạo Header cho Department\n",
    "department = pd.read_csv('department.csv', header = None)\n",
    "department.columns = ['ID', 'Name']"
   ]
  },
  {
   "cell_type": "code",
   "execution_count": 348,
   "id": "fabulous-basket",
   "metadata": {},
   "outputs": [],
   "source": [
    "# Lấy ra giá trị lương cao nhất của 2 phòng IT và Sales\n",
    "max_it = df2[df2.Salary == max(set(df2.query('DepartmentID ==  1').Salary))]\n",
    "max_sales = df2[df2.Salary == max(set(df2.query('DepartmentID ==  2').Salary))]"
   ]
  },
  {
   "cell_type": "code",
   "execution_count": 349,
   "id": "finnish-accreditation",
   "metadata": {},
   "outputs": [],
   "source": [
    "# Nối 2 DF lại với nhau\n",
    "max_df2 = max_it.append(max_sales).reset_index()"
   ]
  },
  {
   "cell_type": "code",
   "execution_count": 351,
   "id": "above-sister",
   "metadata": {},
   "outputs": [],
   "source": [
    "# Chuyển đổi Department ID sang tên\n",
    "de = []\n",
    "for i in range(len(max_df2.DepartmentID)):\n",
    "    if max_df2.DepartmentID[i] == 1:\n",
    "        x = 'IT'\n",
    "    if max_df2.DepartmentID[i] == 2:\n",
    "        x = 'Sales'\n",
    "    de.append(x)    \n",
    "se_de = pd.Series(de)"
   ]
  },
  {
   "cell_type": "code",
   "execution_count": 340,
   "id": "minute-office",
   "metadata": {},
   "outputs": [],
   "source": [
    "# Nối 2 Dataframe se_de và max_df2 theo cột\n",
    "max_salary = pd.concat([se_de,max_df2], axis=1)"
   ]
  },
  {
   "cell_type": "code",
   "execution_count": 342,
   "id": "adopted-firewall",
   "metadata": {},
   "outputs": [],
   "source": [
    "# Xóa những cột không cần thiết\n",
    "max_salary.drop('index', inplace = True, axis = 1)\n",
    "max_salary.drop('ID', inplace = True, axis = 1)\n",
    "max_salary.drop('DepartmentID', inplace = True, axis = 1)"
   ]
  },
  {
   "cell_type": "code",
   "execution_count": 352,
   "id": "abroad-novelty",
   "metadata": {},
   "outputs": [
    {
     "data": {
      "text/html": [
       "<div>\n",
       "<style scoped>\n",
       "    .dataframe tbody tr th:only-of-type {\n",
       "        vertical-align: middle;\n",
       "    }\n",
       "\n",
       "    .dataframe tbody tr th {\n",
       "        vertical-align: top;\n",
       "    }\n",
       "\n",
       "    .dataframe thead th {\n",
       "        text-align: right;\n",
       "    }\n",
       "</style>\n",
       "<table border=\"1\" class=\"dataframe\">\n",
       "  <thead>\n",
       "    <tr style=\"text-align: right;\">\n",
       "      <th></th>\n",
       "      <th>Department</th>\n",
       "      <th>Employee</th>\n",
       "      <th>Salary</th>\n",
       "    </tr>\n",
       "  </thead>\n",
       "  <tbody>\n",
       "    <tr>\n",
       "      <th>0</th>\n",
       "      <td>IT</td>\n",
       "      <td>Jim</td>\n",
       "      <td>90000</td>\n",
       "    </tr>\n",
       "    <tr>\n",
       "      <th>1</th>\n",
       "      <td>IT</td>\n",
       "      <td>Max</td>\n",
       "      <td>90000</td>\n",
       "    </tr>\n",
       "    <tr>\n",
       "      <th>2</th>\n",
       "      <td>Sales</td>\n",
       "      <td>Henry</td>\n",
       "      <td>80000</td>\n",
       "    </tr>\n",
       "  </tbody>\n",
       "</table>\n",
       "</div>"
      ],
      "text/plain": [
       "  Department Employee  Salary\n",
       "0         IT      Jim   90000\n",
       "1         IT      Max   90000\n",
       "2      Sales    Henry   80000"
      ]
     },
     "execution_count": 352,
     "metadata": {},
     "output_type": "execute_result"
    }
   ],
   "source": [
    "# Đặt lại tên các cột\n",
    "max_salary.columns = ['Department', 'Employee', 'Salary']\n",
    "max_salary"
   ]
  },
  {
   "cell_type": "code",
   "execution_count": null,
   "id": "accurate-edition",
   "metadata": {},
   "outputs": [],
   "source": []
  }
 ],
 "metadata": {
  "kernelspec": {
   "display_name": "Python 3",
   "language": "python",
   "name": "python3"
  },
  "language_info": {
   "codemirror_mode": {
    "name": "ipython",
    "version": 3
   },
   "file_extension": ".py",
   "mimetype": "text/x-python",
   "name": "python",
   "nbconvert_exporter": "python",
   "pygments_lexer": "ipython3",
   "version": "3.7.10"
  }
 },
 "nbformat": 4,
 "nbformat_minor": 5
}
