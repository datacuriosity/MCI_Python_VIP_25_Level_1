{
 "cells": [
  {
   "cell_type": "code",
   "execution_count": 1,
   "id": "recovered-mobility",
   "metadata": {},
   "outputs": [],
   "source": [
    "import pandas as pd"
   ]
  },
  {
   "cell_type": "code",
   "execution_count": 2,
   "id": "official-vienna",
   "metadata": {},
   "outputs": [
    {
     "data": {
      "text/html": [
       "<div>\n",
       "<style scoped>\n",
       "    .dataframe tbody tr th:only-of-type {\n",
       "        vertical-align: middle;\n",
       "    }\n",
       "\n",
       "    .dataframe tbody tr th {\n",
       "        vertical-align: top;\n",
       "    }\n",
       "\n",
       "    .dataframe thead th {\n",
       "        text-align: right;\n",
       "    }\n",
       "</style>\n",
       "<table border=\"1\" class=\"dataframe\">\n",
       "  <thead>\n",
       "    <tr style=\"text-align: right;\">\n",
       "      <th></th>\n",
       "      <th>Year</th>\n",
       "      <th>State</th>\n",
       "      <th>Value</th>\n",
       "    </tr>\n",
       "  </thead>\n",
       "  <tbody>\n",
       "    <tr>\n",
       "      <th>0</th>\n",
       "      <td>2015</td>\n",
       "      <td>RI</td>\n",
       "      <td>0.2</td>\n",
       "    </tr>\n",
       "    <tr>\n",
       "      <th>1</th>\n",
       "      <td>2015</td>\n",
       "      <td>VT</td>\n",
       "      <td>0.3</td>\n",
       "    </tr>\n",
       "    <tr>\n",
       "      <th>2</th>\n",
       "      <td>2017</td>\n",
       "      <td>VA</td>\n",
       "      <td>0.3</td>\n",
       "    </tr>\n",
       "    <tr>\n",
       "      <th>3</th>\n",
       "      <td>2017</td>\n",
       "      <td>DE</td>\n",
       "      <td>0.4</td>\n",
       "    </tr>\n",
       "    <tr>\n",
       "      <th>4</th>\n",
       "      <td>2015</td>\n",
       "      <td>RI</td>\n",
       "      <td>0.4</td>\n",
       "    </tr>\n",
       "    <tr>\n",
       "      <th>5</th>\n",
       "      <td>2017</td>\n",
       "      <td>WV</td>\n",
       "      <td>0.6</td>\n",
       "    </tr>\n",
       "    <tr>\n",
       "      <th>6</th>\n",
       "      <td>2015</td>\n",
       "      <td>FL</td>\n",
       "      <td>0.6</td>\n",
       "    </tr>\n",
       "    <tr>\n",
       "      <th>7</th>\n",
       "      <td>2017</td>\n",
       "      <td>NM</td>\n",
       "      <td>0.7</td>\n",
       "    </tr>\n",
       "    <tr>\n",
       "      <th>8</th>\n",
       "      <td>2015</td>\n",
       "      <td>MD</td>\n",
       "      <td>0.7</td>\n",
       "    </tr>\n",
       "    <tr>\n",
       "      <th>9</th>\n",
       "      <td>2015</td>\n",
       "      <td>RI</td>\n",
       "      <td>0.8</td>\n",
       "    </tr>\n",
       "  </tbody>\n",
       "</table>\n",
       "</div>"
      ],
      "text/plain": [
       "   Year State  Value\n",
       "0  2015    RI    0.2\n",
       "1  2015    VT    0.3\n",
       "2  2017    VA    0.3\n",
       "3  2017    DE    0.4\n",
       "4  2015    RI    0.4\n",
       "5  2017    WV    0.6\n",
       "6  2015    FL    0.6\n",
       "7  2017    NM    0.7\n",
       "8  2015    MD    0.7\n",
       "9  2015    RI    0.8"
      ]
     },
     "execution_count": 2,
     "metadata": {},
     "output_type": "execute_result"
    }
   ],
   "source": [
    "smokers=pd.read_csv('smokers.csv')\n",
    "smokers.head(10)"
   ]
  },
  {
   "cell_type": "markdown",
   "id": "derived-brighton",
   "metadata": {},
   "source": [
    "Step 1 [30]: Read file and display the number of rows\n",
    "in the data"
   ]
  },
  {
   "cell_type": "code",
   "execution_count": 29,
   "id": "worse-prediction",
   "metadata": {},
   "outputs": [
    {
     "data": {
      "text/plain": [
       "3519"
      ]
     },
     "execution_count": 29,
     "metadata": {},
     "output_type": "execute_result"
    }
   ],
   "source": [
    "smokers.shape[0]"
   ]
  },
  {
   "cell_type": "markdown",
   "id": "specific-dress",
   "metadata": {},
   "source": [
    "Step 2 [30]: Find and display the average number of\n",
    "surveys conducted per state.\n"
   ]
  },
  {
   "cell_type": "code",
   "execution_count": 32,
   "id": "introductory-basement",
   "metadata": {},
   "outputs": [
    {
     "data": {
      "text/plain": [
       "State\n",
       "AK    17.380392\n",
       "AL    22.815714\n",
       "AR    23.433871\n",
       "AZ    17.867347\n",
       "CA     5.992857\n",
       "CO    10.883333\n",
       "CT    15.445283\n",
       "DC     6.135897\n",
       "DE    12.853153\n",
       "FL    10.482222\n",
       "GA    12.198684\n",
       "GU    18.717722\n",
       "HI    12.697297\n",
       "IA    19.483333\n",
       "ID    16.100000\n",
       "IL    16.787500\n",
       "IN    18.572222\n",
       "KS    14.481579\n",
       "KY    17.031169\n",
       "LA    19.669697\n",
       "MA    18.138000\n",
       "MD     8.934118\n",
       "ME    13.868992\n",
       "MI    18.565385\n",
       "MO    22.193103\n",
       "MS    20.545455\n",
       "MT    25.753947\n",
       "NC    16.260000\n",
       "ND    16.656250\n",
       "NE    18.168293\n",
       "NH    18.076471\n",
       "NJ    17.467647\n",
       "NM    12.930682\n",
       "NV    15.613684\n",
       "NY    15.556989\n",
       "OH    24.541463\n",
       "OK    20.953448\n",
       "PA    11.385714\n",
       "PR    10.772727\n",
       "RI     9.326364\n",
       "SC    18.084337\n",
       "SD    30.221154\n",
       "TN    17.721311\n",
       "TX    18.114894\n",
       "US    21.502542\n",
       "UT    10.710526\n",
       "VA     6.257407\n",
       "VT    16.875455\n",
       "WI    20.590476\n",
       "WV    20.045882\n",
       "WY    19.770370\n",
       "Name: Value, dtype: float64"
      ]
     },
     "execution_count": 32,
     "metadata": {},
     "output_type": "execute_result"
    }
   ],
   "source": [
    "smokers.groupby('State')['Value'].agg('mean')"
   ]
  },
  {
   "cell_type": "markdown",
   "id": "central-affair",
   "metadata": {},
   "source": [
    "Step 3 [30]: Among the surveys in the data-set,\n",
    "display the minimum and maximum smoking rate.\n"
   ]
  },
  {
   "cell_type": "code",
   "execution_count": 103,
   "id": "different-fault",
   "metadata": {},
   "outputs": [
    {
     "data": {
      "text/html": [
       "<div>\n",
       "<style scoped>\n",
       "    .dataframe tbody tr th:only-of-type {\n",
       "        vertical-align: middle;\n",
       "    }\n",
       "\n",
       "    .dataframe tbody tr th {\n",
       "        vertical-align: top;\n",
       "    }\n",
       "\n",
       "    .dataframe thead th {\n",
       "        text-align: right;\n",
       "    }\n",
       "</style>\n",
       "<table border=\"1\" class=\"dataframe\">\n",
       "  <thead>\n",
       "    <tr style=\"text-align: right;\">\n",
       "      <th></th>\n",
       "      <th></th>\n",
       "      <th>min_1</th>\n",
       "    </tr>\n",
       "    <tr>\n",
       "      <th>Year</th>\n",
       "      <th>State</th>\n",
       "      <th></th>\n",
       "    </tr>\n",
       "  </thead>\n",
       "  <tbody>\n",
       "    <tr>\n",
       "      <th>2015</th>\n",
       "      <th>RI</th>\n",
       "      <td>0.2</td>\n",
       "    </tr>\n",
       "  </tbody>\n",
       "</table>\n",
       "</div>"
      ],
      "text/plain": [
       "            min_1\n",
       "Year State       \n",
       "2015 RI       0.2"
      ]
     },
     "execution_count": 103,
     "metadata": {},
     "output_type": "execute_result"
    }
   ],
   "source": [
    "smokers.groupby(['Year','State'])['Value'].agg(min_1='min').sort_values(by='min_1').head(1)"
   ]
  },
  {
   "cell_type": "code",
   "execution_count": 104,
   "id": "traditional-death",
   "metadata": {},
   "outputs": [
    {
     "data": {
      "text/html": [
       "<div>\n",
       "<style scoped>\n",
       "    .dataframe tbody tr th:only-of-type {\n",
       "        vertical-align: middle;\n",
       "    }\n",
       "\n",
       "    .dataframe tbody tr th {\n",
       "        vertical-align: top;\n",
       "    }\n",
       "\n",
       "    .dataframe thead th {\n",
       "        text-align: right;\n",
       "    }\n",
       "</style>\n",
       "<table border=\"1\" class=\"dataframe\">\n",
       "  <thead>\n",
       "    <tr style=\"text-align: right;\">\n",
       "      <th></th>\n",
       "      <th></th>\n",
       "      <th>max_1</th>\n",
       "    </tr>\n",
       "    <tr>\n",
       "      <th>Year</th>\n",
       "      <th>State</th>\n",
       "      <th></th>\n",
       "    </tr>\n",
       "  </thead>\n",
       "  <tbody>\n",
       "    <tr>\n",
       "      <th>2003</th>\n",
       "      <th>SD</th>\n",
       "      <td>62.3</td>\n",
       "    </tr>\n",
       "  </tbody>\n",
       "</table>\n",
       "</div>"
      ],
      "text/plain": [
       "            max_1\n",
       "Year State       \n",
       "2003 SD      62.3"
      ]
     },
     "execution_count": 104,
     "metadata": {},
     "output_type": "execute_result"
    }
   ],
   "source": [
    "smokers.groupby(['Year','State'])['Value'].agg(max_1='max').sort_values(by='max_1',ascending=False).head(1)"
   ]
  },
  {
   "cell_type": "markdown",
   "id": "intended-launch",
   "metadata": {},
   "source": [
    "Step 4 [30]: Find average smoker rate per state and\n",
    "display the states with minimum and maximum\n",
    "average."
   ]
  },
  {
   "cell_type": "code",
   "execution_count": 123,
   "id": "premier-factory",
   "metadata": {},
   "outputs": [
    {
     "data": {
      "text/plain": [
       "State\n",
       "SD    30.221154\n",
       "CA     5.992857\n",
       "Name: Value, dtype: float64"
      ]
     },
     "execution_count": 123,
     "metadata": {},
     "output_type": "execute_result"
    }
   ],
   "source": [
    "n=smokers.groupby('State')['Value'].agg('mean').sort_values().head(1)\n",
    "m=smokers.groupby('State')['Value'].agg('mean').sort_values(ascending=False).head(1)\n",
    "pd.concat([m,n])"
   ]
  },
  {
   "cell_type": "markdown",
   "id": "rotary-balloon",
   "metadata": {},
   "source": [
    "Step 5 [40]: Same as Step 4 but display the top 10\n",
    "states instead of min and max.\n"
   ]
  },
  {
   "cell_type": "code",
   "execution_count": 124,
   "id": "israeli-floor",
   "metadata": {},
   "outputs": [
    {
     "data": {
      "text/plain": [
       "State\n",
       "SD    30.221154\n",
       "MT    25.753947\n",
       "OH    24.541463\n",
       "AR    23.433871\n",
       "AL    22.815714\n",
       "MO    22.193103\n",
       "US    21.502542\n",
       "OK    20.953448\n",
       "WI    20.590476\n",
       "MS    20.545455\n",
       "CA     5.992857\n",
       "DC     6.135897\n",
       "VA     6.257407\n",
       "MD     8.934118\n",
       "RI     9.326364\n",
       "FL    10.482222\n",
       "UT    10.710526\n",
       "PR    10.772727\n",
       "CO    10.883333\n",
       "PA    11.385714\n",
       "Name: Value, dtype: float64"
      ]
     },
     "execution_count": 124,
     "metadata": {},
     "output_type": "execute_result"
    }
   ],
   "source": [
    "n=smokers.groupby('State')['Value'].agg('mean').sort_values().head(10)\n",
    "m=smokers.groupby('State')['Value'].agg('mean').sort_values(ascending=False).head(10)\n",
    "pd.concat([m,n])"
   ]
  },
  {
   "cell_type": "markdown",
   "id": "foreign-journey",
   "metadata": {},
   "source": [
    "Step 6 [40]: Get state and year from user and display\n",
    "the surveys for that state for that year.\n"
   ]
  },
  {
   "cell_type": "code",
   "execution_count": 210,
   "id": "expressed-symbol",
   "metadata": {},
   "outputs": [],
   "source": []
  },
  {
   "cell_type": "code",
   "execution_count": 211,
   "id": "respected-camcorder",
   "metadata": {},
   "outputs": [
    {
     "data": {
      "text/plain": [
       "<function __main__.nhap()>"
      ]
     },
     "execution_count": 211,
     "metadata": {},
     "output_type": "execute_result"
    }
   ],
   "source": [
    "nhap"
   ]
  },
  {
   "cell_type": "markdown",
   "id": "private-alfred",
   "metadata": {},
   "source": [
    "Step 7 [50]: Get state from user as input (using\n",
    "input()) and display the average smoker rate year by\n",
    "year. By looking at the most recent 2 years, display if\n",
    "the cigarette use is on decline or rise."
   ]
  },
  {
   "cell_type": "code",
   "execution_count": null,
   "id": "polish-visitor",
   "metadata": {},
   "outputs": [],
   "source": []
  }
 ],
 "metadata": {
  "kernelspec": {
   "display_name": "Python 3",
   "language": "python",
   "name": "python3"
  },
  "language_info": {
   "codemirror_mode": {
    "name": "ipython",
    "version": 3
   },
   "file_extension": ".py",
   "mimetype": "text/x-python",
   "name": "python",
   "nbconvert_exporter": "python",
   "pygments_lexer": "ipython3",
   "version": "3.7.10"
  }
 },
 "nbformat": 4,
 "nbformat_minor": 5
}
