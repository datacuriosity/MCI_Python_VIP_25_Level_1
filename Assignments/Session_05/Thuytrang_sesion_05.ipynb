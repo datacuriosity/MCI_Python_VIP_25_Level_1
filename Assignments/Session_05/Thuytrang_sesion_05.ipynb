{
 "cells": [
  {
   "cell_type": "code",
   "execution_count": 2,
   "id": "arctic-huntington",
   "metadata": {},
   "outputs": [],
   "source": [
    "import pandas as pd"
   ]
  },
  {
   "cell_type": "code",
   "execution_count": 4,
   "id": "round-audience",
   "metadata": {},
   "outputs": [
    {
     "data": {
      "text/plain": [
       "(3519, 3)"
      ]
     },
     "execution_count": 4,
     "metadata": {},
     "output_type": "execute_result"
    }
   ],
   "source": [
    "#Step 1 [30]: Read file and display the number of rows in the data.\n",
    "df = pd.read_csv('smokers.csv')\n",
    "df.shape"
   ]
  },
  {
   "cell_type": "code",
   "execution_count": 5,
   "id": "bibliographic-council",
   "metadata": {},
   "outputs": [
    {
     "data": {
      "text/plain": [
       "State\n",
       "AK    17.380392\n",
       "AL    22.815714\n",
       "AR    23.433871\n",
       "AZ    17.867347\n",
       "CA     5.992857\n",
       "CO    10.883333\n",
       "CT    15.445283\n",
       "DC     6.135897\n",
       "DE    12.853153\n",
       "FL    10.482222\n",
       "GA    12.198684\n",
       "GU    18.717722\n",
       "HI    12.697297\n",
       "IA    19.483333\n",
       "ID    16.100000\n",
       "IL    16.787500\n",
       "IN    18.572222\n",
       "KS    14.481579\n",
       "KY    17.031169\n",
       "LA    19.669697\n",
       "MA    18.138000\n",
       "MD     8.934118\n",
       "ME    13.868992\n",
       "MI    18.565385\n",
       "MO    22.193103\n",
       "MS    20.545455\n",
       "MT    25.753947\n",
       "NC    16.260000\n",
       "ND    16.656250\n",
       "NE    18.168293\n",
       "NH    18.076471\n",
       "NJ    17.467647\n",
       "NM    12.930682\n",
       "NV    15.613684\n",
       "NY    15.556989\n",
       "OH    24.541463\n",
       "OK    20.953448\n",
       "PA    11.385714\n",
       "PR    10.772727\n",
       "RI     9.326364\n",
       "SC    18.084337\n",
       "SD    30.221154\n",
       "TN    17.721311\n",
       "TX    18.114894\n",
       "US    21.502542\n",
       "UT    10.710526\n",
       "VA     6.257407\n",
       "VT    16.875455\n",
       "WI    20.590476\n",
       "WV    20.045882\n",
       "WY    19.770370\n",
       "Name: Value, dtype: float64"
      ]
     },
     "execution_count": 5,
     "metadata": {},
     "output_type": "execute_result"
    }
   ],
   "source": [
    "# Step 2 [30]: Find and display the average number of surveys conducted per state.\n",
    "df.groupby('State').Value.mean()"
   ]
  },
  {
   "cell_type": "code",
   "execution_count": 6,
   "id": "available-detroit",
   "metadata": {},
   "outputs": [
    {
     "data": {
      "text/plain": [
       "0.2"
      ]
     },
     "execution_count": 6,
     "metadata": {},
     "output_type": "execute_result"
    }
   ],
   "source": [
    "# Step 3 [30]: Among the surveys in the data-set, display the minimum and maximum smoking rate.\n",
    "df.Value.min()"
   ]
  },
  {
   "cell_type": "code",
   "execution_count": 7,
   "id": "remarkable-booth",
   "metadata": {},
   "outputs": [
    {
     "data": {
      "text/plain": [
       "62.3"
      ]
     },
     "execution_count": 7,
     "metadata": {},
     "output_type": "execute_result"
    }
   ],
   "source": [
    "df.Value.max()"
   ]
  },
  {
   "cell_type": "code",
   "execution_count": 8,
   "id": "exempt-mapping",
   "metadata": {},
   "outputs": [
    {
     "data": {
      "text/plain": [
       "State\n",
       "AK    17.380392\n",
       "AL    22.815714\n",
       "AR    23.433871\n",
       "AZ    17.867347\n",
       "CA     5.992857\n",
       "CO    10.883333\n",
       "CT    15.445283\n",
       "DC     6.135897\n",
       "DE    12.853153\n",
       "FL    10.482222\n",
       "GA    12.198684\n",
       "GU    18.717722\n",
       "HI    12.697297\n",
       "IA    19.483333\n",
       "ID    16.100000\n",
       "IL    16.787500\n",
       "IN    18.572222\n",
       "KS    14.481579\n",
       "KY    17.031169\n",
       "LA    19.669697\n",
       "MA    18.138000\n",
       "MD     8.934118\n",
       "ME    13.868992\n",
       "MI    18.565385\n",
       "MO    22.193103\n",
       "MS    20.545455\n",
       "MT    25.753947\n",
       "NC    16.260000\n",
       "ND    16.656250\n",
       "NE    18.168293\n",
       "NH    18.076471\n",
       "NJ    17.467647\n",
       "NM    12.930682\n",
       "NV    15.613684\n",
       "NY    15.556989\n",
       "OH    24.541463\n",
       "OK    20.953448\n",
       "PA    11.385714\n",
       "PR    10.772727\n",
       "RI     9.326364\n",
       "SC    18.084337\n",
       "SD    30.221154\n",
       "TN    17.721311\n",
       "TX    18.114894\n",
       "US    21.502542\n",
       "UT    10.710526\n",
       "VA     6.257407\n",
       "VT    16.875455\n",
       "WI    20.590476\n",
       "WV    20.045882\n",
       "WY    19.770370\n",
       "Name: Value, dtype: float64"
      ]
     },
     "execution_count": 8,
     "metadata": {},
     "output_type": "execute_result"
    }
   ],
   "source": [
    "# Step 4 [30]: Find average smoker rate per state and display the states with minimum and maximum average.\n",
    "df2 = df.groupby('State').Value.mean()\n",
    "df2.min()\n",
    "df2.max()\n",
    "df2"
   ]
  },
  {
   "cell_type": "code",
   "execution_count": 9,
   "id": "registered-royal",
   "metadata": {},
   "outputs": [
    {
     "data": {
      "text/plain": [
       "State\n",
       "SD    30.221154\n",
       "MT    25.753947\n",
       "OH    24.541463\n",
       "AR    23.433871\n",
       "AL    22.815714\n",
       "MO    22.193103\n",
       "US    21.502542\n",
       "OK    20.953448\n",
       "WI    20.590476\n",
       "MS    20.545455\n",
       "Name: Value, dtype: float64"
      ]
     },
     "execution_count": 9,
     "metadata": {},
     "output_type": "execute_result"
    }
   ],
   "source": [
    "# Step 5 [40]: Same as Step 4 but display the top 10 states instead of min and max.\n",
    "df.groupby('State').Value.mean().sort_values(ascending = False).head(10)"
   ]
  },
  {
   "cell_type": "code",
   "execution_count": 10,
   "id": "photographic-electronics",
   "metadata": {},
   "outputs": [
    {
     "data": {
      "text/plain": [
       "Year\n",
       "2015    41.5\n",
       "Name: Value, dtype: float64"
      ]
     },
     "execution_count": 10,
     "metadata": {},
     "output_type": "execute_result"
    }
   ],
   "source": [
    "#Step 6 [40]: Get state and year from user and display the surveys for that state for that year.\n",
    "df3 = df.query('Year == 2015 and State == \"RI\"')\n",
    "df3.groupby('Year').Value.sum()"
   ]
  },
  {
   "cell_type": "code",
   "execution_count": null,
   "id": "loaded-behavior",
   "metadata": {},
   "outputs": [],
   "source": [
    "# Step 7 [50]: Get state from user as input (using input()) and display the average smoker rate year by year. By looking at the most recent 2 years, display if\n",
    "# the cigarette use is on decline or rise."
   ]
  },
  {
   "cell_type": "code",
   "execution_count": null,
   "id": "joined-reason",
   "metadata": {},
   "outputs": [],
   "source": [
    "a = input()\n",
    "df3 = df[df['State'] == a]\n",
    "df3\n",
    "df3.groupby('Year').Value.mean()"
   ]
  },
  {
   "cell_type": "code",
   "execution_count": null,
   "id": "improving-tourism",
   "metadata": {},
   "outputs": [],
   "source": [
    "df.head(10)"
   ]
  },
  {
   "cell_type": "code",
   "execution_count": null,
   "id": "legislative-surgeon",
   "metadata": {},
   "outputs": [],
   "source": []
  },
  {
   "cell_type": "code",
   "execution_count": null,
   "id": "lined-preliminary",
   "metadata": {},
   "outputs": [],
   "source": []
  }
 ],
 "metadata": {
  "kernelspec": {
   "display_name": "Python 3",
   "language": "python",
   "name": "python3"
  },
  "language_info": {
   "codemirror_mode": {
    "name": "ipython",
    "version": 3
   },
   "file_extension": ".py",
   "mimetype": "text/x-python",
   "name": "python",
   "nbconvert_exporter": "python",
   "pygments_lexer": "ipython3",
   "version": "3.7.10"
  }
 },
 "nbformat": 4,
 "nbformat_minor": 5
}
