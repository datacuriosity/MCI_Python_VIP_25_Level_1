{
 "cells": [
  {
   "cell_type": "code",
   "execution_count": 100,
   "id": "accessible-dance",
   "metadata": {},
   "outputs": [],
   "source": [
    "import pandas as pd"
   ]
  },
  {
   "cell_type": "code",
   "execution_count": 101,
   "id": "indie-wayne",
   "metadata": {},
   "outputs": [
    {
     "data": {
      "text/html": [
       "<div>\n",
       "<style scoped>\n",
       "    .dataframe tbody tr th:only-of-type {\n",
       "        vertical-align: middle;\n",
       "    }\n",
       "\n",
       "    .dataframe tbody tr th {\n",
       "        vertical-align: top;\n",
       "    }\n",
       "\n",
       "    .dataframe thead th {\n",
       "        text-align: right;\n",
       "    }\n",
       "</style>\n",
       "<table border=\"1\" class=\"dataframe\">\n",
       "  <thead>\n",
       "    <tr style=\"text-align: right;\">\n",
       "      <th></th>\n",
       "      <th>Year</th>\n",
       "      <th>State</th>\n",
       "      <th>Value</th>\n",
       "    </tr>\n",
       "  </thead>\n",
       "  <tbody>\n",
       "    <tr>\n",
       "      <th>0</th>\n",
       "      <td>2015</td>\n",
       "      <td>RI</td>\n",
       "      <td>0.2</td>\n",
       "    </tr>\n",
       "    <tr>\n",
       "      <th>1</th>\n",
       "      <td>2015</td>\n",
       "      <td>VT</td>\n",
       "      <td>0.3</td>\n",
       "    </tr>\n",
       "    <tr>\n",
       "      <th>2</th>\n",
       "      <td>2017</td>\n",
       "      <td>VA</td>\n",
       "      <td>0.3</td>\n",
       "    </tr>\n",
       "    <tr>\n",
       "      <th>3</th>\n",
       "      <td>2017</td>\n",
       "      <td>DE</td>\n",
       "      <td>0.4</td>\n",
       "    </tr>\n",
       "    <tr>\n",
       "      <th>4</th>\n",
       "      <td>2015</td>\n",
       "      <td>RI</td>\n",
       "      <td>0.4</td>\n",
       "    </tr>\n",
       "  </tbody>\n",
       "</table>\n",
       "</div>"
      ],
      "text/plain": [
       "   Year State  Value\n",
       "0  2015    RI    0.2\n",
       "1  2015    VT    0.3\n",
       "2  2017    VA    0.3\n",
       "3  2017    DE    0.4\n",
       "4  2015    RI    0.4"
      ]
     },
     "execution_count": 101,
     "metadata": {},
     "output_type": "execute_result"
    }
   ],
   "source": [
    "df = pd.read_csv('smokers.csv')\n",
    "df.head()"
   ]
  },
  {
   "cell_type": "markdown",
   "id": "southern-scott",
   "metadata": {},
   "source": [
    "# Step 1 [30]: Read file and display the number of rows in the data."
   ]
  },
  {
   "cell_type": "code",
   "execution_count": 3,
   "id": "extreme-carol",
   "metadata": {},
   "outputs": [
    {
     "name": "stdout",
     "output_type": "stream",
     "text": [
      "# of Survey:  3519\n"
     ]
    }
   ],
   "source": [
    "print ('# of Survey: ', len(df.index))"
   ]
  },
  {
   "cell_type": "markdown",
   "id": "recovered-seven",
   "metadata": {},
   "source": [
    "# Step 2 [30]: Find and display the average number of surveys conducted per state.\n"
   ]
  },
  {
   "cell_type": "code",
   "execution_count": 4,
   "id": "professional-heart",
   "metadata": {},
   "outputs": [
    {
     "name": "stdout",
     "output_type": "stream",
     "text": [
      "# of States:  51\n",
      "Average # of Surveys per State:  69.0\n"
     ]
    }
   ],
   "source": [
    "df.State.value_counts().mean()\n",
    "print('# of States: ',df.State.nunique())\n",
    "print('Average # of Surveys per State: ',df.State.value_counts().mean())"
   ]
  },
  {
   "cell_type": "markdown",
   "id": "major-sterling",
   "metadata": {},
   "source": [
    "# Step 3 [30]: Among the surveys in the data-set, display the minimum and maximum smoking rate."
   ]
  },
  {
   "cell_type": "code",
   "execution_count": 5,
   "id": "concerned-accessory",
   "metadata": {},
   "outputs": [],
   "source": [
    "max_value = df.Value.sort_values(ascending = False).index[0]\n",
    "min_value = df.Value.sort_values(ascending = True).index[0]"
   ]
  },
  {
   "cell_type": "code",
   "execution_count": 6,
   "id": "arctic-strain",
   "metadata": {},
   "outputs": [
    {
     "name": "stdout",
     "output_type": "stream",
     "text": [
      "Minimum:\n",
      "2015   RI   0.2\n",
      "Maximum:\n",
      "2003   SD   62.3\n"
     ]
    }
   ],
   "source": [
    "print('Minimum:')\n",
    "print(df.iloc[min_value, 0], ' ',df.iloc[min_value, 1], ' ', df.iloc[min_value, 2] )\n",
    "print('Maximum:')\n",
    "print(df.iloc[max_value, 0], ' ',df.iloc[max_value, 1], ' ', df.iloc[max_value, 2] )"
   ]
  },
  {
   "cell_type": "markdown",
   "id": "threatened-conducting",
   "metadata": {},
   "source": [
    "# Step 4 [30]: Find average smoker rate per state and display the states with minimum and maximum average"
   ]
  },
  {
   "cell_type": "code",
   "execution_count": 7,
   "id": "attended-trouble",
   "metadata": {},
   "outputs": [],
   "source": [
    "max_avg_state = df.groupby('State').Value.mean().sort_values(ascending = False).index[0]\n",
    "min_avg_state = df.groupby('State').Value.mean().sort_values(ascending = True).index[0]\n",
    "max_avg_value = df.groupby('State').Value.mean().max()\n",
    "min_avg_value = df.groupby('State').Value.mean().min()"
   ]
  },
  {
   "cell_type": "code",
   "execution_count": 8,
   "id": "qualified-colon",
   "metadata": {},
   "outputs": [
    {
     "name": "stdout",
     "output_type": "stream",
     "text": [
      "Min:  CA   5.992857142857143\n",
      "Max:  SD   30.221153846153843\n"
     ]
    }
   ],
   "source": [
    "print('Min: ', min_avg_state, ' ', min_avg_value )\n",
    "print('Max: ', max_avg_state, ' ', max_avg_value )"
   ]
  },
  {
   "cell_type": "markdown",
   "id": "peaceful-northeast",
   "metadata": {},
   "source": [
    "# Step 5 [40]: Same as Step 4 but display the top 10 states instead of min and max."
   ]
  },
  {
   "cell_type": "code",
   "execution_count": 103,
   "id": "sitting-lloyd",
   "metadata": {},
   "outputs": [
    {
     "name": "stdout",
     "output_type": "stream",
     "text": [
      "Max:\n",
      "State\n",
      "SD    30.221154\n",
      "MT    25.753947\n",
      "OH    24.541463\n",
      "AR    23.433871\n",
      "AL    22.815714\n",
      "MO    22.193103\n",
      "US    21.502542\n",
      "OK    20.953448\n",
      "WI    20.590476\n",
      "MS    20.545455\n",
      "Name: Value, dtype: float64\n",
      " \n",
      "Min:\n",
      "State\n",
      "CA     5.992857\n",
      "DC     6.135897\n",
      "VA     6.257407\n",
      "MD     8.934118\n",
      "RI     9.326364\n",
      "FL    10.482222\n",
      "UT    10.710526\n",
      "PR    10.772727\n",
      "CO    10.883333\n",
      "PA    11.385714\n",
      "Name: Value, dtype: float64\n"
     ]
    }
   ],
   "source": [
    "top10_max_avg_state = df.groupby('State').Value.mean().sort_values(ascending = False).head(10)\n",
    "top10_min_avg_state = df.groupby('State').Value.mean().sort_values(ascending = True).head(10)\n",
    "print('Max:')\n",
    "print(top10_max_avg_state) \n",
    "print(' \\nMin:')\n",
    "print(top10_min_avg_state)"
   ]
  },
  {
   "cell_type": "markdown",
   "id": "boring-breathing",
   "metadata": {},
   "source": [
    "# Step 6 [40]: Get state and year from user and display the surveys for that state for that year"
   ]
  },
  {
   "cell_type": "code",
   "execution_count": 20,
   "id": "auburn-elder",
   "metadata": {},
   "outputs": [
    {
     "name": "stdout",
     "output_type": "stream",
     "text": [
      "Nhap nam: \n"
     ]
    },
    {
     "name": "stdin",
     "output_type": "stream",
     "text": [
      "None 2017\n"
     ]
    },
    {
     "name": "stdout",
     "output_type": "stream",
     "text": [
      "Nhap state: \n"
     ]
    },
    {
     "name": "stdin",
     "output_type": "stream",
     "text": [
      "None CA\n"
     ]
    },
    {
     "data": {
      "text/html": [
       "<div>\n",
       "<style scoped>\n",
       "    .dataframe tbody tr th:only-of-type {\n",
       "        vertical-align: middle;\n",
       "    }\n",
       "\n",
       "    .dataframe tbody tr th {\n",
       "        vertical-align: top;\n",
       "    }\n",
       "\n",
       "    .dataframe thead th {\n",
       "        text-align: right;\n",
       "    }\n",
       "</style>\n",
       "<table border=\"1\" class=\"dataframe\">\n",
       "  <thead>\n",
       "    <tr style=\"text-align: right;\">\n",
       "      <th></th>\n",
       "      <th>Year</th>\n",
       "      <th>State</th>\n",
       "      <th>Value</th>\n",
       "    </tr>\n",
       "  </thead>\n",
       "  <tbody>\n",
       "    <tr>\n",
       "      <th>45</th>\n",
       "      <td>2017</td>\n",
       "      <td>CA</td>\n",
       "      <td>1.6</td>\n",
       "    </tr>\n",
       "    <tr>\n",
       "      <th>60</th>\n",
       "      <td>2017</td>\n",
       "      <td>CA</td>\n",
       "      <td>1.8</td>\n",
       "    </tr>\n",
       "    <tr>\n",
       "      <th>362</th>\n",
       "      <td>2017</td>\n",
       "      <td>CA</td>\n",
       "      <td>4.6</td>\n",
       "    </tr>\n",
       "    <tr>\n",
       "      <th>454</th>\n",
       "      <td>2017</td>\n",
       "      <td>CA</td>\n",
       "      <td>5.4</td>\n",
       "    </tr>\n",
       "    <tr>\n",
       "      <th>496</th>\n",
       "      <td>2017</td>\n",
       "      <td>CA</td>\n",
       "      <td>5.7</td>\n",
       "    </tr>\n",
       "    <tr>\n",
       "      <th>520</th>\n",
       "      <td>2017</td>\n",
       "      <td>CA</td>\n",
       "      <td>5.9</td>\n",
       "    </tr>\n",
       "    <tr>\n",
       "      <th>577</th>\n",
       "      <td>2017</td>\n",
       "      <td>CA</td>\n",
       "      <td>6.4</td>\n",
       "    </tr>\n",
       "  </tbody>\n",
       "</table>\n",
       "</div>"
      ],
      "text/plain": [
       "     Year State  Value\n",
       "45   2017    CA    1.6\n",
       "60   2017    CA    1.8\n",
       "362  2017    CA    4.6\n",
       "454  2017    CA    5.4\n",
       "496  2017    CA    5.7\n",
       "520  2017    CA    5.9\n",
       "577  2017    CA    6.4"
      ]
     },
     "execution_count": 20,
     "metadata": {},
     "output_type": "execute_result"
    }
   ],
   "source": [
    "input_year = input(print('Nhap nam: '))\n",
    "input_state = input(print('Nhap state: '))\n",
    "input_year = int(input_year)\n",
    "input_state = str(input_state)\n",
    "df.query('State == @input_state & Year == @input_year')"
   ]
  },
  {
   "cell_type": "markdown",
   "id": "intense-history",
   "metadata": {},
   "source": [
    "# Step 7 [50]: Get state from user as input (using input()) and display the average smoker rate year by year. By looking at the most recent 2 years, display if the cigarette use is on decline or rise."
   ]
  },
  {
   "cell_type": "code",
   "execution_count": 99,
   "id": "gentle-quarter",
   "metadata": {},
   "outputs": [
    {
     "name": "stdout",
     "output_type": "stream",
     "text": [
      "Nhap state: \n"
     ]
    },
    {
     "name": "stdin",
     "output_type": "stream",
     "text": [
      "None OH\n"
     ]
    },
    {
     "name": "stdout",
     "output_type": "stream",
     "text": [
      "Cigarette use is on Decline in OH\n"
     ]
    },
    {
     "data": {
      "image/png": "[encoded data removed]",
      "text/plain": [
       "<Figure size 432x288 with 1 Axes>"
      ]
     },
     "metadata": {
      "needs_background": "light"
     },
     "output_type": "display_data"
    }
   ],
   "source": [
    "# Nhập Input:\n",
    "input_state = input(print('Nhap state: '))\n",
    "\n",
    "# Dựa trên state đã input thì lấy ra giá trị trung bình hút thuốc của state đó qua từng năm\n",
    "df.query('State == @input_state').groupby('Year').mean()\n",
    "\n",
    "# Đưa các giá trị năm và tỉ lệ hút thuốc trung bình vào các list\n",
    "li_year = list(df.query('State == @input_state').groupby('Year').mean().index)\n",
    "li_value = list(df.query('State == @input_state').groupby('Year').mean().Value)\n",
    "\n",
    "# nếu thời gian khảo sát ít hơn 2 năm thì không thể đánh giá\n",
    "if max(li_year) - min(li_year) <= 2:\n",
    "    print(\"hmmm... cannot find that state. Compute for another state or enter 'Exit' to exit.\")\n",
    "\n",
    "# nếu thời gian khảo sát ít hơn 2 năm thì đưa ra đánh giá\n",
    "else: \n",
    "    df.query('State == @input_state').groupby('Year').mean().plot()\n",
    "    \n",
    "    if li_value[-1] - li_value[-2] >= 0:\n",
    "        print(f'Cigarette use is on rise in {input_state}')\n",
    "    elif li_value[-1] - li_value[-2] == 0:\n",
    "        print(f'Cigarette use is on stable in {input_state}')\n",
    "    else:\n",
    "        print(f'Cigarette use is on Decline in {input_state}')"
   ]
  },
  {
   "cell_type": "code",
   "execution_count": null,
   "id": "hybrid-giant",
   "metadata": {},
   "outputs": [],
   "source": []
  }
 ],
 "metadata": {
  "kernelspec": {
   "display_name": "Python 3",
   "language": "python",
   "name": "python3"
  },
  "language_info": {
   "codemirror_mode": {
    "name": "ipython",
    "version": 3
   },
   "file_extension": ".py",
   "mimetype": "text/x-python",
   "name": "python",
   "nbconvert_exporter": "python",
   "pygments_lexer": "ipython3",
   "version": "3.7.10"
  }
 },
 "nbformat": 4,
 "nbformat_minor": 5
}
