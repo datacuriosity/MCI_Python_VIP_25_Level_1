{
 "cells": [
  {
   "cell_type": "markdown",
   "id": "located-stand",
   "metadata": {},
   "source": [
    "Step 1 [30]:​ Read file and display the number of rows\n",
    "in the data.\\\n",
    "Step 2 [30]:​ Find and display the average number of\n",
    "surveys conducted per state.\\\n",
    "Step 3 [30]:​ Among the surveys in the data-set,\n",
    "display the minimum and maximum smoking rate.\\\n",
    "Step 4 [30]:​ Find average smoker rate per state and\n",
    "display the states with minimum and maximum\n",
    "average.\\\n",
    "Step 5 [40]:​ Same as Step 4 but display the top 10\n",
    "states instead of min and max.\\\n",
    "Step 6 [40]: ​Get state and year from user and display\n",
    "the surveys for that state for that year.\\\n",
    "Step 7 [50]:​ Get state from user as input (using\n",
    "input()) and display the average smoker rate year by year.\\\n",
    "By looking at the most recent 2 years, display if the cigarette use is on decline or rise."
   ]
  },
  {
   "cell_type": "code",
   "execution_count": 1,
   "id": "thousand-newton",
   "metadata": {},
   "outputs": [],
   "source": [
    "import numpy as np\n",
    "import pandas as pd"
   ]
  },
  {
   "cell_type": "code",
   "execution_count": 4,
   "id": "hungarian-attraction",
   "metadata": {},
   "outputs": [
    {
     "data": {
      "text/html": [
       "<div>\n",
       "<style scoped>\n",
       "    .dataframe tbody tr th:only-of-type {\n",
       "        vertical-align: middle;\n",
       "    }\n",
       "\n",
       "    .dataframe tbody tr th {\n",
       "        vertical-align: top;\n",
       "    }\n",
       "\n",
       "    .dataframe thead th {\n",
       "        text-align: right;\n",
       "    }\n",
       "</style>\n",
       "<table border=\"1\" class=\"dataframe\">\n",
       "  <thead>\n",
       "    <tr style=\"text-align: right;\">\n",
       "      <th></th>\n",
       "      <th>Year</th>\n",
       "      <th>State</th>\n",
       "      <th>Value</th>\n",
       "    </tr>\n",
       "  </thead>\n",
       "  <tbody>\n",
       "    <tr>\n",
       "      <th>0</th>\n",
       "      <td>2015</td>\n",
       "      <td>RI</td>\n",
       "      <td>0.2</td>\n",
       "    </tr>\n",
       "    <tr>\n",
       "      <th>1</th>\n",
       "      <td>2015</td>\n",
       "      <td>VT</td>\n",
       "      <td>0.3</td>\n",
       "    </tr>\n",
       "    <tr>\n",
       "      <th>2</th>\n",
       "      <td>2017</td>\n",
       "      <td>VA</td>\n",
       "      <td>0.3</td>\n",
       "    </tr>\n",
       "    <tr>\n",
       "      <th>3</th>\n",
       "      <td>2017</td>\n",
       "      <td>DE</td>\n",
       "      <td>0.4</td>\n",
       "    </tr>\n",
       "    <tr>\n",
       "      <th>4</th>\n",
       "      <td>2015</td>\n",
       "      <td>RI</td>\n",
       "      <td>0.4</td>\n",
       "    </tr>\n",
       "  </tbody>\n",
       "</table>\n",
       "</div>"
      ],
      "text/plain": [
       "   Year State  Value\n",
       "0  2015    RI    0.2\n",
       "1  2015    VT    0.3\n",
       "2  2017    VA    0.3\n",
       "3  2017    DE    0.4\n",
       "4  2015    RI    0.4"
      ]
     },
     "execution_count": 4,
     "metadata": {},
     "output_type": "execute_result"
    }
   ],
   "source": [
    "smk=pd.read_csv('smokers.csv')\n",
    "smk.head()"
   ]
  },
  {
   "cell_type": "code",
   "execution_count": 27,
   "id": "smaller-authorization",
   "metadata": {},
   "outputs": [
    {
     "data": {
      "text/plain": [
       "3519"
      ]
     },
     "execution_count": 27,
     "metadata": {},
     "output_type": "execute_result"
    }
   ],
   "source": [
    "smk.shape[0]"
   ]
  },
  {
   "cell_type": "code",
   "execution_count": 36,
   "id": "amended-lobby",
   "metadata": {},
   "outputs": [
    {
     "data": {
      "text/plain": [
       "8.941176470588236"
      ]
     },
     "execution_count": 36,
     "metadata": {},
     "output_type": "execute_result"
    }
   ],
   "source": [
    "smk.groupby('State').Year.nunique().mean()"
   ]
  },
  {
   "cell_type": "code",
   "execution_count": 23,
   "id": "yellow-scratch",
   "metadata": {},
   "outputs": [
    {
     "data": {
      "text/plain": [
       "62.3"
      ]
     },
     "execution_count": 23,
     "metadata": {},
     "output_type": "execute_result"
    }
   ],
   "source": [
    "smk.Value.max()"
   ]
  },
  {
   "cell_type": "code",
   "execution_count": 24,
   "id": "spread-montreal",
   "metadata": {},
   "outputs": [
    {
     "data": {
      "text/plain": [
       "0.2"
      ]
     },
     "execution_count": 24,
     "metadata": {},
     "output_type": "execute_result"
    }
   ],
   "source": [
    "smk.Value.min()"
   ]
  },
  {
   "cell_type": "code",
   "execution_count": 60,
   "id": "diverse-entrance",
   "metadata": {},
   "outputs": [
    {
     "data": {
      "text/plain": [
       "State\n",
       "AK    17.380392\n",
       "AL    22.815714\n",
       "AR    23.433871\n",
       "AZ    17.867347\n",
       "CA     5.992857\n",
       "CO    10.883333\n",
       "CT    15.445283\n",
       "DC     6.135897\n",
       "DE    12.853153\n",
       "FL    10.482222\n",
       "GA    12.198684\n",
       "GU    18.717722\n",
       "HI    12.697297\n",
       "IA    19.483333\n",
       "ID    16.100000\n",
       "IL    16.787500\n",
       "IN    18.572222\n",
       "KS    14.481579\n",
       "KY    17.031169\n",
       "LA    19.669697\n",
       "MA    18.138000\n",
       "MD     8.934118\n",
       "ME    13.868992\n",
       "MI    18.565385\n",
       "MO    22.193103\n",
       "MS    20.545455\n",
       "MT    25.753947\n",
       "NC    16.260000\n",
       "ND    16.656250\n",
       "NE    18.168293\n",
       "NH    18.076471\n",
       "NJ    17.467647\n",
       "NM    12.930682\n",
       "NV    15.613684\n",
       "NY    15.556989\n",
       "OH    24.541463\n",
       "OK    20.953448\n",
       "PA    11.385714\n",
       "PR    10.772727\n",
       "RI     9.326364\n",
       "SC    18.084337\n",
       "SD    30.221154\n",
       "TN    17.721311\n",
       "TX    18.114894\n",
       "US    21.502542\n",
       "UT    10.710526\n",
       "VA     6.257407\n",
       "VT    16.875455\n",
       "WI    20.590476\n",
       "WV    20.045882\n",
       "WY    19.770370\n",
       "Name: Value, dtype: float64"
      ]
     },
     "execution_count": 60,
     "metadata": {},
     "output_type": "execute_result"
    }
   ],
   "source": [
    "smk.groupby('State').Value.mean()"
   ]
  },
  {
   "cell_type": "code",
   "execution_count": 65,
   "id": "dying-bulletin",
   "metadata": {},
   "outputs": [
    {
     "data": {
      "text/plain": [
       "State\n",
       "SD    30.221154\n",
       "Name: Value, dtype: float64"
      ]
     },
     "execution_count": 65,
     "metadata": {},
     "output_type": "execute_result"
    }
   ],
   "source": [
    "smk.groupby('State').Value.mean().nlargest(1)"
   ]
  },
  {
   "cell_type": "code",
   "execution_count": 66,
   "id": "looking-money",
   "metadata": {},
   "outputs": [
    {
     "data": {
      "text/plain": [
       "State\n",
       "CA    5.992857\n",
       "Name: Value, dtype: float64"
      ]
     },
     "execution_count": 66,
     "metadata": {},
     "output_type": "execute_result"
    }
   ],
   "source": [
    "smk.groupby('State').Value.mean().nsmallest(1)"
   ]
  },
  {
   "cell_type": "code",
   "execution_count": 67,
   "id": "premier-mounting",
   "metadata": {},
   "outputs": [
    {
     "data": {
      "text/plain": [
       "State\n",
       "SD    30.221154\n",
       "MT    25.753947\n",
       "OH    24.541463\n",
       "AR    23.433871\n",
       "AL    22.815714\n",
       "MO    22.193103\n",
       "US    21.502542\n",
       "OK    20.953448\n",
       "WI    20.590476\n",
       "MS    20.545455\n",
       "Name: Value, dtype: float64"
      ]
     },
     "execution_count": 67,
     "metadata": {},
     "output_type": "execute_result"
    }
   ],
   "source": [
    "smk.groupby('State').Value.mean().nlargest(10)"
   ]
  },
  {
   "cell_type": "code",
   "execution_count": 68,
   "id": "general-eagle",
   "metadata": {},
   "outputs": [
    {
     "data": {
      "text/plain": [
       "State\n",
       "CA     5.992857\n",
       "DC     6.135897\n",
       "VA     6.257407\n",
       "MD     8.934118\n",
       "RI     9.326364\n",
       "FL    10.482222\n",
       "UT    10.710526\n",
       "PR    10.772727\n",
       "CO    10.883333\n",
       "PA    11.385714\n",
       "Name: Value, dtype: float64"
      ]
     },
     "execution_count": 68,
     "metadata": {},
     "output_type": "execute_result"
    }
   ],
   "source": [
    "smk.groupby('State').Value.mean().nsmallest(10)"
   ]
  },
  {
   "cell_type": "code",
   "execution_count": 113,
   "id": "fourth-liberal",
   "metadata": {},
   "outputs": [
    {
     "name": "stdin",
     "output_type": "stream",
     "text": [
      "Enter State: AK\n",
      "Enter Year: 2003\n"
     ]
    },
    {
     "data": {
      "text/html": [
       "<div>\n",
       "<style scoped>\n",
       "    .dataframe tbody tr th:only-of-type {\n",
       "        vertical-align: middle;\n",
       "    }\n",
       "\n",
       "    .dataframe tbody tr th {\n",
       "        vertical-align: top;\n",
       "    }\n",
       "\n",
       "    .dataframe thead th {\n",
       "        text-align: right;\n",
       "    }\n",
       "</style>\n",
       "<table border=\"1\" class=\"dataframe\">\n",
       "  <thead>\n",
       "    <tr style=\"text-align: right;\">\n",
       "      <th></th>\n",
       "      <th>Year</th>\n",
       "      <th>State</th>\n",
       "      <th>Value</th>\n",
       "    </tr>\n",
       "  </thead>\n",
       "  <tbody>\n",
       "    <tr>\n",
       "      <th>1471</th>\n",
       "      <td>2003</td>\n",
       "      <td>AK</td>\n",
       "      <td>12.4</td>\n",
       "    </tr>\n",
       "    <tr>\n",
       "      <th>2190</th>\n",
       "      <td>2003</td>\n",
       "      <td>AK</td>\n",
       "      <td>18.4</td>\n",
       "    </tr>\n",
       "    <tr>\n",
       "      <th>2278</th>\n",
       "      <td>2003</td>\n",
       "      <td>AK</td>\n",
       "      <td>19.2</td>\n",
       "    </tr>\n",
       "    <tr>\n",
       "      <th>2389</th>\n",
       "      <td>2003</td>\n",
       "      <td>AK</td>\n",
       "      <td>20.2</td>\n",
       "    </tr>\n",
       "    <tr>\n",
       "      <th>3485</th>\n",
       "      <td>2003</td>\n",
       "      <td>AK</td>\n",
       "      <td>44.2</td>\n",
       "    </tr>\n",
       "  </tbody>\n",
       "</table>\n",
       "</div>"
      ],
      "text/plain": [
       "      Year State  Value\n",
       "1471  2003    AK   12.4\n",
       "2190  2003    AK   18.4\n",
       "2278  2003    AK   19.2\n",
       "2389  2003    AK   20.2\n",
       "3485  2003    AK   44.2"
      ]
     },
     "execution_count": 113,
     "metadata": {},
     "output_type": "execute_result"
    }
   ],
   "source": [
    "state = input('Enter State:')\n",
    "year = int(input('Enter Year:'))\n",
    "smk.query('State==@state & Year == @year')        "
   ]
  },
  {
   "cell_type": "code",
   "execution_count": 116,
   "id": "coated-turkey",
   "metadata": {},
   "outputs": [
    {
     "name": "stdin",
     "output_type": "stream",
     "text": [
      "Enter State:  AK\n"
     ]
    },
    {
     "data": {
      "text/plain": [
       "Year\n",
       "1995    41.140000\n",
       "2003    22.880000\n",
       "2007    20.340000\n",
       "2009    15.685714\n",
       "2011    15.800000\n",
       "2013     9.937500\n",
       "2015    12.228571\n",
       "2017    11.300000\n",
       "Name: Value, dtype: float64"
      ]
     },
     "execution_count": 116,
     "metadata": {},
     "output_type": "execute_result"
    }
   ],
   "source": [
    "state = input('Enter State: ')\n",
    "smk.query('State == @state').groupby('Year').Value.mean()"
   ]
  },
  {
   "cell_type": "code",
   "execution_count": 221,
   "id": "racial-professor",
   "metadata": {},
   "outputs": [
    {
     "data": {
      "image/png": "[encoded data removed]",
      "text/plain": [
       "<Figure size 1080x1440 with 1 Axes>"
      ]
     },
     "metadata": {
      "needs_background": "light"
     },
     "output_type": "display_data"
    }
   ],
   "source": [
    "smk.pivot_table(index='State',columns='Year',values='Value',aggfunc='mean').iloc[:,-2:].sort_values(by='State',ascending=False).plot(kind='barh',figsize=(15,20));"
   ]
  },
  {
   "cell_type": "code",
   "execution_count": null,
   "id": "stunning-hungary",
   "metadata": {},
   "outputs": [],
   "source": []
  }
 ],
 "metadata": {
  "kernelspec": {
   "display_name": "Python 3",
   "language": "python",
   "name": "python3"
  },
  "language_info": {
   "codemirror_mode": {
    "name": "ipython",
    "version": 3
   },
   "file_extension": ".py",
   "mimetype": "text/x-python",
   "name": "python",
   "nbconvert_exporter": "python",
   "pygments_lexer": "ipython3",
   "version": "3.7.10"
  }
 },
 "nbformat": 4,
 "nbformat_minor": 5
}
