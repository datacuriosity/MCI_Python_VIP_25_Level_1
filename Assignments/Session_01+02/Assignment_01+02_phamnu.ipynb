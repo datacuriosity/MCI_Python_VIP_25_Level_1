{
 "cells": [
  {
   "cell_type": "markdown",
   "metadata": {},
   "source": [
    "## Bài 1.\n",
    "\n",
    "Viết một chương trình tính giai thừa của một số nguyên dương n. Với n được nhập từ bàn phím. Ví dụ, n = 8 thì kết quả đầu ra phải là `1*2*3*4*5*6*7*8` = 40320."
   ]
  },
  {
   "cell_type": "code",
   "execution_count": 33,
   "metadata": {},
   "outputs": [],
   "source": [
    "def giaithua1(n):\n",
    "    giaithua = 1\n",
    "    for i in range(1, n +1):\n",
    "        giaithua = giaithua * i\n",
    "        i = i+1\n",
    "    return giaithua\n",
    "    # Your code here"
   ]
  },
  {
   "cell_type": "code",
   "execution_count": 34,
   "metadata": {},
   "outputs": [
    {
     "data": {
      "text/plain": [
       "120"
      ]
     },
     "execution_count": 34,
     "metadata": {},
     "output_type": "execute_result"
    }
   ],
   "source": [
    "giaithua1(5)"
   ]
  },
  {
   "cell_type": "code",
   "execution_count": 39,
   "metadata": {},
   "outputs": [
    {
     "data": {
      "text/plain": [
       "120"
      ]
     },
     "execution_count": 39,
     "metadata": {},
     "output_type": "execute_result"
    }
   ],
   "source": [
    "# Testing\n",
    "n = 5\n",
    "assert giaithua1(n) == 120, \"Wrong answer, please calculate again\"\n",
    "giaithua1(n)"
   ]
  },
  {
   "cell_type": "markdown",
   "metadata": {},
   "source": [
    "## Bài 2.\n",
    "\n",
    "Viết chương trình tính tổng của các chữ số của môt số nguyên n trong Python. Số nguyên dương n được nhập từ bàn phím. Với n = 1234, tổng các chữ số: 1 + 2 + 3 + 4 = 10"
   ]
  },
  {
   "cell_type": "code",
   "execution_count": 79,
   "metadata": {},
   "outputs": [],
   "source": [
    "def sum_all(n):\n",
    "    m = len(str(n))\n",
    "    li = []\n",
    "    tong = 0\n",
    "    for i in range(1, m+1):\n",
    "        k = n % 10\n",
    "        n = n // 10\n",
    "        li.append(k)\n",
    "    for j in li:\n",
    "        tong = tong + j\n",
    "    # Your code here\n",
    "    return tong\n",
    "#sử dụng while n>0\n",
    "# chuyển về dạng chuỗi, sau đó ép kiểu các kí tự trong chuỗi -> tính tổng"
   ]
  },
  {
   "cell_type": "code",
   "execution_count": 80,
   "metadata": {},
   "outputs": [
    {
     "data": {
      "text/plain": [
       "11"
      ]
     },
     "execution_count": 80,
     "metadata": {},
     "output_type": "execute_result"
    }
   ],
   "source": [
    "# Testing\n",
    "n = 34103\n",
    "assert sum_all(number) == 11, \"Wrong answer, please calculate again\"\n",
    "sum_all(n)"
   ]
  },
  {
   "cell_type": "markdown",
   "metadata": {},
   "source": [
    "## Bài 3.\n",
    "\n",
    "Tìm giá trị lớn nhất của một list hoặc tuple nhập vào"
   ]
  },
  {
   "cell_type": "code",
   "execution_count": 93,
   "metadata": {},
   "outputs": [],
   "source": [
    "def maximum(li):\n",
    "    max1 = li[0]\n",
    "    for i in li[2:]:\n",
    "        if max1 < i:\n",
    "            max1 = i\n",
    "    return(max1)\n",
    "    # Your code here"
   ]
  },
  {
   "cell_type": "code",
   "execution_count": 96,
   "metadata": {},
   "outputs": [
    {
     "data": {
      "text/plain": [
       "10"
      ]
     },
     "execution_count": 96,
     "metadata": {},
     "output_type": "execute_result"
    }
   ],
   "source": [
    "# Testing\n",
    "li = [1, 2, 6, 8, 10]\n",
    "assert maximum(li) == 10, \"Wrong answer, please calculate again\"\n",
    "maximum(li)"
   ]
  },
  {
   "cell_type": "markdown",
   "metadata": {},
   "source": [
    "## Bài 4.\n",
    "\n",
    "Tìm giá trị lớn thứ nhì từ một list hoặc tuple nhập vào"
   ]
  },
  {
   "cell_type": "code",
   "execution_count": 39,
   "metadata": {},
   "outputs": [],
   "source": [
    "def second_maximum(number):\n",
    "    max1 = number[0]\n",
    "    max2 = number[0]\n",
    "    for i in number[2:]:\n",
    "        if max1 < i:\n",
    "            max1 = i\n",
    "    for j in number[2:]:\n",
    "        if (max2 < j and j != max1):\n",
    "            max2 = j\n",
    "    # Your code here\n",
    "    return max2\n",
    "# sắp xếp theo thứ tự tăng dần(loại bỏ giá trị trung nhau) -> in ra giá trị li[-2]"
   ]
  },
  {
   "cell_type": "code",
   "execution_count": null,
   "metadata": {},
   "outputs": [],
   "source": [
    "max1 = li[0]\n",
    "    for i in li[2:]:\n",
    "        if max1 < i:\n",
    "            max1 = i\n",
    "    (max1)"
   ]
  },
  {
   "cell_type": "code",
   "execution_count": 41,
   "metadata": {},
   "outputs": [
    {
     "data": {
      "text/plain": [
       "8"
      ]
     },
     "execution_count": 41,
     "metadata": {},
     "output_type": "execute_result"
    }
   ],
   "source": [
    "# Testing\n",
    "number = [1, 2, 6, 8, 10, 8]\n",
    "assert second_maximum(number) == 8, \"Wrong answer, please calculate again\"\n",
    "second_maximum(number)"
   ]
  },
  {
   "cell_type": "markdown",
   "metadata": {},
   "source": [
    "## Bài 5.\n",
    "\n",
    "Định nghĩa một hàm có input là 2 chuỗi và trả về chuỗi có độ dài lớn hơn. Nếu 2 chuỗi có chiều dài như nhau thì trả tất cả các chuỗi dưới dạng tuple"
   ]
  },
  {
   "cell_type": "code",
   "execution_count": 1,
   "metadata": {},
   "outputs": [],
   "source": [
    "def greater_string(str_1, str_2):\n",
    "    if len(str_1) > len(str_2):\n",
    "        return str_1\n",
    "    elif len(str_1) < len(str_2):\n",
    "        return str_2\n",
    "    else:\n",
    "        return (str_1, str_2)\n",
    "    # Your code here"
   ]
  },
  {
   "cell_type": "code",
   "execution_count": 104,
   "metadata": {},
   "outputs": [
    {
     "name": "stdout",
     "output_type": "stream",
     "text": [
      "('My name is', 'My name is')\n"
     ]
    }
   ],
   "source": [
    "str_1 = \"My name is\"\n",
    "str_2 = \"My name is\"\n",
    "if len(str_1) > len(str_2):\n",
    "    print(str_1)\n",
    "elif len(str_1) < len(str_2):\n",
    "    print(str_2)\n",
    "else:\n",
    "    print((str_1, str_2))"
   ]
  },
  {
   "cell_type": "code",
   "execution_count": 2,
   "metadata": {},
   "outputs": [],
   "source": [
    "# Test 1\n",
    "str_1 = \"My name is\"\n",
    "str_2 = \"My university\"\n",
    "\n",
    "assert len(greater_string(str_1, str_2)) == len(str_2), \"Wrong answer, please code again\"\n",
    "\n",
    "\n",
    "#Test 2\n",
    "\n",
    "str_1 = \"My name is\"\n",
    "str_2 = \"My name ar\"\n",
    "\n",
    "assert greater_string(str_1, str_2) == (str_1, str_2), \"Wrong answer, please code again\""
   ]
  },
  {
   "cell_type": "markdown",
   "metadata": {},
   "source": [
    "## Bài 6.\n",
    "\n",
    "Loại bỏ các giá trị trùng từ chuỗi nhập vào, nhưng vẫn giữ thứ tự.\n",
    "\n",
    "Ví dụ: aaabbbbcccddd1111 --> abcd1"
   ]
  },
  {
   "cell_type": "code",
   "execution_count": 53,
   "metadata": {},
   "outputs": [],
   "source": [
    "def remove_duplicated(str_1):\n",
    "    li1 = list(str_1)\n",
    "    li2 =[]\n",
    "    a = li1[0]\n",
    "    str2 = \"\"\n",
    "    li2.append(a)\n",
    "    for i in range(len(li1) -1):\n",
    "        if li1[i] != li1[i+1]:\n",
    "            a = li1[i+1]\n",
    "            li2.append(a)\n",
    "    for k in li2:\n",
    "        str2 = str2 + str(k)\n",
    "    # Your code here\n",
    "    return str2"
   ]
  },
  {
   "cell_type": "code",
   "execution_count": 54,
   "metadata": {},
   "outputs": [
    {
     "data": {
      "text/plain": [
       "'cdef2'"
      ]
     },
     "execution_count": 54,
     "metadata": {},
     "output_type": "execute_result"
    }
   ],
   "source": [
    "# Testing\n",
    "str_1 = \"cccccddddeeeeffff22222\"\n",
    "\n",
    "assert remove_duplicated(str_1) == \"cdef2\"\n",
    "remove_duplicated(str_1)"
   ]
  },
  {
   "cell_type": "markdown",
   "metadata": {},
   "source": [
    "## Bài 7. \n",
    "Viết một chương trình có 2 chữ số X, Y nhận giá trị đầu vào và tạo ra một mảng 2 chiều. Giá trị phần tử trong hàng thứ i và cột thứ j của mảng phải là `i*j`\n",
    "\n",
    "Lưu ý: \n",
    "- i = 0, 1, 2, ..., X-1\n",
    "- j = 0, 1, 2, ..., Y-1      "
   ]
  },
  {
   "cell_type": "code",
   "execution_count": 21,
   "metadata": {
    "collapsed": false,
    "jupyter": {
     "outputs_hidden": false
    },
    "pycharm": {
     "name": "#%%\n"
    }
   },
   "outputs": [],
   "source": [
    "def create_2D_array(x, y):\n",
    "    li = []\n",
    "    li2 = []\n",
    "    for i in range(y):\n",
    "        for j in range(x):\n",
    "            li2.append(i*j)\n",
    "        li.append(li2)\n",
    "        li2 = []\n",
    "    return li\n",
    "    # Your code here"
   ]
  },
  {
   "cell_type": "code",
   "execution_count": 20,
   "metadata": {},
   "outputs": [
    {
     "data": {
      "text/plain": [
       "[[0, 0, 0, 0, 0],\n",
       " [0, 1, 2, 3, 4],\n",
       " [0, 2, 4, 6, 8],\n",
       " [0, 3, 6, 9, 12],\n",
       " [0, 4, 8, 12, 16]]"
      ]
     },
     "execution_count": 20,
     "metadata": {},
     "output_type": "execute_result"
    }
   ],
   "source": [
    "x = 5\n",
    "y = 5\n",
    "li = []\n",
    "li2 = []\n",
    "for i in range(y):\n",
    "    for j in range(x):\n",
    "        li2.append(i*j)\n",
    "    li.append(li2)\n",
    "    li2 = []\n",
    "li"
   ]
  },
  {
   "cell_type": "code",
   "execution_count": 22,
   "metadata": {
    "collapsed": false,
    "jupyter": {
     "outputs_hidden": false
    },
    "pycharm": {
     "name": "#%%\n"
    }
   },
   "outputs": [],
   "source": [
    "assert create_2D_array(5, 5) == [[0, 0, 0, 0, 0], [0, 1, 2, 3, 4], [0, 2, 4, 6, 8], [0, 3, 6, 9, 12], [0, 4, 8, 12, 16]], \"Wrong answer, please code again\""
   ]
  },
  {
   "cell_type": "markdown",
   "metadata": {},
   "source": [
    "## Bài 8.\n",
    "Viết chương trình để xuất một số ngẫu nhiên, chia hết cho 5 và 7, từ 0 đến 200 (gồm cả 0 và 200), sử dụng module random và list comprehension"
   ]
  },
  {
   "cell_type": "code",
   "execution_count": 2,
   "metadata": {
    "pycharm": {
     "name": "#%%\n"
    }
   },
   "outputs": [],
   "source": [
    "import random\n",
    "def division_5_7(random_seed):\n",
    "    random_seed = 4\n",
    "    ra = 0\n",
    "    random.seed(random_seed)\n",
    "    li = []\n",
    "    for i in range(201):\n",
    "        if (i % 35 == 0):\n",
    "            li.append(i)\n",
    "    # Your code here\n",
    "    return random.choice(li)"
   ]
  },
  {
   "cell_type": "code",
   "execution_count": 26,
   "metadata": {},
   "outputs": [
    {
     "data": {
      "text/plain": [
       "[0, 35, 70, 105, 140, 175]"
      ]
     },
     "execution_count": 26,
     "metadata": {},
     "output_type": "execute_result"
    }
   ],
   "source": [
    "x, y = 5, 7\n",
    "li = []\n",
    "for i in range(201):\n",
    "    if (i % 5 == 0 and i % 7 == 0):\n",
    "        li.append(i)\n",
    "li"
   ]
  },
  {
   "cell_type": "code",
   "execution_count": 8,
   "metadata": {
    "pycharm": {
     "name": "#%%\n"
    }
   },
   "outputs": [
    {
     "data": {
      "text/plain": [
       "35"
      ]
     },
     "execution_count": 8,
     "metadata": {},
     "output_type": "execute_result"
    }
   ],
   "source": [
    "random_seed = 4\n",
    "assert division_5_7(random_seed) == 35, \"Wrong answer, please code again\"\n",
    "division_5_7(7)\n",
    "# lấy hàm seed để cố định giá trị lấy ra của hàm random -> phục vụ cho mục đích test"
   ]
  },
  {
   "cell_type": "markdown",
   "metadata": {},
   "source": [
    "## Mảng 2 chiều"
   ]
  },
  {
   "cell_type": "code",
   "execution_count": 1,
   "metadata": {},
   "outputs": [
    {
     "data": {
      "text/plain": [
       "6"
      ]
     },
     "execution_count": 1,
     "metadata": {},
     "output_type": "execute_result"
    }
   ],
   "source": [
    "a = [[1, 2, 3, 4], [4, 5, 6, 7]]\n",
    "a[1][2]"
   ]
  },
  {
   "cell_type": "code",
   "execution_count": 2,
   "metadata": {},
   "outputs": [],
   "source": [
    "# bài 7"
   ]
  },
  {
   "cell_type": "code",
   "execution_count": 5,
   "metadata": {},
   "outputs": [
    {
     "data": {
      "text/plain": [
       "[[0, 0, 0, 0], [0, 1, 2, 3], [0, 2, 4, 6]]"
      ]
     },
     "execution_count": 5,
     "metadata": {},
     "output_type": "execute_result"
    }
   ],
   "source": [
    "[[i*j for j in range(4)] for i in range(3)] # tạo mảng 2 chiều với chiều thứ nhất là 3 phần tử, giá trị thứ 2 là 4 phần tử"
   ]
  },
  {
   "cell_type": "code",
   "execution_count": 6,
   "metadata": {},
   "outputs": [],
   "source": [
    "def created_2D_array(x, y):\n",
    "    return [[i*j for j in range(y)] for i in range(x)]"
   ]
  },
  {
   "cell_type": "code",
   "execution_count": 7,
   "metadata": {},
   "outputs": [
    {
     "data": {
      "text/plain": [
       "[[0, 0, 0, 0], [0, 1, 2, 3], [0, 2, 4, 6]]"
      ]
     },
     "execution_count": 7,
     "metadata": {},
     "output_type": "execute_result"
    }
   ],
   "source": [
    "created_2D_array(3, 4)"
   ]
  },
  {
   "cell_type": "code",
   "execution_count": 18,
   "metadata": {},
   "outputs": [
    {
     "data": {
      "text/plain": [
       "66"
      ]
     },
     "execution_count": 18,
     "metadata": {},
     "output_type": "execute_result"
    }
   ],
   "source": [
    "import random\n",
    "random.seed = 4\n",
    "random.choice(list(range(200))) # cố định giá trị trả về"
   ]
  },
  {
   "cell_type": "code",
   "execution_count": null,
   "metadata": {},
   "outputs": [],
   "source": [
    "## Bài 4: Nếu 1 số lớn hơn giá trị lớn nhất thì giá trị lớn nhât sẽ thành giá trị lớn thứ 2"
   ]
  },
  {
   "cell_type": "code",
   "execution_count": 49,
   "metadata": {},
   "outputs": [],
   "source": [
    "def second_maximum(li):\n",
    "    # Your code here\n",
    "    li = list(set(li))\n",
    "    max_1 = li[0]\n",
    "    max_2 = li[1]\n",
    "    if max_1 < max_2:\n",
    "        max_1, max_2 = max_2, max_1\n",
    "    for i in li[2: ]:\n",
    "        if max_1 < i:\n",
    "            max_2 = max_1\n",
    "            max_1 = i\n",
    "        elif max_2 < i < max_1:\n",
    "            max_2 = i ###????\n",
    "    return max_2\n",
    "        "
   ]
  },
  {
   "cell_type": "code",
   "execution_count": 51,
   "metadata": {},
   "outputs": [
    {
     "data": {
      "text/plain": [
       "4"
      ]
     },
     "execution_count": 51,
     "metadata": {},
     "output_type": "execute_result"
    }
   ],
   "source": [
    "second_maximum([4, 4, 3, 5, 3, 1, 4])"
   ]
  },
  {
   "cell_type": "code",
   "execution_count": null,
   "metadata": {},
   "outputs": [],
   "source": [
    "\n"
   ]
  },
  {
   "cell_type": "code",
   "execution_count": null,
   "metadata": {},
   "outputs": [],
   "source": [
    "\n"
   ]
  }
 ],
 "metadata": {
  "kernelspec": {
   "display_name": "Python 3",
   "language": "python",
   "name": "python3"
  },
  "language_info": {
   "codemirror_mode": {
    "name": "ipython",
    "version": 3
   },
   "file_extension": ".py",
   "mimetype": "text/x-python",
   "name": "python",
   "nbconvert_exporter": "python",
   "pygments_lexer": "ipython3",
   "version": "3.7.10"
  }
 },
 "nbformat": 4,
 "nbformat_minor": 4
}
